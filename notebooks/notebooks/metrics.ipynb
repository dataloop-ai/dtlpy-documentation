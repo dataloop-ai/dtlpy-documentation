{
 "cells": [
  {
   "cell_type": "markdown",
   "id": "43c835d7",
   "metadata": {},
   "source": [
    "# Consensus\n",
    "Consensus is support for:  \n",
    "- Classification (Label IoU)\n",
    "- Box (IoU)\n",
    "- Polygon (IoU)\n",
    "- Semantic Segmentation (IoU)\n",
    "- Point (distance scoring)\n",
    "\n",
    "## IoU\n",
    "\n",
    "<p align=\"center\">\n",
    "  <img src=\"https://storage.googleapis.com/kaggle-media/competitions/rsna/IoU.jpg\" width=\"350\" title=\"IoU\">\n",
    "</p>\n",
    "\n",
    "Some necceary imports to begin with:"
   ]
  },
  {
   "cell_type": "code",
   "execution_count": 2,
   "id": "96a4c160",
   "metadata": {},
   "outputs": [],
   "source": [
    "import dtlpy as dl\n",
    "from dtlpy.ml import metrics, predictions_utils\n",
    "from PIL import Image\n",
    "import matplotlib.pyplot as plt\n",
    "import numpy as np\n",
    "%matplotlib inline"
   ]
  },
  {
   "cell_type": "markdown",
   "id": "9ee05142",
   "metadata": {},
   "source": [
    "## Classification Consensus and Majority Vote\n",
    "\n",
    "We'll take 5 annotators annotating the same item for example.\n",
    "In order to calculate the item IoU score, we first calculate each annotator's annotation set agains all others.\n",
    "But first of all, we'll use the dtlpy SDK to get all items and all annotations:"
   ]
  },
  {
   "cell_type": "code",
   "execution_count": 3,
   "id": "ab8103e9",
   "metadata": {},
   "outputs": [],
   "source": [
    "first_item = dl.items.get(item_id='6215d3f73750a54742c4d33d')\n",
    "second_item = dl.items.get(item_id='6215d3fee2b78c63e4ae501f')\n",
    "third_item = dl.items.get(item_id='6215d4053750a5fe47c4d343')\n",
    "fourth_item = dl.items.get(item_id='6215d40ce2b78c3b85ae5022')\n",
    "fifth_item = dl.items.get(item_id='6215d415e2b78c36b7ae5028')\n",
    "first_annotations = first_item.annotations.list()\n",
    "second_annotations = second_item.annotations.list()\n",
    "third_annotations = third_item.annotations.list()\n",
    "fourth_annotations = fourth_item.annotations.list()\n",
    "fifth_annotations = fifth_item.annotations.list()"
   ]
  },
  {
   "cell_type": "markdown",
   "id": "7472670f",
   "metadata": {},
   "source": [
    "Let see which labels each annotator tagged:"
   ]
  },
  {
   "cell_type": "code",
   "execution_count": 4,
   "id": "85f6b026",
   "metadata": {},
   "outputs": [
    {
     "name": "stdout",
     "output_type": "stream",
     "text": [
      "first.png with list of anntoations: ['A', 'B']\n",
      "second.png with list of anntoations: ['C', 'B']\n",
      "third.png with list of anntoations: ['D', 'B', 'C']\n",
      "fourth.png with list of anntoations: ['A', 'B']\n",
      "fifth.png with list of anntoations: ['C']\n"
     ]
    }
   ],
   "source": [
    "print(f'{first_item.name} with list of anntoations: {[annotation.label for annotation in first_annotations]}')\n",
    "print(f'{second_item.name} with list of anntoations: {[annotation.label for annotation in second_annotations]}')\n",
    "print(f'{third_item.name} with list of anntoations: {[annotation.label for annotation in third_annotations]}')\n",
    "print(f'{fourth_item.name} with list of anntoations: {[annotation.label for annotation in fourth_annotations]}')\n",
    "print(f'{fifth_item.name} with list of anntoations: {[annotation.label for annotation in fifth_annotations]}')"
   ]
  },
  {
   "cell_type": "markdown",
   "id": "faaced85",
   "metadata": {},
   "source": [
    "So in order to create the annotators' scoring, we'll go over all and to the IoU calculation and save it in a list:"
   ]
  },
  {
   "cell_type": "code",
   "execution_count": 4,
   "id": "2012bfe6",
   "metadata": {},
   "outputs": [],
   "source": [
    "items_list = [first_item, second_item, third_item, fourth_item, fifth_item]\n",
    "n_annotators = len(items_list)\n",
    "items_scores = np.zeros((n_annotators, n_annotators))\n",
    "for i_item in range(n_annotators):\n",
    "    for j_item in range(n_annotators):\n",
    "        # note: the results matrix is symmetric so calculation can be done only on one side of the diagonal\n",
    "        # we do both sides to show that the score is the same: measure_itemx(x, y) == measure_itemx(y, x)\n",
    "        success, results = predictions_utils.measure_item(items_list[i_item], items_list[j_item] ,ignore_labels=False)\n",
    "        items_scores[i_item, j_item] = results['total_mean_score']"
   ]
  },
  {
   "cell_type": "markdown",
   "id": "d50aba69",
   "metadata": {},
   "source": [
    "The returned Result object contains a pandas DataFrame with all matching and scores "
   ]
  },
  {
   "cell_type": "code",
   "execution_count": 5,
   "id": "a9407b22",
   "metadata": {},
   "outputs": [
    {
     "data": {
      "text/html": [
       "<div>\n",
       "<style scoped>\n",
       "    .dataframe tbody tr th:only-of-type {\n",
       "        vertical-align: middle;\n",
       "    }\n",
       "\n",
       "    .dataframe tbody tr th {\n",
       "        vertical-align: top;\n",
       "    }\n",
       "\n",
       "    .dataframe thead th {\n",
       "        text-align: right;\n",
       "    }\n",
       "</style>\n",
       "<table border=\"1\" class=\"dataframe\">\n",
       "  <thead>\n",
       "    <tr style=\"text-align: right;\">\n",
       "      <th></th>\n",
       "      <th>first_id</th>\n",
       "      <th>second_id</th>\n",
       "      <th>annotation_score</th>\n",
       "      <th>attribute_score</th>\n",
       "      <th>geometry_score</th>\n",
       "      <th>label_score</th>\n",
       "    </tr>\n",
       "  </thead>\n",
       "  <tbody>\n",
       "    <tr>\n",
       "      <th>0</th>\n",
       "      <td>6215d4673abc0473e0fec759</td>\n",
       "      <td>None</td>\n",
       "      <td>0.0</td>\n",
       "      <td>0</td>\n",
       "      <td>0.0</td>\n",
       "      <td>0</td>\n",
       "    </tr>\n",
       "    <tr>\n",
       "      <th>1</th>\n",
       "      <td>6215d4673abc04e242fec75a</td>\n",
       "      <td>6215d46feb0638b474217601</td>\n",
       "      <td>1.0</td>\n",
       "      <td>1</td>\n",
       "      <td>1.0</td>\n",
       "      <td>1</td>\n",
       "    </tr>\n",
       "    <tr>\n",
       "      <th>2</th>\n",
       "      <td>None</td>\n",
       "      <td>6215d46feb06387f6e217602</td>\n",
       "      <td>0.0</td>\n",
       "      <td>0</td>\n",
       "      <td>0.0</td>\n",
       "      <td>0</td>\n",
       "    </tr>\n",
       "  </tbody>\n",
       "</table>\n",
       "</div>"
      ],
      "text/plain": [
       "                   first_id                 second_id  annotation_score  \\\n",
       "0  6215d4673abc0473e0fec759                      None               0.0   \n",
       "1  6215d4673abc04e242fec75a  6215d46feb0638b474217601               1.0   \n",
       "2                      None  6215d46feb06387f6e217602               0.0   \n",
       "\n",
       "   attribute_score  geometry_score  label_score  \n",
       "0                0             0.0            0  \n",
       "1                1             1.0            1  \n",
       "2                0             0.0            0  "
      ]
     },
     "execution_count": 5,
     "metadata": {},
     "output_type": "execute_result"
    }
   ],
   "source": [
    "success, results = predictions_utils.measure_item(first_item, second_item, ignore_labels=False)\n",
    "results[dl.AnnotationType.CLASSIFICATION].to_df()"
   ]
  },
  {
   "cell_type": "markdown",
   "id": "908657bd",
   "metadata": {},
   "source": [
    "We'll use the seaborn package to plot the metrix"
   ]
  },
  {
   "cell_type": "code",
   "execution_count": 6,
   "id": "ec344d62",
   "metadata": {},
   "outputs": [
    {
     "data": {
      "text/plain": [
       "<AxesSubplot:>"
      ]
     },
     "execution_count": 6,
     "metadata": {},
     "output_type": "execute_result"
    },
    {
     "data": {
      "image/png": "[encoded data removed]",
      "text/plain": [
       "<Figure size 432x288 with 2 Axes>"
      ]
     },
     "metadata": {
      "needs_background": "light"
     },
     "output_type": "display_data"
    }
   ],
   "source": [
    "import seaborn as sns\n",
    "sns.heatmap(items_scores, \n",
    "            annot=True, \n",
    "            cmap='Blues',\n",
    "            xticklabels=['Annotator A','Annotator B','Annotator C', 'Annotator D', 'Annotator E'],\n",
    "            yticklabels=['Annotator A','Annotator B','Annotator C', 'Annotator D', 'Annotator E'])"
   ]
  },
  {
   "cell_type": "markdown",
   "id": "0b0d18d4",
   "metadata": {},
   "source": [
    "Annotator A had ['A', 'B'] and B had ['C', 'B']. The union is ['A', 'B', 'C'], intersection is only ['B'] which should give 33% match as we can see in the metrix.\n",
    "Counting the appearances of each label give the fllowing:"
   ]
  },
  {
   "cell_type": "code",
   "execution_count": 7,
   "id": "72f985b5",
   "metadata": {},
   "outputs": [
    {
     "name": "stdout",
     "output_type": "stream",
     "text": [
      "A: 2\n",
      "B: 4\n",
      "C: 3\n",
      "D: 1\n"
     ]
    }
   ],
   "source": [
    "# count per label\n",
    "from collections import Counter\n",
    "all_annotations = [first_annotations, second_annotations,third_annotations,fourth_annotations,fifth_annotations]\n",
    "all_labels = [annotation.label for annotations in all_annotations for annotation in annotations]\n",
    "counter = Counter(all_labels)\n",
    "for label, count in counter.items():\n",
    "    print('{}: {}'.format(label, count))"
   ]
  },
  {
   "cell_type": "markdown",
   "id": "1068bd31",
   "metadata": {},
   "source": [
    "And if we want to output all the majority annotations (3 or more annotator gave the same label) we will get \n",
    "['B', 'C'] as the output"
   ]
  },
  {
   "cell_type": "markdown",
   "id": "7d9d1212",
   "metadata": {},
   "source": [
    "## Box IoU Matching\n",
    "\n",
    "Box matching is basiclly the same. We'll get the items and annotations and \"show()\" the annotation of each item:"
   ]
  },
  {
   "cell_type": "code",
   "execution_count": 9,
   "id": "ce7beccd",
   "metadata": {},
   "outputs": [],
   "source": [
    "first_item = dl.items.get(item_id='6214bc0d3750a50f50c44841')\n",
    "second_item = dl.items.get(item_id='6214be90fed92a9f043ba217')\n",
    "first_annotations = first_item.annotations.list()\n",
    "second_annotations = second_item.annotations.list()"
   ]
  },
  {
   "cell_type": "code",
   "execution_count": 10,
   "id": "e9b8a03d",
   "metadata": {},
   "outputs": [
    {
     "name": "stderr",
     "output_type": "stream",
     "text": [
      "[2022-02-26 14:36:26][WAR][dtlpy:v1.51.6][repositories.recipes:147] Deprecation Warning - return type will be pageEntity from version 1.46.0 not a list\n",
      "[2022-02-26 14:36:26][WAR][dtlpy:v1.51.6][repositories.ontologies:216] Deprecation Warning - return type will be pageEntity from version 1.46.0 not a list\n",
      "[2022-02-26 14:36:27][WAR][dtlpy:v1.51.6][repositories.recipes:147] Deprecation Warning - return type will be pageEntity from version 1.46.0 not a list\n",
      "[2022-02-26 14:36:27][WAR][dtlpy:v1.51.6][repositories.ontologies:216] Deprecation Warning - return type will be pageEntity from version 1.46.0 not a list\n"
     ]
    },
    {
     "data": {
      "text/plain": [
       "Text(0.5, 1.0, 'second')"
      ]
     },
     "execution_count": 10,
     "metadata": {},
     "output_type": "execute_result"
    },
    {
     "data": {
      "image/png": "[encoded data removed]",
      "text/plain": [
       "<Figure size 432x288 with 1 Axes>"
      ]
     },
     "metadata": {
      "needs_background": "light"
     },
     "output_type": "display_data"
    },
    {
     "data": {
      "image/png": "[encoded data removed]",
      "text/plain": [
       "<Figure size 432x288 with 1 Axes>"
      ]
     },
     "metadata": {
      "needs_background": "light"
     },
     "output_type": "display_data"
    }
   ],
   "source": [
    "plt.figure()\n",
    "plt.imshow(first_annotations.show())\n",
    "plt.title('first')\n",
    "plt.figure()\n",
    "plt.imshow(second_annotations.show())\n",
    "plt.title('second')"
   ]
  },
  {
   "cell_type": "markdown",
   "id": "365c93e2",
   "metadata": {},
   "source": [
    "Now lets overlay the annotation on top of each other so see the matching:"
   ]
  },
  {
   "cell_type": "code",
   "execution_count": 11,
   "id": "4923cbb4",
   "metadata": {},
   "outputs": [
    {
     "data": {
      "text/plain": [
       "<matplotlib.image.AxesImage at 0x1952c9e2850>"
      ]
     },
     "execution_count": 11,
     "metadata": {},
     "output_type": "execute_result"
    },
    {
     "data": {
      "image/png": "[encoded data removed]",
      "text/plain": [
       "<Figure size 432x288 with 1 Axes>"
      ]
     },
     "metadata": {
      "needs_background": "light"
     },
     "output_type": "display_data"
    }
   ],
   "source": [
    "plt.imshow(first_annotations.show())\n",
    "plt.imshow(second_annotations.show())"
   ]
  },
  {
   "cell_type": "markdown",
   "id": "38d14e05",
   "metadata": {},
   "source": [
    "Running the comparison over the two items will give the results Dataframe:"
   ]
  },
  {
   "cell_type": "code",
   "execution_count": 12,
   "id": "c387c1ca",
   "metadata": {},
   "outputs": [
    {
     "data": {
      "text/html": [
       "<div>\n",
       "<style scoped>\n",
       "    .dataframe tbody tr th:only-of-type {\n",
       "        vertical-align: middle;\n",
       "    }\n",
       "\n",
       "    .dataframe tbody tr th {\n",
       "        vertical-align: top;\n",
       "    }\n",
       "\n",
       "    .dataframe thead th {\n",
       "        text-align: right;\n",
       "    }\n",
       "</style>\n",
       "<table border=\"1\" class=\"dataframe\">\n",
       "  <thead>\n",
       "    <tr style=\"text-align: right;\">\n",
       "      <th></th>\n",
       "      <th>first_id</th>\n",
       "      <th>second_id</th>\n",
       "      <th>annotation_score</th>\n",
       "      <th>attribute_score</th>\n",
       "      <th>geometry_score</th>\n",
       "      <th>label_score</th>\n",
       "    </tr>\n",
       "  </thead>\n",
       "  <tbody>\n",
       "    <tr>\n",
       "      <th>0</th>\n",
       "      <td>6214c5b9f397366eeb5aacfd</td>\n",
       "      <td>6214c5c10fbf091acd473fdc</td>\n",
       "      <td>0.911934</td>\n",
       "      <td>1</td>\n",
       "      <td>0.735803</td>\n",
       "      <td>1</td>\n",
       "    </tr>\n",
       "    <tr>\n",
       "      <th>1</th>\n",
       "      <td>6214be3a9e37405ac057fdf7</td>\n",
       "      <td>6214bf7b5dbac533232bb903</td>\n",
       "      <td>0.893172</td>\n",
       "      <td>1</td>\n",
       "      <td>0.679517</td>\n",
       "      <td>1</td>\n",
       "    </tr>\n",
       "    <tr>\n",
       "      <th>2</th>\n",
       "      <td>6214c5b9f397367cd15aacfe</td>\n",
       "      <td>6214c5c10fbf090c42473fdb</td>\n",
       "      <td>0.513958</td>\n",
       "      <td>1</td>\n",
       "      <td>0.541873</td>\n",
       "      <td>0</td>\n",
       "    </tr>\n",
       "    <tr>\n",
       "      <th>3</th>\n",
       "      <td>6214be3a9e3740c0fc57fdf8</td>\n",
       "      <td>None</td>\n",
       "      <td>0.000000</td>\n",
       "      <td>0</td>\n",
       "      <td>0.000000</td>\n",
       "      <td>0</td>\n",
       "    </tr>\n",
       "    <tr>\n",
       "      <th>4</th>\n",
       "      <td>6214cef9b0f2b17df914fdba</td>\n",
       "      <td>None</td>\n",
       "      <td>0.000000</td>\n",
       "      <td>0</td>\n",
       "      <td>0.000000</td>\n",
       "      <td>0</td>\n",
       "    </tr>\n",
       "  </tbody>\n",
       "</table>\n",
       "</div>"
      ],
      "text/plain": [
       "                   first_id                 second_id  annotation_score  \\\n",
       "0  6214c5b9f397366eeb5aacfd  6214c5c10fbf091acd473fdc          0.911934   \n",
       "1  6214be3a9e37405ac057fdf7  6214bf7b5dbac533232bb903          0.893172   \n",
       "2  6214c5b9f397367cd15aacfe  6214c5c10fbf090c42473fdb          0.513958   \n",
       "3  6214be3a9e3740c0fc57fdf8                      None          0.000000   \n",
       "4  6214cef9b0f2b17df914fdba                      None          0.000000   \n",
       "\n",
       "   attribute_score  geometry_score  label_score  \n",
       "0                1        0.735803            1  \n",
       "1                1        0.679517            1  \n",
       "2                1        0.541873            0  \n",
       "3                0        0.000000            0  \n",
       "4                0        0.000000            0  "
      ]
     },
     "execution_count": 12,
     "metadata": {},
     "output_type": "execute_result"
    }
   ],
   "source": [
    "success, results = predictions_utils.measure_item(first_item, second_item,ignore_labels=True)\n",
    "results[dl.AnnotationType.BOX].to_df()"
   ]
  },
  {
   "cell_type": "markdown",
   "id": "9eab34fb",
   "metadata": {},
   "source": [
    "We used the \"ignore_labels=True\" flag so the matching ignores the label. This means the yellow and the red anntoations at the top right are a match. If we will run the same functino without the flag we will get the following:"
   ]
  },
  {
   "cell_type": "code",
   "execution_count": 13,
   "id": "37c9b495",
   "metadata": {},
   "outputs": [
    {
     "data": {
      "text/html": [
       "<div>\n",
       "<style scoped>\n",
       "    .dataframe tbody tr th:only-of-type {\n",
       "        vertical-align: middle;\n",
       "    }\n",
       "\n",
       "    .dataframe tbody tr th {\n",
       "        vertical-align: top;\n",
       "    }\n",
       "\n",
       "    .dataframe thead th {\n",
       "        text-align: right;\n",
       "    }\n",
       "</style>\n",
       "<table border=\"1\" class=\"dataframe\">\n",
       "  <thead>\n",
       "    <tr style=\"text-align: right;\">\n",
       "      <th></th>\n",
       "      <th>first_id</th>\n",
       "      <th>second_id</th>\n",
       "      <th>annotation_score</th>\n",
       "      <th>attribute_score</th>\n",
       "      <th>geometry_score</th>\n",
       "      <th>label_score</th>\n",
       "    </tr>\n",
       "  </thead>\n",
       "  <tbody>\n",
       "    <tr>\n",
       "      <th>0</th>\n",
       "      <td>6214be3a9e37405ac057fdf7</td>\n",
       "      <td>6214bf7b5dbac533232bb903</td>\n",
       "      <td>0.893172</td>\n",
       "      <td>1</td>\n",
       "      <td>0.679517</td>\n",
       "      <td>1</td>\n",
       "    </tr>\n",
       "    <tr>\n",
       "      <th>1</th>\n",
       "      <td>6214be3a9e3740c0fc57fdf8</td>\n",
       "      <td>None</td>\n",
       "      <td>0.000000</td>\n",
       "      <td>0</td>\n",
       "      <td>0.000000</td>\n",
       "      <td>0</td>\n",
       "    </tr>\n",
       "    <tr>\n",
       "      <th>2</th>\n",
       "      <td>6214c5b9f397366eeb5aacfd</td>\n",
       "      <td>6214c5c10fbf091acd473fdc</td>\n",
       "      <td>0.911934</td>\n",
       "      <td>1</td>\n",
       "      <td>0.735803</td>\n",
       "      <td>1</td>\n",
       "    </tr>\n",
       "    <tr>\n",
       "      <th>3</th>\n",
       "      <td>6214cef9b0f2b17df914fdba</td>\n",
       "      <td>None</td>\n",
       "      <td>0.000000</td>\n",
       "      <td>0</td>\n",
       "      <td>0.000000</td>\n",
       "      <td>0</td>\n",
       "    </tr>\n",
       "    <tr>\n",
       "      <th>4</th>\n",
       "      <td>6214c5b9f397367cd15aacfe</td>\n",
       "      <td>None</td>\n",
       "      <td>0.000000</td>\n",
       "      <td>0</td>\n",
       "      <td>0.000000</td>\n",
       "      <td>0</td>\n",
       "    </tr>\n",
       "    <tr>\n",
       "      <th>5</th>\n",
       "      <td>None</td>\n",
       "      <td>6214c5c10fbf090c42473fdb</td>\n",
       "      <td>0.000000</td>\n",
       "      <td>0</td>\n",
       "      <td>0.000000</td>\n",
       "      <td>0</td>\n",
       "    </tr>\n",
       "  </tbody>\n",
       "</table>\n",
       "</div>"
      ],
      "text/plain": [
       "                   first_id                 second_id  annotation_score  \\\n",
       "0  6214be3a9e37405ac057fdf7  6214bf7b5dbac533232bb903          0.893172   \n",
       "1  6214be3a9e3740c0fc57fdf8                      None          0.000000   \n",
       "2  6214c5b9f397366eeb5aacfd  6214c5c10fbf091acd473fdc          0.911934   \n",
       "3  6214cef9b0f2b17df914fdba                      None          0.000000   \n",
       "4  6214c5b9f397367cd15aacfe                      None          0.000000   \n",
       "5                      None  6214c5c10fbf090c42473fdb          0.000000   \n",
       "\n",
       "   attribute_score  geometry_score  label_score  \n",
       "0                1        0.679517            1  \n",
       "1                0        0.000000            0  \n",
       "2                1        0.735803            1  \n",
       "3                0        0.000000            0  \n",
       "4                0        0.000000            0  \n",
       "5                0        0.000000            0  "
      ]
     },
     "execution_count": 13,
     "metadata": {},
     "output_type": "execute_result"
    }
   ],
   "source": [
    "success, results = predictions_utils.measure_item(first_item, second_item, ignore_labels=False)\n",
    "results[dl.AnnotationType.BOX].to_df()"
   ]
  },
  {
   "cell_type": "markdown",
   "id": "7b92785f",
   "metadata": {},
   "source": [
    "Now we are getting only two matches (two gressn and two blues) and 3 unmatched annotations (one of the blues, red and yellow)"
   ]
  },
  {
   "cell_type": "markdown",
   "id": "41a4e6e1",
   "metadata": {},
   "source": [
    "DEBUG: View the annotaqtion comparison matrix for each two items"
   ]
  },
  {
   "cell_type": "code",
   "execution_count": 14,
   "id": "68484b35",
   "metadata": {},
   "outputs": [
    {
     "data": {
      "text/html": [
       "<div>\n",
       "<style scoped>\n",
       "    .dataframe tbody tr th:only-of-type {\n",
       "        vertical-align: middle;\n",
       "    }\n",
       "\n",
       "    .dataframe tbody tr th {\n",
       "        vertical-align: top;\n",
       "    }\n",
       "\n",
       "    .dataframe thead th {\n",
       "        text-align: right;\n",
       "    }\n",
       "</style>\n",
       "<table border=\"1\" class=\"dataframe\">\n",
       "  <thead>\n",
       "    <tr style=\"text-align: right;\">\n",
       "      <th></th>\n",
       "      <th>6214be3a9e3740c0fc57fdf8</th>\n",
       "      <th>6214be3a9e37405ac057fdf7</th>\n",
       "    </tr>\n",
       "  </thead>\n",
       "  <tbody>\n",
       "    <tr>\n",
       "      <th>6214bf7b5dbac533232bb903</th>\n",
       "      <td>0.0</td>\n",
       "      <td>0.679517</td>\n",
       "    </tr>\n",
       "  </tbody>\n",
       "</table>\n",
       "</div>"
      ],
      "text/plain": [
       "                          6214be3a9e3740c0fc57fdf8  6214be3a9e37405ac057fdf7\n",
       "6214bf7b5dbac533232bb903                       0.0                  0.679517"
      ]
     },
     "execution_count": 14,
     "metadata": {},
     "output_type": "execute_result"
    }
   ],
   "source": [
    "results['box'].matches._annotations_raw_df[0]"
   ]
  },
  {
   "cell_type": "markdown",
   "id": "7ea21b23",
   "metadata": {},
   "source": [
    "List of all the matching scores and the mean over the item:"
   ]
  },
  {
   "cell_type": "code",
   "execution_count": 15,
   "id": "f87ea970",
   "metadata": {},
   "outputs": [
    {
     "name": "stdout",
     "output_type": "stream",
     "text": [
      "0    0.893172\n",
      "1    0.000000\n",
      "2    0.911934\n",
      "3    0.000000\n",
      "4    0.000000\n",
      "5    0.000000\n",
      "Name: annotation_score, dtype: float64\n",
      "0.3008511291756962\n"
     ]
    }
   ],
   "source": [
    "print(results['box'].to_df()['annotation_score'])\n",
    "print(results['total_mean_score'])"
   ]
  },
  {
   "cell_type": "markdown",
   "id": "aae36ae9",
   "metadata": {},
   "source": [
    "## Polygon and Segmentation\n",
    "\n",
    "Save as all the above, IoU scoring for two example images and anntoations:"
   ]
  },
  {
   "cell_type": "code",
   "execution_count": 16,
   "id": "272fa630",
   "metadata": {},
   "outputs": [],
   "source": [
    "first_item = dl.items.get(item_id='6214d07599cb175c9cd73d8f')\n",
    "second_item = dl.items.get(item_id='6214d07c9d80b05b8310ba9b')\n",
    "first_annotations = first_item.annotations.list()\n",
    "second_annotations = second_item.annotations.list()"
   ]
  },
  {
   "cell_type": "code",
   "execution_count": 17,
   "id": "7506b7fa",
   "metadata": {},
   "outputs": [
    {
     "name": "stderr",
     "output_type": "stream",
     "text": [
      "[2022-02-26 14:36:55][WAR][dtlpy:v1.51.6][repositories.recipes:147] Deprecation Warning - return type will be pageEntity from version 1.46.0 not a list\n",
      "[2022-02-26 14:36:55][WAR][dtlpy:v1.51.6][repositories.ontologies:216] Deprecation Warning - return type will be pageEntity from version 1.46.0 not a list\n",
      "[2022-02-26 14:36:56][WAR][dtlpy:v1.51.6][repositories.recipes:147] Deprecation Warning - return type will be pageEntity from version 1.46.0 not a list\n",
      "[2022-02-26 14:36:56][WAR][dtlpy:v1.51.6][repositories.ontologies:216] Deprecation Warning - return type will be pageEntity from version 1.46.0 not a list\n"
     ]
    },
    {
     "data": {
      "text/plain": [
       "Text(0.5, 1.0, 'second')"
      ]
     },
     "execution_count": 17,
     "metadata": {},
     "output_type": "execute_result"
    },
    {
     "data": {
      "image/png": "[encoded data removed]",
      "text/plain": [
       "<Figure size 432x288 with 1 Axes>"
      ]
     },
     "metadata": {
      "needs_background": "light"
     },
     "output_type": "display_data"
    },
    {
     "data": {
      "image/png": "[encoded data removed]",
      "text/plain": [
       "<Figure size 432x288 with 1 Axes>"
      ]
     },
     "metadata": {
      "needs_background": "light"
     },
     "output_type": "display_data"
    }
   ],
   "source": [
    "plt.figure()\n",
    "plt.imshow(first_annotations.show())\n",
    "plt.title('first')\n",
    "plt.figure()\n",
    "plt.imshow(second_annotations.show())\n",
    "plt.title('second')"
   ]
  },
  {
   "cell_type": "code",
   "execution_count": 18,
   "id": "2b6de757",
   "metadata": {},
   "outputs": [
    {
     "data": {
      "text/html": [
       "<div>\n",
       "<style scoped>\n",
       "    .dataframe tbody tr th:only-of-type {\n",
       "        vertical-align: middle;\n",
       "    }\n",
       "\n",
       "    .dataframe tbody tr th {\n",
       "        vertical-align: top;\n",
       "    }\n",
       "\n",
       "    .dataframe thead th {\n",
       "        text-align: right;\n",
       "    }\n",
       "</style>\n",
       "<table border=\"1\" class=\"dataframe\">\n",
       "  <thead>\n",
       "    <tr style=\"text-align: right;\">\n",
       "      <th></th>\n",
       "      <th>first_id</th>\n",
       "      <th>second_id</th>\n",
       "      <th>annotation_score</th>\n",
       "      <th>attribute_score</th>\n",
       "      <th>geometry_score</th>\n",
       "      <th>label_score</th>\n",
       "    </tr>\n",
       "  </thead>\n",
       "  <tbody>\n",
       "    <tr>\n",
       "      <th>0</th>\n",
       "      <td>6214d0e8eb06383d041eeb35</td>\n",
       "      <td>6214d103f3973620315abfe7</td>\n",
       "      <td>0.923477</td>\n",
       "      <td>1</td>\n",
       "      <td>0.770432</td>\n",
       "      <td>1</td>\n",
       "    </tr>\n",
       "    <tr>\n",
       "      <th>1</th>\n",
       "      <td>6214d10d32cd3ed0d196f870</td>\n",
       "      <td>6214d103f397368f135abfe8</td>\n",
       "      <td>0.840295</td>\n",
       "      <td>1</td>\n",
       "      <td>0.520886</td>\n",
       "      <td>1</td>\n",
       "    </tr>\n",
       "    <tr>\n",
       "      <th>2</th>\n",
       "      <td>6214d118b04184c9159549aa</td>\n",
       "      <td>6214d103f3973675265abfea</td>\n",
       "      <td>0.760693</td>\n",
       "      <td>1</td>\n",
       "      <td>0.282080</td>\n",
       "      <td>1</td>\n",
       "    </tr>\n",
       "    <tr>\n",
       "      <th>3</th>\n",
       "      <td>None</td>\n",
       "      <td>6214d103f3973674645abfe9</td>\n",
       "      <td>0.000000</td>\n",
       "      <td>0</td>\n",
       "      <td>0.000000</td>\n",
       "      <td>0</td>\n",
       "    </tr>\n",
       "  </tbody>\n",
       "</table>\n",
       "</div>"
      ],
      "text/plain": [
       "                   first_id                 second_id  annotation_score  \\\n",
       "0  6214d0e8eb06383d041eeb35  6214d103f3973620315abfe7          0.923477   \n",
       "1  6214d10d32cd3ed0d196f870  6214d103f397368f135abfe8          0.840295   \n",
       "2  6214d118b04184c9159549aa  6214d103f3973675265abfea          0.760693   \n",
       "3                      None  6214d103f3973674645abfe9          0.000000   \n",
       "\n",
       "   attribute_score  geometry_score  label_score  \n",
       "0                1        0.770432            1  \n",
       "1                1        0.520886            1  \n",
       "2                1        0.282080            1  \n",
       "3                0        0.000000            0  "
      ]
     },
     "execution_count": 18,
     "metadata": {},
     "output_type": "execute_result"
    }
   ],
   "source": [
    "success, results = predictions_utils.measure_item(first_item, second_item,ignore_labels=True,match_threshold=0)\n",
    "results[dl.AnnotationType.SEGMENTATION].to_df()"
   ]
  },
  {
   "cell_type": "code",
   "execution_count": 19,
   "id": "8c92366f",
   "metadata": {},
   "outputs": [
    {
     "data": {
      "text/html": [
       "<div>\n",
       "<style scoped>\n",
       "    .dataframe tbody tr th:only-of-type {\n",
       "        vertical-align: middle;\n",
       "    }\n",
       "\n",
       "    .dataframe tbody tr th {\n",
       "        vertical-align: top;\n",
       "    }\n",
       "\n",
       "    .dataframe thead th {\n",
       "        text-align: right;\n",
       "    }\n",
       "</style>\n",
       "<table border=\"1\" class=\"dataframe\">\n",
       "  <thead>\n",
       "    <tr style=\"text-align: right;\">\n",
       "      <th></th>\n",
       "      <th>6214d0e8eb06383d041eeb35</th>\n",
       "      <th>6214d10d32cd3ed0d196f870</th>\n",
       "      <th>6214d118b04184c9159549aa</th>\n",
       "    </tr>\n",
       "  </thead>\n",
       "  <tbody>\n",
       "    <tr>\n",
       "      <th>6214d103f397368f135abfe8</th>\n",
       "      <td>0.000000</td>\n",
       "      <td>0.520886</td>\n",
       "      <td>0.00000</td>\n",
       "    </tr>\n",
       "    <tr>\n",
       "      <th>6214d103f3973620315abfe7</th>\n",
       "      <td>0.770432</td>\n",
       "      <td>0.000000</td>\n",
       "      <td>0.00000</td>\n",
       "    </tr>\n",
       "    <tr>\n",
       "      <th>6214d103f3973674645abfe9</th>\n",
       "      <td>0.000000</td>\n",
       "      <td>0.039878</td>\n",
       "      <td>0.00000</td>\n",
       "    </tr>\n",
       "    <tr>\n",
       "      <th>6214d103f3973675265abfea</th>\n",
       "      <td>0.000000</td>\n",
       "      <td>0.000000</td>\n",
       "      <td>0.28208</td>\n",
       "    </tr>\n",
       "  </tbody>\n",
       "</table>\n",
       "</div>"
      ],
      "text/plain": [
       "                          6214d0e8eb06383d041eeb35  6214d10d32cd3ed0d196f870  \\\n",
       "6214d103f397368f135abfe8                  0.000000                  0.520886   \n",
       "6214d103f3973620315abfe7                  0.770432                  0.000000   \n",
       "6214d103f3973674645abfe9                  0.000000                  0.039878   \n",
       "6214d103f3973675265abfea                  0.000000                  0.000000   \n",
       "\n",
       "                          6214d118b04184c9159549aa  \n",
       "6214d103f397368f135abfe8                   0.00000  \n",
       "6214d103f3973620315abfe7                   0.00000  \n",
       "6214d103f3973674645abfe9                   0.00000  \n",
       "6214d103f3973675265abfea                   0.28208  "
      ]
     },
     "execution_count": 19,
     "metadata": {},
     "output_type": "execute_result"
    }
   ],
   "source": [
    "results[dl.AnnotationType.SEGMENTATION].matches._annotations_raw_df[0]"
   ]
  },
  {
   "cell_type": "markdown",
   "id": "70d66437",
   "metadata": {},
   "source": [
    "And the total score for this items is:"
   ]
  },
  {
   "cell_type": "code",
   "execution_count": 20,
   "id": "4125ab1e",
   "metadata": {},
   "outputs": [
    {
     "name": "stdout",
     "output_type": "stream",
     "text": [
      "0.6311165128941565\n"
     ]
    }
   ],
   "source": [
    "print(results['total_mean_score'])"
   ]
  },
  {
   "cell_type": "markdown",
   "id": "addcb260",
   "metadata": {},
   "source": [
    "## Three Sets Comparison\n",
    "In order to match across multiple annotators, we are calculating the scoring metrix between all couples of anntoators.\n",
    "In this example we'll see 3 annotators with bounding box annotations:"
   ]
  },
  {
   "cell_type": "code",
   "execution_count": 21,
   "id": "64c1e6f8",
   "metadata": {},
   "outputs": [],
   "source": [
    "first_item = dl.items.get(item_id='6214ea1d0ec695cd9c35dfbd')\n",
    "second_item = dl.items.get(item_id='6214ea29e2b78c7ca1adc6b7')\n",
    "third_item = dl.items.get(item_id='6214ea310ec695600635dfc6')\n",
    "first_annotations = first_item.annotations.list()\n",
    "second_annotations = second_item.annotations.list()\n",
    "third_annotations = third_item.annotations.list()"
   ]
  },
  {
   "cell_type": "code",
   "execution_count": 22,
   "id": "dd3112a4",
   "metadata": {},
   "outputs": [
    {
     "name": "stderr",
     "output_type": "stream",
     "text": [
      "[2022-02-26 14:38:00][WAR][dtlpy:v1.51.6][repositories.recipes:147] Deprecation Warning - return type will be pageEntity from version 1.46.0 not a list\n",
      "[2022-02-26 14:38:00][WAR][dtlpy:v1.51.6][repositories.ontologies:216] Deprecation Warning - return type will be pageEntity from version 1.46.0 not a list\n",
      "[2022-02-26 14:38:01][WAR][dtlpy:v1.51.6][repositories.recipes:147] Deprecation Warning - return type will be pageEntity from version 1.46.0 not a list\n",
      "[2022-02-26 14:38:01][WAR][dtlpy:v1.51.6][repositories.ontologies:216] Deprecation Warning - return type will be pageEntity from version 1.46.0 not a list\n",
      "[2022-02-26 14:38:03][WAR][dtlpy:v1.51.6][repositories.recipes:147] Deprecation Warning - return type will be pageEntity from version 1.46.0 not a list\n",
      "[2022-02-26 14:38:03][WAR][dtlpy:v1.51.6][repositories.ontologies:216] Deprecation Warning - return type will be pageEntity from version 1.46.0 not a list\n"
     ]
    },
    {
     "data": {
      "text/plain": [
       "Text(0.5, 1.0, 'third')"
      ]
     },
     "execution_count": 22,
     "metadata": {},
     "output_type": "execute_result"
    },
    {
     "data": {
      "image/png": "[encoded data removed]",
      "text/plain": [
       "<Figure size 432x288 with 1 Axes>"
      ]
     },
     "metadata": {
      "needs_background": "light"
     },
     "output_type": "display_data"
    },
    {
     "data": {
      "image/png": "[encoded data removed]",
      "text/plain": [
       "<Figure size 432x288 with 1 Axes>"
      ]
     },
     "metadata": {
      "needs_background": "light"
     },
     "output_type": "display_data"
    },
    {
     "data": {
      "image/png": "[encoded data removed]",
      "text/plain": [
       "<Figure size 432x288 with 1 Axes>"
      ]
     },
     "metadata": {
      "needs_background": "light"
     },
     "output_type": "display_data"
    }
   ],
   "source": [
    "plt.figure()\n",
    "plt.imshow(first_annotations.show())\n",
    "plt.title('first')\n",
    "plt.figure()\n",
    "plt.imshow(second_annotations.show())\n",
    "plt.title('second')\n",
    "plt.figure()\n",
    "plt.imshow(third_annotations.show())\n",
    "plt.title('third')"
   ]
  },
  {
   "cell_type": "markdown",
   "id": "785d4fd0",
   "metadata": {},
   "source": [
    "Plotting all three on top of each other with different thickness to differ:"
   ]
  },
  {
   "cell_type": "code",
   "execution_count": 23,
   "id": "0606e21f",
   "metadata": {},
   "outputs": [
    {
     "data": {
      "text/plain": [
       "<matplotlib.image.AxesImage at 0x1955212a8e0>"
      ]
     },
     "execution_count": 23,
     "metadata": {},
     "output_type": "execute_result"
    },
    {
     "data": {
      "image/png": "[encoded data removed]",
      "text/plain": [
       "<Figure size 432x288 with 1 Axes>"
      ]
     },
     "metadata": {
      "needs_background": "light"
     },
     "output_type": "display_data"
    }
   ],
   "source": [
    "plt.imshow(first_annotations.show(thickness=20))\n",
    "plt.imshow(second_annotations.show(thickness=10))\n",
    "plt.imshow(third_annotations.show(thickness=3))"
   ]
  },
  {
   "cell_type": "code",
   "execution_count": 24,
   "id": "8dbb07f3",
   "metadata": {},
   "outputs": [],
   "source": [
    "items = [first_item, second_item, third_item]\n",
    "n_annotators = len(items)\n",
    "items_scores = np.zeros((n_annotators, n_annotators))\n",
    "for i_item in range(n_annotators):\n",
    "    for j_item in range(i_item, n_annotators):\n",
    "        success, results = predictions_utils.measure_item(items[i_item], items[j_item], ignore_labels=True)\n",
    "        items_scores[i_item, j_item] = results['total_mean_score']      \n",
    "        items_scores[j_item, i_item] = results['total_mean_score']"
   ]
  },
  {
   "cell_type": "code",
   "execution_count": 25,
   "id": "7812b7bd",
   "metadata": {},
   "outputs": [
    {
     "data": {
      "text/plain": [
       "<AxesSubplot:>"
      ]
     },
     "execution_count": 25,
     "metadata": {},
     "output_type": "execute_result"
    },
    {
     "data": {
      "image/png": "[encoded data removed]",
      "text/plain": [
       "<Figure size 432x288 with 2 Axes>"
      ]
     },
     "metadata": {
      "needs_background": "light"
     },
     "output_type": "display_data"
    }
   ],
   "source": [
    "import seaborn as sns\n",
    "sns.heatmap(items_scores, \n",
    "            annot=True, \n",
    "            cmap='Blues',\n",
    "            xticklabels=['Annotator A','Annotator B','Annotator C'],\n",
    "            yticklabels=['Annotator A','Annotator B','Annotator C'])"
   ]
  }
 ],
 "metadata": {
  "kernelspec": {
   "display_name": "Python 3 (ipykernel)",
   "language": "python",
   "name": "python3"
  },
  "language_info": {
   "codemirror_mode": {
    "name": "ipython",
    "version": 3
   },
   "file_extension": ".py",
   "mimetype": "text/x-python",
   "name": "python",
   "nbconvert_exporter": "python",
   "pygments_lexer": "ipython3",
   "version": "3.9.0"
  }
 },
 "nbformat": 4,
 "nbformat_minor": 5
}
