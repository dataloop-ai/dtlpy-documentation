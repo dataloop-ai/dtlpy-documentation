{
 "cells": [
  {
   "cell_type": "markdown",
   "metadata": {},
   "source": [
    "# \ud83d\udd04 Custom Pipeline Nodes - Extend Your Pipeline Powers!\n",
    "\n",
    "Welcome to the world of custom pipeline nodes! Here's where you'll learn to extend Dataloop's pipeline capabilities with your own magical nodes. Let's create something amazing! \u2728\n",
    "\n",
    "## \ud83c\udfaf What are Custom Pipeline Nodes?\n",
    "\n",
    "The pipeline library is your toolbox of powerful nodes that can be used to build data processing pipelines. While we provide many built-in nodes, you can supercharge your pipelines by adding your own custom nodes!\n",
    "\n",
    "![Pipeline_nodes1.png](../../../assets/apps/Pipeline_nodes1.png)\n",
    "\n",
    "## \ud83d\ude80 Creating Your First Custom Node\n",
    "\n",
    "Let's walk through creating a custom node that applies CLAHE (Contrast Limited Adaptive Histogram Equalization) to images.\n",
    "\n",
    "### \ud83d\udcdc The Manifest Structure\n",
    "\n",
    "Your custom node needs a magical manifest (`dataloop.json`) that defines its powers:\n",
    "\n"
   ]
  },
  {
   "cell_type": "markdown",
   "metadata": {},
   "source": [
    "```json\n{\n  \"displayName\": \"Image Clahe\",\n  \"name\": \"Image Clahe\",\n  \"icon\": \"icon-dl-qa-sampling\",\n  \"scope\": \"project\",\n  \"components\": {\n    \"panels\": [\n      {\n        \"name\": \"pipelineNodePanel\",\n        \"icon\": \"icon-dl-qa-sampling\",\n        \"supportedSlots\": [\n          {\n            \"type\": \"pipelineNodeConfig\",\n            \"configuration\": {}\n          }\n        ]\n      }\n    ],\n    \"pipelineNodes\": [\n      {\n        \"invoke\": {\n          \"type\": \"function\",\n          \"namespace\": \"image-utils.custom_nodes.apply_clahe\"\n        },\n        \"categories\": [\"data\"]\n      }\n    ],\n    \"modules\": [\n      {\n        \"name\": \"custom_nodes\",\n        \"entryPoint\": \"modules/main.py\",\n        \"className\": \"ServiceRunner\",\n        \"functions\": [\n          {\n            \"name\": \"apply_clahe\",\n            \"description\": \"Histogram Equalization using CLAHE\",\n            \"input\": [\n              {\n                \"type\": \"Item\",\n                \"name\": \"item\"\n              }\n            ],\n            \"output\": [\n              {\n                \"type\": \"Item\",\n                \"name\": \"item\"\n              }\n            ],\n            \"displayIcon\": \"qa-sampling\",\n            \"displayName\": \"Clahe\"\n          }\n        ]\n      }\n    ]\n  }\n}\n```\n"
   ]
  },
  {
   "cell_type": "markdown",
   "metadata": {},
   "source": [
    "\n",
    "\n",
    "### \ud83d\udc0d The Python Implementation\n",
    "\n",
    "Create your node's logic in `modules/main.py`:\n",
    "\n"
   ]
  },
  {
   "cell_type": "code",
   "execution_count": 0,
   "metadata": {},
   "outputs": [],
   "source": [
    "import dtlpy as dl\n",
    "import cv2\n",
    "import numpy as np\n",
    "\n",
    "class ServiceRunner(dl.BaseServiceRunner):\n",
    "    def __init__(self):\n",
    "        \"\"\"\n",
    "        Initialize your service runner\n",
    "        \"\"\"\n",
    "        super(ServiceRunner, self).__init__()\n",
    "\n",
    "    def apply_clahe(self, item: dl.Item):\n",
    "        \"\"\"\n",
    "        Apply CLAHE to enhance image contrast\n",
    "        \"\"\"\n",
    "        # Download the image\n",
    "        buffer = item.download(save_locally=False)\n",
    "        bgr = cv2.imdecode(np.frombuffer(buffer.read(), np.uint8), -1)\n",
    "\n",
    "        # Create CLAHE object\n",
    "        clahe = cv2.createCLAHE(clipLimit=2.0, tileGridSize=(8,8))\n",
    "\n",
    "        # Convert to LAB color space\n",
    "        lab = cv2.cvtColor(bgr, cv2.COLOR_BGR2LAB)\n",
    "        l, a, b = cv2.split(lab)\n",
    "\n",
    "        # Apply CLAHE to L channel\n",
    "        cl = clahe.apply(l)\n",
    "\n",
    "        # Merge channels\n",
    "        limg = cv2.merge((cl,a,b))\n",
    "\n",
    "        # Convert back to BGR\n",
    "        enhanced = cv2.cvtColor(limg, cv2.COLOR_LAB2BGR)\n",
    "        # Save the resulting image\n",
    "        output_path = os.path.join(os.getcwd(), f'clahe_{item.name}')\n",
    "        cv2.imwrite(output_path, equalized_image)\n",
    "        new_item = item.dataset.items.upload(local_path=output_path, remote_path=item.dir)\n",
    "\n",
    "        return new_item\n"
   ]
  },
  {
   "cell_type": "markdown",
   "metadata": {},
   "source": [
    "\n",
    "\n",
    "### \u2699\ufe0f Service Configuration\n",
    "\n",
    "The service settings in your manifest control how your node runs:\n",
    "\n"
   ]
  },
  {
   "cell_type": "markdown",
   "metadata": {},
   "source": [
    "```json\n\"components\": {\n    \"services\": [\n    {\n      \"name\": \"image-utils\",\n      \"panelNames\": [\"pipelineNodePanel\"],\n      \"moduleName\": \"custom_nodes\",\n      \"runtime\": {\n      \"podType\": \"regular-xs\",\n      \"runnerImage\": \"dataloopai/dtlpy-agent:cpu.py3.8.opencv4.7\",\n      \"concurrency\": 10,\n      \"autoscaler\": {\n        \"type\": \"rabbitmq\",\n        \"minReplicas\": 1,\n        \"maxReplicas\": 2,\n        \"queueLength\": 10\n      },\n      \"executionTimeout\": 3600\n    },\n    \"maxAttempts\": 3\n  }\n]\n}\n```\n"
   ]
  },
  {
   "cell_type": "markdown",
   "metadata": {},
   "source": [
    "\n",
    "\n",
    "## \ud83c\udfae Using Your Custom Node\n",
    "\n",
    "1. **Install the Node**\n",
    "\n",
    "   - Follow our [Custom Pipeline nodes Demo](https://github.com/dataloop-ai-apps/custom-pipeline-nodes-demo)\n",
    "   - Your node will appear in the pipeline library\n",
    "\n",
    "2. **Add to Pipeline**\n",
    "   - Drag and drop your node into your pipeline\n",
    "   - Configure any parameters\n",
    "   - Connect inputs and outputs\n",
    "\n",
    "![Pipeline_nodes2.png](../../../assets/apps/Pipeline_nodes2.png)\n",
    "\n",
    "## \ud83d\udca1 Pro Tips\n",
    "\n",
    "- \ud83d\udd27 Keep your node focused on one task\n",
    "- \ud83d\udcca Add proper error handling\n",
    "- \ud83c\udfa8 Choose meaningful icons\n",
    "- \ud83d\udcdd Write clear descriptions\n",
    "- \u26a1 Optimize for performance\n",
    "\n",
    "## \ud83c\udfa8 Creating Pipeline Templates\n",
    "\n",
    "Want to share your pipeline magic with others? Let's create a reusable pipeline template! Here's an example of an image augmentation pipeline that automatically processes images with various transformations.\n",
    "\n",
    "### \ud83d\udcdc Pipeline Template Manifest\n",
    "\n",
    "Your pipeline template needs its own magical manifest (`dataloop.json`):\n",
    "By adding a pipeline template to the project, the template will be available to all users in the project. pipeline template to the DPK, the template will be available to all users in the project. Just install the app and use the template in the pipeline.\n",
    "\n"
   ]
  },
  {
   "cell_type": "markdown",
   "metadata": {},
   "source": [
    "```json\n{\n  \"name\": \"image-augmentation-pipeline\",\n\"components\": {\n  \"pipelineTemplates\": [\n   ...\n  ]\n}\n}\n```\n"
   ]
  },
  {
   "cell_type": "markdown",
   "metadata": {},
   "source": [
    "\n",
    "\n",
    "Check all of our [Pipeline Templates](https://github.com/dataloop-ai-apps/pipeline-templates) for more information.\n",
    "\n",
    "### \ud83d\ude80 Using the Template\n",
    "\n",
    "1. **Install the Template**\n",
    "\n",
    "Navigate to the marketplace and install the template.\n",
    "The new pipeline will be available in the project.\n",
    "\n",
    "2. **Execute the Pipeline**\n",
    "\n"
   ]
  },
  {
   "cell_type": "code",
   "execution_count": 0,
   "metadata": {},
   "outputs": [],
   "source": [
    "# Create a new pipeline from the template\n",
    "pipeline = project.pipelines.get(name='my-augmentation-pipeline')\n",
    "# Start the pipeline\n",
    "pipeline.execute(items=[item1, item2])\n"
   ]
  },
  {
   "cell_type": "markdown",
   "metadata": {},
   "source": [
    "\n",
    "\n",
    "### \ud83d\udca1 Template Pro Tips\n",
    "\n",
    "- \ud83c\udfaf Make your template focused and purpose-driven\n",
    "- \ud83d\udcdd Provide clear node configurations\n",
    "- \u26a1 Optimize for parallel processing when possible\n",
    "- \ud83d\udcca Consider resource requirements\n",
    "\n",
    "## \ud83d\ude80 Next Steps\n",
    "\n",
    "Ready to create your own pipeline node? Here's your checklist:\n",
    "\n",
    "1. \ud83d\udcdd Define your node's purpose\n",
    "2. \ud83c\udfa8 Design the interface\n",
    "3. \ud83d\udd27 Implement the logic\n",
    "4. \ud83d\udce6 Package it up\n",
    "5. \ud83e\uddea Test thoroughly\n",
    "6. \ud83d\ude80 Share with your team!\n",
    "\n",
    "Need inspiration? Check out our [example nodes](https://github.com/dataloop-ai-apps/custom-pipeline-nodes-demo) or join our developer community! \u2728\n"
   ]
  }
 ],
 "metadata": {
  "kernelspec": {
   "display_name": "Python 3",
   "language": "python",
   "name": "python3"
  },
  "language_info": {
   "codemirror_mode": {
    "name": "ipython",
    "version": 3
   },
   "file_extension": ".py",
   "mimetype": "text/x-python",
   "name": "python",
   "nbconvert_exporter": "python",
   "pygments_lexer": "ipython3",
   "version": "3.7.7"
  }
 },
 "nbformat": 4,
 "nbformat_minor": 4
}