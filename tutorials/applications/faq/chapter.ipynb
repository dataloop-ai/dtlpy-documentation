{
 "cells": [
  {
   "cell_type": "markdown",
   "metadata": {},
   "source": [
    "# Frequently Asked Questions\n",
    "SPA (Panel)\n",
    "Q. Why do we need the domain to be local.dataloop.ai to test the app locally?\n",
    "\n",
    "A: Dataloop AI platform needs to pass cookies to the guest application in order to authenticate the application and provide it accesses to the SDK backend.\n",
    "\n",
    "Q. Why do we need HTTPS for running the application locally?\n",
    "\n",
    "A: Dataloop AI platform runs on HTTPS and it tries to access your dataloop.json file. If the local server is serving over HTTP and not on HTTPS, the Mixed-Content Policy of most browsers won't allow the HTTP request for this dataloop.json file.\n",
    "\n",
    "Q. Why do we need to make sure the `base` in the vue configuration is set to \u201c\u201d?\n",
    "\n",
    "A: When you publish an application, the application is served on a route which looks like this:\n",
    " <base-domain>/<your-panel>/<asset-folder>/<asset-file-name>\n",
    "If you do not make the base as \u201c\u201d, the automatically created path names in the application are like this:\n",
    " <base-domain>/<asset-folder>/<asset-file-name>\n",
    "So, to solve this issue, we need to make the base route as \u201c\u201d to load the assets in relative paths.\n",
    "\n",
    "Q. Why should I use Vue.js for SPA development?\n",
    "\n",
    "A: We only recommend and not bind anyone to use Vue.js for the SPA development because we have an open source design-system and icons library that matches our platform\u2019s theme. In any case, feel free to use any other library / framework.\n",
    "\n",
    "\n"
   ]
  }
 ],
 "metadata": {
  "kernelspec": {
   "display_name": "Python 3",
   "language": "python",
   "name": "python3"
  },
  "language_info": {
   "codemirror_mode": {
    "name": "ipython",
    "version": 3
   },
   "file_extension": ".py",
   "mimetype": "text/x-python",
   "name": "python",
   "nbconvert_exporter": "python",
   "pygments_lexer": "ipython3",
   "version": "3.7.7"
  }
 },
 "nbformat": 4,
 "nbformat_minor": 4
}