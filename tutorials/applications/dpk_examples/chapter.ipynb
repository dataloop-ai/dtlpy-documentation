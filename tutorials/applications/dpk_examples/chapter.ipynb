{
 "cells": [
  {
   "cell_type": "markdown",
   "metadata": {},
   "source": [
    "# \ud83d\udce6 Dataloop Package Kit Examples\n",
    "\n",
    "## \ud83d\udcdc Complete DPK Manifest Example\n",
    "\n",
    "Here is an example of a complete DPK manifest. \n",
    "\n",
    "NOTE: This is not supposed to be a real app, and publishing or installing it will probably result in some errors.\n",
    "\n"
   ]
  },
  {
   "cell_type": "markdown",
   "metadata": {},
   "source": [
    "```json\n{\n  \"name\": \"dpk-name\",\n  \"displayName\": \"DPK Display Name\",\n  \"version\": \"0.0.1\",\n  \"scope\": \"project\",\n  \"description\": \"Application description\",\n  \"codebase\": {\n    \"type\": \"git\",\n    \"gitUrl\": \"repo-url\",\n    \"gitTag\": \"0.0.1\"\n  },\n  \"components\": {\n    \"panels\": [\n      {\n        \"name\": \"PanelName\",\n        \"icon\": \"\",\n        \"supportedSlots\": [\n          {\n            \"type\": \"pipelineNodeConfig\",\n            \"configuration\": {}\n          }\n        ],\n        \"conditions\": {\n          \"resources\": []\n        }\n      }\n    ],\n    \"computeConfigs\": [\n      {\n        \"name\": \"compute-configs1\",\n        \"runtime\": {\n          \"podType\": \"highmem-xs\",\n          \"concurrency\": 1,\n          \"autoscaler\": {\n            \"type\": \"rabbitmq\",\n            \"minReplicas\": 0,\n            \"maxReplicas\": 2\n          }\n        }\n      }\n    ],\n    \"modules\": [\n      {\n        \"name\": \"my-module\",\n        \"entryPoint\": \"my_entry_point.py\",\n        \"className\": \"ClassName\",\n        \"computeConfig\": \"compute-configs1\",\n        \"description\": \"Module Desciption\",\n        \"initInputs\": [\n          {\n            \"type\": \"DL Entity\",\n            \"name\": \"param name\"\n          }\n        ],\n        \"functions\": [\n          {\n            \"name\": \"func1\",\n            \"input\": [\n              {\n                \"type\": \"DL Entity\",\n                \"name\": \"param name\"\n              }\n            ],\n            \"output\": [\n              {\n                \"type\": \"DL Entity\",\n                \"name\": \"param name\"\n              }\n            ],\n            \"displayName\": \"Function Display Name\",\n            \"displayIcon\": \"\",\n            \"description\": \"Function Description\"\n          }\n        ]\n      }\n    ],\n    \"models\": [\n      {\n        \"name\": \"model-name\",\n        \"moduleName\": \"my-module\",\n        \"scope\": \"project\",\n        \"status\": \"trained\",\n        \"configuration\": {},\n        \"description\": \"Model Description.\",\n        \"labels\": []\n      }\n    ],\n    \"pipelineNodes\": [\n      {\n        \"panel\": \"PanelName\",\n        \"name\": \"Node Name\",\n        \"invoke\": {\n          \"type\": \"function\",\n          \"namespace\": \"my-service.my-module.func1\"\n        },\n        \"categories\": [\n          \"categoryName\"\n        ],\n        \"scope\": \"node\"\n      }\n    ],\n    \"services\": [\n      {\n        \"name\": \"my-service\",\n        \"panelNames\": [\n          \"PanelName\"\n        ],\n        \"runtime\": {\n          \"podType\": \"regular-xs\",\n          \"concurrency\": 10,\n          \"autoscaler\": {\n            \"type\": \"rabbitmq\",\n            \"minReplicas\": 0,\n            \"maxReplicas\": 2,\n            \"queueLength\": 10\n          }\n        }\n      }\n    ],\n    \"toolbars\": [\n      {\n        \"displayName\": \"Toolbar Display Name\",\n        \"invoke\": {\n          \"type\": \"function\",\n          \"namespace\": \"my-service.func1\"\n        },\n        \"location\": \"datasetBrowserApps\",\n        \"icon\": \"\"\n      }\n    ]\n  }\n}\n```\n"
   ]
  },
  {
   "cell_type": "markdown",
   "metadata": {},
   "source": [
    "\n",
    "\n",
    "## \ud83c\udfaf Real-World DPK Examples\n",
    "\n",
    "Let's explore some production-ready examples from our public repository! Here are some magical DPKs you can use as inspiration:\n",
    "\n",
    "### \ud83e\udd16 AI Model Adapters\n",
    "\n",
    "* [Torch Models](https://github.com/dataloop-ai-apps/torch-models) - Collection of PyTorch model adapters for various tasks\n",
    "* [NVIDIA Models](https://github.com/dataloop-ai-apps/nvidia-models) - Integration with NVIDIA's AI model ecosystem\n",
    "* [Grounded SAM](https://github.com/dataloop-ai-apps/grounded-sam-adapter) - Adapter for Segment Anything Model with grounding\n",
    "\n",
    "### \ud83d\udd04 Pipeline & Data Processing\n",
    "\n",
    "* [Pipeline Templates](https://github.com/dataloop-ai-apps/pipeline-templates) - Ready-to-use pipeline templates for common workflows\n",
    "* [Dataset Clustering](https://github.com/dataloop-ai-apps/dataset-clustering) - Automated dataset organization using clustering techniques\n",
    "* [Data Split](https://github.com/dataloop-ai-apps/data-split) - Smart dataset splitting for training/validation/testing\n",
    "* [DTLPY Converters](https://github.com/dataloop-ai-apps/dtlpy-converters) - Tools for converting between different annotation formats\n",
    "\n",
    "### \ud83d\udd0c Integrations & Utilities\n",
    "\n",
    "* [Export GCS](https://github.com/dataloop-ai-apps/export-gcs) - Export and import annotations to Google Cloud Storage\n",
    "* [OpenCV Face Detection](https://github.com/dataloop-ai-apps/opencv-face-detection) - Simple face detection implementation using OpenCV\n",
    "\n",
    "### \ud83d\udcca Dataset Management\n",
    "\n",
    "* [OSDAR23 Datasets](https://github.com/dataloop-ai-apps/osdar23-datasets) - Example datasets and tools for the OSDAR challenge\n",
    "\n",
    "## \ud83d\udca1 Key Components in Real DPKs\n",
    "\n",
    "Each of these DPKs demonstrates best practices for:\n",
    "\n",
    "### \ud83d\udcdd Documentation\n",
    "* Clear README files\n",
    "* Installation instructions\n",
    "* Usage examples\n",
    "* API documentation\n",
    "\n",
    "### \ud83c\udfd7\ufe0f Structure\n",
    "* Well-organized code\n",
    "* Proper manifest setup\n",
    "* Clear dependency management\n",
    "* Modular components\n",
    "\n",
    "### \u2699\ufe0f Configuration\n",
    "* Environment settings\n",
    "* Runtime configurations\n",
    "* Service definitions\n",
    "* Panel layouts\n",
    "\n",
    "### \ud83e\uddea Testing\n",
    "* Test suites\n",
    "* Example data\n",
    "* Validation scripts\n",
    "* Error handling\n",
    "\n",
    "## \ud83c\udfaf Example Use Cases\n",
    "\n",
    "Here are some specific examples of how these DPKs are used:\n",
    "\n",
    "### 1. Model Integration\n"
   ]
  },
  {
   "cell_type": "markdown",
   "metadata": {},
   "source": [
    "```json\n{\n  \"name\": \"yolov8-detector\",\n  \"components\": {\n    \"models\": [\n      {\n        \"name\": \"fasterrcnn\",\n        \"moduleName\": \"model-adapter\",\n        \"scope\": \"project\",\n        \"status\": \"trained\",\n        \"configuration\": {\n          \"weights_url\": \"best.pt\"\n        }\n      }\n    ]\n  }\n}\n```\n"
   ]
  },
  {
   "cell_type": "markdown",
   "metadata": {},
   "source": [
    "\n",
    "\n",
    "### 2. Pipeline Node\n"
   ]
  },
  {
   "cell_type": "markdown",
   "metadata": {},
   "source": [
    "```json\n{\n  \"name\": \"data-splitter\",\n  \"components\": {\n    \"pipelineNodes\": [\n      {\n        \"name\": \"Split Dataset\",\n        \"invoke\": {\n          \"type\": \"function\",\n          \"namespace\": \"data-split.splitter.split_dataset\"\n        },\n        \"categories\": [\"data\"]\n      }\n    ]\n  }\n}\n```\n"
   ]
  },
  {
   "cell_type": "markdown",
   "metadata": {},
   "source": [
    "\n",
    "\n",
    "### 3. Custom UI Panel\n"
   ]
  },
  {
   "cell_type": "markdown",
   "metadata": {},
   "source": [
    "```json\n{\n  \"name\": \"annotation-viewer\",\n  \"components\": {\n    \"panels\": [\n      {\n        \"name\": \"AnnotationPanel\",\n        \"supportedSlots\": [\n          {\n            \"type\": \"annotationStudio\",\n            \"configuration\": {}\n          }\n        ]\n      }\n    ]\n  }\n}\n```\n"
   ]
  },
  {
   "cell_type": "markdown",
   "metadata": {},
   "source": [
    "\n",
    "\n",
    "## \ud83d\ude80 Getting Started with Examples\n",
    "\n",
    "To use any of these example DPKs:\n",
    "\n",
    "1. **Clone the Repository**\n"
   ]
  },
  {
   "cell_type": "markdown",
   "metadata": {},
   "source": [
    "```bash\ngit clone https://github.com/dataloop-ai-apps/<dpk-name>\n```\n"
   ]
  },
  {
   "cell_type": "markdown",
   "metadata": {},
   "source": [
    "\n",
    "\n",
    "2. **Install Dependencies**\n"
   ]
  },
  {
   "cell_type": "markdown",
   "metadata": {},
   "source": [
    "```bash\npip install -r requirements.txt\n```\n"
   ]
  },
  {
   "cell_type": "markdown",
   "metadata": {},
   "source": [
    "\n",
    "\n",
    "3. **Configure the DPK**\n"
   ]
  },
  {
   "cell_type": "code",
   "execution_count": 0,
   "metadata": {},
   "outputs": [],
   "source": [
    "import dtlpy as dl\n",
    "project = dl.projects.get('your-project')\n",
    "dpk = project.dpks.push(src_path='path/to/dpk')\n"
   ]
  },
  {
   "cell_type": "markdown",
   "metadata": {},
   "source": [
    "\n",
    "\n",
    "4. **Install the App**\n"
   ]
  },
  {
   "cell_type": "code",
   "execution_count": 0,
   "metadata": {},
   "outputs": [],
   "source": [
    "project.apps.install(dpk=dpk)\n"
   ]
  },
  {
   "cell_type": "markdown",
   "metadata": {},
   "source": [
    "\n",
    "\n",
    "## \ud83d\udca1 Pro Tips\n",
    "\n",
    "* \ud83d\udcda Study multiple examples to understand different patterns\n",
    "* \ud83d\udd0d Look at the manifest structure of similar apps\n",
    "* \ud83e\uddea Test configurations locally before publishing\n",
    "* \ud83d\udcdd Document your customizations\n",
    "* \ud83d\udd04 Keep your dependencies up to date\n",
    "\n",
    "Need more inspiration? Visit our [Dataloop Apps Space](https://github.com/dataloop-ai-apps) for the latest examples and updates! \u2728\n",
    "\n"
   ]
  }
 ],
 "metadata": {
  "kernelspec": {
   "display_name": "Python 3",
   "language": "python",
   "name": "python3"
  },
  "language_info": {
   "codemirror_mode": {
    "name": "ipython",
    "version": 3
   },
   "file_extension": ".py",
   "mimetype": "text/x-python",
   "name": "python",
   "nbconvert_exporter": "python",
   "pygments_lexer": "ipython3",
   "version": "3.7.7"
  }
 },
 "nbformat": 4,
 "nbformat_minor": 4
}