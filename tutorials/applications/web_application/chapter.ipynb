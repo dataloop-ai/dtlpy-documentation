{
 "cells": [
  {
   "cell_type": "markdown",
   "metadata": {},
   "source": [
    "# \ud83c\udf10 Building Web Apps - Create Your Own Platform Experience!\n",
    "\n",
    "Welcome to the world of web applications in Dataloop! Here's where you'll learn to create beautiful, interactive web experiences that seamlessly integrate with our platform. Let's build something amazing! \u2728\n",
    "\n",
    "![](../../../assets/apps/platform_studio.png)\n",
    "\n",
    "## \u26a1 Quick Start Guide\n",
    "\n",
    "1. \ud83c\udfa8 Create a client-side app using your favorite framework (we \u2764\ufe0f Vue.js!)\n",
    "2. \ud83d\udcdc Serve your magical `dataloop.json` manifest at your app's root\n",
    "3. \ud83d\udd12 Host your app locally on `local.dataloop.ai` with HTTPS\n",
    "4. \ud83c\udfaf Add your app as a debug app in the Application Hub\n",
    "5. \ud83e\uddea Test your creation in its intended panel type\n",
    "6. \ud83d\udd0d Debug using browser dev tools\n",
    "\n",
    "## \ud83c\udfd7\ufe0f Building Your Web Application\n",
    "\n",
    "### \ud83c\udfa8 Choosing Your Framework\n",
    "\n",
    "While you can use any modern framework (React, Angular, etc.), we especially love Vue.js because:\n",
    "* \ud83c\udfaf We provide a Vue-based design system matching our platform theme\n",
    "* \ud83c\udfa8 We offer ready-to-use UI components\n",
    "* \ud83d\udd27 We maintain open-source Vue.js libraries and icons\n",
    "\n",
    "### \ud83d\ude80 Quick Start Template\n",
    "\n",
    "Want to jumpstart your development? Check out our [example application](https://github.com/dataloop-ai-apps/item-viewer)!\n",
    "\n",
    "![](../../../assets/apps/template_repo.png)\n",
    "\n",
    "## \ud83d\udee0\ufe0f Local Development Setup\n",
    "\n",
    "### \ud83d\udd27 Essential Configurations\n",
    "\n",
    "1. **Configure Local Domain**\n",
    "   \n"
   ]
  },
  {
   "cell_type": "markdown",
   "metadata": {},
   "source": [
    "```text\n   # Add to your hosts file (/etc/hosts or C:\\Windows\\System32\\drivers\\etc\\hosts)\n   127.0.0.1 local.dataloop.ai\n   ```\n"
   ]
  },
  {
   "cell_type": "markdown",
   "metadata": {},
   "source": [
    "\n",
    "\n",
    "2. **Development Requirements**\n",
    "   * \ud83d\udd12 HTTPS enabled\n",
    "   * \ud83c\udf10 CORS configured\n",
    "   * \ud83c\udfaf Windows: Serve on \"0.0.0.0\"\n",
    "   * \ud83d\udcdc Public `dataloop.json` at app root\n",
    "   * \ud83d\udc64 Developer role access\n",
    "   * \ud83d\udcda Familiarity with our JS SDK\n",
    "\n",
    "### \ud83c\udfae Creating Your First App\n",
    "\n",
    "1. **Project Setup**\n",
    "   \n"
   ]
  },
  {
   "cell_type": "markdown",
   "metadata": {},
   "source": [
    "```shell\n   # Install dependencies\n   npm i\n   \n   # Start development server\n   npm run serve\n   ```\n"
   ]
  },
  {
   "cell_type": "markdown",
   "metadata": {},
   "source": [
    "\n",
    "\n",
    "2. **Access Your App**\n",
    "   * Open https://local.dataloop.ai:8080\n",
    "   * If you see \"Not Private\" warning:\n",
    "     * Click \"Proceed to local.dataloop.ai\" or\n",
    "     * Type \"thisisunsafe\"\n",
    "\n",
    "## \ud83d\udcbb Building an Item Viewer\n",
    "\n",
    "Let's create a magical item viewer using our JS SDK! Here's how to bring your items to life:\n",
    "\n",
    "### \ud83d\udd2e Initialize SDK & Load Item\n",
    "\n"
   ]
  },
  {
   "cell_type": "markdown",
   "metadata": {},
   "source": [
    "```javascript\n// App.vue\nexport default {\n  methods: {\n    async getItemDetails() {\n      // Get the current item\n      this.item = await this.dl.items.get()\n      // Get item stream for display\n      this.stream = await this.dl.items.stream(this.item?.stream)\n    }\n  }\n}\n```\n"
   ]
  },
  {
   "cell_type": "markdown",
   "metadata": {},
   "source": [
    "\n",
    "\n",
    "### \ud83c\udfa8 Display Your Item\n",
    "\n"
   ]
  },
  {
   "cell_type": "markdown",
   "metadata": {},
   "source": [
    "```html\n<!-- Show the item with style -->\n<img\n  v-if=\"item && stream\"\n  :src=\"stream\"\n  :width=\"itemWidth\"\n  :height=\"itemHeight\"\n/>\n```\n"
   ]
  },
  {
   "cell_type": "markdown",
   "metadata": {},
   "source": [
    "\n",
    "\n",
    "## \ud83d\udc1e Debug Mode in Platform\n",
    "\n",
    "### \ud83c\udfaf Adding Your Debug App\n",
    "\n",
    "1. Navigate to **Application Hub** > **Developer** tab\n",
    "   ![img.png](../../../assets/apps/img.png)\n",
    "\n",
    "2. Click **Add Function**\n",
    "\n",
    "3. Configure Your App:\n",
    "   * Name your creation\n",
    "   * Choose main slot (e.g., Item Viewer)\n",
    "   * Enter your local URL\n",
    "   ![img_1.png](../../../assets/apps/img_1.png)\n",
    "\n",
    "4. Test Your App:\n",
    "   * Go to dataset browser\n",
    "   * Right-click an item\n",
    "   * Choose \"Open With...\" > Your App\n",
    "   ![img_3.png](../../../assets/apps/img_3.png)\n",
    "\n",
    "## \ud83e\uddea Testing Your Creation\n",
    "\n",
    "### \ud83d\udd0d Local Testing Setup\n",
    "\n",
    "We provide powerful tools for testing your app locally:\n",
    "\n",
    "1. **DlMockDriver**\n",
    "   \n"
   ]
  },
  {
   "cell_type": "markdown",
   "metadata": {},
   "source": [
    "```typescript\n   import { DlMockDriver } from '@dataloop/jssdk'\n   \n   const data = require('./snapshot.json')\n   global.window.dl = new DlMockDriver(data)\n   ```\n"
   ]
  },
  {
   "cell_type": "markdown",
   "metadata": {},
   "source": [
    "\n",
    "\n",
    "2. **Debug Snapshot Feature**\n",
    "   * Add your debug app to platform\n",
    "   * Click Debug Snapshot icon (or Alt+Shift+S)\n",
    "   * Save snapshot to tests directory\n",
    "   * Use in your test setup\n",
    "\n",
    "## \ud83c\udfa8 Complete Item Viewer Example\n",
    "\n",
    "Want to see a production-ready example? Check out our [item-viewer repository](https://github.com/dataloop-ai-apps/item-viewer)!\n",
    "\n",
    "## \ud83d\udca1 Pro Tips\n",
    "\n",
    "* \ud83d\udd0d Use browser dev tools for debugging\n",
    "* \ud83d\udcdd Keep your manifest up to date\n",
    "* \ud83e\uddea Test across different browsers\n",
    "* \ud83d\udd12 Follow security best practices\n",
    "* \ud83d\udcda Document your configuration\n",
    "\n",
    "## \ud83d\ude80 Next Steps\n",
    "\n",
    "Ready to create your own web application? Here's your checklist:\n",
    "1. \ud83d\udcda Choose your framework\n",
    "2. \ud83d\udee0\ufe0f Set up local development\n",
    "3. \ud83d\udd27 Configure your manifest\n",
    "4. \ud83c\udfa8 Build your interface\n",
    "5. \ud83e\uddea Test thoroughly\n",
    "6. \ud83d\ude80 Deploy and share!\n",
    "\n",
    "Need inspiration? Visit our [example apps](https://github.com/dataloop-ai-apps) or join our developer community! \u2728\n"
   ]
  }
 ],
 "metadata": {
  "kernelspec": {
   "display_name": "Python 3",
   "language": "python",
   "name": "python3"
  },
  "language_info": {
   "codemirror_mode": {
    "name": "ipython",
    "version": 3
   },
   "file_extension": ".py",
   "mimetype": "text/x-python",
   "name": "python",
   "nbconvert_exporter": "python",
   "pygments_lexer": "ipython3",
   "version": "3.7.7"
  }
 },
 "nbformat": 4,
 "nbformat_minor": 4
}