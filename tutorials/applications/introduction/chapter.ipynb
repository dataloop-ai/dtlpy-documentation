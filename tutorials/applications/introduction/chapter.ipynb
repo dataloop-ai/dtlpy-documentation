{
 "cells": [
  {
   "cell_type": "markdown",
   "metadata": {},
   "source": [
    "# \ud83c\udfae Welcome to Dataloop Applications - Level Up Your Platform!\n",
    "\n",
    "## \ud83c\udf1f What are Dataloop Applications?\n",
    "\n",
    "\n",
    "\n",
    "These applications are extensions that plug right into the Dataloop ecosystem (we call it Dataloop OS), giving you access to:\n",
    "* Custom panels that feel right at home in the platform \n",
    "* The mighty Dataloop SDK for crafting powerful features\n",
    "* Special components that make your workflow smoother\n",
    "\n",
    "Just like choosing the right tools for crafting in a game, applications let you customize your workspace with exactly what you need! \ud83d\udee0\ufe0f\n",
    "\n",
    "## \ud83d\udce6 The Art of DPK (Dataloop Package Kit)\n",
    "\n",
    "Think of a DPK as your application's treasure chest - it's a magical bundle that contains everything your application needs to work its wonders! Let's peek inside this chest:\n",
    "\n"
   ]
  },
  {
   "cell_type": "markdown",
   "metadata": {},
   "source": [
    "```\n\ud83d\udcc1 Your DPK Structure\n\u251c\u2500\u2500 \ud83d\udcc2 modules/            # Your Python magic spells\n\u2502   \u251c\u2500\u2500 __init__.py\n\u2502   \u2514\u2500\u2500 main.py\n\u251c\u2500\u2500 \ud83d\udcc2 panels/            # Your UI enchantments\n\u2502   \u2514\u2500\u2500 index.html\n\u251c\u2500\u2500 \ud83d\udcc2 src/              # Your source code artifacts\n\u2502   \u2514\u2500\u2500 .gitkeep\n\u251c\u2500\u2500 \ud83d\udcc2 tests/            # Your quality assurance scrolls\n\u2502   \u251c\u2500\u2500 __init__.py\n\u2502   \u2514\u2500\u2500 index.html\n\u251c\u2500\u2500 \ud83d\udcdc dataloop.json     # The sacred manifest\n\u251c\u2500\u2500 \ud83d\udcdc README.md         # Your application's story\n\u251c\u2500\u2500 \ud83d\udcdc build.sh         # Your building instructions\n\u2514\u2500\u2500 \ud83d\udcdc requirements.txt  # Your dependencies scroll\n```\n"
   ]
  },
  {
   "cell_type": "markdown",
   "metadata": {},
   "source": [
    "\n",
    "\n",
    "Want to see some real magic in action? Visit our [GitHub Apps Space](https://github.com/dataloop-ai-apps) for working examples! But if you're feeling adventurous and want to start from scratch:\n",
    "\n"
   ]
  },
  {
   "cell_type": "code",
   "execution_count": 0,
   "metadata": {},
   "outputs": [],
   "source": [
    "import dtlpy as dl\n",
    "\n",
    "# Create your first DPK\n",
    "project = dl.projects.get('Project Name')\n",
    "dpk = project.dpks.publish()\n"
   ]
  },
  {
   "cell_type": "markdown",
   "metadata": {},
   "source": [
    "\n",
    "\n",
    "## \ud83d\ude80 Installing Your Applications\n",
    "\n",
    "### \ud83c\udfea The Marketplace Way\n",
    "\n",
    "Think of the [Marketplace](https://docs.dataloop.ai/docs/marketplace) as your app store - it's where all the cool applications hang out! Here you'll find everything from:\n",
    "* \ud83d\udd0d Metadata viewers\n",
    "* \ud83c\udf99\ufe0f Annotation Studios\n",
    "* \ud83d\uddbc\ufe0f AI Model Adapters\n",
    "* And many more magical tools!\n",
    "\n",
    "To install an app:\n",
    "1. \ud83c\udfc3\u200d\u2642\ufe0f Sprint to the marketplace\n",
    "2. \ud83d\udd0d Search for your desired application\n",
    "3. \ud83c\udfaf Click install\n",
    "4. \u2728 Watch the magic happen!\n",
    "\n",
    "Need to tweak some settings? You can adjust machine types, autoscaling, and other configurations in the app settings.\n",
    "\n",
    "### \ud83d\udc0d The Python SDK Way\n",
    "\n",
    "For those who prefer to wave their Python wand:\n",
    "\n"
   ]
  },
  {
   "cell_type": "code",
   "execution_count": 0,
   "metadata": {},
   "outputs": [],
   "source": [
    "import dtlpy as dl\n",
    "\n",
    "# Get your project ready\n",
    "project = dl.projects.get('Apps Project')\n",
    "\n",
    "# Find your desired app\n",
    "dpk = dl.dpks.get(dpk_name='<app-name>')\n",
    "\n",
    "# Cast the installation spell\n",
    "app = project.apps.install(dpk=dpk)\n"
   ]
  },
  {
   "cell_type": "markdown",
   "metadata": {},
   "source": [
    "\n",
    "\n",
    "And if you want to upgrade your app:\n",
    "\n"
   ]
  },
  {
   "cell_type": "code",
   "execution_count": 0,
   "metadata": {},
   "outputs": [],
   "source": [
    "app = project.apps.get(app_name='<app-name>')\n",
    "app.dpk_version = dpk.version\n",
    "app.update()\n"
   ]
  },
  {
   "cell_type": "markdown",
   "metadata": {},
   "source": [
    "\n",
    "\n",
    "## \ud83e\uddf9 Uninstalling and Cleaning Up\n",
    "\n",
    "Sometimes you need to do some spring cleaning! Here's how to uninstall apps and clean up DPKs:\n",
    "\n",
    "### \ud83d\uddd1\ufe0f Uninstalling an App\n",
    "\n",
    "Simple as waving goodbye:\n",
    "\n"
   ]
  },
  {
   "cell_type": "code",
   "execution_count": 0,
   "metadata": {},
   "outputs": [],
   "source": [
    "# Get your app\n",
    "app = project.apps.get(app_name='<app-name>')\n",
    "# Uninstall it\n",
    "app.uninstall()\n"
   ]
  },
  {
   "cell_type": "markdown",
   "metadata": {},
   "source": [
    "\n",
    "\n",
    "### \ud83e\udde8 Deleting DPKs\n",
    "\n",
    "You've got two options here:\n",
    "\n",
    "#### Option 1: Quick Delete (Single Revision) \ud83c\udfaf\n"
   ]
  },
  {
   "cell_type": "code",
   "execution_count": 0,
   "metadata": {},
   "outputs": [],
   "source": [
    "# Delete a specific DPK revision\n",
    "dpk.delete()  # This only removes one revision!\n"
   ]
  },
  {
   "cell_type": "markdown",
   "metadata": {},
   "source": [
    "\n",
    "\n",
    "#### Option 2: Complete Cleanup (Nuclear Option) \ud83d\udca5\n",
    "\n",
    "Want to remove everything related to a DPK? Here's the full cleanup spell:\n",
    "\n"
   ]
  },
  {
   "cell_type": "code",
   "execution_count": 0,
   "metadata": {},
   "outputs": [],
   "source": [
    "# Get your DPK\n",
    "dpk = dl.dpks.get(dpk_name='your-dpk-name')\n",
    "\n",
    "# Find and clean up all related apps\n",
    "apps_filters = dl.Filters(field='dpkName', values=dpk.name, resource='apps')\n",
    "for app in dl.apps.list(filters=apps_filters).all():\n",
    "    print(f'\ud83c\udfaf Found app: {app.name} in project: {app.project.name}')    \n",
    "    # Uninstall the app\n",
    "    app.uninstall()\n",
    "\n",
    "# Delete all DPK revisions\n",
    "print('\ud83e\uddf9 Cleaning up DPK revisions...')\n",
    "_ = [revision.delete() for revision in dpk.revisions.all()]\n",
    "print('\u2728 Cleanup complete!')\n"
   ]
  },
  {
   "cell_type": "markdown",
   "metadata": {},
   "source": [
    "\n",
    "\n",
    "**Pro Tips! \ud83d\udca1**\n",
    "- Always double-check before using the complete cleanup option\n",
    "- Consider backing up any important data first\n",
    "- Remember that deletions are permanent!\n",
    "\n",
    "## \ud83e\udde9 DPK Components - The Building Blocks\n",
    "\n",
    "### \ud83c\udfaf Scopes\n",
    "\n",
    "Your DPK can cast its magic in two realms:\n",
    "* \ud83c\udff0 **Project Scope:** The app only works within its home project\n",
    "* \ud83c\udf0d **Organization Scope:** The app can work across all projects in your organization\n",
    "\n",
    "Here's how to set your scope:\n",
    "\n"
   ]
  },
  {
   "cell_type": "markdown",
   "metadata": {},
   "source": [
    "```json\n{ \n    \"name\": \"My App\",\n    \"scope\": \"project\"\n    ...\n}\n```\n"
   ]
  },
  {
   "cell_type": "markdown",
   "metadata": {},
   "source": [
    "\n",
    "\n",
    "### \ud83d\udcbe Codebase\n",
    "\n",
    "Your application's brain can live in two places:\n",
    "* \ud83d\udce6 Directly in a git repository with a specific tag\n",
    "* \ud83d\uddc4\ufe0f In Dataloop's Item Codebase\n",
    "\n",
    "Here's how to set it up:\n",
    "\n"
   ]
  },
  {
   "cell_type": "code",
   "execution_count": 0,
   "metadata": {},
   "outputs": [],
   "source": [
    "# For local codebase\n",
    "codebase = project.codebases.pack(directory=os.getcwd(),\n",
    "                                  name=dpk.name,\n",
    "                                  description=\"My awesome app!\")\n",
    "\n",
    "# For git codebase\n",
    "codebase = dl.GitCodebase(git_url='git_url',\n",
    "                          git_tag='git_tag')\n",
    "\n",
    "dpk.codebase = codebase\n",
    "dpk = project.dpks.publish(dpk)\n"
   ]
  },
  {
   "cell_type": "markdown",
   "metadata": {},
   "source": [
    "\n",
    "\n",
    "### \ud83c\udfa8 Panels and Toolbars\n",
    "\n",
    "Think of panels as your app's face - they're what users see and interact with. You can place them in various spots:\n",
    "* \ud83d\uddbc\ufe0f Item Viewer - Give items a fresh look\n",
    "* \ud83e\ude9f Floating Window - Create movable command centers\n",
    "* \ud83d\udcc2 Data Browser - Reimagine how users browse items\n",
    "* \u2139\ufe0f Item Side Panel - Add helpful sidekicks to the viewer\n",
    "\n",
    "Toolbars are like your app's quick actions - they can appear as:\n",
    "* \ud83d\udd18 Buttons in various places\n",
    "* \u2699\ufe0f Configuration panels\n",
    "* \ud83d\udcca Project widgets\n",
    "\n",
    "### \ud83d\udc0d Modules and Functions\n",
    "\n",
    "Your Python modules are like spell books - they hold all the powerful functions your app can perform. Find out more about crafting these spells in our [FaaS tutorial](https://developers.dataloop.ai/tutorials/faas/single_function_rgb_to_gray/chapter/).\n",
    "\n",
    "### \ud83d\udd27 Services\n",
    "\n",
    "Think of services as your app's faithful servants - they keep your panels running and manage their lifecycle. Learn more about training these helpers in our [FaaS tutorial](https://developers.dataloop.ai/tutorials/faas/single_function_rgb_to_gray/chapter/).\n",
    "\n",
    "### \ud83c\udf81 And More!\n",
    "\n",
    "You can use any other Dataloop entity (Models, Tasks, etc.) in your app - just define them in your manifest, and they'll spring to life during installation!\n",
    "\n",
    "## \ud83d\udcdc The Sacred Manifest - dataloop.json\n",
    "\n",
    "Your `dataloop.json` is like your app's spellbook - it contains all the instructions for how your app should work. Check out more examples in our [DPK Examples](https://developers.dataloop.ai/tutorials/applications/dpk_examples/chapter/) page, or explore real-world magic in our [GitHub](https://github.com/dataloop-ai-apps)!\n",
    "\n",
    "Ready to create your own magical application? Let's get started! \ud83d\ude80\u2728\n",
    "\n"
   ]
  }
 ],
 "metadata": {
  "kernelspec": {
   "display_name": "Python 3",
   "language": "python",
   "name": "python3"
  },
  "language_info": {
   "codemirror_mode": {
    "name": "ipython",
    "version": 3
   },
   "file_extension": ".py",
   "mimetype": "text/x-python",
   "name": "python",
   "nbconvert_exporter": "python",
   "pygments_lexer": "ipython3",
   "version": "3.7.7"
  }
 },
 "nbformat": 4,
 "nbformat_minor": 4
}