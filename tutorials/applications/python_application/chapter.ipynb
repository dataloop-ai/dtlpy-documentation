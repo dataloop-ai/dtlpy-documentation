{
 "cells": [
  {
   "cell_type": "markdown",
   "metadata": {},
   "source": [
    "# \ud83d\udc0d Creating Python Apps - Where Code Meets Magic!\n",
    "\n",
    "Welcome to the Python side of Dataloop Applications! Here's where we'll turn your Python code into powerful, production-ready applications. Let's dive into the enchanted world of Python apps! \u2728\n",
    "\n",
    "## \ud83d\udd2e The Magic Behind Python Apps\n",
    "\n",
    "Python Applications in Dataloop harness the power of our FaaS (Function as a Service) platform. Think of it as having a magical workshop where your Python code can create wonders! Want to see magic in action? Check out our [face detection app](https://github.com/dataloop-ai-apps/opencv-face-detection) - it's like giving your platform superhero vision! \ud83e\uddb8\u200d\u2642\ufe0f\n",
    "\n",
    "For a deep dive into the mystical arts of modules, services, and all things FaaS, venture into our [FaaS documentation](https://developers.dataloop.ai/tutorials/faas_applications/).\n",
    "\n",
    "## \ud83e\ude84 Pre-launch Spells (Build Scripts)\n",
    "\n",
    "Just like a wizard prepares their potions before casting a grand spell, your app might need some preparation before it launches. That's where pre-launch scripts come in!\n",
    "\n",
    "### \ud83d\udcdc The Basic Spell (Global Build Script)\n",
    "\n",
    "Add a `build.sh` to your app's root directory, and it will run its magic before your app starts. Here's a simple enchantment:\n",
    "\n",
    "<h5 a><strong><code>build.sh</code></strong></h5>\n",
    "\n"
   ]
  },
  {
   "cell_type": "markdown",
   "metadata": {},
   "source": [
    "```shell\n# Install your magical dependencies\npip3 install my-package==1.0.0\n```\n"
   ]
  },
  {
   "cell_type": "markdown",
   "metadata": {},
   "source": [
    "\n",
    "\n",
    "### \ud83c\udfaf Service-Specific Spells\n",
    "\n",
    "Need a special preparation spell for a specific service? No problem! Just name your script `{service.name}-build.sh`, and it will cast its magic only for that service.\n",
    "\n",
    "### \ud83e\uddd9\u200d\u2642\ufe0f Pre-launch Script Powers\n",
    "\n",
    "Your pre-launch scripts can:\n",
    "\n",
    "- \ud83d\udce6 Install additional Python packages\n",
    "- \ud83d\udd27 Configure environment settings\n",
    "- \ud83d\udcc1 Create necessary directories\n",
    "- \ud83d\udd11 Set up authentication\n",
    "- \ud83d\udee0\ufe0f Prepare resources\n",
    "\n",
    "## \ud83d\udcab Best Practices for Python Apps\n",
    "\n",
    "### \ud83d\udcda Code Organization\n",
    "\n",
    "- Keep your modules clean and focused\n",
    "- Use clear, descriptive function names\n",
    "- Document your magic (code) well\n",
    "- Follow Python best practices\n",
    "\n",
    "### \ud83c\udfd7\ufe0f Project Structure\n",
    "\n",
    "- Organize related functions in modules\n",
    "- Keep configuration in separate files\n",
    "- Use meaningful directory names\n",
    "- Include requirements.txt for dependencies\n",
    "\n",
    "### \ud83d\udd0d Testing\n",
    "\n",
    "- Write unit tests for your functions\n",
    "- Test your app in a development environment\n",
    "- Verify all dependencies are listed\n",
    "- Check for potential conflicts\n",
    "\n",
    "## \ud83d\ude80 Quick Start Template\n",
    "\n",
    "Here's a magical template to get you started:\n",
    "\n",
    "<h5 a><strong><code>main.py</code></strong></h5>\n",
    "\n"
   ]
  },
  {
   "cell_type": "code",
   "execution_count": 0,
   "metadata": {},
   "outputs": [],
   "source": [
    "import dtlpy as dl\n",
    "\n",
    "# Define your enchanted function\n",
    "\n",
    "class MyMagicalFunction(dl.BaseServiceRunner):\n",
    "    def my_magical_function(self, item: dl.Item):\n",
    "        \"\"\"\n",
    "        Your function's magical description\n",
    "        \"\"\"\n",
    "        return f\"\u2728 Magic happening in {item.name}! \u2728\"\n"
   ]
  },
  {
   "cell_type": "markdown",
   "metadata": {},
   "source": [
    "\n",
    "\n",
    "<h5 a><strong><code>dataloop.json</code></strong></h5>\n",
    "\n"
   ]
  },
  {
   "cell_type": "markdown",
   "metadata": {},
   "source": [
    "```json\n{\n  \"name\": \"my-magical-app\",\n  \"version\": \"1.0.0\",\n  \"description\": \"My first Dataloop function\",\n  \"components\": {\n    \"modules\": [\n      {\n        \"name\": \"my-magical-function\",\n        \"entryPoint\": \"main.py\",\n        \"className\": \"MyMagicalFunction\",\n        \"functions\": [\n          {\n            \"name\": \"my_magical_function\",\n            \"input\": [\n              {\n                \"name\": \"item\",\n                \"type\": \"Item\"\n              }\n            ]\n          }\n        ]\n      }\n    ],\n    \"services\": [\n      {\n        \"name\": \"my-magical-service\",\n        \"moduleName\": \"my-magical-function\",\n        \"runtime\": {\n          \"podType\": \"regular-m\",\n          \"concurrency\": 10,\n          \"runnerImage\": \"python:3.10\",\n          \"autoscaler\": {\n            \"type\": \"rabbitmq\",\n            \"minReplicas\": 0,\n            \"maxReplicas\": 2,\n            \"queueLength\": 100\n          }\n        }\n      }\n    ]\n  }\n}\n```\n"
   ]
  },
  {
   "cell_type": "markdown",
   "metadata": {},
   "source": [
    "\n",
    "\n",
    "Publish and install your app:\n",
    "\n"
   ]
  },
  {
   "cell_type": "code",
   "execution_count": 0,
   "metadata": {},
   "outputs": [],
   "source": [
    "import dtlpy as dl\n",
    "project = dl.projects.get(project_name=\"my-magical-app\")\n",
    "dpk = project.dpks.publish()\n",
    "project.apps.install(dpk=dpk)\n"
   ]
  },
  {
   "cell_type": "markdown",
   "metadata": {},
   "source": [
    "\n",
    "\n",
    "## \ud83c\udfae Testing Your Creation\n",
    "\n",
    "Before releasing your magical creation to the world:\n",
    "\n",
    "1. \ud83e\uddea Test locally using the SDK\n",
    "2. \ud83d\udd04 Verify all dependencies install correctly\n",
    "3. \ud83c\udfaf Check all services deploy properly\n",
    "4. \u26a1 Test performance under load\n",
    "5. \ud83d\udcdd Document any special requirements\n",
    "\n",
    "## \ud83c\udf93 Pro Tips\n",
    "\n",
    "- \ud83d\udd0d Use logging for better debugging\n",
    "- \ud83d\udee1\ufe0f Handle errors gracefully\n",
    "- \ud83d\udd04 Consider service scaling\n",
    "- \ud83d\udcbe Manage state carefully\n",
    "- \ud83d\udd12 Follow security best practices\n",
    "\n",
    "Ready to create some Python magic? Let's start coding! \ud83d\ude80\u2728\n",
    "\n",
    "Need more inspiration? Check out our [example apps](https://github.com/dataloop-ai-apps) or join our community of wizards!\n"
   ]
  }
 ],
 "metadata": {
  "kernelspec": {
   "display_name": "Python 3",
   "language": "python",
   "name": "python3"
  },
  "language_info": {
   "codemirror_mode": {
    "name": "ipython",
    "version": 3
   },
   "file_extension": ".py",
   "mimetype": "text/x-python",
   "name": "python",
   "nbconvert_exporter": "python",
   "pygments_lexer": "ipython3",
   "version": "3.7.7"
  }
 },
 "nbformat": 4,
 "nbformat_minor": 4
}