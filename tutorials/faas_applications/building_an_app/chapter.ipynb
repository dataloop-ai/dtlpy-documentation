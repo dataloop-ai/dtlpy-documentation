{
 "cells": [
  {
   "cell_type": "markdown",
   "metadata": {},
   "source": [
    "# \ud83d\udc4b Your First FaaS Application - Hello World!\n",
    "\n",
    "Welcome to the world of serverless functions in Dataloop! In this tutorial, you'll learn how to create, package, and run your first function. Think of FaaS as your personal automation toolkit - it lets you extend Dataloop's capabilities with your own custom code.\n",
    "\n",
    "# \ud83d\udce6 Creating Your First DPK (Dataloop Package)\n",
    "\n",
    "For the full code, see [this repository](https://github.com/dataloop-ai-apps/hello-world-python-app).\n",
    "\n",
    "## Step 1: Write Your Function\n",
    "\n",
    "Let's start with a simple function that processes items:\n",
    "\n"
   ]
  },
  {
   "cell_type": "code",
   "execution_count": 0,
   "metadata": {},
   "outputs": [],
   "source": [
    "import dtlpy as dl\n",
    "\n",
    "class HelloWorld(dl.BaseServiceRunner):\n",
    "    def hello_world(self, item: dl.Item):\n",
    "        \"\"\"\n",
    "        A simple function that prints and returns item details\n",
    "        :param item: dl.Item to process\n",
    "        :return: processed item\n",
    "        \"\"\"\n",
    "        print(f\"Processing item: {item.name}\")\n",
    "        print(f\"Item ID: {item.id}\")\n",
    "\n",
    "        # Add a simple metadata flag\n",
    "        if \"user\" not in item.metadata:\n",
    "            item.metadata[\"user\"] = {}\n",
    "        item.metadata[\"user\"][\"processed\"] = True\n",
    "        item.update()\n",
    "        return item\n"
   ]
  },
  {
   "cell_type": "markdown",
   "metadata": {},
   "source": [
    "\n",
    "\n",
    "Save this code in a file named `hello_world.py`.\n",
    "\n",
    "## Step 2: Create the DPK Manifest\n",
    "\n",
    "Create a file named `dataloop.json` with your package configuration:\n",
    "\n"
   ]
  },
  {
   "cell_type": "markdown",
   "metadata": {},
   "source": [
    "```json\n{\n  \"name\": \"hello-world\",\n  \"version\": \"1.0.0\",\n  \"description\": \"My first Dataloop function\",\n  \"components\": {\n    \"modules\": [\n      {\n        \"name\": \"hello-world\",\n        \"entryPoint\": \"hello_world.py\",\n        \"className\": \"HelloWorld\",\n        \"functions\": [\n          {\n            \"name\": \"hello_world\",\n            \"input\": [\n              {\n                \"name\": \"item\",\n                \"type\": \"Item\"\n              }\n            ],\n            \"output\": [\n              {\n                \"name\": \"item\",\n                \"type\": \"Item\"\n              }\n            ]\n          }\n        ]\n      }\n    ],\n    \"services\": [\n      {\n        \"name\": \"hello-world\",\n        \"moduleName\": \"hello-world\",\n        \"runtime\": {\n          \"podType\": \"regular-xs\",\n          \"concurrency\": 10,\n          \"runnerImage\": \"python:3.10\",\n          \"autoscaler\": {\n            \"type\": \"rabbitmq\",\n            \"minReplicas\": 0,\n            \"maxReplicas\": 2,\n            \"queueLength\": 100\n          }\n        }\n      }\n    ]\n  }\n}\n```\n"
   ]
  },
  {
   "cell_type": "markdown",
   "metadata": {},
   "source": [
    "\n",
    "\n",
    "# \ud83d\ude80 Deploying Your Function\n",
    "\n",
    "## Step 1: Initialize Dataloop\n",
    "\n",
    "First, make sure you're logged in:\n",
    "\n"
   ]
  },
  {
   "cell_type": "code",
   "execution_count": 0,
   "metadata": {},
   "outputs": [],
   "source": [
    "import dtlpy as dl\n",
    "if dl.token_expired():\n",
    "    dl.login()\n"
   ]
  },
  {
   "cell_type": "markdown",
   "metadata": {},
   "source": [
    "\n",
    "\n",
    "## Step 2: Get Your Project\n",
    "\n"
   ]
  },
  {
   "cell_type": "code",
   "execution_count": 0,
   "metadata": {},
   "outputs": [],
   "source": [
    "project = dl.projects.get(project_name='your-project-name')\n"
   ]
  },
  {
   "cell_type": "markdown",
   "metadata": {},
   "source": [
    "\n",
    "\n",
    "## Step 3: Publish and Install\n",
    "\n"
   ]
  },
  {
   "cell_type": "code",
   "execution_count": 0,
   "metadata": {},
   "outputs": [],
   "source": [
    "# Publish your DPK\n",
    "dpk = project.dpks.publish()\n",
    "\n",
    "# Install or update the application\n",
    "try:\n",
    "    app = project.apps.get(app_name=dpk.display_name)\n",
    "    app.dpk_version = dpk.version\n",
    "    app.update()\n",
    "except dl.exceptions.NotFound:\n",
    "    print(\"installing ...\")\n",
    "    app = project.apps.install(dpk=dpk)\n",
    "\n",
    "# Get the service\n",
    "service = project.services.get('hello-world')\n"
   ]
  },
  {
   "cell_type": "markdown",
   "metadata": {},
   "source": [
    "\n",
    "\n",
    "# \ud83c\udfaf Running Your Function\n",
    "\n",
    "## Manual Execution\n",
    "\n",
    "Try your function on a specific item:\n",
    "\n"
   ]
  },
  {
   "cell_type": "code",
   "execution_count": 0,
   "metadata": {},
   "outputs": [],
   "source": [
    "# Get an item to process\n",
    "dataset = project.datasets.get('your-dataset-name')\n",
    "item = dataset.items.get(filepath='/path/to/item.jpg')\n",
    "\n",
    "# Execute the function\n",
    "execution = service.execute(\n",
    "    function_name='hello_world',\n",
    "    item_id=item.id,\n",
    "    project_id=project.id\n",
    ")\n",
    "\n",
    "# Wait for completion and get results\n",
    "execution = execution.wait()\n",
    "if execution.latest_status[\"status\"] == \"success\":\n",
    "    processed_item = execution.output\n",
    "    print(f\"Successfully processed item: {processed_item}\")\n",
    "else:\n",
    "    print(f\"Execution failed: {execution.latest_status['message']}\")\n",
    "\n",
    "# Get the updated item\n",
    "item = dataset.items.get(item_id=item.id)\n",
    "print(f\"Updated item's metadata: {item.metadata.get('user')}\")\n"
   ]
  },
  {
   "cell_type": "markdown",
   "metadata": {},
   "source": [
    "\n",
    "\n",
    "## Add a Trigger (Optional)\n",
    "\n",
    "Want your function to run automatically on new items? Add this to your `dataloop.json`:\n",
    "\n"
   ]
  },
  {
   "cell_type": "markdown",
   "metadata": {},
   "source": [
    "```json\n{\n  \"components\": {\n    \"triggers\": [\n      {\n        \"name\": \"process-new-items\",\n        \"active\": true,\n        \"type\": \"Event\",\n        \"namespace\": \"services.hello-world\",\n        \"spec\": {\n          \"filter\": {\n            \"metadata.system.mimetype\": \"image/*\"\n          },\n          \"resource\": \"Item\",\n          \"actions\": [\"Created\"],\n          \"executionMode\": \"Once\",\n          \"operation\": {\n            \"type\": \"function\",\n            \"functionName\": \"hello_world\"\n          }\n        }\n      }\n    ]\n  }\n}\n```\n"
   ]
  },
  {
   "cell_type": "markdown",
   "metadata": {},
   "source": [
    "\n",
    "\n",
    "# \ud83d\udca1 Pro Tips\n",
    "\n",
    "## Best Practices\n",
    "\n",
    "- Keep your functions focused and single-purpose\n",
    "- Use meaningful names for your DPK and functions\n",
    "- Always handle errors gracefully\n",
    "- Test locally before deploying\n",
    "\n",
    "## Debugging\n",
    "\n",
    "- Use print statements for basic debugging\n",
    "- Check service logs for issues:\n",
    "\n"
   ]
  },
  {
   "cell_type": "code",
   "execution_count": 0,
   "metadata": {},
   "outputs": [],
   "source": [
    "logs = service.logs(follow=True)\n",
    "print(logs)\n"
   ]
  },
  {
   "cell_type": "markdown",
   "metadata": {},
   "source": [
    "\n",
    "\n",
    "## Service Management\n",
    "\n"
   ]
  },
  {
   "cell_type": "code",
   "execution_count": 0,
   "metadata": {},
   "outputs": [],
   "source": [
    "# Pause service when not needed\n",
    "service.pause()\n",
    "\n",
    "# Resume when ready to process\n",
    "service.resume()\n",
    "\n",
    "# Update configuration if needed\n",
    "service.update(\n",
    "    runtime=dl.KubernetesRuntime(\n",
    "        pod_type=dl.InstanceCatalog.REGULAR_M,\n",
    "        concurrency=20\n",
    "    )\n",
    ")\n"
   ]
  },
  {
   "cell_type": "markdown",
   "metadata": {},
   "source": [
    "\n",
    "\n",
    "# \ud83d\udd0d What's Next?\n",
    "\n",
    "Now that you've created your first function, you can:\n",
    "\n",
    "- Add more complex processing logic\n",
    "- Implement different types of triggers\n",
    "- Create functions that work with datasets\n",
    "- Build multi-function applications\n",
    "\n",
    "Need help? Check out our other tutorials or reach out to our support team. Happy coding! \ud83d\ude80\u2728\n"
   ]
  }
 ],
 "metadata": {
  "kernelspec": {
   "display_name": "Python 3",
   "language": "python",
   "name": "python3"
  },
  "language_info": {
   "codemirror_mode": {
    "name": "ipython",
    "version": 3
   },
   "file_extension": ".py",
   "mimetype": "text/x-python",
   "name": "python",
   "nbconvert_exporter": "python",
   "pygments_lexer": "ipython3",
   "version": "3.7.7"
  }
 },
 "nbformat": 4,
 "nbformat_minor": 4
}