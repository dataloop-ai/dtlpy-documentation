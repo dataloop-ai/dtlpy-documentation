{
 "cells": [
  {
   "cell_type": "markdown",
   "metadata": {},
   "source": [
    "# \ud83c\udfa8 UI Toolbars - Customize Your Dataloop Experience\n",
    "\n",
    "Welcome to UI Toolbars! Learn how to add custom buttons and functionality throughout the Dataloop platform. Whether you want to trigger functions or open panels, toolbars make it possible!\n",
    "\n",
    "## \ud83c\udfaf When to Use Toolbars\n",
    "\n",
    "Toolbars are perfect when you need to:\n",
    "\n",
    "- Execute functions from buttons in the platform\n",
    "- Open custom panels (UI Applications) from platform locations\n",
    "- Add context-specific actions to datasets, tasks, or items\n",
    "\n",
    "## \ud83d\udccd Available Toolbar Locations\n",
    "\n",
    "1. **`datasetsDashboard`** \ud83d\udcca\n",
    "\n",
    "   - Available in Datasets and Project Overview pages\n",
    "   - Perfect for dataset-wide operations\n",
    "\n",
    "2. **`datasetBrowser`** \ud83d\uddc2\ufe0f\n",
    "\n",
    "   - For operations in the dataset browser interface\n",
    "   - _Note: Limited availability for regular users_\n",
    "\n",
    "3. **`datasetMenu`** \ud83d\udcc1\n",
    "\n",
    "   - Located in the dataset menu\n",
    "   - Available in both Datasets and Project Overview pages\n",
    "\n",
    "4. **`taskMenu`** \u2705\n",
    "\n",
    "   - Found in the task menu on the Tasks page\n",
    "   - Ideal for task management operations\n",
    "\n",
    "5. **`itemMenu`** \ud83d\udcc4\n",
    "\n",
    "   - Available in the right-click item menu\n",
    "   - Perfect for item-specific operations\n",
    "\n",
    "6. **`projectActions`** \ud83c\udfd7\ufe0f\n",
    "   - Located in the Project Actions menu\n",
    "   - For project-level operations\n",
    "\n",
    "## \ud83d\udee0\ufe0f Toolbar Structure\n",
    "\n",
    "### Basic Components\n",
    "\n",
    "Every toolbar needs these key components:\n",
    "\n"
   ]
  },
  {
   "cell_type": "markdown",
   "metadata": {},
   "source": [
    "```json\n{\n  \"components\": {\n    \"toolbars\": [\n      {\n        \"displayName\": \"My Action\", // Button text\n        \"icon\": \"icon-dl-add\", // Button icon\n        \"location\": \"datasetsDashboard\", // Where it appears\n        \"invoke\": {\n          \"type\": \"function\", // or \"panel\"\n          \"namespace\": \"module.function\" // What to execute\n        }\n      }\n    ]\n  }\n}\n```\n"
   ]
  },
  {
   "cell_type": "markdown",
   "metadata": {},
   "source": [
    "\n",
    "\n",
    "### Complete Structure\n",
    "\n",
    "Full configuration options:\n",
    "\n"
   ]
  },
  {
   "cell_type": "markdown",
   "metadata": {},
   "source": [
    "```json\n{\n  \"components\": {\n    \"toolbars\": [\n      {\n        \"displayName\": \"Process Dataset\",\n        \"icon\": \"icon-dl-play\",\n        \"location\": \"datasetMenu\",\n        \"invoke\": {\n          \"type\": \"function\",\n          \"namespace\": \"processing.start_process\",\n          \"inputOptions\": {\n            \"mode\": \"batch\",\n            \"threshold\": 0.5\n          }\n        },\n        \"conditions\": {\n          \"resources\": [\n            {\n              \"entityType\": \"dataset\",\n              \"filter\": {\n                \"metadata.system.size\": { \"$gt\": 0 }\n              }\n            }\n          ]\n        }\n      }\n    ]\n  }\n}\n```\n"
   ]
  },
  {
   "cell_type": "markdown",
   "metadata": {},
   "source": [
    "\n",
    "\n",
    "## \ud83d\udcdd Practical Examples\n",
    "\n",
    "### 1. Function Button in Dataset Dashboard\n",
    "\n",
    "Create a button to trigger a processing function:\n",
    "\n"
   ]
  },
  {
   "cell_type": "markdown",
   "metadata": {},
   "source": [
    "```json\n{\n  \"components\": {\n    \"toolbars\": [\n      {\n        \"displayName\": \"Convert to Grayscale\",\n        \"icon\": \"icon-dl-image\",\n        \"location\": \"datasetsDashboard\",\n        \"invoke\": {\n          \"type\": \"function\",\n          \"namespace\": \"image_processing.rgb2gray\"\n        }\n      }\n    ]\n  }\n}\n```\n"
   ]
  },
  {
   "cell_type": "markdown",
   "metadata": {},
   "source": [
    "\n",
    "\n",
    "### 2. Panel in Project Actions\n",
    "\n",
    "Open a custom UI panel:\n",
    "\n"
   ]
  },
  {
   "cell_type": "markdown",
   "metadata": {},
   "source": [
    "```json\n{\n  \"components\": {\n    \"toolbars\": [\n      {\n        \"displayName\": \"Analytics Dashboard\",\n        \"icon\": \"icon-dl-dashboard\",\n        \"location\": \"projectActions\",\n        \"invoke\": {\n          \"type\": \"panel\",\n          \"namespace\": \"analyticsPanel\"\n        }\n      }\n    ]\n  }\n}\n```\n"
   ]
  },
  {
   "cell_type": "markdown",
   "metadata": {},
   "source": [
    "\n",
    "\n",
    "## \ud83d\udca1 Pro Tips & Best Practices\n",
    "\n",
    "### UI/UX Design\n",
    "\n",
    "- Use clear, action-oriented button names\n",
    "- Choose intuitive icons from our [icon library](https://dataloop-ai.github.io/icons/)\n",
    "- Group related actions in logical locations\n",
    "- Consider the user's workflow when choosing button placement\n",
    "\n",
    "### Conditions & Filters\n",
    "\n",
    "- Use conditions to show/hide buttons based on context\n",
    "- Filter by entity type and metadata\n",
    "- Consider user permissions in your filters\n",
    "- Test filters with various data scenarios\n",
    "\n",
    "### Performance\n",
    "\n",
    "- Keep function executions quick and responsive\n",
    "- Show progress for long-running operations\n",
    "- Consider caching for frequently used panel data\n",
    "- Test with various network conditions\n",
    "\n",
    "### Maintenance\n",
    "\n",
    "- Document toolbar configurations\n",
    "- Monitor usage patterns\n",
    "- Update based on user feedback\n",
    "- Regular testing across different locations\n",
    "\n",
    "Need help? Check out our [icon library](https://dataloop-ai.github.io/icons/) for button icons, or reach out to our support team. Happy customizing! \u2728\n"
   ]
  }
 ],
 "metadata": {
  "kernelspec": {
   "display_name": "Python 3",
   "language": "python",
   "name": "python3"
  },
  "language_info": {
   "codemirror_mode": {
    "name": "ipython",
    "version": 3
   },
   "file_extension": ".py",
   "mimetype": "text/x-python",
   "name": "python",
   "nbconvert_exporter": "python",
   "pygments_lexer": "ipython3",
   "version": "3.7.7"
  }
 },
 "nbformat": 4,
 "nbformat_minor": 4
}