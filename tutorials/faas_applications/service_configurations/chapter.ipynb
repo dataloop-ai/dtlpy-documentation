{
 "cells": [
  {
   "cell_type": "markdown",
   "metadata": {},
   "source": [
    "# \u2699\ufe0f Service Configurations - Mastering FaaS Settings\n",
    "\n",
    "Welcome to the world of FaaS service configurations! Think of service configurations as the control panel for your serverless functions. Let's explore how to fine-tune your services for optimal performance!\n",
    "\n",
    "## \ud83c\udfaf Managing Service Configurations\n",
    "\n",
    "You can configure your services in two ways: through the DPK manifest file or directly on the deployed service.\n",
    "\n",
    "### DPK Manifest Configuration\n",
    "\n",
    "Define your service settings in the `dataloop.json` manifest:\n",
    "\n"
   ]
  },
  {
   "cell_type": "markdown",
   "metadata": {},
   "source": [
    "```json\n{\n  \"name\": \"my-package\",\n  \"components\": {\n    \"services\": [\n      {\n        \"name\": \"my-service\",\n        \"runtime\": {\n          \"podType\": \"regular-s\",\n          \"concurrency\": 10,\n          \"runnerImage\": \"python:3.9\",\n          \"autoscaler\": {\n            \"minReplicas\": 0,\n            \"maxReplicas\": 5,\n            \"queueLength\": 10,\n            \"cooldownPeriod\": 300\n          }\n        },\n        \"executionTimeout\": 3600,\n        \"initParams\": {\n          \"model_name\": \"resnet50\"\n        }\n      }\n    ]\n  }\n}\n```\n"
   ]
  },
  {
   "cell_type": "markdown",
   "metadata": {},
   "source": [
    "\n",
    "\n",
    "### Direct Service Updates\n",
    "\n",
    "Modify configurations of deployed services:\n",
    "\n"
   ]
  },
  {
   "cell_type": "code",
   "execution_count": 0,
   "metadata": {},
   "outputs": [],
   "source": [
    "# Get an existing service\n",
    "project = dl.projects.get('project-name')\n",
    "service = project.services.get('service-name')\n",
    "\n",
    "# Update runtime configuration\n",
    "service.runtime.concurrency = 5\n",
    "service.runtime.pod_type = dl.InstanceCatalog.REGULAR_M\n",
    "service.update()\n",
    "\n",
    "# Update autoscaler settings\n",
    "service.runtime.autoscaler.min_replicas = 1\n",
    "service.runtime.autoscaler.max_replicas = 10\n",
    "service.runtime.autoscaler.queue_length = 20\n",
    "service.update()\n",
    "\n",
    "# Update execution timeout\n",
    "service.execution_timeout = 7200  # 2 hours\n",
    "service.update()\n",
    "\n",
    "# Update service state\n",
    "service.pause()  # Pause the service\n",
    "service.resume()  # Resume the service\n"
   ]
  },
  {
   "cell_type": "markdown",
   "metadata": {},
   "source": [
    "\n",
    "\n",
    "## \ud83d\udd27 Advanced Runtime Settings\n",
    "\n",
    "### Custom Resource Allocation\n",
    "\n",
    "Need more power? Configure your compute resources:\n",
    "\n"
   ]
  },
  {
   "cell_type": "code",
   "execution_count": 0,
   "metadata": {},
   "outputs": [],
   "source": [
    "service = dl.services.get('service-name')\n",
    "service.runtime = dl.KubernetesRuntime(\n",
    "        pod_type=dl.InstanceCatalog.HIGHMEM_L,\n",
    "        concurrency=4,\n",
    "        runner_image='python:3.9',\n",
    "        autoscaler=dl.KubernetesRabbitmqAutoscaler(\n",
    "            min_replicas=1,\n",
    "            max_replicas=10,\n",
    "            queue_length=20\n",
    "        )\n",
    "    )\n",
    "service.update()\n"
   ]
  },
  {
   "cell_type": "markdown",
   "metadata": {},
   "source": [
    "\n",
    "\n",
    "### Instance Types\n",
    "\n",
    "Choose the right compute power for your needs:\n",
    "\n"
   ]
  },
  {
   "cell_type": "code",
   "execution_count": 0,
   "metadata": {},
   "outputs": [],
   "source": [
    "# list all instance types\n",
    "[e.value for e in dl.InstanceCatalog]\n",
    ">> ['regular-xs',\n",
    " 'regular-s',\n",
    " 'regular-m',\n",
    " 'regular-l',\n",
    " 'highmem-xs',\n",
    " 'highmem-s',\n",
    " 'highmem-m',\n",
    " 'highmem-l',\n",
    " 'gpu-k80-s',\n",
    " 'gpu-k80-m',\n",
    " 'gpu-t4',\n",
    " 'gpu-t4-m']\n"
   ]
  },
  {
   "cell_type": "markdown",
   "metadata": {},
   "source": [
    "\n",
    "\n",
    "## \ud83d\udcc8 Autoscaling Configuration\n",
    "\n",
    "### Basic Autoscaler\n",
    "\n",
    "Set up automatic scaling based on queue length:\n",
    "\n"
   ]
  },
  {
   "cell_type": "code",
   "execution_count": 0,
   "metadata": {},
   "outputs": [],
   "source": [
    "autoscaler = dl.KubernetesRabbitmqAutoscaler(\n",
    "    min_replicas=0,\n",
    "    max_replicas=5,\n",
    "    queue_length=10,\n",
    "    cooldown_period=300,\n",
    "    polling_interval=10\n",
    ")\n",
    "\n",
    "service = project.services.get('auto-scaling-service')\n",
    "service.runtime = dl.KubernetesRuntime(\n",
    "        pod_type=dl.InstanceCatalog.REGULAR_M,\n",
    "        concurrency=2,\n",
    "        autoscaler=autoscaler\n",
    "    )\n",
    "service.update()\n"
   ]
  },
  {
   "cell_type": "markdown",
   "metadata": {},
   "source": [
    "\n",
    "\n",
    "### Advanced Autoscaling Strategies\n",
    "\n",
    "Fine-tune your autoscaling behavior:\n",
    "\n"
   ]
  },
  {
   "cell_type": "code",
   "execution_count": 0,
   "metadata": {},
   "outputs": [],
   "source": [
    "# Aggressive scaling for burst workloads\n",
    "burst_autoscaler = dl.KubernetesRabbitmqAutoscaler(\n",
    "    min_replicas=1,\n",
    "    max_replicas=20,\n",
    "    queue_length=5,  # Scale up quickly\n",
    "    cooldown_period=60,  # Scale down quickly\n",
    "    polling_interval=5\n",
    ")\n",
    "\n",
    "# Cost-optimized scaling\n",
    "efficient_autoscaler = dl.KubernetesRabbitmqAutoscaler(\n",
    "    min_replicas=0,\n",
    "    max_replicas=3,\n",
    "    queue_length=15,  # More tolerance for queuing\n",
    "    cooldown_period=600,  # Longer cooldown to prevent thrashing\n",
    "    polling_interval=30\n",
    ")\n"
   ]
  },
  {
   "cell_type": "markdown",
   "metadata": {},
   "source": [
    "\n",
    "\n",
    "## \ud83d\udd10 Security and Environment\n",
    "\n",
    "### Working with Secrets\n",
    "\n",
    "To add integrations and secrets to your organization, check out [this guide](https://developers.dataloop.ai/tutorials/data_management/integrations_and_secrets/chapter#creating-key-value-secrets-).\n",
    "\n",
    "Integrations can be added to the manifest or to the service directly.\n",
    "\n",
    "In the manifest:\n",
    "\n"
   ]
  },
  {
   "cell_type": "markdown",
   "metadata": {},
   "source": [
    "```json\n\"components\": {\n    \"modules\": [\n        // map a module to an integration in the DPK\n        {\"integrations\": [\"api_key\"]}\n    ],\n    \"integrations\": [\n        // add an integration to the DPK\n        {\n            \"env\": \"API_KEY\", // the environment variable name inside the FaaS function\n            \"key\": \"api_key\", // the key name of the integration in the DPK\n            \"value\": \"integration-id\", // the integration/secret id\n            \"type\": \"key_value\", // the type of the integration\n            \"description\": \"API key for OpenAI platform\", // the description of the integration\n        }\n    ]\n}\n```\n"
   ]
  },
  {
   "cell_type": "markdown",
   "metadata": {},
   "source": [
    "\n",
    "\n",
    "Securely manage sensitive information:\n",
    "\n"
   ]
  },
  {
   "cell_type": "code",
   "execution_count": 0,
   "metadata": {},
   "outputs": [],
   "source": [
    "# Deploy service with secrets\n",
    "service = project.services.get('secure-service')\n",
    "service.integrations = [{\n",
    "        \"env\": \"API_KEY\",\n",
    "        \"value\": \"integration-id\",\n",
    "        \"type\": \"key_value\",\n",
    "        \"description\": \"API key for OpenAI platform\",\n",
    "    },\n",
    "    {\n",
    "        \"env\": \"DB_PASSWORD\",\n",
    "        \"value\": \"integration-id\",\n",
    "        \"type\": \"key_value\",\n",
    "        \"description\": \"API key for OpenAI platform\",\n",
    "    }\n",
    "]\n",
    "service.update()\n",
    "\n",
    "# Access secrets in your function\n",
    "def secure_function(item: dl.Item):\n",
    "    import os\n",
    "    api_key = os.environ['API_KEY']\n",
    "    db_password = os.environ['DB_PASSWORD']\n",
    "    # Your secure code here\n"
   ]
  },
  {
   "cell_type": "markdown",
   "metadata": {},
   "source": [
    "\n",
    "\n",
    "## \ud83d\udcca Monitoring and Logging\n",
    "\n",
    "### Progress Tracking\n",
    "\n",
    "Monitor function execution progress:\n",
    "\n"
   ]
  },
  {
   "cell_type": "code",
   "execution_count": 0,
   "metadata": {},
   "outputs": [],
   "source": [
    "def process_item(item: dl.Item, progress: dl.Progress):\n",
    "    # Initial status\n",
    "    progress.update(status='started', progress=0)\n",
    "\n",
    "    # Update progress during execution\n",
    "    progress.update(\n",
    "        status='processing',\n",
    "        progress=50,\n",
    "        message='Halfway there!'\n",
    "    )\n",
    "\n",
    "    # Final update\n",
    "    progress.update(\n",
    "        status='completed',\n",
    "        progress=100,\n",
    "        message='Successfully processed item'\n",
    "    )\n"
   ]
  },
  {
   "cell_type": "markdown",
   "metadata": {},
   "source": [
    "\n",
    "\n",
    "### Context Management\n",
    "\n",
    "Access execution context for better monitoring:\n",
    "\n"
   ]
  },
  {
   "cell_type": "code",
   "execution_count": 0,
   "metadata": {},
   "outputs": [],
   "source": [
    "def advanced_function(item: dl.Item, context: dl.Context):\n",
    "    # Get execution details\n",
    "    execution_id = context.execution_id\n",
    "    service_id = context.service_id\n",
    "\n",
    "    # Use context logger\n",
    "    context.logger.info(f'Processing item: {item.id}')\n",
    "    context.logger.debug('Detailed debug information')\n",
    "\n",
    "    # Add custom metrics\n",
    "    context.add_metric('processing_time', 1.23)\n",
    "    context.add_metric('confidence_score', 0.95)\n"
   ]
  },
  {
   "cell_type": "markdown",
   "metadata": {},
   "source": [
    "\n",
    "\n",
    "Context will also provide more information about the execution, such as the trigger id, task id, and more (when relevant).\n",
    "\n"
   ]
  },
  {
   "cell_type": "code",
   "execution_count": 0,
   "metadata": {},
   "outputs": [],
   "source": [
    "# Get the trigger id\n",
    "trigger_id = context.trigger_id\n",
    "\n",
    "# Get the task id\n",
    "task_id = context.task_id\n"
   ]
  },
  {
   "cell_type": "markdown",
   "metadata": {},
   "source": [
    "\n",
    "\n",
    "## \ud83d\udca1 Pro Tips & Best Practices\n",
    "\n",
    "### Resource Optimization\n",
    "\n",
    "- Start with smaller instance types and scale up as needed\n",
    "- Use autoscaling to handle variable workloads\n",
    "- Monitor resource usage to optimize configurations\n",
    "\n",
    "### Performance Tuning\n",
    "\n",
    "- Adjust concurrency based on function resource usage\n",
    "- Set appropriate timeouts for your workload\n",
    "- Use efficient instance types for your specific needs\n",
    "\n",
    "### Security Best Practices\n",
    "\n",
    "- Always use secrets for sensitive information\n",
    "- Implement proper error handling\n",
    "- Regular audit of service configurations\n",
    "\n",
    "### Monitoring Guidelines\n",
    "\n",
    "- Implement comprehensive logging\n",
    "- Use progress updates for long-running functions\n",
    "- Monitor autoscaling behavior\n",
    "\n",
    "Need help? Check out our other tutorials or reach out to our support team. Happy configuring! \u26a1\ufe0f\n"
   ]
  }
 ],
 "metadata": {
  "kernelspec": {
   "display_name": "Python 3",
   "language": "python",
   "name": "python3"
  },
  "language_info": {
   "codemirror_mode": {
    "name": "ipython",
    "version": 3
   },
   "file_extension": ".py",
   "mimetype": "text/x-python",
   "name": "python",
   "nbconvert_exporter": "python",
   "pygments_lexer": "ipython3",
   "version": "3.7.7"
  }
 },
 "nbformat": 4,
 "nbformat_minor": 4
}