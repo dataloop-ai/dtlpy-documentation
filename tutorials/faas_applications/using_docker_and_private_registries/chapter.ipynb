{
 "cells": [
  {
   "cell_type": "markdown",
   "metadata": {},
   "source": [
    "# Using Customer Docker and Code Registries\n",
    "## \ud83d\udc33 Custom Docker Environments\n",
    "\n",
    "### Using Custom Docker Images\n",
    "You can use any Docker image to run your FaaS application. Here's how:\n",
    "\n",
    "Set the image in the manifest:\n",
    "\n"
   ]
  },
  {
   "cell_type": "markdown",
   "metadata": {},
   "source": [
    "```json\n\"components\": {\n    \"services\": [\n        {\n            \"name\": \"my-service\",\n            \"runtime\": {\n                \"runner_image\": \"docker.io/python:3.8\"\n            }\n        }\n    ]\n}\n```\n"
   ]
  },
  {
   "cell_type": "code",
   "execution_count": 0,
   "metadata": {},
   "outputs": [],
   "source": [
    "# Deploy with a custom Docker image\n",
    "service = project.services.get('my-service')  \n",
    "service.runtime.runner_image = 'docker.io/python:3.8'\n",
    "service.update()\n"
   ]
  },
  {
   "cell_type": "markdown",
   "metadata": {},
   "source": [
    "\n",
    "\n",
    "### Dataloop's Public Images\n",
    "We maintain public Docker images with different configurations:\n",
    "\n"
   ]
  },
  {
   "cell_type": "code",
   "execution_count": 0,
   "metadata": {},
   "outputs": [],
   "source": [
    "# Use Dataloop's GPU-enabled image with CUDA 11.5 and Python 3.8\n",
    "service.runtime.runner_image = 'dockerhub.io/dataloopai/dtlpy-agent:latest.gpu.cuda11.5.py3.8.opencv'\n",
    "service.update()\n"
   ]
  },
  {
   "cell_type": "markdown",
   "metadata": {},
   "source": [
    "\n",
    "\n",
    "Our images are available on [Dockerhub](https://hub.docker.com/repository/registry-1.docker.io/dataloopai/dtlpy-agent/tags).\n",
    "\n",
    "### Building Custom Images\n",
    "Need a specialized environment? Create your own Docker image:\n",
    "\n"
   ]
  },
  {
   "cell_type": "markdown",
   "metadata": {},
   "source": [
    "```dockerfile\nFROM dockerhub.io/dataloopai/dtlpy-agent:latest.gpu.cuda11.5.py3.8.opencv\n\n# Add system dependencies\nRUN apt update && apt install -y zip ffmpeg\n\n# Switch to non-root user\nUSER 1000\nENV HOME=/tmp\n\n# Install Python packages\nRUN pip3 install --user \\\n    dtlpy==1.54.10 \\\n    dtlpy-agent==1.54.10 \\\n    torch \\\n    torchvision \\\n    imgaug \\\n    scikit-image==0.17.2\n```\n"
   ]
  },
  {
   "cell_type": "markdown",
   "metadata": {},
   "source": [
    "\n",
    "\n",
    "### Private Docker Registry\n",
    "Need to use images from a private registry? Here's how to set it up:\n",
    "\n"
   ]
  },
  {
   "cell_type": "code",
   "execution_count": 0,
   "metadata": {},
   "outputs": [],
   "source": [
    "import base64\n",
    "import json\n",
    "\n",
    "# Set up registry credentials\n",
    "username = '<docker hub username>'\n",
    "password = '<docker hub password>'\n",
    "email = '<email>'\n",
    "\n",
    "# Create auth token\n",
    "auth = base64.b64encode(f\"{username}:{password}\".encode('ascii')).decode('ascii')\n",
    "\n",
    "# Create credentials payload\n",
    "cred_payload = {\n",
    "    \"auths\": {\n",
    "        \"docker.io\": {\n",
    "            \"username\": username,\n",
    "            \"password\": password,\n",
    "            \"email\": email,\n",
    "            \"auth\": auth\n",
    "        }\n",
    "    }\n",
    "}\n",
    "\n",
    "# Encode credentials\n",
    "encoded_cred = base64.b64encode(json.dumps(cred_payload).encode()).decode()\n",
    "\n",
    "# Create organization integration\n",
    "org = dl.organizations.get(organization_id=context.project.org['id'])\n",
    "options = org.integrations.generate_docker_hub_options(\n",
    "    username='',\n",
    "    password=''\n",
    ")\n",
    "integration = org.integrations.create(\n",
    "    integrations_type=dl.IntegrationType.PRIVATE_REGISTRY,\n",
    "    name='dockerhub',\n",
    "    metadata={\"provider\": \"Dockerhub\"},\n",
    "    options=options\n",
    ")\n",
    "\n",
    "# Now use your private image\n",
    "service = package.deploy(\n",
    "    service_name='private-service',\n",
    "    runtime=dl.KubernetesRuntime(\n",
    "        runner_image='private-registry.com/my-image:tag'\n",
    "    )\n",
    ")\n"
   ]
  },
  {
   "cell_type": "markdown",
   "metadata": {},
   "source": [
    "\n",
    "\n",
    "## \ud83d\udd17 Private Git Integration\n",
    "\n",
    "### Setting Up Git Credentials\n",
    "Configure authentication for private repositories:\n",
    "\n"
   ]
  },
  {
   "cell_type": "code",
   "execution_count": 0,
   "metadata": {},
   "outputs": [],
   "source": [
    "# Create username and password integrations\n",
    "project = dl.projects.get(project_id='project_id')\n",
    "\n",
    "username_integration = project.integrations.create(\n",
    "    integrations_type=dl.IntegrationType.KEY_VALUE,\n",
    "    name='github-username',\n",
    "    options={\n",
    "        \"key\": \"username\",\n",
    "        \"value\": \"<github_username>\"\n",
    "    }\n",
    ")\n",
    "\n",
    "password_integration = project.integrations.create(\n",
    "    integrations_type=dl.IntegrationType.KEY_VALUE,\n",
    "    name='github-token',\n",
    "    options={\n",
    "        \"key\": \"password\",\n",
    "        \"value\": \"<github_personal_access_token>\"\n",
    "    }\n",
    ")\n"
   ]
  },
  {
   "cell_type": "markdown",
   "metadata": {},
   "source": [
    "\n",
    "\n",
    "### Configuring Git in DPK Manifest\n",
    "Add Git configuration to your `dataloop.json`:\n",
    "\n"
   ]
  },
  {
   "cell_type": "markdown",
   "metadata": {},
   "source": [
    "```json\n{\n  \"name\": \"private-git-dpk\",\n  \"scope\": \"project\",\n  \"codebase\": {\n    \"type\": \"git\",\n    \"gitUrl\": \"https://github.com/your-org/your-repo.git\",\n    \"gitTag\": \"main\",\n    \"credentials\": {\n      \"username\": {\n        \"key\": \"username\",\n        \"id\": \"<username integration id>\"\n      },\n      \"password\": {\n        \"key\": \"password\",\n        \"id\": \"<password integration id>\"\n      }\n    }\n  },\n  \"components\": {\n    \"services\": [\n      {\n        \"name\": \"my-service\",\n        \"runtime\": {\n          \"podType\": \"regular-s\",\n          \"concurrency\": 10\n        }\n      }\n    ]\n  }\n}\n```\n"
   ]
  },
  {
   "cell_type": "markdown",
   "metadata": {},
   "source": [
    "\n",
    "\n",
    "### Publishing with Git Integration\n",
    "Deploy your service from the Git repository:\n",
    "\n"
   ]
  },
  {
   "cell_type": "code",
   "execution_count": 0,
   "metadata": {},
   "outputs": [],
   "source": [
    "# Publish the DPK with Git integration\n",
    "dpk = project.dpks.publish()\n",
    "\n",
    "# Deploy specific service\n",
    "service = dpk.services.deploy('my-service')\n"
   ]
  }
 ],
 "metadata": {
  "kernelspec": {
   "display_name": "Python 3",
   "language": "python",
   "name": "python3"
  },
  "language_info": {
   "codemirror_mode": {
    "name": "ipython",
    "version": 3
   },
   "file_extension": ".py",
   "mimetype": "text/x-python",
   "name": "python",
   "nbconvert_exporter": "python",
   "pygments_lexer": "ipython3",
   "version": "3.7.7"
  }
 },
 "nbformat": 4,
 "nbformat_minor": 4
}