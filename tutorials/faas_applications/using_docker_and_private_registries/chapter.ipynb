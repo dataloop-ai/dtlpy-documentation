{
 "cells": [
  {
   "cell_type": "markdown",
   "metadata": {},
   "source": [
    "# Using Customer Docker and Code Registries\n",
    "\n",
    "## \ud83d\udc33 Custom Docker Environments\n",
    "\n",
    "### Using Custom Docker Images\n",
    "You can use any Docker image to run your FaaS application. Here's how:\n",
    "\n",
    "Set the image in the manifest:\n",
    "\n"
   ]
  },
  {
   "cell_type": "markdown",
   "metadata": {},
   "source": [
    "```json\n\"components\": {\n    \"services\": [\n        {\n            \"name\": \"my-service\",\n            \"runtime\": {\n                \"runner_image\": \"docker.io/python:3.8\"\n            }\n        }\n    ]\n}\n```\n"
   ]
  },
  {
   "cell_type": "code",
   "execution_count": 0,
   "metadata": {},
   "outputs": [],
   "source": [
    "# Deploy with a custom Docker image\n",
    "service = project.services.get('my-service')  \n",
    "service.runtime.runner_image = 'docker.io/python:3.8'\n",
    "service.update()\n"
   ]
  },
  {
   "cell_type": "markdown",
   "metadata": {},
   "source": [
    "\n",
    "\n",
    "### Dataloop's Public Images\n",
    "\n",
    "We maintain public Docker images with different configurations:\n",
    "\n"
   ]
  },
  {
   "cell_type": "code",
   "execution_count": 0,
   "metadata": {},
   "outputs": [],
   "source": [
    "# Use Dataloop's GPU-enabled image with CUDA 11.5 and Python 3.8\n",
    "service.runtime.runner_image = 'dockerhub.io/dataloopai/dtlpy-agent:latest.gpu.cuda11.5.py3.8.opencv'\n",
    "service.update()\n"
   ]
  },
  {
   "cell_type": "markdown",
   "metadata": {},
   "source": [
    "\n",
    "\n",
    "Our images are available on [Dockerhub](https://hub.docker.com/repository/registry-1.docker.io/dataloopai/dtlpy-agent/tags).\n",
    "\n",
    "### Building Custom Images\n",
    "\n",
    "Need a specialized environment? Create your own Docker image:\n",
    "\n"
   ]
  },
  {
   "cell_type": "markdown",
   "metadata": {},
   "source": [
    "```dockerfile\nFROM dockerhub.io/dataloopai/dtlpy-agent:latest.gpu.cuda11.5.py3.8.opencv\n\n# Add system dependencies\nRUN apt update && apt install -y zip ffmpeg\n\n# Switch to non-root user\nUSER 1000\nENV HOME=/tmp\n\n# Install Python packages\nRUN pip3 install --user \\\n    dtlpy==1.54.10 \\\n    dtlpy-agent==1.54.10 \\\n    torch \\\n    torchvision \\\n    imgaug \\\n    scikit-image==0.17.2\n```\n"
   ]
  },
  {
   "cell_type": "markdown",
   "metadata": {},
   "source": [
    "\n",
    "\n",
    "### Private Docker Registry\n",
    "\n",
    "Need to use images from a private registry? Here's how to set it up:\n",
    "\n"
   ]
  },
  {
   "cell_type": "code",
   "execution_count": 0,
   "metadata": {},
   "outputs": [],
   "source": [
    "import base64\n",
    "import json\n",
    "\n",
    "# Set up registry credentials\n",
    "username = '<docker hub username>'\n",
    "password = '<docker hub password>'\n",
    "email = '<email>'\n",
    "\n",
    "# Create auth token\n",
    "auth = base64.b64encode(f\"{username}:{password}\".encode('ascii')).decode('ascii')\n",
    "\n",
    "# Create credentials payload\n",
    "cred_payload = {\n",
    "    \"auths\": {\n",
    "        \"docker.io\": {\n",
    "            \"username\": username,\n",
    "            \"password\": password,\n",
    "            \"email\": email,\n",
    "            \"auth\": auth\n",
    "        }\n",
    "    }\n",
    "}\n",
    "\n",
    "# Encode credentials\n",
    "encoded_cred = base64.b64encode(json.dumps(cred_payload).encode()).decode()\n",
    "\n",
    "# Create organization integration\n",
    "org = dl.organizations.get(organization_id=context.project.org['id'])\n",
    "options = org.integrations.generate_docker_hub_options(\n",
    "    username='',\n",
    "    password=''\n",
    ")\n",
    "integration = org.integrations.create(\n",
    "    integrations_type=dl.IntegrationType.PRIVATE_REGISTRY,\n",
    "    name='dockerhub',\n",
    "    metadata={\"provider\": \"Dockerhub\"},\n",
    "    options=options\n",
    ")\n",
    "\n",
    "# Now use your private image\n",
    "service = package.deploy(\n",
    "    service_name='private-service',\n",
    "    runtime=dl.KubernetesRuntime(\n",
    "        runner_image='private-registry.com/my-image:tag'\n",
    "    )\n",
    ")\n"
   ]
  },
  {
   "cell_type": "markdown",
   "metadata": {},
   "source": [
    "\n",
    "\n",
    "### AWS Elastic Container Registry (ECR) Integration\n",
    "\n",
    "Ready to connect your AWS ECR to Dataloop? Let's make some cloud magic happen! \u2728\n",
    "\n",
    "**First Things First: Your AWS Checklist \ud83d\udcdd**\n",
    "1. \ud83e\udea3 Create an S3 bucket in your AWS kingdom\n",
    "2. \ud83d\udc6e\u200d\u2642\ufe0f Set up an IAM policy (think of it as your security guard)\n",
    "3. \ud83e\udd1d Create the integration and get your VIP pass (IAM user) from Dataloop\n",
    "\n",
    "Want the full scoop? Check out our [magical guide](https://docs.dataloop.ai/docs/aws-elastic-container-registry) in the Dataloop docs! \ud83c\udf93\n",
    "\n",
    "**Time to Connect! \ud83d\udd0c**\n",
    "\n",
    "Let's write some code that'll make your AWS ECR and Dataloop become best friends:\n",
    "\n"
   ]
  },
  {
   "cell_type": "code",
   "execution_count": 0,
   "metadata": {},
   "outputs": [],
   "source": [
    "import dtlpy as dl\n",
    "\n",
    "# Step 1: Get your organization by ID\n",
    "org = dl.organizations.get(organization_id='your_organization_id')\n",
    "\n",
    "# Step 2: Create the integration with AWS ECR\n",
    "integration = org.integrations.create(\n",
    "    integrations_type=dl.IntegrationType.PRIVATE_REGISTRY,  # Declares this as a private container registry\n",
    "    name='aws-ecr-integration',  # Friendly name for this integration inside Dataloop\n",
    "\n",
    "    # Step 3: Provide connection options for ECR\n",
    "    options={\n",
    "        \"name\": \"AWS\",  # Identifies the integration type/provider\n",
    "\n",
    "        \"spec\": {\n",
    "            \"accessKeyId\": \"your_access_key_id\",  # AWS Access Key ID (used for authentication)\n",
    "            \"secretAccessKey\": \"your_secret_access_key\",  # AWS Secret Access Key\n",
    "            \"account\": \"your_aws_account_id\",  # AWS Account ID (12-digit number, e.g., '123456789012')\n",
    "            \"region\": \"your_aws_region\"  # AWS region where your ECR is hosted (e.g., 'us-west-2')\n",
    "        }\n",
    "    },\n",
    "\n",
    "    # Step 4: Optional metadata to describe the provider\n",
    "    metadata={\"provider\": \"aws\"}  # Tags this integration as an AWS provider\n",
    ")\n"
   ]
  },
  {
   "cell_type": "markdown",
   "metadata": {},
   "source": [
    "\n",
    "\n",
    "Once an integration is established, users can deploy services and pipelines using Container images stored in their private AWS ECR.\n",
    "\n",
    "**\ud83d\udd11 Where to Find Your Secret Keys:**\n",
    "Need help finding those mysterious AWS credentials? Our [documentation](https://docs.dataloop.ai/docs/aws-elastic-container-registry#prerequisites) has your treasure map!\n",
    "\n",
    "**\ud83c\udfaf Final Step:**\n",
    "Pop into your Dataloop platform and check the Integrations section - your new integration should be waving back at you! \ud83d\udc4b\n",
    "\n",
    "\n",
    "### Google Artifacts Registry (GAR) Integration\n",
    "\n",
    "Want to manage your container artifacts like a pro?\n",
    "\n",
    "#### \ud83c\udfd7\ufe0f Create and Configure (GAR)\n",
    "\n",
    "1. Enable the GAR API\n",
    "\n"
   ]
  },
  {
   "cell_type": "markdown",
   "metadata": {},
   "source": [
    "```bash\ngcloud services enable artifactregistry.googleapis.com\n```\n"
   ]
  },
  {
   "cell_type": "markdown",
   "metadata": {},
   "source": [
    "\n",
    "\n",
    "This command enables the Artifact Registry API in your GCP project so you can start storing and managing container images, Maven packages, Python packages, etc.\n",
    "\n",
    "2. Configure IAM Permissions\n",
    "\n",
    "Ensure your account has the necessary permissions:\n",
    "\n",
    "- Artifact Registry Admin (`roles/artifactregistry.admin`)\n",
    "- Storage Admin (`roles/storage.admin`) (optional, for managing storage)\n",
    "\n",
    "\n"
   ]
  },
  {
   "cell_type": "markdown",
   "metadata": {},
   "source": [
    "```bash\n# Adds an IAM role binding to a specific Google Cloud project.\ngcloud projects add-iam-policy-binding [PROJECT-ID] \\     # Replace this with your actual GCP project ID.\n  --member=\"user:[USER-EMAIL]\" \\          # Specifies the user (email address) to whom you're granting the role.\n  --role=\"roles/artifactregistry.admin\"   # Grants the Artifact Registry Admin role, which allows full control over Artifact Registry resources.\n```\n"
   ]
  },
  {
   "cell_type": "markdown",
   "metadata": {},
   "source": [
    "\n",
    "\n",
    "3. Authenticate Docker with GAR\n",
    "\n",
    "Before pushing or pulling images, configure Docker to authenticate with GAR:\n",
    "\n"
   ]
  },
  {
   "cell_type": "markdown",
   "metadata": {},
   "source": [
    "```bash\ngcloud auth configure-docker [REGION]-docker.pkg.dev      # Replace [REGION] with the region your repository is hosted in (e.g., `us-central1`, `europe-west1`, etc.).\n```\n"
   ]
  },
  {
   "cell_type": "markdown",
   "metadata": {},
   "source": [
    "\n",
    "\n",
    "4. Tag and Push Container Images to GAR\n",
    "\n",
    "**Tag your Container image:**\n",
    "\n"
   ]
  },
  {
   "cell_type": "markdown",
   "metadata": {},
   "source": [
    "```bash\ndocker tag [IMAGE_NAME] [REGION]-docker.pkg.dev/[PROJECT_ID]/[REPOSITORY]/[IMAGE_NAME]:[TAG]\n```\n"
   ]
  },
  {
   "cell_type": "markdown",
   "metadata": {},
   "source": [
    "\n",
    "\n",
    "**Push it to Artifact Registry:**\n",
    "\n"
   ]
  },
  {
   "cell_type": "markdown",
   "metadata": {},
   "source": [
    "```bash\ndocker push [REGION]-docker.pkg.dev/[PROJECT_ID]/[REPOSITORY]/[IMAGE_NAME]:[TAG]\n```\n"
   ]
  },
  {
   "cell_type": "markdown",
   "metadata": {},
   "source": [
    "\n",
    "\n",
    "**Verify the image:**\n",
    "\n",
    "- Navigate to Artifacts Registry in the GCP Console: https://console.cloud.google.com/marketplace/product/google/artifactregistry.\n",
    "- Confirm that the image is visible in the registry.\n",
    "\n",
    "#### Integrate GAR with Dataloop\n",
    "\n",
    "\n"
   ]
  },
  {
   "cell_type": "code",
   "execution_count": 0,
   "metadata": {},
   "outputs": [],
   "source": [
    "import dtlpy as dl\n",
    "\n",
    "# Retrieve your Dataloop project by ID\n",
    "project = dl.projects.get(project_id='your_project_id')\n",
    "\n",
    "# Get the organization associated with the project\n",
    "org = dl.organizations.get(organization_id=project.org['id'])\n",
    "\n",
    "# Generate integration options for GAR (Google Artifact Registry)\n",
    "# Fill in your service account name, GAR email identity, and location (e.g., 'us-central1')\n",
    "options = org.integrations.generate_gar_options(\n",
    "    service_account='',  # The name of your GAR-linked GCP service account\n",
    "    email='',            # The GCP IAM email used for authentication (e.g., service-account@project.iam.gserviceaccount.com)\n",
    "    location=''          # The GAR region (e.g., 'us-central1')\n",
    ")\n",
    "\n",
    "# Create the integration object in Dataloop\n",
    "integration = org.integrations.create(\n",
    "    integrations_type=dl.IntegrationType.PRIVATE_REGISTRY,  # Defines this as a private registry integration\n",
    "    name='gar-reg',  # Name of the integration (customizable)\n",
    "    metadata={\"provider\": \"gcp\"},  # Indicates that the provider is Google Cloud\n",
    "    options=options  # Pass the generated GAR options\n",
    ")\n"
   ]
  },
  {
   "cell_type": "markdown",
   "metadata": {},
   "source": [
    "\n",
    "\n",
    "Discover all the artifacts secrets in our [curator's guide](https://docs.dataloop.ai/docs/google-artifacts-registry)!\n",
    "\n",
    "\n",
    "### Azure Container Registry (ACR) Integration\n",
    "\n",
    "The Azure Container Registry (ACR) enables seamless integration with the Dataloop platform for managing containerized components such as custom plugins, microservices, and machine learning models to be used in the applications, pipelines, etc. of the dataloop platform. ACR supports OCI-compliant container images, providing a secure, scalable, and Azure-native way to deploy and manage assets within your AI data pipeline.\n",
    "\n",
    "To integrate Azure Container Registry (ACR) with the Dataloop platform using the SDK, follow these steps:\n",
    "\n"
   ]
  },
  {
   "cell_type": "code",
   "execution_count": 0,
   "metadata": {},
   "outputs": [],
   "source": [
    "import dtlpy as dl\n",
    "\n",
    "# Step 1: Retrieve the project by its ID\n",
    "project = dl.projects.get(project_id='your_project_id')\n",
    "\n",
    "# Step 2: Access the organization using the project's org ID\n",
    "org = dl.organizations.get(organization_id=project.org['id'])\n",
    "\n",
    "# Step 3: Generate ACR integration options\n",
    "options = org.integrations.generate_azure_container_registry_options(\n",
    "    username='',  # Your Azure Container Registry username (usually the admin user)\n",
    "    password='',  # Corresponding password or access token\n",
    "    location=''   # Azure region where your ACR is hosted (e.g., 'eastus')\n",
    ")\n",
    "\n",
    "# Step 4: Create the ACR integration in Dataloop\n",
    "integration = org.integrations.create(\n",
    "    integrations_type=dl.IntegrationType.PRIVATE_REGISTRY,  # Defines it as a private registry integration\n",
    "    name='azure-reg',  # Name the integration for easy reference\n",
    "    metadata={\"provider\": \"Azure\"},  # Specify Azure as the provider\n",
    "    options=options  # Pass in the generated credentials and configuration\n",
    ")\n"
   ]
  },
  {
   "cell_type": "markdown",
   "metadata": {},
   "source": [
    "\n",
    "\n",
    "Learn more about the [ACR](https://docs.dataloop.ai/docs/azure-container-registry) in our user documentation.\n",
    "\n",
    "\n",
    "## \ud83d\udd17 Private Git Integration\n",
    "\n",
    "### Setting Up Git Credentials\n",
    "Configure authentication for private repositories:\n",
    "\n"
   ]
  },
  {
   "cell_type": "code",
   "execution_count": 0,
   "metadata": {},
   "outputs": [],
   "source": [
    "# Create username and password integrations\n",
    "project = dl.projects.get(project_id='project_id')\n",
    "\n",
    "username_integration = project.integrations.create(\n",
    "    integrations_type=dl.IntegrationType.KEY_VALUE,\n",
    "    name='github-username',\n",
    "    options={\n",
    "        \"key\": \"username\",\n",
    "        \"value\": \"<github_username>\"\n",
    "    }\n",
    ")\n",
    "\n",
    "password_integration = project.integrations.create(\n",
    "    integrations_type=dl.IntegrationType.KEY_VALUE,\n",
    "    name='github-token',\n",
    "    options={\n",
    "        \"key\": \"password\",\n",
    "        \"value\": \"<github_personal_access_token>\"\n",
    "    }\n",
    ")\n"
   ]
  },
  {
   "cell_type": "markdown",
   "metadata": {},
   "source": [
    "\n",
    "\n",
    "### Configuring Git in DPK Manifest\n",
    "\n",
    "Add Git configuration to your `dataloop.json`:\n",
    "\n"
   ]
  },
  {
   "cell_type": "markdown",
   "metadata": {},
   "source": [
    "```json\n{\n  \"name\": \"private-git-dpk\",\n  \"scope\": \"project\",\n  \"codebase\": {\n    \"type\": \"git\",\n    \"gitUrl\": \"https://github.com/your-org/your-repo.git\",\n    \"gitTag\": \"main\",\n    \"credentials\": {\n      \"username\": {\n        \"key\": \"username\",\n        \"id\": \"<username integration id>\"\n      },\n      \"password\": {\n        \"key\": \"password\",\n        \"id\": \"<password integration id>\"\n      }\n    }\n  },\n  \"components\": {\n    \"services\": [\n      {\n        \"name\": \"my-service\",\n        \"runtime\": {\n          \"podType\": \"regular-s\",\n          \"concurrency\": 10\n        }\n      }\n    ]\n  }\n}\n```\n"
   ]
  },
  {
   "cell_type": "markdown",
   "metadata": {},
   "source": [
    "\n",
    "\n",
    "### Publishing with Git Integration\n",
    "Deploy your service from the Git repository:\n",
    "\n"
   ]
  },
  {
   "cell_type": "code",
   "execution_count": 0,
   "metadata": {},
   "outputs": [],
   "source": [
    "# Publish the DPK with Git integration\n",
    "dpk = project.dpks.publish()\n",
    "\n",
    "# Deploy specific service\n",
    "service = dpk.services.deploy('my-service')\n"
   ]
  }
 ],
 "metadata": {
  "kernelspec": {
   "display_name": "Python 3",
   "language": "python",
   "name": "python3"
  },
  "language_info": {
   "codemirror_mode": {
    "name": "ipython",
    "version": 3
   },
   "file_extension": ".py",
   "mimetype": "text/x-python",
   "name": "python",
   "nbconvert_exporter": "python",
   "pygments_lexer": "ipython3",
   "version": "3.7.7"
  }
 },
 "nbformat": 4,
 "nbformat_minor": 4
}