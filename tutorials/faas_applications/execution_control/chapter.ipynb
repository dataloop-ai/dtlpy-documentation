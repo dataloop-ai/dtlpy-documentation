{
 "cells": [
  {
   "cell_type": "markdown",
   "metadata": {},
   "source": [
    "# \ud83c\udfae Execution Control - Managing Your FaaS Functions\n",
    "\n",
    "Welcome to the execution control guide! Learn how to manage, monitor, and control your FaaS function executions like a pro. Let's explore how to handle long-running tasks, implement graceful termination, and monitor execution status.\n",
    "\n",
    "## \ud83d\uded1 Execution Termination\n",
    "\n",
    "### Graceful Termination with Checkpoints\n",
    "Need to safely stop a long-running execution? Use checkpoints to implement graceful termination:\n",
    "\n"
   ]
  },
  {
   "cell_type": "code",
   "execution_count": 0,
   "metadata": {},
   "outputs": [],
   "source": [
    "class ServiceRunner(dl.BaseServiceRunner):\n",
    "    def train_model(self, item: dl.Item, progress: dl.Progress):\n",
    "        # Initialize training\n",
    "        model = list()\n",
    "        \n",
    "        for epoch in range(100):\n",
    "            # Check for termination request before each epoch\n",
    "            self.kill_event()\n",
    "            \n",
    "            # Train for one epoch\n",
    "            train_loss = model.append(epoch)\n",
    "            \n",
    "            # Save checkpoint\n",
    "            print(model)\n",
    "            \n",
    "            # Check again after expensive operation\n",
    "            self.kill_event()\n",
    "            \n",
    "            # Update progress\n",
    "            progress.update(progress=epoch, message=f'Epoch {epoch}: loss={train_loss}')\n"
   ]
  },
  {
   "cell_type": "markdown",
   "metadata": {},
   "source": [
    "\n",
    "\n",
    "### Triggering Termination\n",
    "Terminate an execution from another process:\n",
    "\n"
   ]
  },
  {
   "cell_type": "code",
   "execution_count": 0,
   "metadata": {},
   "outputs": [],
   "source": [
    "# Get the execution\n",
    "execution = dl.executions.get(execution_id='execution-id')\n",
    "\n",
    "# Request termination\n",
    "execution.terminate()\n",
    "\n",
    "# Wait for termination to complete\n",
    "execution = execution.wait()\n",
    "print(f\"Execution status: {execution.latest_status['status']}\")\n"
   ]
  },
  {
   "cell_type": "markdown",
   "metadata": {},
   "source": [
    "\n",
    "\n",
    "## \u23f2\ufe0f Execution Timeout Management\n",
    "\n",
    "### Setting Timeout Duration\n",
    "Control how long your function can run:\n",
    "\n"
   ]
  },
  {
   "cell_type": "code",
   "execution_count": 0,
   "metadata": {},
   "outputs": [],
   "source": [
    "# Get your service\n",
    "service = dl.services.get(service_name='my-service')\n",
    "\n",
    "# Set timeout in seconds\n",
    "service.execution_timeout = 3600  # 1 hour\n",
    "service.update()\n",
    "\n",
    "# For longer tasks\n",
    "service.execution_timeout = 86400  # 24 hours\n",
    "service.update()\n"
   ]
  },
  {
   "cell_type": "markdown",
   "metadata": {},
   "source": [
    "\n",
    "\n",
    "### Configuring Timeout Behavior\n",
    "Choose what happens when timeout occurs:\n",
    "\n"
   ]
  },
  {
   "cell_type": "code",
   "execution_count": 0,
   "metadata": {},
   "outputs": [],
   "source": [
    "# Option 1: Mark as failed (default)\n",
    "service.on_reset = 'failed'\n",
    "service.update()\n",
    "\n",
    "# Option 2: Automatically retry\n",
    "service.on_reset = 'rerun'\n",
    "service.update()\n"
   ]
  },
  {
   "cell_type": "markdown",
   "metadata": {},
   "source": [
    "\n",
    "\n",
    "## \ud83d\udcca Execution Monitoring\n",
    "\n",
    "### Basic Status Monitoring\n",
    "Monitor a single execution:\n",
    "\n"
   ]
  },
  {
   "cell_type": "code",
   "execution_count": 0,
   "metadata": {},
   "outputs": [],
   "source": [
    "# Get execution by ID\n",
    "execution = dl.executions.get(execution_id='execution-id')\n",
    "\n",
    "# Wait for completion\n",
    "execution = execution.wait()\n",
    "print(f\"Status: {execution.latest_status['status']}\")\n",
    "print(f\"Duration: {execution.duration:.2f} seconds\")\n"
   ]
  },
  {
   "cell_type": "markdown",
   "metadata": {},
   "source": [
    "\n",
    "\n",
    "### Execution Logs\n",
    "Access execution logs for debugging:\n",
    "\n"
   ]
  },
  {
   "cell_type": "code",
   "execution_count": 0,
   "metadata": {},
   "outputs": [],
   "source": [
    "# Get execution logs\n",
    "execution = dl.executions.get(execution_id='execution-id')\n",
    "logs = execution.logs()\n",
    "print(logs)\n",
    "\n",
    "# Stream logs in real-time\n",
    "for log in execution.logs(follow=True):\n",
    "    print(f\"{log['timestamp']}: {log['message']}\")\n"
   ]
  },
  {
   "cell_type": "markdown",
   "metadata": {},
   "source": [
    "\n",
    "\n",
    "## \ud83d\udd04 Execution Retry Management\n",
    "\n",
    "### Manual Retry\n",
    "Retry failed executions:\n",
    "\n"
   ]
  },
  {
   "cell_type": "code",
   "execution_count": 0,
   "metadata": {},
   "outputs": [],
   "source": [
    "# Get failed execution\n",
    "execution = dl.executions.get(execution_id='failed-execution-id')\n",
    "\n",
    "# Retry with same parameters\n",
    "new_execution = execution.rerun()\n",
    "\n",
    "# Wait for completion\n",
    "new_execution = new_execution.wait()\n",
    "print(f\"Retry status: {new_execution.latest_status['status']}\")\n"
   ]
  },
  {
   "cell_type": "markdown",
   "metadata": {},
   "source": [
    "\n",
    "\n",
    "## \ud83d\udca1 Pro Tips & Best Practices\n",
    "\n",
    "### Resource Management\n",
    "- Implement regular checkpoints in long-running tasks\n",
    "- Save intermediate results when possible\n",
    "- Clean up temporary resources in case of termination\n",
    "\n",
    "### Error Handling\n",
    "- Use try/finally blocks for cleanup\n",
    "- Implement proper logging for debugging\n",
    "- Handle different types of termination gracefully\n",
    "\n",
    "### Performance Optimization\n",
    "- Monitor execution duration trends\n",
    "- Adjust timeouts based on actual needs\n",
    "- Use appropriate instance types for your workload\n",
    "\n",
    "### Monitoring Guidelines\n",
    "- Set up alerts for failed executions\n",
    "- Monitor resource usage patterns\n",
    "- Keep track of execution duration statistics\n",
    "\n",
    "Need help? Check out our other tutorials or reach out to our support team. Happy coding! \u26a1\ufe0f\n"
   ]
  }
 ],
 "metadata": {
  "kernelspec": {
   "display_name": "Python 3",
   "language": "python",
   "name": "python3"
  },
  "language_info": {
   "codemirror_mode": {
    "name": "ipython",
    "version": 3
   },
   "file_extension": ".py",
   "mimetype": "text/x-python",
   "name": "python",
   "nbconvert_exporter": "python",
   "pygments_lexer": "ipython3",
   "version": "3.7.7"
  }
 },
 "nbformat": 4,
 "nbformat_minor": 4
}