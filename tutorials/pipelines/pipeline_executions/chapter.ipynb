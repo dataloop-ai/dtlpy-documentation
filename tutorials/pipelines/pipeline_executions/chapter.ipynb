{
 "cells": [
  {
   "cell_type": "markdown",
   "metadata": {},
   "source": [
    "# Pipeline Executions (Pipeline Cycles): Running Your AI Workflows \ud83d\udd04\n",
    "\n",
    "Learn how to execute and manage pipeline runs in Dataloop - from basic execution to advanced node-specific operations.\n",
    "\n",
    "## Basic Pipeline Execution \ud83d\ude80\n",
    "\n",
    "### Execute a Pipeline\n",
    "\n"
   ]
  },
  {
   "cell_type": "code",
   "execution_count": 0,
   "metadata": {},
   "outputs": [],
   "source": [
    "import dtlpy as dl\n",
    "\n",
    "# Get your pipeline\n",
    "pipeline = project.pipelines.get(pipeline_id='pipeline_id')\n",
    "\n",
    "# Execute with specific inputs\n",
    "execution = pipeline.execute(\n",
    "    execution_input={'item': 'item_id'}\n",
    ")\n"
   ]
  },
  {
   "cell_type": "markdown",
   "metadata": {},
   "source": [
    "\n",
    "\n",
    "### Batch Execution\n",
    "\n"
   ]
  },
  {
   "cell_type": "code",
   "execution_count": 0,
   "metadata": {},
   "outputs": [],
   "source": [
    "# Execute pipeline on multiple items\n",
    "execution = pipeline.execute_batch(\n",
    "    execution_inputs=dl.FunctionIO(\n",
    "        type=dl.PackageInputType.STRING,\n",
    "        value='test',\n",
    "        name='string'\n",
    "    ),\n",
    "    filters=dl.Filters(\n",
    "        field='dir',\n",
    "        values='/test',\n",
    "        context={'datasets': ['dataset_id']}\n",
    "    )\n",
    ")\n"
   ]
  },
  {
   "cell_type": "markdown",
   "metadata": {},
   "source": [
    "\n",
    "\n",
    "## Advanced Execution Features \ud83c\udfaf\n",
    "\n",
    "### Node-Specific Execution\n",
    "\n"
   ]
  },
  {
   "cell_type": "code",
   "execution_count": 0,
   "metadata": {},
   "outputs": [],
   "source": [
    "# Execute specific node in pipeline\n",
    "execution = pipeline.execute(\n",
    "    node_id='target_node_id',\n",
    "    execution_input={'item': 'item_id'}\n",
    ")\n",
    "\n",
    "# Check execution status\n",
    "if execution.status == dl.ExecutionStatus.SUCCESS:\n",
    "    print(\"Node execution completed successfully!\")\n"
   ]
  },
  {
   "cell_type": "markdown",
   "metadata": {},
   "source": [
    "\n",
    "\n",
    "### Service-Based Execution\n",
    "\n"
   ]
  },
  {
   "cell_type": "code",
   "execution_count": 0,
   "metadata": {},
   "outputs": [],
   "source": [
    "# Get pipeline service\n",
    "service_name = pipeline.nodes[0].namespace.service_name\n",
    "service = dl.services.get(service_name=service_name)\n",
    "\n",
    "# Execute service batch\n",
    "service_execution = service.execute_batch(\n",
    "    execution_inputs=dl.FunctionIO(\n",
    "        type=dl.PackageInputType.STRING,\n",
    "        value='test',\n",
    "        name='string'\n",
    "    ),\n",
    "    filters=dl.Filters(\n",
    "        field='dir',\n",
    "        values='/test',\n",
    "        context={'datasets': ['dataset_id']}\n",
    "    )\n",
    ")\n"
   ]
  },
  {
   "cell_type": "markdown",
   "metadata": {},
   "source": [
    "\n",
    "\n",
    "## Monitoring Executions \ud83d\udcca\n",
    "\n",
    "### Track Execution Status\n",
    "\n"
   ]
  },
  {
   "cell_type": "code",
   "execution_count": 0,
   "metadata": {},
   "outputs": [],
   "source": [
    "# Get execution details\n",
    "execution = pipeline.pipeline_executions.get(\n",
    "    pipeline_execution_id='execution_id'\n",
    ")\n",
    "\n",
    "# Check status\n",
    "print(f\"Execution status: {execution.status}\")\n",
    "\n",
    "# List all executions\n",
    "executions = pipeline.pipeline_executions.list()\n",
    "print(f\"Total executions: {executions.items_count}\")\n"
   ]
  },
  {
   "cell_type": "markdown",
   "metadata": {},
   "source": [
    "\n",
    "\n",
    "### Monitor Node Status\n",
    "\n"
   ]
  },
  {
   "cell_type": "code",
   "execution_count": 0,
   "metadata": {},
   "outputs": [],
   "source": [
    "def monitor_execution(pipeline, execution_id, timeout=60):\n",
    "    \"\"\"Monitor pipeline execution with timeout\"\"\"\n",
    "    start_time = time.time()\n",
    "    while time.time() - start_time < timeout:\n",
    "        time.sleep(1)\n",
    "        execution = pipeline.pipeline_executions.get(\n",
    "            pipeline_execution_id=execution_id\n",
    "        )\n",
    "        \n",
    "        if execution.status == 'success':\n",
    "            print(\"Execution completed successfully!\")\n",
    "            return True\n",
    "        elif execution.status == 'failed':\n",
    "            print(\"Execution failed!\")\n",
    "            return False\n",
    "            \n",
    "    print(\"Execution timed out!\")\n",
    "    return False\n"
   ]
  },
  {
   "cell_type": "markdown",
   "metadata": {},
   "source": [
    "\n",
    "\n",
    "## Customizing Pipeline Nodes \ud83d\udee0\ufe0f\n",
    "\n",
    "### Update Node Configuration\n",
    "\n"
   ]
  },
  {
   "cell_type": "code",
   "execution_count": 0,
   "metadata": {},
   "outputs": [],
   "source": [
    "# Update node runner image\n",
    "def update_node_runner(pipeline, node_type, image):\n",
    "    for node in pipeline.nodes:\n",
    "        if node.node_type == node_type:\n",
    "            if 'serviceConfig' not in node.metadata:\n",
    "                node.metadata['serviceConfig'] = {}\n",
    "            if 'runtime' not in node.metadata['serviceConfig']:\n",
    "                node.metadata['serviceConfig']['runtime'] = {}\n",
    "            node.metadata['serviceConfig']['runtime']['runnerImage'] = image\n",
    "            return pipeline.update()\n"
   ]
  },
  {
   "cell_type": "markdown",
   "metadata": {},
   "source": [
    "\n",
    "\n",
    "### Add Custom Code Node\n",
    "\n"
   ]
  },
  {
   "cell_type": "code",
   "execution_count": 0,
   "metadata": {},
   "outputs": [],
   "source": [
    "# Create a code node\n",
    "def create_code_node(project, position=(4, 4)):\n",
    "    def run(item, string):\n",
    "        # Custom processing logic\n",
    "        item.metadata['user'] = {'userInput': string}\n",
    "        item.update()\n",
    "        return item\n",
    "\n",
    "    code_node = dl.CodeNode(\n",
    "        name='codeNode',\n",
    "        position=position,\n",
    "        project_id=project.id,\n",
    "        method=run,\n",
    "        project_name=project.name\n",
    "    )\n",
    "    return code_node\n"
   ]
  },
  {
   "cell_type": "markdown",
   "metadata": {},
   "source": [
    "\n",
    "\n",
    "## Best Practices \ud83d\udc51\n",
    "\n",
    "1. **Error Handling**\n",
    "   \n"
   ]
  },
  {
   "cell_type": "code",
   "execution_count": 0,
   "metadata": {},
   "outputs": [],
   "source": [
    "try:\n",
    "       execution = pipeline.execute(execution_input={'item': item_id})\n",
    "   except dl.exceptions.PipelineError as e:\n",
    "       print(f\"Pipeline execution failed: {e}\")\n"
   ]
  },
  {
   "cell_type": "markdown",
   "metadata": {},
   "source": [
    "\n",
    "\n",
    "2. **Resource Cleanup**\n",
    "   \n"
   ]
  },
  {
   "cell_type": "code",
   "execution_count": 0,
   "metadata": {},
   "outputs": [],
   "source": [
    "# Clean up completed executions\n",
    "   old_executions = pipeline.pipeline_executions.list()\n",
    "   for execution in old_executions:\n",
    "       if execution.status in ['success', 'failed']:\n",
    "           # Archive or handle old executions\n",
    "           pass\n"
   ]
  },
  {
   "cell_type": "markdown",
   "metadata": {},
   "source": [
    "\n",
    "\n",
    "3. **Execution Monitoring**\n",
    "   \n"
   ]
  },
  {
   "cell_type": "code",
   "execution_count": 0,
   "metadata": {},
   "outputs": [],
   "source": [
    "def wait_for_completion(execution, timeout=300):\n",
    "       start_time = time.time()\n",
    "       while time.time() - start_time < timeout:\n",
    "           if execution.status == dl.ExecutionStatus.SUCCESS:\n",
    "               return True\n",
    "           elif execution.status == dl.ExecutionStatus.FAILED:\n",
    "               return False\n",
    "           time.sleep(5)\n",
    "       return False\n"
   ]
  },
  {
   "cell_type": "markdown",
   "metadata": {},
   "source": [
    "\n",
    "\n",
    "## Pro Tips \ud83d\udca1\n",
    "\n",
    "1. **Batch Processing**\n",
    "   - Use filters to process multiple items efficiently\n",
    "   - Monitor batch execution progress\n",
    "   - Handle failures gracefully\n",
    "\n",
    "2. **Performance Optimization**\n",
    "   - Execute specific nodes when possible\n",
    "   - Use appropriate timeouts\n",
    "   - Monitor resource usage\n",
    "\n",
    "3. **Debugging**\n",
    "   - Check node-specific logs\n",
    "   - Monitor execution status\n",
    "   - Track input/output flow\n",
    "\n",
    "Need help? Check our [Pipeline documentation](https://docs.dataloop.ai/docs/pipelines-overview) for more details! \ud83d\ude80\n"
   ]
  }
 ],
 "metadata": {
  "kernelspec": {
   "display_name": "Python 3",
   "language": "python",
   "name": "python3"
  },
  "language_info": {
   "codemirror_mode": {
    "name": "ipython",
    "version": 3
   },
   "file_extension": ".py",
   "mimetype": "text/x-python",
   "name": "python",
   "nbconvert_exporter": "python",
   "pygments_lexer": "ipython3",
   "version": "3.7.7"
  }
 },
 "nbformat": 4,
 "nbformat_minor": 4
}