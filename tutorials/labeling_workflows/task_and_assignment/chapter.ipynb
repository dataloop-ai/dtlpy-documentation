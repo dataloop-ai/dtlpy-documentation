{
 "cells": [
  {
   "cell_type": "markdown",
   "metadata": {},
   "source": [
    "# Tasks and Assignments in Dataloop \ud83d\udccb\n",
    "\n",
    "Welcome to your guide to managing tasks and assignments in Dataloop! Whether you're setting up annotation projects, managing QA workflows, or organizing your team's workload, we've got you covered. Let's dive in!\n",
    "\n",
    "## Understanding Tasks and Assignments \ud83c\udf93\n",
    "\n",
    "Think of tasks as your project's to-do lists and assignments as individual work packages. Here's what you need to know:\n",
    "\n",
    "- **Tasks** \ud83d\udce6 contain the overall work to be done\n",
    "- **Assignments** \ud83d\udcdd distribute the work among team members\n",
    "- **Items** \ud83d\uddbc\ufe0f are the actual data pieces to be worked on\n",
    "\n",
    "## Creating Tasks \ud83d\udee0\ufe0f\n",
    "\n",
    "### Basic Task Creation\n",
    "\n",
    "Let's start with a simple annotation task:\n",
    "\n"
   ]
  },
  {
   "cell_type": "code",
   "execution_count": 0,
   "metadata": {},
   "outputs": [],
   "source": [
    "import dtlpy as dl\n",
    "import datetime\n",
    "\n",
    "if dl.token_expired():\n",
    "    dl.login()\n",
    "\n",
    "# Get your project and dataset\n",
    "project = dl.projects.get(project_name='project_name')\n",
    "dataset = project.datasets.get(dataset_name='dataset_name')\n",
    "\n",
    "# Create a basic task\n",
    "task = dataset.tasks.create(\n",
    "    task_name='my_annotation_task',\n",
    "    due_date=datetime.datetime(day=1, month=1, year=2029).timestamp(),\n",
    "    assignee_ids=['annotator1@dataloop.ai', 'annotator2@dataloop.ai']\n",
    ")\n"
   ]
  },
  {
   "cell_type": "markdown",
   "metadata": {},
   "source": [
    "\n",
    "\n",
    "### Creating Tasks with Filters \ud83c\udfaf\n",
    "\n",
    "Want to create a task for specific items? Use filters:\n",
    "\n"
   ]
  },
  {
   "cell_type": "code",
   "execution_count": 0,
   "metadata": {},
   "outputs": [],
   "source": [
    "# Filter by directory\n",
    "filters = dl.Filters(field='dir', values='/my/folder/path')\n",
    "\n",
    "# OR filter by annotation status\n",
    "filters = dl.Filters(field='annotated', values=False)\n",
    "\n",
    "# Create task with filters\n",
    "task = dataset.tasks.create(\n",
    "    task_name='filtered_task',\n",
    "    due_date=datetime.datetime(day=1, month=1, year=2029).timestamp(),\n",
    "    assignee_ids=['annotator1@dataloop.ai', 'annotator2@dataloop.ai'],\n",
    "    filters=filters\n",
    ")\n"
   ]
  },
  {
   "cell_type": "markdown",
   "metadata": {},
   "source": [
    "\n",
    "\n",
    "### Creating QA Tasks \ud83d\udd0d\n",
    "\n",
    "Need to review annotations? Create a QA task:\n",
    "\n"
   ]
  },
  {
   "cell_type": "code",
   "execution_count": 0,
   "metadata": {},
   "outputs": [],
   "source": [
    "# Create QA task from an annotation task\n",
    "qa_task = dataset.tasks.create_qa_task(\n",
    "    task=task,\n",
    "    due_date=datetime.datetime(day=1, month=1, year=2029).timestamp(),\n",
    "    assignee_ids=['reviewer1@dataloop.ai', 'reviewer2@dataloop.ai']\n",
    ")\n"
   ]
  },
  {
   "cell_type": "markdown",
   "metadata": {},
   "source": [
    "\n",
    "\n",
    "## Smart Task Distribution \ud83c\udfaf\n",
    "\n",
    "### Pulling Tasks (Dynamic Distribution) \ud83d\udd04\n",
    "\n",
    "Perfect for flexible teams and continuous work:\n",
    "\n"
   ]
  },
  {
   "cell_type": "code",
   "execution_count": 0,
   "metadata": {},
   "outputs": [],
   "source": [
    "pulling_task = dataset.tasks.create(\n",
    "    task_name='dynamic_task',\n",
    "    due_date=datetime.datetime(day=1, month=1, year=2029).timestamp(),\n",
    "    batch_size=10,  # Items per batch (min: 3, max: 100)\n",
    "    max_batch_workload=15,  # Max items per assignment\n",
    "    allowed_assignees=['annotator1@dataloop.ai', 'annotator2@dataloop.ai']\n",
    ")\n"
   ]
  },
  {
   "cell_type": "markdown",
   "metadata": {},
   "source": [
    "\n",
    "\n",
    "### Consensus Tasks (Multiple Reviews) \ud83d\udc65\n",
    "\n",
    "Need multiple annotators per item? Try consensus tasks:\n",
    "\n"
   ]
  },
  {
   "cell_type": "code",
   "execution_count": 0,
   "metadata": {},
   "outputs": [],
   "source": [
    "consensus_task = dataset.tasks.create(\n",
    "    task_name='consensus_task',\n",
    "    due_date=datetime.datetime(day=1, month=1, year=2029).timestamp(),\n",
    "    assignee_ids=['annotator1@dataloop.ai', 'annotator2@dataloop.ai'],\n",
    "    consensus_percentage=100,  # Percentage of items for consensus\n",
    "    consensus_assignees=2  # Number of annotators per item\n",
    ")\n"
   ]
  },
  {
   "cell_type": "markdown",
   "metadata": {},
   "source": [
    "\n",
    "\n",
    "## Managing Existing Tasks \ud83d\udd27\n",
    "\n",
    "### Adding Items to Tasks\n",
    "\n"
   ]
  },
  {
   "cell_type": "code",
   "execution_count": 0,
   "metadata": {},
   "outputs": [],
   "source": [
    "# Add items using filters\n",
    "filters = dl.Filters(field='metadata.system.refs', values=[])  # Unassigned items\n",
    "task.add_items(\n",
    "    filters=filters,\n",
    "    assignee_ids=['annotator1@dataloop.ai', 'annotator2@dataloop.ai']\n",
    ")\n",
    "\n",
    "# Add specific items\n",
    "item = dl.items.get(item_id='item-id')\n",
    "task.add_items(\n",
    "    items=[item],\n",
    "    assignee_ids=['annotator1@dataloop.ai']\n",
    ")\n"
   ]
  },
  {
   "cell_type": "markdown",
   "metadata": {},
   "source": [
    "\n",
    "\n",
    "### Finding Tasks and Assignments \ud83d\udd0d\n",
    "\n"
   ]
  },
  {
   "cell_type": "code",
   "execution_count": 0,
   "metadata": {},
   "outputs": [],
   "source": [
    "# Get task by ID\n",
    "task = dl.tasks.get(task_id='task-id')\n",
    "\n",
    "# Get task by name in project\n",
    "task = project.tasks.get(task_name='task-name')\n",
    "\n",
    "# List all tasks in dataset\n",
    "tasks = dataset.tasks.list()\n",
    "\n",
    "# Get assignment\n",
    "assignment = dl.assignments.get(assignment_id='assignment-id')\n",
    "\n",
    "# List assignments in task\n",
    "assignments = task.assignments.list()\n"
   ]
  },
  {
   "cell_type": "markdown",
   "metadata": {},
   "source": [
    "\n",
    "\n",
    "### Redistributing Work \ud83d\udd04\n",
    "\n",
    "Need to change who's working on what? Here's how:\n",
    "\n"
   ]
  },
  {
   "cell_type": "code",
   "execution_count": 0,
   "metadata": {},
   "outputs": [],
   "source": [
    "# Redistribute work between annotators\n",
    "assignment.redistribute(\n",
    "    dl.Workload([\n",
    "        dl.WorkloadUnit(assignee_id='annotator1@dataloop.ai', load=50),\n",
    "        dl.WorkloadUnit(assignee_id='annotator2@dataloop.ai', load=50)\n",
    "    ])\n",
    ")\n",
    "\n",
    "# Reassign to new annotator\n",
    "assignment.reassign(['new.annotator@dataloop.ai'])\n"
   ]
  },
  {
   "cell_type": "markdown",
   "metadata": {},
   "source": [
    "\n",
    "\n",
    "## Pipeline Integration \ud83d\udd17\n",
    "\n",
    "Want to include tasks in your pipeline? Here's how:\n",
    "\n"
   ]
  },
  {
   "cell_type": "code",
   "execution_count": 0,
   "metadata": {},
   "outputs": [],
   "source": [
    "# Create a pipeline\n",
    "pipeline = project.pipelines.create(name='my-pipeline')\n",
    "\n",
    "# Add a task node\n",
    "task_node = dl.TaskNode(\n",
    "    name='Pipeline Task',\n",
    "    recipe_id='recipe-id',\n",
    "    recipe_title='recipe-title',\n",
    "    task_owner='owner@dataloop.ai',\n",
    "    workload=[dl.WorkloadUnit(assignee_id='annotator@dataloop.ai', load=100)],\n",
    "    position=(2, 1),\n",
    "    project_id=project.id,\n",
    "    dataset_id=dataset.id\n",
    ")\n",
    "\n",
    "# Add node to pipeline\n",
    "pipeline.nodes.add(node=task_node)\n",
    "pipeline.update()\n"
   ]
  },
  {
   "cell_type": "markdown",
   "metadata": {},
   "source": [
    "\n",
    "\n",
    "## Cleanup Operations \ud83e\uddf9\n",
    "\n",
    "### Deleting Tasks and Assignments\n",
    "\n"
   ]
  },
  {
   "cell_type": "code",
   "execution_count": 0,
   "metadata": {},
   "outputs": [],
   "source": [
    "# Delete a task (this also deletes its assignments)\n",
    "task.delete()\n",
    "\n",
    "# Delete a specific assignment\n",
    "assignment.delete()\n"
   ]
  },
  {
   "cell_type": "markdown",
   "metadata": {},
   "source": [
    "\n",
    "\n",
    "## Best Practices \ud83d\udca1\n",
    "\n",
    "1. \ud83d\udcca Use filters to create focused tasks\n",
    "2. \ud83d\udd04 Consider pulling tasks for flexible teams\n",
    "3. \ud83d\udc65 Use consensus tasks for critical annotations\n",
    "4. \ud83d\udcc5 Set realistic due dates\n",
    "5. \ud83c\udfaf Keep batch sizes manageable (10-20 items)\n",
    "\n",
    "## Need More Help? \ud83e\udd14\n",
    "\n",
    "- Check out our [Task Management Documentation](https://docs.dataloop.ai/docs/labeling-overview)\n",
    "- Visit our [Assignment Guide](https://docs.dataloop.ai/docs/assignments)\n",
    "- Explore [Pipeline Integration](https://docs.dataloop.ai/docs/workflow-nodes)\n",
    "\n",
    "Happy task managing! \ud83d\ude80\n"
   ]
  }
 ],
 "metadata": {
  "kernelspec": {
   "display_name": "Python 3",
   "language": "python",
   "name": "python3"
  },
  "language_info": {
   "codemirror_mode": {
    "name": "ipython",
    "version": 3
   },
   "file_extension": ".py",
   "mimetype": "text/x-python",
   "name": "python",
   "nbconvert_exporter": "python",
   "pygments_lexer": "ipython3",
   "version": "3.7.7"
  }
 },
 "nbformat": 4,
 "nbformat_minor": 4
}