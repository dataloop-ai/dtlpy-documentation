{
 "cells": [
  {
   "cell_type": "markdown",
   "metadata": {},
   "source": [
    "# Managing Item Status in Dataloop \ud83c\udff7\ufe0f\n",
    "\n",
    "Welcome to your guide to managing item status in Dataloop! Whether you're tracking annotation progress, managing QA workflows, or organizing your data, understanding item status is key. Let's dive in!\n",
    "\n",
    "## Understanding Item Status \ud83c\udf93\n",
    "\n",
    "Think of item status as traffic lights for your data workflow:\n",
    "\n",
    "- \ud83d\udfe2 **COMPLETE**: Item is finished (for annotation tasks)\n",
    "- \u2705 **APPROVE**: Item passed review (for QA tasks)\n",
    "- \u26d4 **DISCARD**: Item should be excluded\n",
    "- \u26aa **NO STATUS**: Item is available for work\n",
    "\n",
    "### Default Status Types\n",
    "\n",
    "1. **Annotation Tasks**:\n",
    "   - `COMPLETE`: Work is finished\n",
    "   - `DISCARD`: Item should be excluded\n",
    "\n",
    "2. **QA Tasks**:\n",
    "   - `APPROVE`: Item passed review\n",
    "   - `DISCARD`: Item should be excluded\n",
    "\n",
    "## Working with Item Status \ud83d\udee0\ufe0f\n",
    "\n",
    "### Setting Status for Single Items\n",
    "\n"
   ]
  },
  {
   "cell_type": "code",
   "execution_count": 0,
   "metadata": {},
   "outputs": [],
   "source": [
    "import dtlpy as dl\n",
    "\n",
    "# Get your project and resources\n",
    "project = dl.projects.get(project_name='project_name')\n",
    "dataset = project.datasets.get(dataset_name='dataset_name')\n",
    "task = dataset.tasks.get(task_name='task_name')\n",
    "assignment = dataset.assignments.get(assignment_name='assignment_name')\n",
    "item = dataset.items.get(item_id='item-id')\n",
    "\n",
    "# Set status in different contexts\n",
    "item.update_status(status=dl.ItemStatus.COMPLETED, task_id=task.id)  # For task\n",
    "item.update_status(status=dl.ItemStatus.APPROVED, assignment_id=assignment.id)  # For assignment\n",
    "item.update_status(status=dl.ItemStatus.DISCARDED)  # For single-task items\n"
   ]
  },
  {
   "cell_type": "markdown",
   "metadata": {},
   "source": [
    "\n",
    "\n",
    "### Batch Status Updates \ud83d\udd04\n",
    "\n",
    "#### Method 1: Using Dataset Filters (Recommended for Single-Task Items)\n",
    "\n"
   ]
  },
  {
   "cell_type": "code",
   "execution_count": 0,
   "metadata": {},
   "outputs": [],
   "source": [
    "# Update status for annotated items\n",
    "filters = dl.Filters(field='annotated', values=True)\n",
    "\n",
    "# Option 1: Using item list\n",
    "items = dataset.items.list(filters=filters)\n",
    "dataset.items.update_status(\n",
    "    status=dl.ItemStatus.APPROVED,\n",
    "    items=items\n",
    ")\n",
    "\n",
    "# Option 2: Using filters directly\n",
    "dataset.items.update_status(\n",
    "    status=dl.ItemStatus.DISCARDED,\n",
    "    filters=filters\n",
    ")\n",
    "\n",
    "# Option 3: Using item IDs\n",
    "item_ids = ['id1', 'id2', 'id3']\n",
    "dataset.items.update_status(\n",
    "    status=dl.ItemStatus.COMPLETED,\n",
    "    item_ids=item_ids\n",
    ")\n"
   ]
  },
  {
   "cell_type": "markdown",
   "metadata": {},
   "source": [
    "\n",
    "\n",
    "#### Method 2: Using Task Entity (Recommended for Multi-Task Items)\n",
    "\n"
   ]
  },
  {
   "cell_type": "code",
   "execution_count": 0,
   "metadata": {},
   "outputs": [],
   "source": [
    "# Option 1: Using filters\n",
    "filters = dl.Filters(field='annotated', values=True)\n",
    "item_ids = [item.id for item in dataset.items.list(filters=filters).all()]\n",
    "\n",
    "# Option 2: Using specific IDs\n",
    "item_ids = ['id1', 'id2', 'id3']\n",
    "\n",
    "# Update status through task\n",
    "task = dataset.tasks.get(task_id='your_actual_task_id')\n",
    "\n",
    "# Set status to APPROVED\n",
    "task.set_status(\n",
    "    status=dl.ItemStatus.APPROVED,\n",
    "    operation='create',\n",
    "    item_ids=item_ids\n",
    ")\n"
   ]
  },
  {
   "cell_type": "markdown",
   "metadata": {},
   "source": [
    "\n",
    "\n",
    "### Clearing Item Status \u267b\ufe0f\n",
    "\n",
    "Need to make items available for work again? Here's how to clear their status:\n",
    "\n"
   ]
  },
  {
   "cell_type": "code",
   "execution_count": 0,
   "metadata": {},
   "outputs": [],
   "source": [
    "# Clear status in different contexts\n",
    "item.update_status(dl.ITEM_STATUS_DISCARDED, task_id=task.id, clear=True)  # For task\n",
    "item.update_status(dl.ITEM_STATUS_APPROVED, assignment_id=assignment.id, clear=True)  # For assignment\n",
    "item.update_status(dl.ITEM_STATUS_COMPLETED, clear=True)  # For single-task items\n"
   ]
  },
  {
   "cell_type": "markdown",
   "metadata": {},
   "source": [
    "\n",
    "\n",
    "### Custom Status Actions \ud83c\udfa8\n",
    "\n",
    "Want to create tasks with custom status options? Here's how:\n",
    "\n"
   ]
  },
  {
   "cell_type": "code",
   "execution_count": 0,
   "metadata": {},
   "outputs": [],
   "source": [
    "# Create task with custom status actions\n",
    "task = dataset.tasks.create(\n",
    "    task_name='custom_status_task',\n",
    "    assignee_ids=['annotator1@dataloop.ai'],\n",
    "    available_actions=[\n",
    "        dl.ItemAction(\n",
    "            action='needs_review',\n",
    "            display_name='Needs Review'\n",
    "        ),\n",
    "        dl.ItemAction(\n",
    "            action='skip_item',\n",
    "            display_name='Skip for Now'\n",
    "        )\n",
    "    ]\n",
    ")\n"
   ]
  },
  {
   "cell_type": "markdown",
   "metadata": {},
   "source": [
    "\n",
    "\n",
    "## Best Practices \ud83d\udca1\n",
    "\n",
    "1. \ud83c\udfaf **Choose the Right Method**:\n",
    "   - Use dataset methods for items in multiple tasks\n",
    "   - Use task methods for single-task items\n",
    "\n",
    "2. \ud83d\udd04 **Batch Operations**:\n",
    "   - Use filters for bulk updates when possible\n",
    "   - Group similar status updates together\n",
    "\n",
    "3. \ud83d\udcdd **Status Management**:\n",
    "   - Clear status when work needs to be redone\n",
    "   - Use custom statuses for specific workflow needs\n",
    "   - Document your status workflow\n",
    "\n",
    "4. \u26a0\ufe0f **Important Notes**:\n",
    "   - Changing task statuses doesn't affect already-status-assigned items\n",
    "   - Always verify status updates with filters or item counts\n",
    "   - Consider using custom statuses for complex workflows\n",
    "\n",
    "## Need More Help? \ud83e\udd14\n",
    "\n",
    "- Check out our [Item Status Documentation](https://docs.dataloop.ai/docs/tasks#section-4-statuses)\n",
    "- Visit our [Task Management Guide](https://docs.dataloop.ai/docs/tasks)\n",
    "\n",
    "Happy status managing! \ud83d\ude80\n"
   ]
  }
 ],
 "metadata": {
  "kernelspec": {
   "display_name": "Python 3",
   "language": "python",
   "name": "python3"
  },
  "language_info": {
   "codemirror_mode": {
    "name": "ipython",
    "version": 3
   },
   "file_extension": ".py",
   "mimetype": "text/x-python",
   "name": "python",
   "nbconvert_exporter": "python",
   "pygments_lexer": "ipython3",
   "version": "3.7.7"
  }
 },
 "nbformat": 4,
 "nbformat_minor": 4
}