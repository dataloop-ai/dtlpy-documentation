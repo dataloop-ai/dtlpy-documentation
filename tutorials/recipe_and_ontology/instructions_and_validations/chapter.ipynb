{
 "cells": [
  {
   "cell_type": "markdown",
   "metadata": {},
   "source": [
    "# Recipe Instructions and Validations \ud83d\udccb\n",
    "\n",
    "Welcome to the guide on recipe instructions and validations in Dataloop! Let's explore how to set up instructions and validation rules for your annotation tasks.\n",
    "\n",
    "## PDF Instructions \ud83d\udcc4\n",
    "\n",
    "Dataloop allows you to provide clear guidance to your annotation team through PDF instructions:\n",
    "\n"
   ]
  },
  {
   "cell_type": "code",
   "execution_count": 0,
   "metadata": {},
   "outputs": [],
   "source": [
    "import dtlpy as dl\n",
    "\n",
    "# Get your recipe\n",
    "recipe = dataset.recipes.get(recipe_id='your-recipe-id')\n",
    "\n",
    "# Upload annotation instructions\n",
    "recipe.add_instruction(annotation_instruction_file='/path/to/instructions.pdf')\n"
   ]
  },
  {
   "cell_type": "markdown",
   "metadata": {},
   "source": [
    "\n",
    "\n",
    "When creating tasks, you can specify which pages from these PDFs should be shown to annotators.\n",
    "\n",
    "\ud83d\udcda [Learn more about PDF Instructions](https://docs.dataloop.ai/docs/instructions?highlight=pdf%20instr#pdf-instructions)\n",
    "\n",
    "## Annotation Validation with JavaScript \ud83d\udd0d\n",
    "\n",
    "Add validation rules to ensure annotation quality using JavaScript. Here's a simple example:\n",
    "\n"
   ]
  },
  {
   "cell_type": "markdown",
   "metadata": {},
   "source": [
    "```javascript\nfunction validateAnnotations(annotationsArr) {\n    let result = {\n        ok: true,\n        errorMessage: \"\",\n        errors: {}\n    }\n    \n    // Example: Ensure at least one annotation exists\n    if (annotationsArr.length === 0) {\n        result.ok = false;\n        result.errorMessage = \"Item must have at least one annotation\";\n    }\n    \n    return result;\n}\n```\n"
   ]
  },
  {
   "cell_type": "markdown",
   "metadata": {},
   "source": [
    "\n",
    "\n",
    "Adding a JS validation script to a recipe:\n",
    "\n"
   ]
  },
  {
   "cell_type": "code",
   "execution_count": 0,
   "metadata": {},
   "outputs": [],
   "source": [
    "recipe.upload_annotations_verification_file(local_path='/path/to/validation_script.js')\n"
   ]
  },
  {
   "cell_type": "markdown",
   "metadata": {},
   "source": [
    "\n",
    "\n",
    "### Common Validation Use Cases:\n",
    "\n",
    "1. \ud83c\udfaf **Label Coexistence**\n",
    "   \n"
   ]
  },
  {
   "cell_type": "markdown",
   "metadata": {},
   "source": [
    "```javascript\n   // Example: Only one person per image\n   if (annotations.filter(a => a.label === 'person').length > 1) {\n       result.ok = false;\n       result.errorMessage = \"Only one person allowed per image\";\n   }\n   ```\n"
   ]
  },
  {
   "cell_type": "markdown",
   "metadata": {},
   "source": [
    "\n",
    "\n",
    "2. \ud83d\udcd0 **Geometry Rules**\n",
    "   \n"
   ]
  },
  {
   "cell_type": "markdown",
   "metadata": {},
   "source": [
    "```javascript\n   // Example: Ensure polygon has minimum points\n   if (a.type === 'segment' && a._def[0].length < 4) {\n       result.ok = false;\n       result.errors[a.clientId] = \"Polygon must have at least 4 points\";\n   }\n   ```\n"
   ]
  },
  {
   "cell_type": "markdown",
   "metadata": {},
   "source": [
    "\n",
    "\n",
    "### Key Points:\n",
    "\n",
    "- Validation runs when annotators click the \"Complete\" button\n",
    "- Scripts must follow the required format with `validateAnnotations` function\n",
    "- Can validate label combinations, geometry, attributes, and more\n",
    "- Supports detailed error messages per annotation\n",
    "\n",
    "\ud83d\udcda [Learn more about Annotation Validation](https://docs.dataloop.ai/docs/annotations-validation)\n",
    "\n",
    "## Best Practices \ud83d\udca1\n",
    "\n",
    "1. \ud83d\udcdd Keep instructions clear and concise\n",
    "2. \ud83c\udfaf Include visual examples in PDF instructions\n",
    "3. \ud83d\udd0d Test validation rules thoroughly\n",
    "4. \u26a1 Keep validation logic simple and efficient\n",
    "5. \ud83d\udc1b Use console.log for debugging validation scripts\n",
    "\n",
    "## Need More Help? \ud83e\udd14\n",
    "\n",
    "- [Complete Instructions Guide](https://docs.dataloop.ai/docs/instructions)\n",
    "- [Validation Documentation](https://docs.dataloop.ai/docs/annotations-validation)\n",
    "- [Recipe Management Guide](https://docs.dataloop.ai/docs/ontology-overview#recipe)\n",
    "\n",
    "Happy validating! \ud83d\ude80\n"
   ]
  }
 ],
 "metadata": {
  "kernelspec": {
   "display_name": "Python 3",
   "language": "python",
   "name": "python3"
  },
  "language_info": {
   "codemirror_mode": {
    "name": "ipython",
    "version": 3
   },
   "file_extension": ".py",
   "mimetype": "text/x-python",
   "name": "python",
   "nbconvert_exporter": "python",
   "pygments_lexer": "ipython3",
   "version": "3.7.7"
  }
 },
 "nbformat": 4,
 "nbformat_minor": 4
}