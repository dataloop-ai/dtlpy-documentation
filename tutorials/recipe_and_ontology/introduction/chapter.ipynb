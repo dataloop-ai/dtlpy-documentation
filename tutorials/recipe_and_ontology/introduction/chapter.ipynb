{
 "cells": [
  {
   "cell_type": "markdown",
   "metadata": {},
   "source": [
    "# Recipes and Ontologies: Your Data's Secret Sauce \ud83e\uddea\n",
    "\n",
    "Welcome to the world of recipes and ontologies in Dataloop! Think of recipes as your master cookbook \ud83d\udcd6 and ontologies as your ingredient lists \ud83d\udcdd. Let's dive in and learn how to create the perfect data labeling recipe!\n",
    "\n",
    "## Understanding the Basics \ud83c\udf93\n",
    "\n",
    "### What's a Recipe? \ud83c\udf73\n",
    "\n",
    "A recipe in Dataloop is like your cooking instructions - it tells annotators exactly how to label your data. It includes:\n",
    "- \ud83d\udd17 Link to an ontology (your ingredients)\n",
    "- \ud83d\udee0\ufe0f Labeling tools (box, polygon, etc.)\n",
    "- \ud83d\udcc4 Optional PDF instructions\n",
    "- \u2728 And more goodies!\n",
    "\n",
    "### What's an Ontology? \ud83c\udf33\n",
    "\n",
    "An ontology is your structured knowledge base that contains:\n",
    "- \ud83c\udff7\ufe0f Labels (like \"Dog\", \"Cat\", \"Car\")\n",
    "- \ud83d\udcca Attributes (properties like \"Color\", \"Size\")\n",
    "- \ud83d\udd04 Relationships between labels and attributes\n",
    "\n",
    "## Working with Recipes \ud83e\uddd1\u200d\ud83c\udf73\n",
    "\n",
    "### Basic Recipe Operations\n",
    "\n"
   ]
  },
  {
   "cell_type": "code",
   "execution_count": 0,
   "metadata": {},
   "outputs": [],
   "source": [
    "import dtlpy as dl\n",
    "if dl.token_expired():\n",
    "    dl.login()\n",
    "\n",
    "# Get your project and dataset\n",
    "project = dl.projects.get(project_name='project_name')\n",
    "dataset = project.datasets.get(dataset_name='dataset_name')\n",
    "\n",
    "# Get a recipe from the list\n",
    "recipe = dataset.recipes.list()[0]\n",
    "\n",
    "# Get a specific recipe by ID\n",
    "recipe = dataset.recipes.get(recipe_id='your-recipe-id')\n",
    "\n",
    "# Delete a recipe (only works on deleted datasets)\n",
    "dataset.recipes.get(recipe_id='your-recipe-id').delete()\n"
   ]
  },
  {
   "cell_type": "markdown",
   "metadata": {},
   "source": [
    "\n",
    "\n",
    "### Cloning Recipes \ud83d\udc11\n",
    "\n",
    "Need a recipe that's similar to an existing one? Clone it! It's like copying your grandma's recipe and adding your own twist.\n",
    "\n"
   ]
  },
  {
   "cell_type": "code",
   "execution_count": 0,
   "metadata": {},
   "outputs": [],
   "source": [
    "# Clone with options:\n",
    "# shallow=True: Links to existing ontology\n",
    "# shallow=False: Creates new copies of all linked ontologies\n",
    "recipe2 = recipe.clone(shallow=False)\n"
   ]
  },
  {
   "cell_type": "markdown",
   "metadata": {},
   "source": [
    "\n",
    "\n",
    "### Switching Dataset Recipes \ud83d\udd04\n",
    "\n",
    "Want to try a different recipe on your dataset? Here's how:\n",
    "\n"
   ]
  },
  {
   "cell_type": "code",
   "execution_count": 0,
   "metadata": {},
   "outputs": [],
   "source": [
    "dataset = project.datasets.get(dataset_name=\"myDataSet\")\n",
    "recipe = dataset.switch_recipe(recipe_id=\"recipe_id\")\n"
   ]
  },
  {
   "cell_type": "markdown",
   "metadata": {},
   "source": [
    "\n",
    "\n",
    "## Creating Your Ontology \ud83d\udcda\n",
    "\n",
    "### Starting Fresh\n",
    "\n"
   ]
  },
  {
   "cell_type": "code",
   "execution_count": 0,
   "metadata": {},
   "outputs": [],
   "source": [
    "# Create a new ontology with a starter label\n",
    "ontology = project.ontologies.create(\n",
    "    title=\"my_awesome_ontology\",\n",
    "    labels=[dl.Label(tag=\"Chameleon\", color=(255, 0, 0))]\n",
    ")\n"
   ]
  },
  {
   "cell_type": "markdown",
   "metadata": {},
   "source": [
    "\n",
    "\n",
    "### Connecting Ontology to an existing Recipe\n",
    "\n"
   ]
  },
  {
   "cell_type": "code",
   "execution_count": 0,
   "metadata": {},
   "outputs": [],
   "source": [
    "# Replace the existing ontology with a new one\n",
    "recipe.ontology_ids = [ontology.id]\n",
    "recipe.update()\n"
   ]
  },
  {
   "cell_type": "markdown",
   "metadata": {},
   "source": [
    "\n",
    "\n",
    "### Getting Ontology related Recipes\n",
    "\n"
   ]
  },
  {
   "cell_type": "code",
   "execution_count": 0,
   "metadata": {},
   "outputs": [],
   "source": [
    "# Magic query to find all the recipes linked to your ontology\n",
    "filters = dl.Filters(resource=dl.FiltersResource.RECIPE)\n",
    "filters.add(field=\"ontologies\", values=[ontology.id])  # Make sure to use \"ontologies\" instead of \"ontology\"\n",
    "recipes = ontology.project.recipes.list(filters=filters)\n"
   ]
  },
  {
   "cell_type": "markdown",
   "metadata": {},
   "source": [
    "\n",
    "\n",
    "### Adding Labels \ud83c\udff7\ufe0f\n",
    "\n",
    "You've got multiple ways to add labels - pick your favorite!\n",
    "\n",
    "#### Method 1: Quick Add\n"
   ]
  },
  {
   "cell_type": "code",
   "execution_count": 0,
   "metadata": {},
   "outputs": [],
   "source": [
    "# Add multiple labels at once\n",
    "dataset.add_labels(label_list=['person', 'animal', 'object'])\n",
    "\n",
    "# Add a single label with style\n",
    "dataset.add_label(\n",
    "    label_name='person',\n",
    "    color=(34, 6, 231),\n",
    "    icon_path='/home/project/images/icon.jpg'\n",
    ")\n"
   ]
  },
  {
   "cell_type": "markdown",
   "metadata": {},
   "source": [
    "\n",
    "\n",
    "#### Method 2: Using Label Objects\n"
   ]
  },
  {
   "cell_type": "code",
   "execution_count": 0,
   "metadata": {},
   "outputs": [],
   "source": [
    "# Create fancy labels with colors\n",
    "labels = [\n",
    "    dl.Label(tag='Donkey', color=(255, 100, 0)),\n",
    "    dl.Label(tag='Mammoth', color=(34, 56, 7)),\n",
    "    dl.Label(tag='Bird', color=(100, 14, 150))\n",
    "]\n",
    "dataset.add_labels(label_list=labels)\n"
   ]
  },
  {
   "cell_type": "markdown",
   "metadata": {},
   "source": [
    "\n",
    "\n",
    "### Creating Label Hierarchies \ud83c\udf32\n",
    "\n",
    "Want to organize your labels like a family tree? Here's how:\n",
    "\n"
   ]
  },
  {
   "cell_type": "code",
   "execution_count": 0,
   "metadata": {},
   "outputs": [],
   "source": [
    "# Create a parent label with children\n",
    "label = dl.Label(\n",
    "    tag='Fish',\n",
    "    color=(34, 6, 231),\n",
    "    children=[\n",
    "        dl.Label(tag='Shark', color=(34, 6, 231)),\n",
    "        dl.Label(tag='Salmon', color=(34, 6, 231))\n",
    "    ]\n",
    ")\n",
    "dataset.add_labels(label_list=label)\n"
   ]
  },
  {
   "cell_type": "markdown",
   "metadata": {},
   "source": [
    "\n",
    "\n",
    "### The Big Nested Labels Adventure \ud83d\uddfa\ufe0f\n",
    "\n",
    "Want to create complex hierarchies? Try this super-powered approach:\n",
    "\n"
   ]
  },
  {
   "cell_type": "code",
   "execution_count": 0,
   "metadata": {},
   "outputs": [],
   "source": [
    "nested_labels = [\n",
    "    {\n",
    "        'label_name': 'animal.Dog',\n",
    "        'color': '#220605',\n",
    "        'children': [\n",
    "            {'label_name': 'poodle', 'color': '#298345'},\n",
    "            {'label_name': 'labrador', 'color': '#298651'}\n",
    "        ]\n",
    "    },\n",
    "    {\n",
    "        'label_name': 'animal.cat',\n",
    "        'color': '#287605',\n",
    "        'children': [\n",
    "            {'label_name': 'Persian', 'color': '#298345'},\n",
    "            {'label_name': 'Balinese', 'color': '#298651'}\n",
    "        ]\n",
    "    }\n",
    "]\n",
    "labels = dataset.add_labels(label_list=nested_labels)\n"
   ]
  },
  {
   "cell_type": "markdown",
   "metadata": {},
   "source": [
    "\n",
    "\n",
    "## Working with Attributes \ud83c\udfa8\n",
    "\n",
    "Attributes are like special powers for your labels. They help describe additional properties without creating new labels.\n",
    "\n",
    "### Types of Attributes\n",
    "\n",
    "1. \u2705 **Checkbox** (Multiple Choice)\n"
   ]
  },
  {
   "cell_type": "code",
   "execution_count": 0,
   "metadata": {},
   "outputs": [],
   "source": [
    "ontology.update_attributes(\n",
    "    key='color',\n",
    "    title='Choose a color',\n",
    "    attribute_type=dl.AttributesTypes.CHECKBOX,\n",
    "    values=['red', 'blue', 'green'],\n",
    "    scope=['<label1>', '<label2>']\n",
    ")\n"
   ]
  },
  {
   "cell_type": "markdown",
   "metadata": {},
   "source": [
    "\n",
    "\n",
    "2. \ud83d\udd18 **Radio Button** (Single Choice)\n"
   ]
  },
  {
   "cell_type": "code",
   "execution_count": 0,
   "metadata": {},
   "outputs": [],
   "source": [
    "ontology.update_attributes(\n",
    "    key='occluded',\n",
    "    title='Level of occlusion',\n",
    "    attribute_type=dl.AttributesTypes.RADIO_BUTTON,\n",
    "    values=['no', 'mid', 'high'],\n",
    "    scope=['*']\n",
    ")\n"
   ]
  },
  {
   "cell_type": "markdown",
   "metadata": {},
   "source": [
    "\n",
    "\n",
    "3. \ud83c\udf9a\ufe0f **Slider**\n"
   ]
  },
  {
   "cell_type": "code",
   "execution_count": 0,
   "metadata": {},
   "outputs": [],
   "source": [
    "ontology.update_attributes(\n",
    "    key='height',\n",
    "    title='Person height[cm]',\n",
    "    attribute_type=dl.AttributesTypes.SLIDER,\n",
    "    attribute_range=dl.AttributesRange(0, 200, 10),\n",
    "    scope=['*']\n",
    ")\n"
   ]
  },
  {
   "cell_type": "markdown",
   "metadata": {},
   "source": [
    "\n",
    "\n",
    "4. \u2753 **Yes/No Question**\n"
   ]
  },
  {
   "cell_type": "code",
   "execution_count": 0,
   "metadata": {},
   "outputs": [],
   "source": [
    "ontology.update_attributes(\n",
    "    key='female',\n",
    "    title='Is mosquito female?',\n",
    "    attribute_type=dl.AttributesTypes.YES_NO,\n",
    "    scope=['*']\n",
    ")\n"
   ]
  },
  {
   "cell_type": "markdown",
   "metadata": {},
   "source": [
    "\n",
    "\n",
    "5. \u270d\ufe0f **Free Text**\n"
   ]
  },
  {
   "cell_type": "code",
   "execution_count": 0,
   "metadata": {},
   "outputs": [],
   "source": [
    "ontology.update_attributes(\n",
    "    key='age',\n",
    "    title='How old is the person',\n",
    "    attribute_type=dl.AttributesTypes.FREE_TEXT,\n",
    "    scope=['*']\n",
    ")\n"
   ]
  },
  {
   "cell_type": "markdown",
   "metadata": {},
   "source": [
    "\n",
    "\n",
    "## Handy Tips and Tricks \ud83d\udca1\n",
    "\n",
    "1. **View All Labels**\n"
   ]
  },
  {
   "cell_type": "code",
   "execution_count": 0,
   "metadata": {},
   "outputs": [],
   "source": [
    "# Get all labels (including children)\n",
    "print(ontology.labels_flat_dict)\n"
   ]
  },
  {
   "cell_type": "markdown",
   "metadata": {},
   "source": [
    "\n",
    "\n",
    "2. **Check Attributes**\n"
   ]
  },
  {
   "cell_type": "code",
   "execution_count": 0,
   "metadata": {},
   "outputs": [],
   "source": [
    "# See all attributes\n",
    "print(ontology.metadata['attributes'])\n",
    "# Get attribute keys\n",
    "keys = [att['key'] for att in ontology.metadata['attributes']]\n"
   ]
  },
  {
   "cell_type": "markdown",
   "metadata": {},
   "source": [
    "\n",
    "\n",
    "3. **Update Labels**\n"
   ]
  },
  {
   "cell_type": "code",
   "execution_count": 0,
   "metadata": {},
   "outputs": [],
   "source": [
    "# Update existing label\n",
    "dataset.update_label(label_name='Cat', color=\"#000080\")\n",
    "# Update or create if not exists\n",
    "dataset.update_label(label_name='Cat', color=\"#fcba03\", upsert=True)\n"
   ]
  },
  {
   "cell_type": "markdown",
   "metadata": {},
   "source": [
    "\n",
    "\n",
    "4. **Delete Labels**\n"
   ]
  },
  {
   "cell_type": "code",
   "execution_count": 0,
   "metadata": {},
   "outputs": [],
   "source": [
    "dataset.delete_labels(label_names=['Cat', 'Dog'])\n"
   ]
  },
  {
   "cell_type": "markdown",
   "metadata": {},
   "source": [
    "\n",
    "\n",
    "## Best Practices \ud83c\udf1f\n",
    "\n",
    "1. \ud83d\udcdd Plan your ontology structure before creating it\n",
    "2. \ud83c\udfa8 Use consistent color schemes for related labels\n",
    "3. \ud83d\udcca Keep your attribute choices clear and concise\n",
    "4. \ud83c\udf33 Don't go too deep with label hierarchies (max 5 levels)\n",
    "5. \ud83d\udd04 Test your recipe with a small dataset first\n",
    "\n",
    "## Need More Help? \ud83e\udd14\n",
    "\n",
    "- Check out our [Recipe Documentation](https://docs.dataloop.ai/docs/ontology-overview#recipe)\n",
    "- Visit our [Ontology Guide](https://docs.dataloop.ai/docs/ontology-overview#ontology)\n",
    "\n",
    "Happy labeling! \ud83d\ude80\n"
   ]
  }
 ],
 "metadata": {
  "kernelspec": {
   "display_name": "Python 3",
   "language": "python",
   "name": "python3"
  },
  "language_info": {
   "codemirror_mode": {
    "name": "ipython",
    "version": 3
   },
   "file_extension": ".py",
   "mimetype": "text/x-python",
   "name": "python",
   "nbconvert_exporter": "python",
   "pygments_lexer": "ipython3",
   "version": "3.7.7"
  }
 },
 "nbformat": 4,
 "nbformat_minor": 4
}