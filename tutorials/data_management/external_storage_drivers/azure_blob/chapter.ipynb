{
 "cells": [
  {
   "cell_type": "markdown",
   "metadata": {},
   "source": [
    "# Connecting Dataloop with Azure Blob Storage \ud83c\udf09\n",
    "\n",
    "Ever wondered how to connect your Azure Blob Storage seamlessly with Dataloop? You're in the right place! Let's walk through the process step by step, from setting up your integration to automating your data sync.\n",
    "\n",
    "## Step 1: Setting Up Azure Integration \ud83d\udd17\n",
    "\n",
    "Before we can start moving data around, we need to establish a secure connection between Dataloop and Azure. Let's set up the integration:\n",
    "\n"
   ]
  },
  {
   "cell_type": "code",
   "execution_count": 0,
   "metadata": {},
   "outputs": [],
   "source": [
    "import dtlpy as dl\n",
    "if dl.token_expired():\n",
    "    dl.login()\n",
    "organization = dl.organizations.get(organization_name='my-org')\n",
    "organization.integrations.create(\n",
    "    name='azure-integration',\n",
    "    integrations_type=dl.ExternalStorage.AZUREBLOB,\n",
    "    options={\n",
    "        'key': 'my_key',\n",
    "        'secret': 'my_secret',\n",
    "        'clientId': 'my_clientId',\n",
    "        'tenantId': 'my_tenantId'\n",
    "    }\n",
    ")\n"
   ]
  },
  {
   "cell_type": "markdown",
   "metadata": {},
   "source": [
    "\n",
    "\n",
    "To learn more about setting up integrations and required permissions, check out our [Dataloop documentation](https://docs.dataloop.ai/docs/azure-cloud-storage).\n",
    "\n",
    "## Step 2: Creating Your Storage Driver \ud83c\udfaf\n",
    "\n",
    "Now that we have our integration set up, let's create a storage driver - think of it as your personal data concierge that connects your specific Azure container to Dataloop.\n",
    "\n"
   ]
  },
  {
   "cell_type": "code",
   "execution_count": 0,
   "metadata": {},
   "outputs": [],
   "source": [
    "import dtlpy as dl\n",
    "project = dl.projects.get('project_name')\n",
    "driver = project.drivers.create(\n",
    "    name='driver_name',\n",
    "    driver_type=dl.ExternalStorage.AZUREBLOB,\n",
    "    integration_id='integration_id',\n",
    "    bucket_name='container_name',  # In Azure, this is your container name\n",
    "    allow_external_delete=True,\n",
    "    path=\"\"  # Optional: specify a path within the container\n",
    ")\n"
   ]
  },
  {
   "cell_type": "markdown",
   "metadata": {},
   "source": [
    "\n",
    "\n",
    "Once your driver is ready, you can create a dataset:\n",
    "\n"
   ]
  },
  {
   "cell_type": "code",
   "execution_count": 0,
   "metadata": {},
   "outputs": [],
   "source": [
    "dataset = project.datasets.create(dataset_name=dataset_name, driver=driver)\n",
    "# Sync the dataset\n",
    "dataset.sync()\n"
   ]
  },
  {
   "cell_type": "markdown",
   "metadata": {},
   "source": [
    "\n",
    "\n",
    "## Step 3: Syncing Your Data \ud83d\udd04\n",
    "\n",
    "### Manual Sync \u26a1\n",
    "\n",
    "Need to sync a specific item? Here's your shortcut:\n",
    "\n"
   ]
  },
  {
   "cell_type": "code",
   "execution_count": 0,
   "metadata": {},
   "outputs": [],
   "source": [
    "import dtlpy as dl\n",
    "dl.login()\n",
    "# Use the full item path in Azure context\n",
    "item_path = 'external://' + '<Your_item_full_name>'\n",
    "# Optional: specify a destination folder\n",
    "remote_path = '/Test_Folder'\n",
    "dataset = dl.datasets.get(dataset_id='your dataset id')\n",
    "dataset.items.upload(local_path=item_path, remote_path=remote_path)\n"
   ]
  },
  {
   "cell_type": "markdown",
   "metadata": {},
   "source": [
    "\n",
    "\n",
    "### Automatic Sync with Azure Function \u2728\n",
    "\n",
    "Want your Dataloop dataset to automatically stay in sync with your Azure Blob container? Let's set up an Azure Function!\n",
    "\n",
    "#### Prerequisites \ud83d\udccb\n",
    "\n",
    "1. An Azure account with an active subscription\n",
    "2. A resource group and storage account ([Create one if needed](https://learn.microsoft.com/en-us/azure/storage/common/storage-account-create))\n",
    "3. Familiarity with [Azure Function App](https://learn.microsoft.com/en-us/azure/azure-functions/create-first-function-vs-code-python) (optional)\n",
    "\n",
    "#### Setting Up Your Azure Function \ud83d\udee0\ufe0f\n",
    "\n",
    "1. Create a Container in your Storage Account:\n",
    "   * Set Public access level to Container OR Blob\n",
    "   * Note: This container will be your external storage for the Dataloop dataset\n",
    "\n",
    "2. Create a new Function App:\n",
    "   * Choose your Subscription and Resource Group\n",
    "   * Pick a Function Name\n",
    "   * Select:\n",
    "     - Publish -> Code\n",
    "     - Runtime stack -> Python (Version 3.7-3.10)\n",
    "     - Region -> Your preferred region\n",
    "     * Use defaults for OS and Plan\n",
    "   * Link to your Storage account\n",
    "   * Review and create\n",
    "\n",
    "3. Deploy Your Function:\n",
    "   * In VS Code:\n",
    "     a. Configure your environment\n",
    "     b. Sign in to Azure\n",
    "     c. Create local project:\n",
    "        - Go to Azure panel -> workspace -> create function\n",
    "        - Choose directory location\n",
    "        - Select Azure Event Grid trigger template\n",
    "        - Add `dtlpy` to requirements.txt\n",
    "        - Replace \\_\\_init\\_\\_.py with this code:\n",
    "\n"
   ]
  },
  {
   "cell_type": "code",
   "execution_count": 0,
   "metadata": {},
   "outputs": [],
   "source": [
    "import azure.functions as func\n",
    "import os\n",
    "os.environ[\"DATALOOP_PATH\"] = \"/tmp\"\n",
    "import dtlpy as dl\n",
    "\n",
    "dataset_id = os.environ.get('DATASET_ID')\n",
    "dtlpy_username = os.environ.get('DTLPY_USERNAME')\n",
    "dtlpy_password = os.environ.get('DTLPY_PASSWORD')\n",
    "container_name = os.environ.get('CONTAINER_NAME')\n",
    "\n",
    "def main(event: func.EventGridEvent):\n",
    "    url = event.get_json()['url']\n",
    "    if container_name in url:\n",
    "        dl.login_m2m(email=dtlpy_username, password=dtlpy_password)\n",
    "        dataset = dl.datasets.get(dataset_id=dataset_id)\n",
    "        driver_path = dl.drivers.get(driver_id=dataset.driver).path\n",
    "        # remove th Container name from the path\n",
    "        file_name_to_upload = url.split(container_name)[1]\n",
    "        if driver_path == '/':\n",
    "            driver_path = None\n",
    "        if driver_path is not None and driver_path not in url:\n",
    "            return\n",
    "        if driver_path:\n",
    "            if not driver_path.startswith(\"/\"):\n",
    "                driver_path = \"/\" + driver_path\n",
    "            remote_path = file_name_to_upload.replace(driver_path, '')\n",
    "        else:\n",
    "            remote_path = file_name_to_upload\n",
    "        if 'BlobCreated' in event.event_type:\n",
    "            file_name = 'external:/' + file_name_to_upload\n",
    "            dataset.items.upload(local_path=file_name, remote_path=os.path.dirname(remote_path))\n",
    "        else:\n",
    "            dataset.items.delete(filename=remote_path)\n"
   ]
  },
  {
   "cell_type": "markdown",
   "metadata": {},
   "source": [
    "\n",
    "\n",
    "4. Configure Your Function:\n",
    "   * Deploy the code ([Azure docs](https://learn.microsoft.com/en-us/azure/azure-functions/create-first-function-vs-code-python?pivots=python-mode-configuration#deploy-the-project-to-azure))\n",
    "   * Upload local settings: View -> Command Palette -> \"Azure Functions: Upload Local Settings\"\n",
    "   * Add environment variables:\n",
    "     - `DATASET_ID`\n",
    "     - `DTLPY_USERNAME`\n",
    "     - `DTLPY_PASSWORD`\n",
    "     - `CONTAINER_NAME`\n",
    "\n",
    "Need those credentials? Here's how to get them:\n",
    "\n"
   ]
  },
  {
   "cell_type": "code",
   "execution_count": 0,
   "metadata": {},
   "outputs": [],
   "source": [
    "import dtlpy as dl\n",
    "dl.login()\n",
    "project = dl.projects.get(project_name='project name')\n",
    "bot = project.bots.create(name='serviceAccount', return_credentials=True)\n",
    "print('\ud83e\udd16 Bot username:', bot.id)\n",
    "print('\ud83d\udd11 Bot password:', bot.password)\n"
   ]
  },
  {
   "cell_type": "markdown",
   "metadata": {},
   "source": [
    "\n",
    "\n",
    "5. Set Up Event Grid Subscription:\n",
    "   * Go to your function in Function App\n",
    "   * Navigate to Integration -> Select trigger -> Create Event Grid subscription\n",
    "   * Configure:\n",
    "     - Event Schema -> Event Grid Schema\n",
    "     - Topic Types -> Storage Account (Blob & GPv2)\n",
    "     - Select your Subscription, Resource Group, Resource\n",
    "     - System Topic Name -> your Event Grid Topic\n",
    "     - Filter to Event Types -> Create and Delete\n",
    "     - Endpoint Type -> Function App\n",
    "     - Endpoint -> your function\n",
    "\n",
    "**Note:** Allow up to 5 minutes for the automatic sync to become active.\n",
    "\n",
    "## Need More Help? \ud83e\udd14\n",
    "\n",
    "For detailed Azure integration setup, check out our [comprehensive documentation](https://docs.dataloop.ai/docs/azure-cloud-storage).\n",
    "\n",
    "Happy data syncing! \ud83d\ude80\n"
   ]
  }
 ],
 "metadata": {
  "kernelspec": {
   "display_name": "Python 3",
   "language": "python",
   "name": "python3"
  },
  "language_info": {
   "codemirror_mode": {
    "name": "ipython",
    "version": 3
   },
   "file_extension": ".py",
   "mimetype": "text/x-python",
   "name": "python",
   "nbconvert_exporter": "python",
   "pygments_lexer": "ipython3",
   "version": "3.7.7"
  }
 },
 "nbformat": 4,
 "nbformat_minor": 4
}