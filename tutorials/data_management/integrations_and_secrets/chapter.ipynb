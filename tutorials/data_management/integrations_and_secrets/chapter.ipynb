{
 "cells": [
  {
   "cell_type": "markdown",
   "metadata": {},
   "source": [
    "# Managing Integrations and Secrets in Dataloop \ud83d\udd10\n",
    "\n",
    "Welcome to your guide to managing integrations and secrets in Dataloop! Let's learn how to securely connect your external resources and manage sensitive information.\n",
    "\n",
    "## Understanding Integrations \ud83d\udd17\n",
    "\n",
    "Think of integrations as secure bridges between Dataloop and your external resources. They're your organization's VIP passes to safely access and manage external services! \ud83c\udfab\n",
    "\n",
    "### What Can You Connect To? \ud83c\udf10\n",
    "\n",
    "Integrations allow your Dataloop organization to securely configure and access a variety of external resources:\n",
    "\n",
    "- Cloud Storage Services \u2601\ufe0f\n",
    "  - Google Cloud Platform (GCP)\n",
    "  - Amazon S3\n",
    "  - Microsoft Azure Blob\n",
    "- Container Registries \ud83d\udc33\n",
    "  - AWS Elastic Container Registry (ECR)\n",
    "  - Google Container Registry (GCR)\n",
    "  - Google Artifact Registry (GAR)\n",
    "- Secure Token Service (STS) \ud83d\udd11\n",
    "- And more exciting services! \ud83d\ude80\n",
    "\n",
    "### Why Use Integrations? \ud83c\udfaf\n",
    "\n",
    "When working with cloud services (like storage drivers), setting up an integration is your crucial first step. It's like creating a secure vault where you can:\n",
    "- Store access tokens safely \ud83d\udd12\n",
    "- Manage service credentials efficiently \ud83d\udddd\ufe0f\n",
    "- Enable seamless connections between services \ud83e\udd1d\n",
    "\n",
    "## Setting Up Integrations \ud83d\udee0\ufe0f\n",
    "\n",
    "### Cloud Storage Integration \u2601\ufe0f\n",
    "\n",
    "When working with cloud storage, setting up an integration is your first step. It's where you securely store your access credentials:\n",
    "\n"
   ]
  },
  {
   "cell_type": "code",
   "execution_count": 0,
   "metadata": {},
   "outputs": [],
   "source": [
    "import dtlpy as dl\n",
    "\n",
    "# Get your project\n",
    "project = dl.projects.get(project_name='My-Project')\n",
    "\n",
    "# Create the integration\n",
    "project.integrations.create(\n",
    "    integrations_type=dl.ExternalStorage.S3,  # Choose your cloud provider type\n",
    "    name='my-cloud-integration',\n",
    "    options={\n",
    "        \"key\": \"Access key ID\",\n",
    "        \"secret\": \"Secret access key\"\n",
    "    }\n",
    ")\n"
   ]
  },
  {
   "cell_type": "markdown",
   "metadata": {},
   "source": [
    "\n",
    "\n",
    "Want to learn more about cloud storage? Check out our detailed guides:\n",
    "- [Amazon Web Services (S3)](/tutorials/data_management/external_storage_drivers/aws_s3/chapter.md)\n",
    "- [Microsoft Azure Blob Storage](/tutorials/data_management/external_storage_drivers/azure_blob/chapter.md)\n",
    "- [Google Cloud Storage](/tutorials/data_management/external_storage_drivers/gcs/chapter.md)\n",
    "\n",
    "## Managing Secrets \ud83d\udddd\ufe0f\n",
    "\n",
    "### Understanding Secrets Manager\n",
    "\n",
    "Our secrets manager is your vault for sensitive information. It's designed to:\n",
    "- Keep your credentials secure \ud83d\udd12\n",
    "- Make them easily accessible in your code \ud83c\udfaf\n",
    "- Integrate smoothly with Pipelines and FaaS \ud83d\udd04\n",
    "\n",
    "### Creating Key-Value Secrets \u2728\n",
    "\n",
    "Need to store a simple key-value pair? Here's how:\n",
    "\n"
   ]
  },
  {
   "cell_type": "code",
   "execution_count": 0,
   "metadata": {},
   "outputs": [],
   "source": [
    "import dtlpy as dl\n",
    "\n",
    "# Get your organization\n",
    "organization = dl.organizations.get(organization_name='my-org')\n",
    "\n",
    "# Create a key-value secret\n",
    "organization.integrations.create(\n",
    "    name='my-secret',\n",
    "    integrations_type=dl.IntegrationType.KEY_VALUE,\n",
    "    options={\n",
    "        'key': \"my_key\",\n",
    "        'value': \"my_value\"\n",
    "    }\n",
    ")\n"
   ]
  },
  {
   "cell_type": "markdown",
   "metadata": {},
   "source": [
    "\n",
    "\n",
    "### Using Secrets in Your Code \ud83d\udcbb\n",
    "\n",
    "When working with FaaS, you can use secrets to access your external resources. \n",
    "In the cloud environment, the secrets are saved as an environment variable.\n",
    "\n"
   ]
  },
  {
   "cell_type": "code",
   "execution_count": 0,
   "metadata": {},
   "outputs": [],
   "source": [
    "import dtlpy as dl\n",
    "import os\n",
    "\n",
    "def my_function(item):\n",
    "    # Access your secrets\n",
    "    secret = os.environ.get('my-secret')\n",
    "    # Your code here\n",
    "    return item\n"
   ]
  },
  {
   "cell_type": "markdown",
   "metadata": {},
   "source": [
    "\n",
    "\n",
    "\n",
    "For more details on using secrets in functions, check out our [FaaS Security and Environment Chapter](https://developers.dataloop.ai/tutorials/faas_applications/service_configurations/chapter#-security-and-environment).\n",
    "\n",
    "## Best Practices \ud83c\udf1f\n",
    "\n",
    "1. **Naming Convention**: Use clear, descriptive names for your integrations and secrets\n",
    "2. **Access Control**: Only share secrets with those who need them\n",
    "3. **Regular Rotation**: Update your secrets periodically for better security\n",
    "4. **Documentation**: Keep track of what each secret is used for\n",
    "5. **Validation**: Always validate your integrations after setting them up\n",
    "\n",
    "## Need More Help? \ud83e\udd14\n",
    "\n",
    "Check out our [comprehensive documentation](https://docs.dataloop.ai/docs/welcome) for more details on managing integrations and secrets.\n",
    "\n",
    "Happy securing! \ud83d\ude80\n"
   ]
  }
 ],
 "metadata": {
  "kernelspec": {
   "display_name": "Python 3",
   "language": "python",
   "name": "python3"
  },
  "language_info": {
   "codemirror_mode": {
    "name": "ipython",
    "version": 3
   },
   "file_extension": ".py",
   "mimetype": "text/x-python",
   "name": "python",
   "nbconvert_exporter": "python",
   "pygments_lexer": "ipython3",
   "version": "3.7.7"
  }
 },
 "nbformat": 4,
 "nbformat_minor": 4
}