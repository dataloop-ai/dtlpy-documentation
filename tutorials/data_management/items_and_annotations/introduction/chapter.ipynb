{
 "cells": [
  {
   "cell_type": "markdown",
   "metadata": {},
   "source": [
    "# Working with Items and Annotations in Dataloop \ud83d\udce6\n",
    "\n",
    "Welcome to your guide to working with items and annotations in Dataloop! Whether you're uploading files, managing metadata, or organizing your data, we've got you covered. Let's dive in!\n",
    "\n",
    "## Understanding Items \ud83d\udcda\n",
    "\n",
    "In Dataloop, an item can be any type of data - images, videos, text files, and more. Think of items as the building blocks of your datasets. Each item can have:\n",
    "- Metadata\n",
    "- Annotations\n",
    "- Custom attributes\n",
    "- And more!\n",
    "\n",
    "### Basic Item Operations \ud83d\udee0\ufe0f\n",
    "\n",
    "### Uploading Individual Files\n",
    "\n",
    "Let's start with the basics - uploading specific files to your dataset:\n",
    "\n"
   ]
  },
  {
   "cell_type": "code",
   "execution_count": 0,
   "metadata": {},
   "outputs": [],
   "source": [
    "import dtlpy as dl\n",
    "if dl.token_expired():\n",
    "    dl.login()\n",
    "\n",
    "# Get your project and dataset\n",
    "project = dl.projects.get(project_name='project_name')\n",
    "dataset = project.datasets.get(dataset_name='dataset_name')\n",
    "\n",
    "# Upload specific files\n",
    "local_path = [\n",
    "    r'C:/home/project/images/John Morris.jpg',\n",
    "    r'C:/home/project/images/John Benton.jpg',\n",
    "    r'C:/home/project/images/Liu Jinli.jpg'\n",
    "]\n",
    "remote_path = '/folder_name'  # Optional: files go to root directory by default\n",
    "\n",
    "# Upload the files\n",
    "dataset.items.upload(\n",
    "    local_path=local_path,\n",
    "    remote_path=remote_path\n",
    ")\n"
   ]
  },
  {
   "cell_type": "markdown",
   "metadata": {},
   "source": [
    "\n",
    "\n",
    "### Uploading Entire Folders\n",
    "\n",
    "Need to upload all files from a folder? Here's how:\n",
    "\n"
   ]
  },
  {
   "cell_type": "code",
   "execution_count": 0,
   "metadata": {},
   "outputs": [],
   "source": [
    "# Specify your folder path\n",
    "local_path = r'C:/home/project/images'\n",
    "remote_path = '/folder_name'\n",
    "\n",
    "# Upload everything in the folder\n",
    "dataset.items.upload(\n",
    "    local_path=local_path,\n",
    "    remote_path=remote_path\n",
    ")\n"
   ]
  },
  {
   "cell_type": "markdown",
   "metadata": {},
   "source": [
    "\n",
    "\n",
    "### Working with URLs\n",
    "\n",
    "You can also add items using their URL links:\n",
    "\n"
   ]
  },
  {
   "cell_type": "code",
   "execution_count": 0,
   "metadata": {},
   "outputs": [],
   "source": [
    "# Prepare your URL\n",
    "url_path = 'http://ww.some_website/beautiful_flower.jpg'\n",
    "file_name = 'flower.jpg'\n",
    "\n",
    "# Create a URL link\n",
    "link = dl.UrlLink(\n",
    "    ref=url_path,\n",
    "    mimetype='image',\n",
    "    name=file_name\n",
    ")\n",
    "\n",
    "# Upload the link\n",
    "item = dataset.items.upload(local_path=link)\n",
    "\n",
    "# View the item in the platform\n",
    "item.open_in_web()\n"
   ]
  },
  {
   "cell_type": "markdown",
   "metadata": {},
   "source": [
    "\n",
    "\n",
    "### Working with Metadata \ud83d\udcdd\n",
    "\n",
    "Think of metadata as your data's personal diary - you can attach any information you want to both items and annotations. It's perfect for organizing, filtering, and finding your data later.\n",
    "\n",
    "> \u26a0\ufe0f **Note**: When adding new metadata to an item, it might overwrite existing metadata, so be careful to preserve existing data when needed.\n",
    "\n",
    "#### Metadata Types\n",
    "\n",
    "Metadata supports various data types:\n",
    "\n",
    "1. \ud83d\udcdd **Strings**\n"
   ]
  },
  {
   "cell_type": "code",
   "execution_count": 0,
   "metadata": {},
   "outputs": [],
   "source": [
    "item.metadata['user'] = {'message': 'Hello, World!'}\n",
    "annotation.metadata['user'] = {'mood': 'Happy'}\n"
   ]
  },
  {
   "cell_type": "markdown",
   "metadata": {},
   "source": [
    "\n",
    "\n",
    "2. \ud83d\udd22 **Numbers**\n"
   ]
  },
  {
   "cell_type": "code",
   "execution_count": 0,
   "metadata": {},
   "outputs": [],
   "source": [
    "item.metadata['user'] = {'lucky_number': 42}\n",
    "annotation.metadata['user'] = {'confidence_score': 0.95}\n"
   ]
  },
  {
   "cell_type": "markdown",
   "metadata": {},
   "source": [
    "\n",
    "\n",
    "3. \u2705 **Booleans**\n"
   ]
  },
  {
   "cell_type": "code",
   "execution_count": 0,
   "metadata": {},
   "outputs": [],
   "source": [
    "item.metadata['user'] = {'is_verified': True}\n",
    "annotation.metadata['user'] = {'needs_review': False}\n"
   ]
  },
  {
   "cell_type": "markdown",
   "metadata": {},
   "source": [
    "\n",
    "\n",
    "4. \ud83d\udc7b **Null**\n"
   ]
  },
  {
   "cell_type": "code",
   "execution_count": 0,
   "metadata": {},
   "outputs": [],
   "source": [
    "item.metadata['user'] = {'secret': None}\n"
   ]
  },
  {
   "cell_type": "markdown",
   "metadata": {},
   "source": [
    "\n",
    "\n",
    "#### Basic Metadata Upload\n",
    "\n",
    "Here's how to upload items with metadata:\n",
    "\n"
   ]
  },
  {
   "cell_type": "code",
   "execution_count": 0,
   "metadata": {},
   "outputs": [],
   "source": [
    "# Prepare item information\n",
    "item_info = {\n",
    "    'local_path': 'path/to/image.jpg',\n",
    "    'remote_path': '/destination',\n",
    "    'remote_name': 'new_name.jpg',\n",
    "    'item_metadata': {\n",
    "        'user': {\n",
    "            'category': 'flower',\n",
    "            'color': 'red'\n",
    "        }\n",
    "    }\n",
    "}\n",
    "\n",
    "# Upload with metadata\n",
    "item = dataset.items.upload(**item_info)\n"
   ]
  },
  {
   "cell_type": "markdown",
   "metadata": {},
   "source": [
    "\n",
    "\n",
    "#### Updating Existing Item Metadata\n",
    "\n"
   ]
  },
  {
   "cell_type": "code",
   "execution_count": 0,
   "metadata": {},
   "outputs": [],
   "source": [
    "# Get your item\n",
    "item = dataset.items.get(item_id='your-item-id')\n",
    "\n",
    "# Add or update metadata\n",
    "if 'user' not in item.metadata:\n",
    "    item.metadata['user'] = dict()\n",
    "item.metadata['user']['mood'] = 'fantastic'\n",
    "\n",
    "# Save the changes\n",
    "item = item.update()\n"
   ]
  },
  {
   "cell_type": "markdown",
   "metadata": {},
   "source": [
    "\n",
    "\n",
    "#### Finding Items by Metadata\n",
    "\n",
    "Want to find all items with specific metadata? Here's how:\n",
    "\n"
   ]
  },
  {
   "cell_type": "code",
   "execution_count": 0,
   "metadata": {},
   "outputs": [],
   "source": [
    "# Create filters\n",
    "filters = dl.Filters(resource=dl.FiltersResource.ITEM)\n",
    "filters.add(field='metadata.user.mood', values='fantastic')\n",
    "\n",
    "# Find matching items\n",
    "pages = dataset.items.list(filters=filters)\n",
    "for page in pages:\n",
    "    for item in page:\n",
    "        print(f\"Found item: {item.name} with mood: {item.metadata['user']['mood']}\")\n"
   ]
  },
  {
   "cell_type": "markdown",
   "metadata": {},
   "source": [
    "\n",
    "\n",
    "### Working with Arrays \ud83d\udd22a\n",
    "\n",
    "Need to upload numpy arrays directly? Here's how:\n",
    "\n"
   ]
  },
  {
   "cell_type": "code",
   "execution_count": 0,
   "metadata": {},
   "outputs": [],
   "source": [
    "import cv2\n",
    "import numpy as np\n",
    "from PIL import Image\n",
    "\n",
    "# Load image with cv2\n",
    "img_cv2 = cv2.imread(\"/home/tmp/saturn.jpg\")\n",
    "\n",
    "# Or load with PIL\n",
    "img_pil = np.asarray(Image.open(\"/home/tmp/saturn.jpg\"))\n",
    "\n",
    "# Upload array (remote_name is required!)\n",
    "item = dataset.items.upload(\n",
    "    local_path=img_cv2,\n",
    "    remote_name='saturn.jpg'\n",
    ")\n",
    "\n",
    "# View in platform\n",
    "item.open_in_web()\n"
   ]
  },
  {
   "cell_type": "markdown",
   "metadata": {},
   "source": [
    "\n",
    "\n",
    "### Working with Modalities \ud83c\udfad\n",
    "\n",
    "Modalities are multiple layers representing the same reality or scene. For example, you might have multiple sensors capturing the same object, or different views of the same item. In Dataloop, you can link these related items as modality layers.\n",
    "\n",
    "#### Adding a Single Modality\n",
    "\n",
    "Here's how to set one item as a modality of another:\n",
    "\n"
   ]
  },
  {
   "cell_type": "code",
   "execution_count": 0,
   "metadata": {},
   "outputs": [],
   "source": [
    "# Get your main item\n",
    "main_item = dataset.items.get(item_id='main-item-id')\n",
    "\n",
    "# Get the modality item\n",
    "modality_item = dataset.items.get(item_id='modality-item-id')\n",
    "\n",
    "# Create the modality link\n",
    "main_item.modalities.create(\n",
    "    name='thermal_view',  # Give your modality a descriptive name\n",
    "    modality_type=dl.ModalityTypeEnum.OVERLAY,\n",
    "    ref=modality_item.id\n",
    ")\n",
    "\n",
    "# Update the main item to apply changes\n",
    "main_item.update()\n"
   ]
  },
  {
   "cell_type": "markdown",
   "metadata": {},
   "source": [
    "\n",
    "\n",
    "#### Working with Multiple Modalities\n",
    "\n",
    "For multiple modalities, you can use a JSON layout to organize your items:\n",
    "\n"
   ]
  },
  {
   "cell_type": "code",
   "execution_count": 0,
   "metadata": {},
   "outputs": [],
   "source": [
    "# Example modalities layout\n",
    "modalities_layout = {\n",
    "    \"main_image.jpg\": [  # Main item path or URL\n",
    "        \"thermal_view.jpg\",  # Modality 1\n",
    "        \"depth_map.png\"     # Modality 2\n",
    "    ],\n",
    "    \"https://example.com/main.jpg\": [  # Main item URL\n",
    "        \"https://example.com/thermal.jpg\",\n",
    "        \"https://example.com/depth.png\"\n",
    "    ]\n",
    "}\n",
    "\n",
    "# Function to upload and link modalities\n",
    "def upload_with_modalities(dataset, source, modalities):\n",
    "    # Upload main item (handle both local files and URLs)\n",
    "    if not os.path.isfile(source):\n",
    "        source = dl.UrlLink(ref=source)\n",
    "    main_item = dataset.items.upload(local_path=source)\n",
    "    \n",
    "    # Upload modalities\n",
    "    modalities = [\n",
    "        mod if os.path.isfile(mod) else dl.UrlLink(ref=mod) \n",
    "        for mod in modalities\n",
    "    ]\n",
    "    modality_items = dataset.items.upload(\n",
    "        local_path=modalities,\n",
    "        remote_path='/modalities'\n",
    "    )\n",
    "    \n",
    "    # Create modality links\n",
    "    for mod_item in modality_items:\n",
    "        main_item.modalities.create(\n",
    "            modality_type=dl.ModalityTypeEnum.OVERLAY,\n",
    "            ref=mod_item.id,\n",
    "            name=f'{mod_item.name}:{mod_item.id}'\n",
    "        )\n",
    "    main_item.update(system_metadata=True)\n",
    "\n",
    "# Process all items with modalities in parallel\n",
    "from concurrent.futures import ThreadPoolExecutor\n",
    "\n",
    "with ThreadPoolExecutor(max_workers=32) as executor:\n",
    "    for source, modalities in modalities_layout.items():\n",
    "        executor.submit(\n",
    "            upload_with_modalities,\n",
    "            dataset=dataset,\n",
    "            source=source,\n",
    "            modalities=modalities\n",
    "        )\n"
   ]
  },
  {
   "cell_type": "markdown",
   "metadata": {},
   "source": [
    "\n",
    "\n",
    "## Working with Annotations in Dataloop \ud83c\udfa8\n",
    "\n",
    "Welcome to your guide to working with annotations in Dataloop! Whether you're creating labels, managing metadata, or organizing your annotations, we've got you covered. Let's dive in!\n",
    "\n",
    "### Understanding Annotations \ud83d\udcda\n",
    "\n",
    "In Dataloop, annotations are the building blocks of your labeled data. Each annotation can have:\n",
    "- Labels\n",
    "- Attributes\n",
    "- Metadata\n",
    "- Task and Recipe context\n",
    "- And more!\n",
    "\n",
    "### Basic Annotation Operations \ud83d\udee0\ufe0f\n",
    "\n",
    "### Adding Simple Annotations\n",
    "\n",
    "Let's start with the basics - adding annotations to an item:\n",
    "\n"
   ]
  },
  {
   "cell_type": "code",
   "execution_count": 0,
   "metadata": {},
   "outputs": [],
   "source": [
    "import dtlpy as dl\n",
    "item = dl.items.get(item_id=\"your-item-id\")\n",
    "\n",
    "# Create an annotation collection\n",
    "collection = item.annotations.builder()\n",
    "\n",
    "# Add a classification\n",
    "collection.add(\n",
    "    annotation_definition=dl.Classification(label=\"Komodo Dragon\"),\n",
    "    metadata={\"type\": \"reptile\"}\n",
    ")\n",
    "\n",
    "# Upload the annotations\n",
    "item.annotations.upload(annotations=collection)\n"
   ]
  },
  {
   "cell_type": "markdown",
   "metadata": {},
   "source": [
    "\n",
    "\n",
    "### Working with Metadata\n",
    "\n",
    "Need to update annotation metadata? Here's how:\n",
    "\n"
   ]
  },
  {
   "cell_type": "code",
   "execution_count": 0,
   "metadata": {},
   "outputs": [],
   "source": [
    "# Get an existing annotation\n",
    "annotation = item.annotations.get(annotation_id=\"your-annotation-id\")\n",
    "\n",
    "# Update metadata\n",
    "annotation.metadata[\"user\"] = True\n",
    "annotation.update()\n"
   ]
  },
  {
   "cell_type": "markdown",
   "metadata": {},
   "source": [
    "\n",
    "\n",
    "### Setting Attributes \ud83c\udff7\ufe0f\n",
    "\n",
    "#### Free Text Attribute\n",
    "\n"
   ]
  },
  {
   "cell_type": "code",
   "execution_count": 0,
   "metadata": {},
   "outputs": [],
   "source": [
    "annotation.attributes.update({\"ID of the attribute\": \"value of the attribute\"})\n",
    "annotation = annotation.update(True)\n"
   ]
  },
  {
   "cell_type": "markdown",
   "metadata": {},
   "source": [
    "\n",
    "\n",
    "#### Range Attributes (Slider in UI)\n",
    "\n"
   ]
  },
  {
   "cell_type": "code",
   "execution_count": 0,
   "metadata": {},
   "outputs": [],
   "source": [
    "annotation.attributes.update({\"<attribute-id>\": number_on_range})\n",
    "annotation = annotation.update(system_metadata=True)\n"
   ]
  },
  {
   "cell_type": "markdown",
   "metadata": {},
   "source": [
    "\n",
    "\n",
    "#### CheckBox Attribute (Multiple Choice)\n",
    "\n"
   ]
  },
  {
   "cell_type": "code",
   "execution_count": 0,
   "metadata": {},
   "outputs": [],
   "source": [
    "annotation.attributes.update({\"<attribute-id>\": [\"selection1\", \"selection2\"]})\n",
    "annotation = annotation.update(system_metadata=True)\n"
   ]
  },
  {
   "cell_type": "markdown",
   "metadata": {},
   "source": [
    "\n",
    "\n",
    "#### Radio Button Attribute (Single Choice)\n",
    "\n"
   ]
  },
  {
   "cell_type": "code",
   "execution_count": 0,
   "metadata": {},
   "outputs": [],
   "source": [
    "annotation.attributes.update({\"<attribute-id>\": \"selection\"})\n",
    "annotation = annotation.update(system_metadata=True)\n"
   ]
  },
  {
   "cell_type": "markdown",
   "metadata": {},
   "source": [
    "\n",
    "\n",
    "#### Yes/No Attribute\n",
    "\n"
   ]
  },
  {
   "cell_type": "code",
   "execution_count": 0,
   "metadata": {},
   "outputs": [],
   "source": [
    "annotation.attributes.update({\"<attribute-id>\": True})  # or False\n",
    "annotation = annotation.update(system_metadata=True)\n"
   ]
  },
  {
   "cell_type": "markdown",
   "metadata": {},
   "source": [
    "\n",
    "\n",
    "### Task and Recipe Context \ud83d\udccb\n",
    "\n",
    "Want to add task context to your annotations? Here's how:\n",
    "\n"
   ]
  },
  {
   "cell_type": "code",
   "execution_count": 0,
   "metadata": {},
   "outputs": [],
   "source": [
    "# Get the entities\n",
    "assignment = dl.assignments.get(assignment_id=\"your-assignment-id\")\n",
    "task = dl.tasks.get(task_id=\"your-task-id\")\n",
    "# OR\n",
    "task = assignment.task\n",
    "recipe = dl.recipes.get(recipe_id=\"your-recipe-id\")\n",
    "# OR\n",
    "recipe = dl.recipes.get(recipe_id=task.recipe_id)\n",
    "\n",
    "# Create context dictionary\n",
    "context = {\n",
    "    \"taskId\": task.id,\n",
    "    \"assignmentId\": assignment.id,\n",
    "    \"recipeId\": recipe.id\n",
    "}\n",
    "\n",
    "# Add annotation with context\n",
    "collection = item.annotations.builder()\n",
    "collection.add(\n",
    "    annotation_definition=dl.Classification(label=\"Komodo Dragon\"),\n",
    "    metadata={\"system\": context}\n",
    ")\n",
    "item.annotations.upload(annotations=collection)\n",
    "\n",
    "# Or update existing annotation\n",
    "annotation = item.annotations.get(annotation_id=\"your-annotation-id\")\n",
    "annotation.metadata[\"system\"].update(context)\n",
    "annotation.update(system_metadata=True)\n"
   ]
  },
  {
   "cell_type": "markdown",
   "metadata": {},
   "source": [
    "\n",
    "\n",
    "### Visualizing Annotations \ud83d\udc41\ufe0f\n",
    "\n",
    "#### Show Individual Annotations\n",
    "\n"
   ]
  },
  {
   "cell_type": "code",
   "execution_count": 0,
   "metadata": {},
   "outputs": [],
   "source": [
    "# Use the show function for specific annotation types\n",
    "box = dl.Box()\n",
    "box.show(\n",
    "    image=\"path/to/image\",\n",
    "    thickness=2,\n",
    "    with_text=True,\n",
    "    height=None,  # Optional\n",
    "    width=None,   # Optional\n",
    "    annotation_format=\"dl.ViewAnnotationOptions.*\",\n",
    "    color=(0, 255, 0)  # RGB format\n",
    ")\n"
   ]
  },
  {
   "cell_type": "markdown",
   "metadata": {},
   "source": [
    "\n",
    "\n",
    "#### Show All Item Annotations\n",
    "\n"
   ]
  },
  {
   "cell_type": "code",
   "execution_count": 0,
   "metadata": {},
   "outputs": [],
   "source": [
    "# Show all annotations on an item\n",
    "annotation.show(\n",
    "    image=\"path/to/image\",\n",
    "    height=None,  # Optional\n",
    "    width=None,   # Optional\n",
    "    annotation_format=\"dl.ViewAnnotationOptions.*\",\n",
    "    thickness=2,\n",
    "    with_text=True\n",
    ")\n"
   ]
  },
  {
   "cell_type": "markdown",
   "metadata": {},
   "source": [
    "\n",
    "\n",
    "## Best Practices \ud83d\udca1\n",
    "\n",
    "### Data Organization and Structure \ud83d\udcc2\n",
    "1. **Organize Your Data**: Use clear folder structures with meaningful names\n",
    "2. **Organize Your Annotations**: Use clear labels and consistent naming\n",
    "3. **Keep Metadata Clean**: Use structured metadata for better organization\n",
    "\n",
    "### Workflow Optimization \ud83d\udd04\n",
    "4. **Use Batch Operations**: Upload multiple items and annotations at once when possible\n",
    "5. **Monitor Progress**: Use progress bars for large uploads\n",
    "6. **Check File Types**: Ensure your files are in supported formats\n",
    "\n",
    "### Quality and Context \ud83c\udfaf\n",
    "7. **Add Metadata**: Include relevant metadata during upload for better organization\n",
    "8. **Add Context**: Include task and recipe context when relevant for annotations\n",
    "9. **Use Attributes**: Leverage attributes for additional information in annotations\n",
    "10. **Validate Visually**: Always check your annotations visually after upload\n",
    "\n",
    "## Need More Help? \ud83e\udd14\n",
    "\n",
    "- Check out our [Python SDK Documentation](https://sdk-docs.dataloop.ai/en/latest/entities.html)\n",
    "- Explore [Advanced Examples](tutorials/data_management/items_and_annotations/more_examples/chapter.md)\n",
    "- Visit our [Community Forum](https://dataloop.ai/community) for more tips\n",
    "\n",
    "Happy working with Dataloop! \ud83d\ude80\n"
   ]
  }
 ],
 "metadata": {
  "kernelspec": {
   "display_name": "Python 3",
   "language": "python",
   "name": "python3"
  },
  "language_info": {
   "codemirror_mode": {
    "name": "ipython",
    "version": 3
   },
   "file_extension": ".py",
   "mimetype": "text/x-python",
   "name": "python",
   "nbconvert_exporter": "python",
   "pygments_lexer": "ipython3",
   "version": "3.7.7"
  }
 },
 "nbformat": 4,
 "nbformat_minor": 4
}