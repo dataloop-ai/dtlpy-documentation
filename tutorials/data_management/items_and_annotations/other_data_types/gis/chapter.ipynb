{
 "cells": [
  {
   "cell_type": "markdown",
   "metadata": {},
   "source": [
    "## Overview\n",
    "\n",
    "The **GIS Data** enables users to efficiently annotate geospatial data within Dataloop's platform. With this SDK, you can create, manage, and upload GIS Data items into the Dataloop platform for the annoattion process. The SDK supports various GIS file formats and provides full control over annotation workflows. Read the [GIS user documentation](https://docs.dataloop.ai/docs/gis-studio) for information.\n",
    "\n",
    "## Supported File Formats\n",
    "\n",
    "The GIS SDK supports various file formats for geospatial data:\n",
    "- **COG (Cloud-Optimized GeoTIFF)** \u2013 Optimized for cloud storage and efficient access.\n",
    "- **GeoTIFF** \u2013 is a raster image format that includes embedded geographic metadata to align the image with geospatial coordinates. is an image file, like a map or satellite photo, that also has location data so it knows where on Earth it belongs.\n",
    "- **OSM (OpenStreetMap)** \u2013 is a free, editable map of the world made by people, showing roads, places, and more, that anyone can use and improve. this is just an optional layer we provide users.\n",
    "- **XYZ (Tile Map Services)** \u2013 is a way to show maps by cutting them into small square images (tiles) that load one by one as you zoom or move around.\n",
    "\n",
    "In the GIS Annotation Studio, annotations are created using geospatial data, utilizing latitude and longitude coordinates instead of pixel-based positioning. Below are the key components that define how GIS layers, boundaries, and settings are structured in the SDK.\n",
    "\n",
    "### 1\ufe0f\u20e3 Main Layer and Optional Layers\n",
    "\n",
    "**Main Layer**\n",
    "\n",
    "- The top GIS layer used for annotations.\n",
    "- It contains geospatial data in various formats (e.g., GeoTIFF, XYZ tiles, OpenStreetMap (OSM)).\n",
    "- The Main Layer is defined in the layer field of the GIS Item JSON structure.\n",
    "\n",
    "**Optional Layers**\n",
    "\n",
    "- Additional layers that can be overlaid at the bottom of the Main Layer.\n",
    "- These can include satellite imagery, road networks, elevation maps, or any other supporting geospatial data.\n",
    "- Defined in the optionalLayers field in GIS Item JSON.\n",
    "- Can be toggled on/off in the Layers Controller.\n",
    "\n",
    "Example JSON structure\n",
    "\n",
    "\n"
   ]
  },
  {
   "cell_type": "markdown",
   "metadata": {},
   "source": [
    "```json\n{\n  \"layer\": {\n    \"name\": \"Base Map\",\n    \"type\": \"geoTiff\",\n    \"ref\": \"<item_id>\"\n  },\n  \"optionalLayers\": [\n    {\n      \"name\": \"OpenStreetMap\",\n      \"type\": \"osm\",\n      \"url\": \"\"\n    }\n  ]\n}\n```\n"
   ]
  },
  {
   "cell_type": "markdown",
   "metadata": {},
   "source": [
    "\n",
    "\n",
    "### 2\ufe0f\u20e3 AOI (Area of Interest)\n",
    "\n",
    "- The Area of Interest (AOI) is the defined workspace for creating annotations in the GIS Annotation Studio.\n",
    "- Specified in the GIS-Item JSON as a polygon, usually a 2D rectangle.\n",
    "- All annotations must be placed within the AOI; any point outside is automatically adjusted to the nearest border.\n",
    "- Visual indicators:\n",
    "\t- Black, dashed border with no background color.\n",
    "\t- Tooltip displays \u201cArea of Interest\u201d when hovered.\n",
    "- Behavior:\n",
    "\t- Non-interactive \u2014 cannot be selected, moved, or modified.\n",
    "- Map settings:\n",
    "\t- Sets the boundaries and default zoom level in the studio.\n",
    "\t- Zoom level and map bounds extend 10% beyond the AOI to provide surrounding context.\n",
    "\n",
    "\n",
    "Example AOI Definition:\n",
    "\n"
   ]
  },
  {
   "cell_type": "markdown",
   "metadata": {},
   "source": [
    "```json\n{\n  \"aoi\": [\n    [5.096927, 51.8843133],\n    [5.076927, 51.8843133],\n    [5.076927, 51.8643163],\n    [5.096927, 51.8643163],\n    [5.096927, 51.8843133]\n  ]\n}\n```\n"
   ]
  },
  {
   "cell_type": "markdown",
   "metadata": {},
   "source": [
    "\n",
    "\n",
    "- The first and last coordinate must be the same to close the polygon.\n",
    "- Projection\n",
    "- Sysytem\n",
    "\n",
    "\n",
    "\n",
    "### 3\ufe0f\u20e3 Bounds\n",
    "\n",
    "- Defines the visible map area in the GIS Annotation Studio.\n",
    "- Used to set the extent of the map a user can pan and zoom into.\n",
    "- It is defined as a bounding box (top-left & bottom-right coordinates).\n",
    "- Annotations cannot be created outside the bounds, ensuring the dataset remains within the relevant geospatial area.\n",
    "\n",
    "\n",
    "Example Bounds Definition:\n",
    "\n"
   ]
  },
  {
   "cell_type": "markdown",
   "metadata": {},
   "source": [
    "```json\n{\n  \"bounds\": [\n    [5.046927, 51.9243133],  // Top-left corner\n    [5.126927, 51.8243163]   // Bottom-right corner\n  ]\n}\n```\n"
   ]
  },
  {
   "cell_type": "markdown",
   "metadata": {},
   "source": [
    "\n",
    "\n",
    "### 4\ufe0f\u20e3 Coordinate System\n",
    "\n",
    "\n",
    "- Defines how locations on Earth are represented using numerical values (latitude & longitude).\n",
    "- The Geographic Coordinate System (GCS) represents locations on a 3D spherical model of the Earth.\n",
    "- Example: WGS 84 (EPSG:4326), which is widely used for GPS and global mapping applications.\n",
    "\n",
    "\n",
    "**Example:**\n",
    "\n"
   ]
  },
  {
   "cell_type": "markdown",
   "metadata": {},
   "source": [
    "```json\n{\n  \"epsg\": \"4326\" // WGS 84\n}\n```\n"
   ]
  },
  {
   "cell_type": "markdown",
   "metadata": {},
   "source": [
    "\n",
    "\n",
    "### 5\ufe0f\u20e3 Zoom, Min Zoom, Max Zoom\n",
    "\n",
    "- Controls how much users can zoom in or out on the map.\n",
    "- Defines the minimum and maximum zoom levels for the dataset.\n",
    "\n",
    "**Zoom Levels**\n",
    "\n",
    "- zoom: Default zoom level when the GIS item is loaded.\n",
    "- minZoom: The lowest level a user can zoom out (e.g., 0 for world view).\n",
    "- maxZoom: The highest level a user can zoom in (e.g., 28 for detailed view).\n",
    "\n",
    "**Example Zoom Configuration:**\n",
    "\n"
   ]
  },
  {
   "cell_type": "markdown",
   "metadata": {},
   "source": [
    "```json\n{\n  \"zoom\": 10,     // Default zoom level\n  \"minZoom\": 5,   // Prevents zooming out too far\n  \"maxZoom\": 20   // Allows zooming in for detailed annotations\n}\n```\n"
   ]
  },
  {
   "cell_type": "markdown",
   "metadata": {},
   "source": [
    "\n",
    "\n",
    "\n",
    "\n",
    "\n",
    "\n",
    "## Create a GIS Item\n",
    "\n",
    "Users can create GIS items using the SDK with support types such as `XYZ` or `GeoTiff`. Refer to the following JSON formats to create a GIS item:\n",
    "\n",
    "\n",
    "**XYZ Format**\n",
    "\n"
   ]
  },
  {
   "cell_type": "markdown",
   "metadata": {},
   "source": [
    "```json\n{\n    \"shebang\": \"dataloop\",                      //For the type of Web Map Item, it should be dataloop only and mandatory\n    \"metadata\": {\n        \"dltype\": \"gis\"                         //For the type of Web Map Item, it should be gis only and mandatory\n    },\n    \"layer\": {                                  // Representing the Tile Layer - it's a mandatory layer object\n        \"name\": \"OpenStreetMap\",\n        \"type\": \"xyz\",                          // Currently supporting \"xyz\", \"osm\" and \"cog\" types only. XYZ can be an OpenStreetMap.\n        \"url\": \"\"\t\t\t\t//URL source for the layer (empty means default XYZ tiles will be used).\n    },\n    \"optionalLayers\":                           // Representing the Optional Layers array, which can have multiple layers(\"xyz\", \"osm\" and \"cog\")\n    [ \n        {\n            \"name\": \"OpenStreetMap\",\n            \"type\": \"osm\",\n            \"url\": \"\"\n        }\n    ],\n    \"zoom\":20,                                  // It's an optional zoom level, which can be between 0 to 28\n    \"minZoom\":0,                                // It's an optional min zoom level, which can be between 0 to 28\n    \"maxZoom\":30,                               // It's an optional max zoom level, which can be between 1 to 28\n    \"epsg\":\"4326\",                              // Representing the file's Coordinate System (EPSG). Currently we only support epsg 4326 (WGS84)\n    \"bounds\": [                                 // The coordinates that represents the (square) area within the map that the user can view, and should add/edit the annotations. I.e. the bounds where the projection is valid. Optional field.\n        [-118.33559370040894, 33.82662439264756],  //top left\n        [-118.33497619628906, 33.82610016009953]   //bottom right\n    ],\n    \"aoi\": [                                    // Coordinates representing the Area of Interest -- The areas within the bounds of the tile layer, where I allow to create annotations. I.e. the \u201cboarders of the canvas\u201d. Optional field. \n        [-118.33545684814453, 33.826504880358854],\n        [-118.33545684814453, 33.82621967238824],\n        [-118.33511352539062, 33.82621967238824],\n        [-118.33511352539062, 33.826504880358854],\n        [-118.33545684814453, 33.826504880358854]\n    ]\n}\n\n```\n"
   ]
  },
  {
   "cell_type": "markdown",
   "metadata": {},
   "source": [
    "\n",
    "\n",
    "**GeoTiff (Ref or URL) Example**\n",
    "\n",
    "\n"
   ]
  },
  {
   "cell_type": "markdown",
   "metadata": {},
   "source": [
    "```json\n{\n    \"shebang\": \"dataloop\",                      //For the type of Web Map Item, it should be dataloop only and mandatory\n\t\"metadata\": {\n        \"dltype\": \"gis\"                         //For the type of Web Map Item, it should be gis only and mandatory\n    },\n    \"layer\": {  \n        \"name\": \"GeoTIFF Image\",  // User-defined name for the main GIS layer.\n        \"type\": \"geoTiff\",  // Specifies the layer type. Options: \"geoTiff\" (raster-based GIS format), \"xyz\", \"osm\".\n        \"ref\": \"67d14487f561d469323d8996\"  // Reference ID for the GIS item stored in Dataloop. ** It can be either `ref` or `url`.\n    },\n    \"optionalLayers\": [  \n        {\n            \"name\": \"OpenStreetMap\",  // Name of the optional overlay layer.\n            \"type\": \"osm\",  // Type of the optional layer. Can be \"osm\", \"xyz\", or \"cog\".\n            \"url\": \"\"  // URL source for the optional layer (empty means default OSM tiles will be used).\n        }\n    ],\n    \"epsg\": \"4326\",  // Representing the file's Coordinate System (EPSG). Currently we only support epsg 4326 (WGS84).\n    \"bounds\": [  \n        [5.046927, 51.9243133],  // Top-left coordinate of the bounding box (longitude, latitude).\n        [5.126927, 51.8243163]   // Bottom-right coordinate of the bounding box (longitude, latitude). Defines the visible area where annotations can be created.\n    ],\n    \"aoi\": [  \n        [5.096927, 51.8843133],  // First coordinate of the Area of Interest (AOI).\n        [5.076927, 51.8843133],  // Second coordinate of the AOI polygon.\n        [5.076927, 51.8643163],  // Third coordinate of the AOI polygon.\n        [5.096927, 51.8643163],  // Fourth coordinate of the AOI polygon.\n        [5.096927, 51.8843133]   // Closing coordinate (same as the first), forming a closed polygon. Defines the area where annotations are allowed.\n    ]\n}\n\n```\n"
   ]
  },
  {
   "cell_type": "markdown",
   "metadata": {},
   "source": [
    "\n",
    "\n",
    "Key Takeaways:\n",
    "\n",
    "- \"shebang\" and \"dltype\" are mandatory fields that define the system format.\n",
    "- \"layer\" specifies the main GIS dataset, which is required.\n",
    "- `layer` -> `url` URL to fetch the GeoTIFF raster layer. This serves as the primary layer. The URL allows streaming the GIS item directly from the Dataloop API. \n",
    "- `epsg`: Representing the file's Coordinate System (EPSG).\n",
    "\t- EPSG:4326 - WGS 84 (commonly used for GPS & mapping). \n",
    "    - EPSG:3857 - Web Mercator (used in most online maps).\n",
    "    - EPSG:3035 - Albers Equal-Area (preserves area accuracy).\n",
    "\n",
    "- \"optionalLayers\" allows adding additional overlays (e.g., OpenStreetMap).\n",
    "- \"proj\" determines the coordinate reference system used.\n",
    "- \"bounds\" limits the visible area for annotation.\n",
    "- \"aoi\" specifies the exact annotation area, ensuring that annotations are placed in the correct region.\n",
    "\n",
    "\n",
    "#### \ud83d\udcda Learn More\n",
    "\n",
    "For more details on GIS user documentation and GIS output formats, refer to the following documentation:\n",
    "- [GIS User Documentation ](https://docs.dataloop.ai/docs/gis-studio)\n",
    "- [GIS Annotations JSON Format](https://docs.dataloop.ai/docs/gis-json-format)\n",
    "- [GIS Item JSON Format](https://docs.dataloop.ai/docs/gis-item-json-format)\n",
    "\n",
    "\n",
    "\n",
    "## Upload GIS Items\n",
    "\n",
    "GIS items can be uploaded programmatically via the SDK using the GIS-Item JSON format. The uploaded items retain all associated metadata, including the Area of Interest (AOI), if specified.\n",
    "\n"
   ]
  },
  {
   "cell_type": "code",
   "execution_count": 0,
   "metadata": {},
   "outputs": [],
   "source": [
    "import dtlpy as dl\n",
    "\n",
    "# Replace \"project_name\" with the actual name of your Dataloop project\n",
    "project = dl.projects.get(project_name=\"project_name\") \n",
    "\n",
    "\n",
    "# Replace \"dataset_name\" with the name of the dataset you want to upload to\n",
    "dataset = project.datasets.get(dataset_name=\"dataset_name\")\n",
    "\n",
    "# Replace \"item_path\" with the path to your local GIS file (e.g., a GeoJSON or Shapefile)\n",
    "gis_item = dl.ItemGis.from_local_file(filepath=\"item_path\")\n",
    "\n",
    "# This uploads the GIS item into the dataset\n",
    "item = dataset.items.upload(local_path=gis_item)\n"
   ]
  },
  {
   "cell_type": "markdown",
   "metadata": {},
   "source": [
    "\n",
    "\n",
    "\n",
    "## \ud83d\udca1 Pro Tips for GIS Annotations\n",
    "- **Use AOI Efficiently**: Always define an **Area of Interest (AOI)** to keep annotations within valid boundaries.\n",
    "- **Leverage Multi-Layers**: Enable multiple layers to compare different geospatial data sources for better accuracy.\n",
    "- **Shortcut Navigation**: Use **keyboard shortcuts** for faster annotation (e.g., `Ctrl + Z` for undo, `Shift + Drag` for zooming).\n",
    "- **Optimize Performance**: Large datasets? Use **COG format** for efficient access and streaming.\n",
    "\n",
    "## \ud83d\udd27 Troubleshooting Common Issues\n",
    "- **Annotations Not Visible?** Ensure the correct **layer** is selected and visible.\n",
    "- **Coordinate Mismatch?** Verify that annotations use the correct **EPSG projection** (default: **4326**).\n",
    "- **Performance Issues?** Reduce layer opacity or limit the number of active layers.\n",
    "- **Upload Failure?** Double-check **JSON format** and required metadata fields.\n"
   ]
  }
 ],
 "metadata": {
  "kernelspec": {
   "display_name": "Python 3",
   "language": "python",
   "name": "python3"
  },
  "language_info": {
   "codemirror_mode": {
    "name": "ipython",
    "version": 3
   },
   "file_extension": ".py",
   "mimetype": "text/x-python",
   "name": "python",
   "nbconvert_exporter": "python",
   "pygments_lexer": "ipython3",
   "version": "3.7.7"
  }
 },
 "nbformat": 4,
 "nbformat_minor": 4
}