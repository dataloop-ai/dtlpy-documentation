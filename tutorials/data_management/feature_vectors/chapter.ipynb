{
 "cells": [
  {
   "cell_type": "markdown",
   "metadata": {},
   "source": [
    "# Understanding Feature Vectors in Dataloop \ud83e\uddec\n",
    "\n",
    "Welcome to your guide to working with feature vectors in Dataloop! Whether you're working with image embeddings, text representations, or custom features, we've got you covered. Let's dive into the world of vector representations!\n",
    "\n",
    "## What Are Feature Vectors? \ud83e\udd14\n",
    "\n",
    "[Feature vectors](https://en.wikipedia.org/wiki/Feature_(machine_learning)) are like DNA sequences for your data - they capture the essential characteristics of items or annotations in numerical form. Think of them as a unique fingerprint that helps machines understand and compare your data.\n",
    "\n",
    "### Key Concepts \ud83c\udfaf\n",
    "\n",
    "* **Representation**: Feature vectors can describe anything - images, text, or even customer profiles\n",
    "* **Flexibility**: Vectors can be any length, depending on what you need\n",
    "* **Versatility**: They can come from raw data or AI models\n",
    "\n",
    "### Real-World Examples \ud83c\udf1f\n",
    "\n",
    "1. **Image Embeddings** \ud83d\uddbc\ufe0f\n",
    "   \n"
   ]
  },
  {
   "cell_type": "markdown",
   "metadata": {},
   "source": [
    "```\n   ResNet model \u2192 Image \u2192 [0.2, 0.8, ..., 0.5] (1024 dimensions)\n   ```\n"
   ]
  },
  {
   "cell_type": "markdown",
   "metadata": {},
   "source": [
    "\n",
    "\n",
    "2. **Text Embeddings** \ud83d\udcdd\n",
    "   \n"
   ]
  },
  {
   "cell_type": "markdown",
   "metadata": {},
   "source": [
    "```\n   BERT model \u2192 Text \u2192 [0.1, 0.3, ..., 0.7] (768 dimensions)\n   ```\n"
   ]
  },
  {
   "cell_type": "markdown",
   "metadata": {},
   "source": [
    "\n",
    "\n",
    "3. **Customer Profile** \ud83d\udc64\n",
    "   \n"
   ]
  },
  {
   "cell_type": "markdown",
   "metadata": {},
   "source": [
    "```\n   Customer Data \u2192 [Age, Income, Years, Purchases, Value]\n   Example: [35, 75000, 5, 20, 150]\n   ```\n"
   ]
  },
  {
   "cell_type": "markdown",
   "metadata": {},
   "source": [
    "\n",
    "\n",
    "## Working with Feature Sets \ud83d\udce6\n",
    "\n",
    "### What is a Feature Set?\n",
    "\n",
    "Think of a Feature Set as a container for your feature vectors. It holds:\n",
    "- The vectors themselves\n",
    "- Metadata about the features\n",
    "- Information about size and type\n",
    "- Connection to models (optional)\n",
    "\n",
    "### Creating Your First Feature Set \u2728\n",
    "\n",
    "Let's start with the basics:\n",
    "\n"
   ]
  },
  {
   "cell_type": "code",
   "execution_count": 0,
   "metadata": {},
   "outputs": [],
   "source": [
    "import dtlpy as dl\n",
    "\n",
    "# Get your project\n",
    "project = dl.projects.get(project_id='your-project-id')\n",
    "\n",
    "# Create a feature set\n",
    "feature_set = project.feature_sets.create(\n",
    "    name='text-embeddings-set',\n",
    "    size=1024,                           # Vector dimension\n",
    "    set_type='embeddings',\n",
    "    entity_type=dl.FeatureEntityType.ITEM\n",
    ")\n"
   ]
  },
  {
   "cell_type": "markdown",
   "metadata": {},
   "source": [
    "\n",
    "\n",
    "### Connecting to Models \ud83e\udd16\n",
    "\n",
    "Want to link your feature set directly to a model? Here's how:\n",
    "\n"
   ]
  },
  {
   "cell_type": "code",
   "execution_count": 0,
   "metadata": {},
   "outputs": [],
   "source": [
    "feature_set = project.feature_sets.create(\n",
    "    name='text-embedding-3',\n",
    "    set_type='embeddings',\n",
    "    entity_type=dl.FeatureEntityType.ITEM,\n",
    "    model_id=project.models.get('my-embedder'),\n",
    "    size=1536\n",
    ")\n"
   ]
  },
  {
   "cell_type": "markdown",
   "metadata": {},
   "source": [
    "\n",
    "\n",
    "> \ud83d\udd25 **Hot Tip**: To see how to create an embedding models in the Dataloop platform, see the tutorial [here](https://github.com/dataloop-ai/dtlpy-documentation/blob/main/tutorials/model_management/create_new_model_sdk/chapter.md).\n",
    "\n",
    "\n",
    "## Adding Features to Your Set \ud83c\udfa8\n",
    "\n",
    "### Using HuggingFace Models\n",
    "\n",
    "Here's how to generate and add embeddings using HuggingFace:\n",
    "\n"
   ]
  },
  {
   "cell_type": "code",
   "execution_count": 0,
   "metadata": {},
   "outputs": [],
   "source": [
    "from langchain_community.embeddings import HuggingFaceBgeEmbeddings\n",
    "import torch\n",
    "import dtlpy as dl\n",
    "import tqdm\n",
    "\n",
    "# Setup the embedding model\n",
    "model_name = \"BAAI/bge-large-en\"\n",
    "model_kwargs = {'device': 'cuda' if torch.cuda.is_available() else 'cpu'}\n",
    "encode_kwargs = {'normalize_embeddings': True}\n",
    "embeddings = HuggingFaceBgeEmbeddings(\n",
    "    cache_folder='.cache',\n",
    "    model_name=model_name,\n",
    "    model_kwargs=model_kwargs,\n",
    "    encode_kwargs=encode_kwargs\n",
    ")\n",
    "\n",
    "# Process your dataset\n",
    "dataset = dl.datasets.get(dataset_id='your-dataset-id')\n",
    "items = dataset.items.list()\n",
    "pbar = tqdm.tqdm(total=items.items_count)\n",
    "\n",
    "for item in items.all():\n",
    "    # Get text from item\n",
    "    text = item.download(save_locally=False).read().decode('utf8')\n",
    "    # Generate embedding\n",
    "    vector = embeddings.embed_documents([text])[0]\n",
    "    # Add to feature set\n",
    "    feature = feature_set.features.create(\n",
    "        value=vector,\n",
    "        entity=item\n",
    "    )\n",
    "    pbar.update()\n"
   ]
  },
  {
   "cell_type": "markdown",
   "metadata": {},
   "source": [
    "\n",
    "\n",
    "## Managing Feature Sets \ud83d\udee0\ufe0f\n",
    "\n",
    "### Basic Operations\n",
    "\n"
   ]
  },
  {
   "cell_type": "code",
   "execution_count": 0,
   "metadata": {},
   "outputs": [],
   "source": [
    "import dtlpy as dl\n",
    "\n",
    "# Get a feature set\n",
    "feature_set = dl.feature_sets.get(feature_set_name='my-embeddings')\n",
    "\n",
    "# Delete a feature set\n",
    "feature_set.delete()\n",
    "\n",
    "# Get features for an item\n",
    "item = dl.items.get(item_id='your-item-id')\n",
    "item_features = list(item.features.list().all())\n",
    "print(f'This item has {len(item_features)} feature vectors')\n"
   ]
  },
  {
   "cell_type": "markdown",
   "metadata": {},
   "source": [
    "\n",
    "\n",
    "\n",
    "## Exporting Feature Sets \ud83d\udce4\n",
    "\n",
    "Use the `export` method to export a feature set to a local file.\n",
    "\n"
   ]
  },
  {
   "cell_type": "code",
   "execution_count": 0,
   "metadata": {},
   "outputs": [],
   "source": [
    "dataset = dl.datasets.get(dataset_id='my-dataset-id')\n",
    "dataset.export(local_path='./my-dataset',\n",
    "               feature_vector_filters=None,\n",
    "               include_feature_vectors=True)\n"
   ]
  },
  {
   "cell_type": "markdown",
   "metadata": {},
   "source": [
    "\n",
    "\n",
    "\n",
    "## Finding Similar Items \ud83d\udd0d\n",
    "\n",
    "### K-Nearest Neighbors Search\n",
    "\n",
    "Want to find similar items? Here's how to query by vector similarity:\n",
    "\n"
   ]
  },
  {
   "cell_type": "code",
   "execution_count": 0,
   "metadata": {},
   "outputs": [],
   "source": [
    "# Your query vector\n",
    "vector = [3, 1, 4, 1, 5, ..., 9]\n",
    "k = 100  # Number of neighbors to find\n",
    "\n",
    "# Setup the query\n",
    "custom_filter = {\n",
    "    'filter': {'$and': [{'hidden': False}, {'type': 'file'}]},\n",
    "    'page': 0,\n",
    "    'pageSize': k,\n",
    "    'resource': 'items',\n",
    "    'join': {\n",
    "        'on': {\n",
    "            'resource': 'feature_vectors',\n",
    "            'local': 'entityId',\n",
    "            'forigen': 'id'\n",
    "        },\n",
    "        'filter': {\n",
    "            'value': {\n",
    "                '$euclid': {\n",
    "                    'input': vector,\n",
    "                    '$euclidSort': {'eu_dist': 'ascending'}\n",
    "                }\n",
    "            },\n",
    "            'featureSetId': feature_set.id\n",
    "        },\n",
    "    }\n",
    "}\n",
    "\n",
    "# Execute the search\n",
    "filters = dl.Filters(\n",
    "    custom_filter=custom_filter,\n",
    "    resource=dl.FiltersResource.ITEM\n",
    ")\n",
    "\n",
    "results = dataset.items.list(filters=filters)\n",
    "\n",
    "for i_item, item in enumerate(res.items):\n",
    "    print(f\"Similar item found: {item.name}\")\n",
    "    # get the feature vector value for the item\n",
    "    vector_filter = dl.Filters(resource=dl.FiltersResource.FEATURE, field='entityId', values=item.id)\n",
    "    vector = list(feature_set.features.list(filters=vector_filter).all())\n",
    "    print(vector[0].value)\n",
    "    if i_item == 10:\n",
    "        break\n"
   ]
  },
  {
   "cell_type": "markdown",
   "metadata": {},
   "source": [
    "\n",
    "\n",
    "### Distance-Based Search \ud83d\udccf\n",
    "\n",
    "Need items within a specific distance? Use a distance threshold:\n",
    "\n"
   ]
  },
  {
   "cell_type": "code",
   "execution_count": 0,
   "metadata": {},
   "outputs": [],
   "source": [
    "custom_filter = {\n",
    "    'filter': {'$and': [{'hidden': False}, {'type': 'file'}]},\n",
    "    'page': 0,\n",
    "    'pageSize': 1000,\n",
    "    'resource': 'items',\n",
    "    'join': {\n",
    "        'on': {\n",
    "            'resource': 'feature_vectors',\n",
    "            'local': 'entityId',\n",
    "            'forigen': 'id'\n",
    "        },\n",
    "        'filter': {\n",
    "            'value': {\n",
    "                '$euclid': {\n",
    "                    'input': \"string || number[], // feature vector ID || actual vectors value\",\n",
    "                    '$euclidFilter': {\n",
    "                        \"optional - $eq || $lte || otherSupportedOperators\": \"number - other vector's value to calculate distance between them\"\n",
    "                    },\n",
    "                    '$euclidSort': {'eu_dist': 'ascending'}\n",
    "                }\n",
    "            },\n",
    "            'featureSetId': feature_set.id\n",
    "        },\n",
    "    }\n",
    "}\n"
   ]
  },
  {
   "cell_type": "markdown",
   "metadata": {},
   "source": [
    "\n",
    "\n",
    "## Best Practices \ud83d\udca1\n",
    "\n",
    "1. **Vector Size**: Choose appropriate dimensions for your use case\n",
    "2. **Normalization**: Consider normalizing vectors for better comparison\n",
    "3. **Batch Processing**: Use batching for large datasets\n",
    "4. **Model Selection**: Choose the right embedding model for your data type\n",
    "5. **Index Management**: Consider the trade-off between search speed and accuracy\n",
    "\n",
    "## Need More Help? \ud83e\udd14\n",
    "\n",
    "Check out our [comprehensive documentation](https://docs.dataloop.ai/docs/welcome) for more details on working with feature vectors.\n",
    "\n",
    "Happy vectorizing! \ud83d\ude80\n",
    "\n",
    "\n"
   ]
  }
 ],
 "metadata": {
  "kernelspec": {
   "display_name": "Python 3",
   "language": "python",
   "name": "python3"
  },
  "language_info": {
   "codemirror_mode": {
    "name": "ipython",
    "version": 3
   },
   "file_extension": ".py",
   "mimetype": "text/x-python",
   "name": "python",
   "nbconvert_exporter": "python",
   "pygments_lexer": "ipython3",
   "version": "3.7.7"
  }
 },
 "nbformat": 4,
 "nbformat_minor": 4
}