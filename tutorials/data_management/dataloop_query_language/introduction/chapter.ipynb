{
 "cells": [
  {
   "cell_type": "markdown",
   "metadata": {},
   "source": [
    "# Introduction to Dataloop Query Language (DQL) \ud83d\udd0d\n",
    "\n",
    "Welcome to the world of DQL! Whether you're searching through millions of items, filtering annotations, or managing metadata, DQL is your Swiss Army knife for data manipulation in Dataloop.\n",
    "\n",
    "## What is DQL? \ud83e\udd14\n",
    "\n",
    "The [Dataloop Query Language](https://docs.dataloop.ai/docs/api-dql) is a powerful tool that lets you:\n",
    "- Filter through massive amounts of data \ud83c\udfaf\n",
    "- Sort results in any order you need \ud83d\udcca\n",
    "- Update metadata across multiple items \u270f\ufe0f\n",
    "\n",
    "## Understanding Filters \ud83c\udfaf\n",
    "\n",
    "Think of filters as your data sieve - they help you find exactly what you need in your datasets.\n",
    "\n",
    "### Anatomy of a Filter\n",
    "\n",
    "Every filter has two main components:\n",
    "* **Field**: What you're filtering by (e.g., 'dir' for directory)\n",
    "* **Value**: What you're looking for (e.g., '/new_folder')\n",
    "\n",
    "### Basic Filtering Operations \u26a1\n",
    "\n",
    "Let's start with a simple example - finding all annotated items in a dataset:\n",
    "\n"
   ]
  },
  {
   "cell_type": "code",
   "execution_count": 0,
   "metadata": {},
   "outputs": [],
   "source": [
    "import dtlpy as dl\n",
    "\n",
    "# Get project and dataset\n",
    "project = dl.projects.get(project_name='project_name')\n",
    "dataset = project.datasets.get(dataset_name='dataset_name')\n",
    "\n",
    "# Create filters instance\n",
    "filters = dl.Filters()\n",
    "\n",
    "# Filter only annotated items\n",
    "filters.add(field='annotated', values=True)\n",
    "\n",
    "# Optional: Sort results by filename\n",
    "filters.sort_by(field=\"filename\")\n",
    "\n",
    "# Get filtered items\n",
    "pages = dataset.items.list(filters=filters)\n",
    "print(f'Found {pages.items_count} items')\n"
   ]
  },
  {
   "cell_type": "markdown",
   "metadata": {},
   "source": [
    "\n",
    "\n",
    "### Advanced Filtering: Annotations \ud83c\udfa8\n",
    "\n",
    "Want to filter items based on their annotations? Here's how:\n",
    "\n"
   ]
  },
  {
   "cell_type": "code",
   "execution_count": 0,
   "metadata": {},
   "outputs": [],
   "source": [
    "filters = dl.Filters()\n",
    "\n",
    "# Find all approved items\n",
    "filters.add(field='metadata.system.annotationStatus', values=\"approved\")\n",
    "\n",
    "# AND find only items with box annotations\n",
    "filters.add_join(field='type', values='box')\n",
    "\n",
    "# Optional: Sort by creation date (newest first)\n",
    "filters.sort_by(\n",
    "    field='createdAt',\n",
    "    value=dl.FILTERS_ORDERBY_DIRECTION_DESCENDING\n",
    ")\n",
    "\n",
    "# Get results\n",
    "pages = dataset.items.list(filters=filters)\n",
    "print(f'Found {pages.items_count} items')\n"
   ]
  },
  {
   "cell_type": "markdown",
   "metadata": {},
   "source": [
    "\n",
    "\n",
    "## Logical Operators in Filters \ud83d\udd04\n",
    "\n",
    "### AND Operations\n",
    "\n",
    "The AND operator is your default friend - use it to combine multiple conditions:\n",
    "\n"
   ]
  },
  {
   "cell_type": "code",
   "execution_count": 0,
   "metadata": {},
   "outputs": [],
   "source": [
    "filters = dl.Filters()\n",
    "\n",
    "# Find items that are:\n",
    "filters.add(\n",
    "    field='annotated',\n",
    "    values=True,\n",
    "    method=dl.FiltersMethod.AND  # This is default, you can skip it\n",
    ")\n",
    "\n",
    "# AND have specific metadata\n",
    "filters.add(\n",
    "    field='metadata.user.is_automated',\n",
    "    values=True,\n",
    "    method=dl.FiltersMethod.AND\n",
    ")\n",
    "\n",
    "# Optional: Sort by name\n",
    "filters.sort_by(field='name')\n",
    "\n",
    "# Get results\n",
    "pages = dataset.items.list(filters=filters)\n",
    "print(f'Found {pages.items_count} items')\n"
   ]
  },
  {
   "cell_type": "markdown",
   "metadata": {},
   "source": [
    "\n",
    "\n",
    "### OR Operations\n",
    "\n",
    "Need items that match any of your conditions? Use OR:\n",
    "\n"
   ]
  },
  {
   "cell_type": "code",
   "execution_count": 0,
   "metadata": {},
   "outputs": [],
   "source": [
    "filters = dl.Filters()\n",
    "\n",
    "# Find items in either folder\n",
    "filters.add(\n",
    "    field='dir',\n",
    "    values='/folderName1',\n",
    "    method=dl.FiltersMethod.OR\n",
    ")\n",
    "filters.add(\n",
    "    field='dir',\n",
    "    values='/folderName2',\n",
    "    method=dl.FiltersMethod.OR\n",
    ")\n",
    "\n",
    "# Optional: Sort by directory (descending)\n",
    "filters.sort_by(\n",
    "    field='dir',\n",
    "    value=dl.FILTERS_ORDERBY_DIRECTION_DESCENDING\n",
    ")\n",
    "\n",
    "# Get results\n",
    "pages = dataset.items.list(filters=filters)\n",
    "print(f'Found {pages.items_count} items')\n"
   ]
  },
  {
   "cell_type": "markdown",
   "metadata": {},
   "source": [
    "\n",
    "\n",
    "## Working with Filtered Results \ud83d\udee0\ufe0f\n",
    "\n",
    "### Updating Metadata\n",
    "\n",
    "Need to update metadata for filtered items? Here's how:\n",
    "\n"
   ]
  },
  {
   "cell_type": "code",
   "execution_count": 0,
   "metadata": {},
   "outputs": [],
   "source": [
    "filters = dl.Filters()\n",
    "\n",
    "# Find items in 'dogs' folder\n",
    "filters.add(field='dir', values='/dogs')\n",
    "\n",
    "# With 'black' attribute\n",
    "filters.add_join(field='attributes', values='black')\n",
    "\n",
    "# Update metadata\n",
    "update_values = {'BlackDogs': True}  # Will be added to user metadata\n",
    "pages = dataset.items.update(\n",
    "    filters=filters,\n",
    "    update_values=update_values\n",
    ")\n"
   ]
  },
  {
   "cell_type": "markdown",
   "metadata": {},
   "source": [
    "\n",
    "\n",
    "### Deleting Filtered Items\n",
    "\n",
    "Be careful with this one - it's powerful but permanent:\n",
    "\n"
   ]
  },
  {
   "cell_type": "code",
   "execution_count": 0,
   "metadata": {},
   "outputs": [],
   "source": [
    "filters = dl.Filters()\n",
    "\n",
    "# Find items by creation date\n",
    "filters.add(field='createdAt', values=\"2020-08-30T08:17:08.000Z\")\n",
    "\n",
    "# Delete them\n",
    "dataset.items.delete(filters=filters)\n"
   ]
  },
  {
   "cell_type": "markdown",
   "metadata": {},
   "source": [
    "\n",
    "\n",
    "## Working with Pages \ud83d\udcc4\n",
    "\n",
    "When dealing with large datasets, Dataloop uses pagination to efficiently manage and process data. Instead of loading everything at once (which could be slow and memory-intensive), data is divided into pages.\n",
    "\n",
    "### Understanding Pages \ud83d\udcda\n",
    "\n",
    "By default, Dataloop returns pages with up to 1000 items each. You can:\n",
    "- Navigate through pages one by one\n",
    "- Customize the page size\n",
    "- Use iterators for easy access\n",
    "- Reverse iterate through pages (useful when modifying items)\n",
    "\n",
    "Here's how to work with pages:\n",
    "\n"
   ]
  },
  {
   "cell_type": "code",
   "execution_count": 0,
   "metadata": {},
   "outputs": [],
   "source": [
    "# Create filters instance\n",
    "filters = dl.Filters()\n",
    "\n",
    "# Get filtered items in pages (default 1000 items per page)\n",
    "pages = dataset.items.list(filters=filters)\n",
    "\n",
    "# Print total count\n",
    "print(f'Total items: {pages.items_count}')\n",
    "\n",
    "# Method 1: Iterate through pages\n",
    "for i_page, page in enumerate(pages):\n",
    "    print(f'Page {i_page} has {len(page)} items')\n",
    "    for item in page:\n",
    "        print(f'Processing item: {item.name}')\n",
    "\n",
    "# Method 2: Use the all() iterator\n",
    "for item in pages.all():\n",
    "    print(f'Processing item: {item.name}')\n",
    "\n",
    "# Method 3: Reverse iteration (useful when modifying items)\n",
    "for i_page, page in enumerate(reversed(pages)):\n",
    "    print(f'Processing page {i_page} in reverse')\n"
   ]
  },
  {
   "cell_type": "markdown",
   "metadata": {},
   "source": [
    "\n",
    "\n",
    "### Customizing Page Size \u2702\ufe0f\n",
    "\n",
    "Need a different page size? No problem:\n",
    "\n"
   ]
  },
  {
   "cell_type": "code",
   "execution_count": 0,
   "metadata": {},
   "outputs": [],
   "source": [
    "# Get items with custom page size\n",
    "pages = dataset.items.list(\n",
    "    filters=filters,\n",
    "    page_size=50,\n",
    "    page_offset=0  # Start from first page\n",
    ")\n",
    "\n",
    "print(f'Items in first page: {len(pages.items)}')\n"
   ]
  },
  {
   "cell_type": "markdown",
   "metadata": {},
   "source": [
    "\n",
    "\n",
    "### Parallel Processing with Pages \ud83d\ude80\n",
    "\n",
    "For faster processing, you can use multiple threads. Let's compare the runtime difference:\n",
    "\n"
   ]
  },
  {
   "cell_type": "code",
   "execution_count": 0,
   "metadata": {},
   "outputs": [],
   "source": [
    "from concurrent.futures import ThreadPoolExecutor\n",
    "import tqdm\n",
    "import time\n",
    "\n",
    "# Single-threaded processing\n",
    "tic = time.time()\n",
    "for item in pages.all():\n",
    "    # Your processing logic here\n",
    "    time.sleep(1)  # Simulate work\n",
    "print(f'Sequential processing took {time.time() - tic:.2f}[s]')\n",
    "\n",
    "# Multi-threaded processing\n",
    "def process_item(item):\n",
    "    # Your processing logic here\n",
    "    time.sleep(1)  # Simulate work\n",
    "    return True\n",
    "\n",
    "# Create a progress bar\n",
    "pbar = tqdm.tqdm(total=pages.items_count)\n",
    "\n",
    "# Process items in parallel\n",
    "tic = time.time()\n",
    "with ThreadPoolExecutor(max_workers=32) as executor:\n",
    "    for item in executor.map(process_item, pages.all()):\n",
    "        pbar.update()\n",
    "print(f'Parallel processing took {time.time() - tic:.2f}[s]')\n"
   ]
  },
  {
   "cell_type": "markdown",
   "metadata": {},
   "source": [
    "\n",
    "\n",
    "## Working with Saved Filters \ud83d\udcbe\n",
    "\n",
    "Need to reuse your filters across different sessions or share them with team members? Saved filters have got you covered!\n",
    "\n",
    "### Saving Filters\n",
    "\n",
    "Create and save your filters to use them later in both SDK and UI:\n",
    "\n"
   ]
  },
  {
   "cell_type": "code",
   "execution_count": 0,
   "metadata": {},
   "outputs": [],
   "source": [
    "import dtlpy as dl\n",
    "project = dl.projects.get('My Project')\n",
    "\n",
    "# Create your filter\n",
    "filters = dl.Filters()\n",
    "# Filter items in a specific directory\n",
    "filters.add(field='dir', values='/first')\n",
    "# AND with specific annotation label\n",
    "filters.add_join(field='label', values='cat')\n",
    "\n",
    "# Save for later use\n",
    "filters.save(project=project, filter_name='only label cat')\n"
   ]
  },
  {
   "cell_type": "markdown",
   "metadata": {},
   "source": [
    "\n",
    "\n",
    "### Listing Saved Filters\n",
    "\n",
    "Want to see all available saved filters? Easy:\n",
    "\n"
   ]
  },
  {
   "cell_type": "code",
   "execution_count": 0,
   "metadata": {},
   "outputs": [],
   "source": [
    "import dtlpy as dl\n",
    "project = dl.projects.get('My Project')\n",
    "\n",
    "# List all saved filters\n",
    "saved_filters_list = dl.Filters.list(project=project)\n",
    "print(saved_filters_list)\n"
   ]
  },
  {
   "cell_type": "markdown",
   "metadata": {},
   "source": [
    "\n",
    "\n",
    "### Loading Saved Filters\n",
    "\n",
    "Need to use a previously saved filter? Here's how:\n",
    "\n"
   ]
  },
  {
   "cell_type": "code",
   "execution_count": 0,
   "metadata": {},
   "outputs": [],
   "source": [
    "import dtlpy as dl\n",
    "project = dl.projects.get('My Project')\n",
    "\n",
    "# Load a saved filter\n",
    "filters = dl.Filters.load(project=project, filter_name='only label cat')\n",
    "\n",
    "# Print the filter or use it\n",
    "filters.print()\n"
   ]
  },
  {
   "cell_type": "markdown",
   "metadata": {},
   "source": [
    "\n",
    "\n",
    "## Understanding Item and Annotation Fields \ud83d\udcdd\n",
    "\n",
    "When filtering, you can access any field in the item's JSON structure. \n",
    "Go to the [Item Fields](https://docs.dataloop.ai/docs/item-fields) page for more information.\n",
    "\n",
    "## Understanding Filter Responses \ud83d\udcca\n",
    "\n",
    "When you run a DQL query, here's what you get back:\n",
    "\n"
   ]
  },
  {
   "cell_type": "code",
   "execution_count": 0,
   "metadata": {},
   "outputs": [],
   "source": [
    "{\n",
    "    \"totalItemsCount\": 2,  # Total number of matching items\n",
    "    \"totalPagesCount\": 1,  # Number of pages\n",
    "    \"hasNextPage\": False,  # Whether there are more pages\n",
    "    \"items\": [\n",
    "        {\n",
    "            \"id\": \"5d0783852dbc15306a59ef6c\",\n",
    "            \"createdAt\": \"2019-06-18T23:29:15.775Z\",\n",
    "            \"filename\": \"/5546670769_8df950c6b6.jpg\",\n",
    "            \"type\": \"file\"\n",
    "            // ... more item fields ...\n",
    "        },\n",
    "        // ... more items ...\n",
    "    ]\n",
    "}\n"
   ]
  },
  {
   "cell_type": "markdown",
   "metadata": {},
   "source": [
    "\n",
    "\n",
    "\n",
    "\ud83d\udca1 **Pro Tip**: Use dot notation to access nested fields. For example:\n",
    "- `metadata.system.originalname` for the original filename\n",
    "- `metadata.user.myField` for custom metadata\n",
    "\n",
    "## Best Practices \ud83d\udcab\n",
    "\n",
    "1. **Be Specific**: The more specific your filters, the faster the query\n",
    "2. **Use Indexing**: Common filter fields are indexed for better performance\n",
    "3. **Batch Operations**: When updating/deleting, use filters to work in batches\n",
    "4. **Test First**: Always test your filters with a small dataset first\n",
    "5. **Check Results**: Verify your filter results before performing updates or deletes\n",
    "\n",
    "## Need More Help? \ud83e\udd14\n",
    "\n",
    "- Check out our [DQL Documentation](https://docs.dataloop.ai/docs/api-dql) for more details\n",
    "- Explore the [Filters API](https://sdk-docs.dataloop.ai/en/latest/entities.html#module-dtlpy.entities.filters)\n",
    "- For advanced filtering, visit our [Advanced SDK Filters](tutorials/data_management/sort_and_filter/advanced_sdk_filters/chapter.md) guide\n",
    "\n",
    "Happy querying! \ud83d\ude80\n"
   ]
  }
 ],
 "metadata": {
  "kernelspec": {
   "display_name": "Python 3",
   "language": "python",
   "name": "python3"
  },
  "language_info": {
   "codemirror_mode": {
    "name": "ipython",
    "version": 3
   },
   "file_extension": ".py",
   "mimetype": "text/x-python",
   "name": "python",
   "nbconvert_exporter": "python",
   "pygments_lexer": "ipython3",
   "version": "3.7.7"
  }
 },
 "nbformat": 4,
 "nbformat_minor": 4
}