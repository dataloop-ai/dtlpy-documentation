{
 "cells": [
  {
   "cell_type": "markdown",
   "metadata": {},
   "source": [
    "# DQL Cookbook: Practical Examples \ud83c\udf73\n",
    "\n",
    "Welcome to our DQL cookbook! Here you'll find tasty recipes for common filtering scenarios. Each example is ready to use - just copy, paste, and adjust to your needs!\n",
    "\n",
    "## Filter Operators Toolbox \ud83e\uddf0\n",
    "\n",
    "Let's start with the essential operators you'll need:\n",
    "\n",
    "### Equal (eq) \ud83c\udfaf\n",
    "\n"
   ]
  },
  {
   "cell_type": "code",
   "execution_count": 0,
   "metadata": {},
   "outputs": [],
   "source": [
    "# Example: Find items in a specific folder\n",
    "filters = dl.Filters()\n",
    "filters.add(field='dir', values='/DatasetFolderName', operator=dl.FILTERS_OPERATIONS_EQUAL)\n",
    "filters.sort_by(field='filename')  # Optional: sort by name\n",
    "pages = dataset.items.list(filters=filters)\n",
    "print(f'Found {pages.items_count} items in folder')\n"
   ]
  },
  {
   "cell_type": "markdown",
   "metadata": {},
   "source": [
    "\n",
    "\n",
    "### Not Equal (ne) \u274c\n",
    "\n"
   ]
  },
  {
   "cell_type": "code",
   "execution_count": 0,
   "metadata": {},
   "outputs": [],
   "source": [
    "# Example: Find items without a specific label\n",
    "filters = dl.Filters()\n",
    "filters.add_join(field='label', values='cat', operator=dl.FILTERS_OPERATIONS_NOT_EQUAL)\n",
    "filters.sort_by(field='filename')\n",
    "pages = dataset.items.list(filters=filters)\n",
    "print(f'Found {pages.items_count} items without cat label')\n"
   ]
  },
  {
   "cell_type": "markdown",
   "metadata": {},
   "source": [
    "\n",
    "\n",
    "### Greater Than (gt) and Less Than (lt) \u2696\ufe0f\n",
    "\n"
   ]
  },
  {
   "cell_type": "code",
   "execution_count": 0,
   "metadata": {},
   "outputs": [],
   "source": [
    "# Example 1: Items with height > X pixels\n",
    "filters = dl.Filters()\n",
    "filters.add(field='metadata.system.height', values=height_number_in_pixels,\n",
    "           operator=dl.FILTERS_OPERATIONS_GREATER_THAN)\n",
    "pages = dataset.items.list(filters=filters)\n",
    "print(f'Found {pages.items_count} items taller than {height_number_in_pixels}px')\n",
    "\n",
    "# Example 2: Items with width < X pixels\n",
    "filters = dl.Filters()\n",
    "filters.add(field='metadata.system.width', values=width_number_in_pixels, \n",
    "           operator=dl.FILTERS_OPERATIONS_LESS_THAN)\n",
    "pages = dataset.items.list(filters=filters)\n",
    "print(f'Found {pages.items_count} items narrower than {width_number_in_pixels}px')\n"
   ]
  },
  {
   "cell_type": "markdown",
   "metadata": {},
   "source": [
    "\n",
    "\n",
    "### In List (in) \ud83d\udcdd\n",
    "\n"
   ]
  },
  {
   "cell_type": "code",
   "execution_count": 0,
   "metadata": {},
   "outputs": [],
   "source": [
    "# Example: Find items with multiple labels\n",
    "filters = dl.Filters()\n",
    "filters.add_join(field='label', values=['dog', 'cat'], operator=dl.FILTERS_OPERATIONS_IN)\n",
    "filters.sort_by(field='filename')\n",
    "pages = dataset.items.list(filters=filters)\n",
    "print(f'Found {pages.items_count} items with dog or cat labels')\n"
   ]
  },
  {
   "cell_type": "markdown",
   "metadata": {},
   "source": [
    "\n",
    "\n",
    "### Exists \u2728\n",
    "\n"
   ]
  },
  {
   "cell_type": "code",
   "execution_count": 0,
   "metadata": {},
   "outputs": [],
   "source": [
    "# Example: Find items with user metadata\n",
    "filters = dl.Filters()\n",
    "filters.add(field='metadata.user', values=True, operator=dl.FILTERS_OPERATIONS_EXISTS)\n",
    "pages = dataset.items.list(filters=filters)\n",
    "print(f'Found {pages.items_count} items with user metadata')\n"
   ]
  },
  {
   "cell_type": "markdown",
   "metadata": {},
   "source": [
    "\n",
    "\n",
    "## Filtering by Annotations \ud83c\udff7\ufe0f\n",
    "\n",
    "### Finding Items by Label\n",
    "\n",
    "Need items with a specific label? Here's your go-to recipe:\n",
    "\n"
   ]
  },
  {
   "cell_type": "code",
   "execution_count": 0,
   "metadata": {},
   "outputs": [],
   "source": [
    "filters = dl.Filters()\n",
    "filters.add_join(field='label', values='your_label_value')\n",
    "pages = dataset.items.list(filters=filters)\n",
    "print(f'Found {pages.items_count} items with your label')\n"
   ]
  },
  {
   "cell_type": "markdown",
   "metadata": {},
   "source": [
    "\n",
    "\n",
    "### Items Without a Specific Label\n",
    "\n",
    "Want to find items that DON'T have a certain label? Here's a clever approach:\n",
    "\n"
   ]
  },
  {
   "cell_type": "code",
   "execution_count": 0,
   "metadata": {},
   "outputs": [],
   "source": [
    "# Get all items\n",
    "all_items = set([item.id for item in dataset.items.list().all()])\n",
    "\n",
    "# Get items WITH the label 'cat'\n",
    "filters = dl.Filters()\n",
    "filters.add_join(field='label', values='cat')\n",
    "cat_items = set([item.id for item in dataset.items.list(filters=filters).all()])\n",
    "\n",
    "# Find the difference - items without 'cat' label\n",
    "no_cat_items = all_items.difference(cat_items)\n",
    "print(f'Found {len(no_cat_items)} items without cat label')\n",
    "\n",
    "# Process the results\n",
    "for item_id in no_cat_items:\n",
    "    item = dataset.items.get(item_id=item_id)\n",
    "    print(f'Processing: {item.name}')\n"
   ]
  },
  {
   "cell_type": "markdown",
   "metadata": {},
   "source": [
    "\n",
    "\n",
    "### OR Filtering of Annotations\n",
    "\n",
    "Want items with either type of annotation? Here's how:\n",
    "\n"
   ]
  },
  {
   "cell_type": "code",
   "execution_count": 0,
   "metadata": {},
   "outputs": [],
   "source": [
    "filters = dl.Filters(resource=dl.FiltersResource.ANNOTATION)\n",
    "# Find box OR point annotations\n",
    "filters.add(field='type', values='/box', method=dl.FiltersMethod.OR)\n",
    "filters.add(field='type', values='/point', method=dl.FiltersMethod.OR)\n",
    "filters.sort_by(field='createdAt', value=dl.FILTERS_ORDERBY_DIRECTION_DESCENDING)\n",
    "pages = dataset.annotations.list(filters=filters)\n",
    "print(f'Found {pages.items_count} box or point annotations')\n"
   ]
  },
  {
   "cell_type": "markdown",
   "metadata": {},
   "source": [
    "\n",
    "\n",
    "## Filtering by Status \ud83d\udcca\n",
    "\n",
    "### Finding Items by Annotation Status\n",
    "\n",
    "Want items that are completed or approved? Take your pick:\n",
    "\n"
   ]
  },
  {
   "cell_type": "code",
   "execution_count": 0,
   "metadata": {},
   "outputs": [],
   "source": [
    "# Both completed AND approved\n",
    "filters = dl.Filters()\n",
    "filters.add(field='metadata.system.annotationStatus', values=[\"completed\", \"approved\"])\n",
    "pages = dataset.items.list(filters=filters)\n",
    "print(f'Found {pages.items_count} completed and approved items')\n",
    "\n",
    "# Just completed (including approved)\n",
    "filters = dl.Filters()\n",
    "filters.add(field='metadata.system.annotationStatus', values=\"completed\")\n",
    "pages = dataset.items.list(filters=filters)\n",
    "print(f'Found {pages.items_count} completed items')\n",
    "\n",
    "# Only completed (excluding approved)\n",
    "filters = dl.Filters()\n",
    "filters.add(field='metadata.system.annotationStatus', values=[\"completed\"])\n",
    "pages = dataset.items.list(filters=filters)\n",
    "print(f'Found {pages.items_count} items with completed status only')\n"
   ]
  },
  {
   "cell_type": "markdown",
   "metadata": {},
   "source": [
    "\n",
    "\n",
    "### Find Items With Status by Task\n",
    "\n",
    "Need to find items assigned to a specific task with a specific status? Here's how:\n",
    "\n"
   ]
  },
  {
   "cell_type": "code",
   "execution_count": 0,
   "metadata": {},
   "outputs": [],
   "source": [
    "task_id = \"my-task-id\"\n",
    "status_list = ['completed']\n",
    "\n",
    "filters = dl.Filters()  # `resource` defaults to items\n",
    "filters.add(\n",
    "    field='metadata.system.refs',\n",
    "    values={\n",
    "        'id': {'$in': [task_id]},          # keep refs whose id == TASK_ID\n",
    "        'metadata': {\n",
    "            'status': {'$in': status_list}  # AND whose status == completed\n",
    "        }\n",
    "    },\n",
    ")\n",
    "\n",
    "pages = dataset.items.list(filters=filters)\n",
    "print(f'Found {pages.items_count} items with completed status for task {task_id}')\n"
   ]
  },
  {
   "cell_type": "markdown",
   "metadata": {},
   "source": [
    "\n",
    "\n",
    "### Check Remaining Items in Task\n",
    "\n",
    "This will get all the items from a specific task that DOES NOT have any status set\n"
   ]
  },
  {
   "cell_type": "code",
   "execution_count": 0,
   "metadata": {},
   "outputs": [],
   "source": [
    "filetrs = dl.Filters()  # `resource` defaults to items\n",
    "filetrs.add(\n",
    "    field='metadata.system.refs',\n",
    "    values={'id': {'$in': [task.id]}, \n",
    "            'metadata': {'status': {'$exists': False}}}, \n",
    "    operator=dl.FiltersOperations.MATCH\n",
    ")\n",
    "pages = item.dataset.items.list(filters=filetrs)\n",
    "print(pages.items_count)\n"
   ]
  },
  {
   "cell_type": "markdown",
   "metadata": {},
   "source": [
    "\n",
    "\n",
    "And the other way around, to get all the items WITH a status:\n",
    "\n"
   ]
  },
  {
   "cell_type": "code",
   "execution_count": 0,
   "metadata": {},
   "outputs": [],
   "source": [
    "filetrs = dl.Filters()  # `resource` defaults to items\n",
    "filetrs.add(\n",
    "    field='metadata.system.refs',\n",
    "    values={'id': {'$in': [task.id]}, \n",
    "            'metadata': {'status': {'$exists': True}}}, \n",
    "    operator=dl.FiltersOperations.MATCH\n",
    ")\n",
    "pages = item.dataset.items.list(filters=filetrs)\n",
    "print(pages.items_count)\n"
   ]
  },
  {
   "cell_type": "markdown",
   "metadata": {},
   "source": [
    "\n",
    "\n",
    "### Finding Unassigned Items\n",
    "\n",
    "Looking for items nobody's working on?\n",
    "\n"
   ]
  },
  {
   "cell_type": "code",
   "execution_count": 0,
   "metadata": {},
   "outputs": [],
   "source": [
    "filters = dl.Filters()\n",
    "filters.add(field='metadata.system.refs', values=[])\n",
    "pages = dataset.items.list(filters=filters)\n",
    "print(f'Found {pages.items_count} unassigned items')\n"
   ]
  },
  {
   "cell_type": "markdown",
   "metadata": {},
   "source": [
    "\n",
    "\n",
    "## File and Folder Operations \ud83d\udcc1\n",
    "\n",
    "### Filtering by Folder\n",
    "\n",
    "Want items from a specific folder?\n",
    "\n"
   ]
  },
  {
   "cell_type": "code",
   "execution_count": 0,
   "metadata": {},
   "outputs": [],
   "source": [
    "filters = dl.Filters()\n",
    "filters.add(field='dir', values=\"/folderName\")\n",
    "pages = dataset.items.list(filters=filters)\n",
    "print(f'Found {pages.items_count} items in folder')\n"
   ]
  },
  {
   "cell_type": "markdown",
   "metadata": {},
   "source": [
    "\n",
    "\n",
    "### Finding Specific Files\n",
    "\n",
    "Looking for files with a particular name pattern?\n",
    "\n"
   ]
  },
  {
   "cell_type": "code",
   "execution_count": 0,
   "metadata": {},
   "outputs": [],
   "source": [
    "filters = dl.Filters()\n",
    "filters.add(field='name', values='foo.bar.*')\n",
    "pages = dataset.items.list(filters=filters)\n",
    "print(f'Found {pages.items_count} matching files')\n"
   ]
  },
  {
   "cell_type": "markdown",
   "metadata": {},
   "source": [
    "\n",
    "\n",
    "### Working with Hidden Items\n",
    "\n",
    "Need to see hidden items and directories?\n",
    "\n"
   ]
  },
  {
   "cell_type": "code",
   "execution_count": 0,
   "metadata": {},
   "outputs": [],
   "source": [
    "# Method 1: Show directories\n",
    "filters = dl.Filters()\n",
    "filters.add(field='type', values='dir')\n",
    "\n",
    "# Method 2: Remove type filter\n",
    "filters = dl.Filters()\n",
    "filters.pop(field='type')\n",
    "\n",
    "# Method 3: Disable defaults\n",
    "filters = dl.Filters(use_defaults=False)\n"
   ]
  },
  {
   "cell_type": "markdown",
   "metadata": {},
   "source": [
    "\n",
    "\n",
    "## Advanced Sorting and Filtering \ud83c\udfaf\n",
    "\n",
    "### Size-Based Sorting\n",
    "\n",
    "Want to find and sort files within a specific size range?\n",
    "\n"
   ]
  },
  {
   "cell_type": "code",
   "execution_count": 0,
   "metadata": {},
   "outputs": [],
   "source": [
    "filters = dl.Filters()\n",
    "# Between 0 and 5 MB\n",
    "filters.add(field='metadata.system.size', values='0', operator='gt')\n",
    "filters.add(field='metadata.system.size', values='5242880', operator='lt')\n",
    "filters.sort_by(field='filename', value=dl.FILTERS_ORDERBY_DIRECTION_ASCENDING)\n",
    "pages = dataset.items.list(filters=filters)\n",
    "print(f'Found {pages.items_count} files between 0-5MB')\n"
   ]
  },
  {
   "cell_type": "markdown",
   "metadata": {},
   "source": [
    "\n",
    "\n",
    "### Multi-Field Sorting\n",
    "\n",
    "Need to sort by multiple criteria? We've got you covered:\n",
    "\n"
   ]
  },
  {
   "cell_type": "code",
   "execution_count": 0,
   "metadata": {},
   "outputs": [],
   "source": [
    "filters = dl.Filters()\n",
    "filters.resource = dl.FiltersResource.ANNOTATION\n",
    "# Sort by label (A-Z) then creation date (newest first)\n",
    "filters.sort_by(field='label', value=dl.FILTERS_ORDERBY_DIRECTION_ASCENDING)\n",
    "filters.sort_by(field='createdAt', value=dl.FILTERS_ORDERBY_DIRECTION_DESCENDING)\n",
    "pages = dataset.items.list(filters=filters)\n",
    "print(f'Found {pages.items_count} sorted items')\n"
   ]
  },
  {
   "cell_type": "markdown",
   "metadata": {},
   "source": [
    "\n",
    "\n",
    "## Time-Based Filtering \u23f0\n",
    "\n",
    "### Finding Items by Date Range\n",
    "\n",
    "Need items from a specific time period? Here's how to handle UTC time properly:\n",
    "\n"
   ]
  },
  {
   "cell_type": "code",
   "execution_count": 0,
   "metadata": {},
   "outputs": [],
   "source": [
    "import datetime\n",
    "\n",
    "# Option 1: Absolute dates (e.g., May 2-3, 2024)\n",
    "earlier = datetime.datetime(year=2024, month=5, day=2, hour=0, minute=0, second=0).isoformat()\n",
    "later = datetime.datetime(year=2024, month=5, day=3, hour=0, minute=0, second=0).isoformat()\n",
    "\n",
    "# Option 2: Relative time (e.g., last hour)\n",
    "earlier = (datetime.datetime.utcnow() - datetime.timedelta(hours=1)).isoformat()\n",
    "later = datetime.datetime.utcnow().isoformat()\n",
    "\n",
    "# Apply the filter\n",
    "filters = dl.Filters()\n",
    "filters.add(field='createdAt', values=earlier, operator=dl.FiltersOperations.GREATER_THAN)\n",
    "filters.add(field='createdAt', values=later, operator=dl.FiltersOperations.LESS_THAN)\n",
    "pages = dataset.items.list(filters=filters)\n",
    "print(f'Found {pages.items_count} items in time range')\n"
   ]
  },
  {
   "cell_type": "markdown",
   "metadata": {},
   "source": [
    "\n",
    "\n",
    "## Working with Custom Filters \ud83d\udee0\ufe0f\n",
    "\n",
    "### Using Platform-Generated DQL\n",
    "\n",
    "Have a DQL JSON from the platform? Use it directly:\n",
    "\n"
   ]
  },
  {
   "cell_type": "code",
   "execution_count": 0,
   "metadata": {},
   "outputs": [],
   "source": [
    "filters = dl.Filters(\n",
    "    custom_filter={\n",
    "        \"$and\": [\n",
    "            {\"hidden\": False},\n",
    "            {\"type\": \"file\"},\n",
    "            {\"annotated\": True}\n",
    "        ]\n",
    "    }\n",
    ")\n",
    "pages = dataset.items.list(filters=filters)\n",
    "print(f'Found {pages.items_count} items matching custom filter')\n"
   ]
  },
  {
   "cell_type": "markdown",
   "metadata": {},
   "source": [
    "\n",
    "\n",
    "### Opening Filters in the UI\n",
    "\n",
    "Want to see your filter in action in the platform?\n",
    "\n"
   ]
  },
  {
   "cell_type": "code",
   "execution_count": 0,
   "metadata": {},
   "outputs": [],
   "source": [
    "filters = dl.Filters()\n",
    "filters.add(field='annotated', values=True)\n",
    "filters.open_in_web(dataset)\n"
   ]
  },
  {
   "cell_type": "markdown",
   "metadata": {},
   "source": [
    "\n",
    "\n",
    "### Managing Filters\n",
    "\n",
    "Need to remove a filter? Here's how:\n",
    "\n"
   ]
  },
  {
   "cell_type": "code",
   "execution_count": 0,
   "metadata": {},
   "outputs": [],
   "source": [
    "filters = dl.Filters()\n",
    "# Add a filter\n",
    "filters.add(field='to-delete-field', values='value')\n",
    "\n",
    "# Remove it\n",
    "filters.pop(field='to-delete-field')\n",
    "# Or for annotation filters\n",
    "filters.pop_join(field='to-delete-annotation-field')\n"
   ]
  },
  {
   "cell_type": "markdown",
   "metadata": {},
   "source": [
    "\n",
    "\n",
    "## Need More Advanced Options? \ud83d\ude80\n",
    "\n",
    "For even more filtering power, check out our [Advanced SDK Filters](https://docs.dataloop.ai/docs/dql-operators) guide.\n",
    "\n",
    "Happy filtering! \ud83c\udf89\n"
   ]
  }
 ],
 "metadata": {
  "kernelspec": {
   "display_name": "Python 3",
   "language": "python",
   "name": "python3"
  },
  "language_info": {
   "codemirror_mode": {
    "name": "ipython",
    "version": 3
   },
   "file_extension": ".py",
   "mimetype": "text/x-python",
   "name": "python",
   "nbconvert_exporter": "python",
   "pygments_lexer": "ipython3",
   "version": "3.7.7"
  }
 },
 "nbformat": 4,
 "nbformat_minor": 4
}