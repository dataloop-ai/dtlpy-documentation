{
 "cells": [
  {
   "cell_type": "markdown",
   "metadata": {},
   "source": [
    "# \ud83c\udfb5 Audio Annotations - Making Sound Visible!\n",
    "\n",
    "Welcome to the world of audio annotations! While other annotations deal with what you can see, audio annotations help us mark what you can hear. Let's explore how to capture and annotate sound! \n",
    "\n",
    "## \ud83c\udfaf Basic Audio Annotation\n",
    "\n",
    "Think of audio annotations like marking timestamps in a song or podcast. Here's how to create one:\n",
    "\n"
   ]
  },
  {
   "cell_type": "code",
   "execution_count": 0,
   "metadata": {},
   "outputs": [],
   "source": [
    "import dtlpy as dl\n",
    "\n",
    "project = dl.projects.get('My Project')\n",
    "dataset = project.datasets.get('My Dataset')\n",
    "item = dataset.items.get(filepath='/your-audio.wav')\n",
    "builder = item.annotations.builder()\n",
    "\n",
    "# Create a simple audio segment annotation\n",
    "builder.add(annotation_definition=dl.Audio(start_time=1.5,    # Start time in seconds\n",
    "                                         end_time=3.2,        # End time in seconds\n",
    "                                         label='speech',\n",
    "                                         attributes={'speaker': 'person1',\n",
    "                                                   'language': 'english'}))\n",
    "\n",
    "# Save your work\n",
    "item.annotations.upload(builder)\n"
   ]
  },
  {
   "cell_type": "markdown",
   "metadata": {},
   "source": [
    "\n",
    "\n",
    "## \ud83c\udfbc Advanced Audio Annotations\n",
    "\n",
    "### Transcription Annotations\n",
    "Add text transcriptions to your audio segments:\n",
    "\n"
   ]
  },
  {
   "cell_type": "code",
   "execution_count": 0,
   "metadata": {},
   "outputs": [],
   "source": [
    "item = dataset.items.get(filepath='/my_item.mp3')\n",
    "# Create a builder instance and load annotation from the VTT file\n",
    "builder = item.annotations.builder()\n",
    "builder.from_vtt_file(filepath=r\"E:\\TypesExamples\\audio\\subtitles.vtt\")\n",
    "# Upload annotations to the item\n",
    "item.annotations.upload(builder)\n"
   ]
  },
  {
   "cell_type": "markdown",
   "metadata": {},
   "source": [
    "\n",
    "\n",
    "Another example:\n",
    "\n"
   ]
  },
  {
   "cell_type": "code",
   "execution_count": 0,
   "metadata": {},
   "outputs": [],
   "source": [
    "import webvtt\n",
    "import datetime\n",
    "filepath = '/home/subtitles.vtt'\n",
    "builder = item.annotations.builder()\n",
    "for caption in webvtt.read(filepath):\n",
    "    h, m, s = caption.start.split(':')\n",
    "    start_time = datetime.timedelta(hours=float(h), minutes=float(m), seconds=float(s)).\n",
    "    total_seconds()\n",
    "    h, m, s = caption.end.split(':')\n",
    "    end_time = datetime.timedelta(hours=float(h), minutes=float(m), seconds=float(s)).\n",
    "    total_seconds()\n",
    "\n",
    "    builder.add(annotation_definition=dl.Subtitle(label='Speaker1',\n",
    "                                                  text=caption.text),\n",
    "                start_time=start_time,\n",
    "                end_time=end_time)\n"
   ]
  },
  {
   "cell_type": "markdown",
   "metadata": {},
   "source": [
    "\n",
    "\n",
    "\n",
    "# \ud83d\udca1 Pro Tips for Audio Annotations\n",
    "\n",
    "- Always verify your timestamps match the audio content\n",
    "- Use consistent labels for similar sound types\n",
    "- Consider using attributes for additional context like speaker ID or sound quality\n",
    "- Keep track of overlapping annotations\n",
    "\n",
    "# \ud83c\udf93 Best Practices\n",
    "\n",
    "## Working with Long Audio Files\n",
    "When dealing with lengthy recordings:\n",
    "- Break down the file into logical segments\n",
    "- Use clear naming conventions for different types of sounds\n",
    "- Consider using multiple passes for different annotation types\n",
    "- Document any audio quality issues or background noise\n",
    "\n",
    "## Annotation Guidelines\n",
    "For consistent audio annotations:\n",
    "- Define clear rules for segment boundaries\n",
    "- Document how to handle overlapping sounds\n",
    "- Establish conventions for speaker identification\n",
    "- Use attributes to capture audio characteristics\n",
    "\n",
    "## Audio Quality Considerations\n",
    "- Note any background noise or interference\n",
    "- Document audio channel information\n",
    "- Consider sample rate and bit depth\n",
    "- Mark sections with poor audio quality\n",
    "\n",
    "Need help? Check out our other tutorials or reach out to our support team. Happy audio annotating! \ud83c\udfa7\u2728\n",
    "\n"
   ]
  }
 ],
 "metadata": {
  "kernelspec": {
   "display_name": "Python 3",
   "language": "python",
   "name": "python3"
  },
  "language_info": {
   "codemirror_mode": {
    "name": "ipython",
    "version": 3
   },
   "file_extension": ".py",
   "mimetype": "text/x-python",
   "name": "python",
   "nbconvert_exporter": "python",
   "pygments_lexer": "ipython3",
   "version": "3.7.7"
  }
 },
 "nbformat": 4,
 "nbformat_minor": 4
}