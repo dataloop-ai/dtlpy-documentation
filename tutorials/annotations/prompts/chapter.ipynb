{
 "cells": [
  {
   "cell_type": "markdown",
   "metadata": {},
   "source": [
    "# \ud83d\udcac Prompt Annotations - Where Conversations Come to Life!\n",
    "\n",
    "Welcome to the world of prompt annotations! Think of prompts as digital conversations - they can include text, images, and even audio. Let's explore how to create and manage these interactive elements!\n",
    "\n",
    "# \ud83c\udfaf Getting Started with Prompts\n",
    "\n",
    "## \ud83d\udee0\ufe0f Creating and Managing Prompts\n",
    "\n",
    "## Project Setup\n",
    "\n",
    "First, let's set up our environment:\n",
    "\n"
   ]
  },
  {
   "cell_type": "code",
   "execution_count": 0,
   "metadata": {},
   "outputs": [],
   "source": [
    "import dtlpy as dl\n",
    "\n",
    "# Get your project and dataset ready\n",
    "project = dl.projects.get(project_name='<project name>')\n",
    "dataset = project.datasets.get(dataset_name='<dataset name>')\n"
   ]
  },
  {
   "cell_type": "markdown",
   "metadata": {},
   "source": [
    "\n",
    "\n",
    "## Creating a Single Prompt\n",
    "\n",
    "Let's create a prompt with both text and image:\n",
    "\n"
   ]
  },
  {
   "cell_type": "code",
   "execution_count": 0,
   "metadata": {},
   "outputs": [],
   "source": [
    "# Create a prompt item\n",
    "prompt_item = dl.PromptItem(name='my-first-prompt')\n",
    "\n",
    "# Create a prompt with a unique key\n",
    "prompt1 = dl.Prompt(key='conversation-1')\n",
    "\n",
    "# Add text component\n",
    "prompt1.add_element(\n",
    "\tmimetype=dl.PromptType.TEXT,\n",
    "\tvalue='Who are you?'\n",
    ")\n",
    "\n",
    "# Add image component\n",
    "prompt1.add_element(\n",
    "\tmimetype=dl.PromptType.IMAGE,\n",
    "\tvalue=dl.items.get(item_id='your-image-id').stream\n",
    ")\n",
    "\n",
    "# Add the prompt to the prompt item\n",
    "prompt_item.prompts.append(prompt1)\n"
   ]
  },
  {
   "cell_type": "markdown",
   "metadata": {},
   "source": [
    "\n",
    "\n",
    "## Building Conversations\n",
    "\n",
    "Create a sequence of prompts to simulate a conversation:\n",
    "\n"
   ]
  },
  {
   "cell_type": "code",
   "execution_count": 0,
   "metadata": {},
   "outputs": [],
   "source": [
    "# Add another prompt to continue the conversation\n",
    "prompt2 = dl.Prompt(key='conversation-2')\n",
    "prompt2.add_element(\n",
    "\tmimetype=dl.PromptType.TEXT,\n",
    "\tvalue='Where are you from?'\n",
    ")\n",
    "\n",
    "# Add audio element (if needed)\n",
    "prompt2.add_element(\n",
    "\tmimetype=dl.PromptType.AUDIO,\n",
    "\tvalue='http://audio-file.mp3'\n",
    ")\n",
    "\n",
    "# Add to the same prompt item\n",
    "prompt_item.prompts.append(prompt2)\n",
    "\n",
    "# Upload the complete prompt item\n",
    "item = dataset.items.upload(prompt_item, overwrite=True)\n"
   ]
  },
  {
   "cell_type": "markdown",
   "metadata": {},
   "source": [
    "\n",
    "\n",
    "## Batch Upload\n",
    "\n",
    "Need to upload multiple prompts? We've got you covered:\n",
    "\n"
   ]
  },
  {
   "cell_type": "code",
   "execution_count": 0,
   "metadata": {},
   "outputs": [],
   "source": [
    "# Upload multiple prompt items at once\n",
    "items = dataset.items.upload([\n",
    "\tprompts_item_1,\n",
    "\tprompts_item_2,\n",
    "\tprompts_item_3,\n",
    "\tprompts_item_4\n",
    "])\n",
    "\n",
    "# Or upload an entire directory of prompt JSON files\n",
    "items = dataset.items.upload('/user/prompts')\n"
   ]
  },
  {
   "cell_type": "markdown",
   "metadata": {},
   "source": [
    "\n",
    "\n",
    "# \ud83d\udcdd Working with Responses (Annotations)\n",
    "\n",
    "## Response Types\n",
    "\n",
    "Dataloop supports various types of responses:\n",
    "\n",
    "- FreeText: For text responses\n",
    "- RefImage: For image references\n",
    "- RefVideo: For video references (Coming soon!)\n",
    "- RefAudio: For audio references (Coming soon!)\n",
    "\n",
    "## Adding Text Responses\n",
    "\n",
    "Here's how to add a text response to a prompt:\n",
    "\n"
   ]
  },
  {
   "cell_type": "code",
   "execution_count": 0,
   "metadata": {},
   "outputs": [],
   "source": [
    "# Get your prompt item\n",
    "item = dl.items.get(item_id='<prompt item id>')\n",
    "prompt_item = dl.PromptItem.from_item(item)\n",
    "\n",
    "# Add a text response\n",
    "prompt_item.add(\n",
    "    prompt_key='<prompt key>',\n",
    "\tmessage={\n",
    "\t\t\"role\": \"assistant\",\n",
    "\t\t\"content\": [{\n",
    "\t\t\t\"mimetype\": dl.PromptType.TEXT,\n",
    "\t\t\t\"value\": 'My name is botman'\n",
    "\t\t}]\n",
    "\t},\n",
    "\tmodel_info={\n",
    "\t\t'name': 'gpt-4',\n",
    "\t\t'confidence': 1.0,\n",
    "\t\t'model_id': 'model-123'\n",
    "\t}\n",
    ")\n"
   ]
  },
  {
   "cell_type": "markdown",
   "metadata": {},
   "source": [
    "\n",
    "\n",
    "## Adding Image Responses\n",
    "\n",
    "Want to respond with an image? Here's how:\n",
    "\n"
   ]
  },
  {
   "cell_type": "code",
   "execution_count": 0,
   "metadata": {},
   "outputs": [],
   "source": [
    "# First, upload the response image\n",
    "image = dataset.items.upload(\n",
    "\tlocal_path=\"path/to/response.jpg\",\n",
    "\tremote_path=f'/annotations/{item.id}'\n",
    ")\n",
    "\n",
    "# Add the image response to the prompt item\n",
    "prompt_item.add(\n",
    "    prompt_key='<prompt key>',\n",
    "\tmessage={\n",
    "\t\t\"role\": \"assistant\",\n",
    "\t\t\"content\": [{\n",
    "\t\t\t\"mimetype\": dl.PromptType.IMAGE,\n",
    "\t\t\t\"value\": dl.items.get(item_id=image.id).stream\n",
    "\t\t}]\n",
    "\t},\n",
    "\tmodel_info={\n",
    "\t\t'name': 'gpt-4o-mini',\n",
    "\t\t'confidence': 1.0,\n",
    "\t\t'model_id': '<model id>'\n",
    "\t}\n",
    ")\n"
   ]
  },
  {
   "cell_type": "markdown",
   "metadata": {},
   "source": [
    "\n",
    "\n",
    "## Using External Image URLs\n",
    "\n",
    "You can also reference external images:\n",
    "\n"
   ]
  },
  {
   "cell_type": "code",
   "execution_count": 0,
   "metadata": {},
   "outputs": [],
   "source": [
    "# Add the image response to the prompt item\n",
    "prompt_item.add(\n",
    "    prompt_key='<prompt key>',\n",
    "\tmessage={\n",
    "\t\t\"role\": \"assistant\",\n",
    "\t\t\"content\": [{\n",
    "\t\t\t\"mimetype\": dl.PromptType.IMAGE,\n",
    "\t\t\t\"value\":\"https://example.com/image.png\"\n",
    "\t\t}]\n",
    "\t},\n",
    "\tmodel_info={\n",
    "\t\t'name': 'gpt-4o-mini',\n",
    "\t\t'confidence': 1.0,\n",
    "\t\t'model_id': '<model id>'\n",
    "\t}\n",
    ")\n"
   ]
  },
  {
   "cell_type": "markdown",
   "metadata": {},
   "source": [
    "\n",
    "\n",
    "# Understanding Prompt Structure\n",
    "\n",
    "Prompts in Dataloop are stored as JSON files with a specific structure. Here's a simple example:\n",
    "\n"
   ]
  },
  {
   "cell_type": "markdown",
   "metadata": {},
   "source": [
    "```json\n{\n  \"shebang\": \"dataloop\",\n  \"metadata\": {\n    \"dltype\": \"prompt\"\n  },\n  \"prompts\": {\n    \"prompt#1\": [\n      {\n        \"mimetype\": \"application/text\",\n        \"value\": \"Please generate an image of a donkey\"\n      }\n    ]\n  }\n}\n```\n"
   ]
  },
  {
   "cell_type": "markdown",
   "metadata": {},
   "source": [
    "\n",
    "\n",
    "Want to go multi-modal? Here's how:\n",
    "\n"
   ]
  },
  {
   "cell_type": "markdown",
   "metadata": {},
   "source": [
    "```json\n{\n  \"shebang\": \"dataloop\",\n  \"metadata\": {\n    \"dltype\": \"prompt\"\n  },\n  \"prompts\": {\n    \"1\": [\n      {\n        \"mimetype\": \"image/*\",\n        \"value\": \"https://gate.dataloop.ai/api/v1/items/<item-id>/stream\"\n      },\n      {\n        \"mimetype\": \"application/text\",\n        \"value\": \"What's in these images?\"\n      }\n    ]\n  }\n}\n```\n"
   ]
  },
  {
   "cell_type": "markdown",
   "metadata": {},
   "source": [
    "\n",
    "\n",
    "# \ud83d\udca1 Pro Tips\n",
    "\n",
    "## Best Practices\n",
    "\n",
    "- Use meaningful prompt keys for easy tracking\n",
    "- Keep prompt structures consistent\n",
    "- Include metadata for better organization\n",
    "- Handle multimodal content appropriately\n",
    "\n",
    "## Quality Control\n",
    "\n",
    "- Validate JSON structure before uploading\n",
    "- Check response associations\n",
    "- Monitor model confidence scores\n",
    "- Keep track of conversation flow\n",
    "\n",
    "## Performance Optimization\n",
    "\n",
    "- Batch upload when possible\n",
    "- Use appropriate mimetypes\n",
    "- Optimize image sizes\n",
    "- Consider response caching\n",
    "\n",
    "Need help? Check out our other tutorials or reach out to our support team. Happy prompting! \ud83d\udcad\u2728\n"
   ]
  }
 ],
 "metadata": {
  "kernelspec": {
   "display_name": "Python 3",
   "language": "python",
   "name": "python3"
  },
  "language_info": {
   "codemirror_mode": {
    "name": "ipython",
    "version": 3
   },
   "file_extension": ".py",
   "mimetype": "text/x-python",
   "name": "python",
   "nbconvert_exporter": "python",
   "pygments_lexer": "ipython3",
   "version": "3.7.7"
  }
 },
 "nbformat": 4,
 "nbformat_minor": 4
}