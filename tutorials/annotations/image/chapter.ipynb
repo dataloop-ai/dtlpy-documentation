{
 "cells": [
  {
   "cell_type": "markdown",
   "metadata": {},
   "source": [
    "# \ud83c\udfa8 Image Annotations - Your Visual Data Toolkit!\n",
    "\n",
    "Welcome to the world of image annotations! Whether you're training an AI model, analyzing medical images, or cataloging your photo collection, annotations are your tools for marking, labeling, and understanding visual data. Let's dive into the exciting possibilities!\n",
    "\n",
    "# \ud83d\udccb Classification - Simple Yet Powerful\n",
    "\n",
    "## Single Item Classification\n",
    "Need to label an entire image? Here's how to add a simple classification:\n",
    "\n"
   ]
  },
  {
   "cell_type": "code",
   "execution_count": 0,
   "metadata": {},
   "outputs": [],
   "source": [
    "# Get item from the platform\n",
    "item = dataset.items.get(filepath='/your-image-file-path.jpg')\n",
    "# Create a builder instance\n",
    "builder = item.annotations.builder()\n",
    "# Add classification label\n",
    "builder.add(annotation_definition=dl.Classification(label=label))\n",
    "# Save to platform\n",
    "item.annotations.upload(builder)\n"
   ]
  },
  {
   "cell_type": "markdown",
   "metadata": {},
   "source": [
    "\n",
    "\n",
    "## Batch Classification\n",
    "Got multiple images to classify? Let's do it efficiently:\n",
    "\n"
   ]
  },
  {
   "cell_type": "code",
   "execution_count": 0,
   "metadata": {},
   "outputs": [],
   "source": [
    "# Create a filter for batch processing\n",
    "filters = dl.Filters()\n",
    "# Add filter - only files\n",
    "filters.add(field='type', values='file')\n",
    "# Get filtered items\n",
    "pages = dataset.items.list(filters=filters)\n",
    "# Process each item\n",
    "for page in pages:\n",
    "    for item in page:\n",
    "        builder = item.annotations.builder()\n",
    "        builder.add(annotation_definition=dl.Classification(label='your-label'))\n",
    "        item.annotations.upload(builder)\n"
   ]
  },
  {
   "cell_type": "markdown",
   "metadata": {},
   "source": [
    "\n",
    "\n",
    "# \ud83d\udccd Points & Poses - Precision Marking\n",
    "\n",
    "## Point Annotations\n",
    "Perfect for marking specific locations in your image:\n",
    "\n"
   ]
  },
  {
   "cell_type": "code",
   "execution_count": 0,
   "metadata": {},
   "outputs": [],
   "source": [
    "# Get your canvas ready\n",
    "item = dataset.items.get(filepath='/your-image-file-path.jpg')\n",
    "builder = item.annotations.builder()\n",
    "# Add a point with attributes\n",
    "builder.add(annotation_definition=dl.Point(x=100,\n",
    "                                         y=100,\n",
    "                                         label='my-label',\n",
    "                                         attributes={'color': 'red'}))\n",
    "# Save your work\n",
    "item.annotations.upload(builder)\n"
   ]
  },
  {
   "cell_type": "markdown",
   "metadata": {},
   "source": [
    "\n",
    "\n",
    "## Pose Annotations - Digital Skeletons\n",
    "Create pose templates for tracking key points on subjects:\n",
    "\n"
   ]
  },
  {
   "cell_type": "code",
   "execution_count": 0,
   "metadata": {},
   "outputs": [],
   "source": [
    "# Get your pose template ID\n",
    "template_id = recipe.get_annotation_template_id(template_name=\"my_template_name\")\n",
    "\n",
    "# Create the parent pose annotation\n",
    "parent_annotation = item.annotations.upload(\n",
    "    dl.Annotation.new(annotation_definition=dl.Pose(\n",
    "        label='my_parent_label',\n",
    "        template_id=template_id,\n",
    "        instance_id=None  # Optional for tracking specific instances\n",
    "    ))\n",
    ")[0]\n",
    "\n",
    "# Add the skeleton points\n",
    "builder = item.annotations.builder()\n",
    "builder.add(annotation_definition=dl.Point(x=x,\n",
    "                                         y=y,\n",
    "                                         label='my_point_label'),\n",
    "           parent_id=parent_annotation.id)\n",
    "builder.upload()\n"
   ]
  },
  {
   "cell_type": "markdown",
   "metadata": {},
   "source": [
    "\n",
    "\n",
    "# \ud83d\udce6 Boxes & Cuboids - Defining Regions\n",
    "\n",
    "## Bounding Box\n",
    "The classic way to mark regions of interest:\n",
    "\n"
   ]
  },
  {
   "cell_type": "code",
   "execution_count": 0,
   "metadata": {},
   "outputs": [],
   "source": [
    "# Create a simple box\n",
    "builder.add(annotation_definition=dl.Box(top=10,\n",
    "                                       left=10,\n",
    "                                       bottom=100,\n",
    "                                       right=100,\n",
    "                                       label='my-label'))\n"
   ]
  },
  {
   "cell_type": "markdown",
   "metadata": {},
   "source": [
    "\n",
    "\n",
    "## 3D Cuboid\n",
    "Working in 3D? Choose your preferred method:\n",
    "\n"
   ]
  },
  {
   "cell_type": "code",
   "execution_count": 0,
   "metadata": {},
   "outputs": [],
   "source": [
    "# Method 1: Using front and back rectangles\n",
    "builder.add(annotation_definition=dl.Cube.from_boxes_and_angle(\n",
    "    label=\"label\",\n",
    "    front_top=100,\n",
    "    front_left=100,\n",
    "    front_right=300,\n",
    "    front_bottom=300,\n",
    "    back_top=200,\n",
    "    back_left=200,\n",
    "    back_right=400,\n",
    "    back_bottom=400,\n",
    "    angle=0\n",
    "))\n",
    "\n",
    "# Method 2: Using 8 corner points\n",
    "builder.add(annotation_definition=dl.Cube(\n",
    "    label=\"label\",\n",
    "    front_tl=[200, 200],  # Front top left\n",
    "    front_tr=[500, 250],  # Front top right\n",
    "    front_br=[500, 550],  # Front bottom right\n",
    "    front_bl=[200, 500],  # Front bottom left\n",
    "    back_tl=[300, 300],   # Back top left\n",
    "    back_tr=[600, 350],   # Back top right\n",
    "    back_br=[600, 650],   # Back bottom right\n",
    "    back_bl=[300, 600]    # Back bottom left\n",
    "))\n"
   ]
  },
  {
   "cell_type": "markdown",
   "metadata": {},
   "source": [
    "\n",
    "\n",
    "# \ud83d\udd37 Advanced Shapes - Creative Freedom\n",
    "\n",
    "## Ellipse Annotations\n",
    "Perfect for circular or oval regions:\n",
    "\n"
   ]
  },
  {
   "cell_type": "code",
   "execution_count": 0,
   "metadata": {},
   "outputs": [],
   "source": [
    "builder.add(annotation_definition=dl.Ellipse(\n",
    "    x=center_x,\n",
    "    y=center_y,\n",
    "    rx=radius_x,\n",
    "    ry=radius_y,\n",
    "    angle=rotation_angle,\n",
    "    label=label\n",
    "))\n"
   ]
  },
  {
   "cell_type": "markdown",
   "metadata": {},
   "source": [
    "\n",
    "\n",
    "## Polygons & Polylines\n",
    "For when predefined shapes won't cut it:\n",
    "\n"
   ]
  },
  {
   "cell_type": "code",
   "execution_count": 0,
   "metadata": {},
   "outputs": [],
   "source": [
    "# Create a polygon\n",
    "builder.add(annotation_definition=dl.Polygon(\n",
    "    geo=[[100, 50], [80, 120], [110, 130]],\n",
    "    label='my-label'\n",
    "))\n",
    "\n",
    "# Create a polyline\n",
    "builder.add(annotation_definition=dl.Polyline(\n",
    "    geo=[[100, 50], [80, 120], [110, 130]],\n",
    "    label='my-label'\n",
    "))\n"
   ]
  },
  {
   "cell_type": "markdown",
   "metadata": {},
   "source": [
    "\n",
    "\n",
    "# \ud83c\udfad Segmentation - Pixel-Perfect Precision\n",
    "\n",
    "## Basic Segmentation\n",
    "Create a binary mask for your annotations:\n",
    "\n"
   ]
  },
  {
   "cell_type": "code",
   "execution_count": 0,
   "metadata": {},
   "outputs": [],
   "source": [
    "# Create a mask\n",
    "mask = np.zeros(shape=(item.height, item.width), dtype=np.uint8)\n",
    "mask[50:100, 200:250] = 1  # Mark region of interest\n",
    "\n",
    "# Add segmentation annotation\n",
    "builder.add(annotation_definition=dl.Segmentation(\n",
    "    geo=mask,\n",
    "    label='my-label'\n",
    "))\n"
   ]
  },
  {
   "cell_type": "markdown",
   "metadata": {},
   "source": [
    "\n",
    "\n",
    "## Converting Between Formats\n",
    "\n",
    "### Mask to Polygon\n"
   ]
  },
  {
   "cell_type": "code",
   "execution_count": 0,
   "metadata": {},
   "outputs": [],
   "source": [
    "# Convert segmentation to polygon\n",
    "builder.add(dl.Polygon.from_segmentation(\n",
    "    mask=mask_annotation.geo,\n",
    "    label=mask_annotation.label,\n",
    "    max_instances=None\n",
    "))\n"
   ]
  },
  {
   "cell_type": "markdown",
   "metadata": {},
   "source": [
    "\n",
    "\n",
    "### Polygon to Mask\n"
   ]
  },
  {
   "cell_type": "code",
   "execution_count": 0,
   "metadata": {},
   "outputs": [],
   "source": [
    "# Convert polygon to segmentation\n",
    "builder.add(dl.Segmentation.from_polygon(\n",
    "    geo=polygon_annotation.geo,\n",
    "    label=annotation.label,\n",
    "    shape=img.size[::-1]  # (height, width)\n",
    "))\n"
   ]
  },
  {
   "cell_type": "markdown",
   "metadata": {},
   "source": [
    "\n",
    "\n",
    "## Segmentation from Instance Mask\n",
    "Create segmentation from instance masks:\n",
    "\n"
   ]
  },
  {
   "cell_type": "code",
   "execution_count": 0,
   "metadata": {},
   "outputs": [],
   "source": [
    "# Create random instance mask\n",
    "mask = np.random.randint(low=0, high=2, size=(item.height, item.width))\n",
    "instance_map = {\"background\": 0, \"foreground\": 1}\n",
    "\n",
    "# Convert to segmentation annotations\n",
    "builder.from_instance_mask(mask=mask, instance_map=instance_map)\n"
   ]
  },
  {
   "cell_type": "markdown",
   "metadata": {},
   "source": [
    "\n",
    "\n",
    "# \ud83d\udcdd Metadata & Description\n",
    "\n",
    "## Item Description\n",
    "Add context to your images:\n",
    "\n"
   ]
  },
  {
   "cell_type": "code",
   "execution_count": 0,
   "metadata": {},
   "outputs": [],
   "source": [
    "# Add or update item description\n",
    "item.set_description(text=\"Detailed description of the image\")\n"
   ]
  },
  {
   "cell_type": "markdown",
   "metadata": {},
   "source": [
    "\n",
    "\n",
    "## Working with Attributes\n",
    "Enrich your annotations with metadata:\n",
    "\n"
   ]
  },
  {
   "cell_type": "code",
   "execution_count": 0,
   "metadata": {},
   "outputs": [],
   "source": [
    "builder.add(annotation_definition=dl.Box(...),\n",
    "           attributes={\n",
    "               'confidence': 0.95,\n",
    "               'category': 'vehicle',\n",
    "               'condition': 'new'\n",
    "           })\n"
   ]
  },
  {
   "cell_type": "markdown",
   "metadata": {},
   "source": [
    "\n",
    "\n",
    "# \ud83d\ude80 Advanced Tutorials\n",
    "\n",
    "## Copying Annotations Between Items\n",
    "Want to reuse annotations across different images? Here's how to copy them between items:\n",
    "\n"
   ]
  },
  {
   "cell_type": "code",
   "execution_count": 0,
   "metadata": {},
   "outputs": [],
   "source": [
    "# Set the source item with the annotations we want to copy\n",
    "project = dl.projects.get(project_name='second-project_name')\n",
    "dataset = project.datasets.get(dataset_name='second-dataset_name')\n",
    "item = dataset.items.get(item_id='first-id-number')\n",
    "annotations = item.annotations.list()\n",
    "\n",
    "# Set the target item where we want to copy to\n",
    "item = dataset.items.get(item_id='second-id-number')\n",
    "item.annotations.upload(annotations=annotations)\n",
    "\n",
    "# Want to copy to multiple items? Use filters!\n",
    "filters = dl.Filters()\n",
    "filters.add(field='filename', values='/fighting/**')  # Get files from directory (recursive)\n",
    "filters.add(field='type', values='file')             # Only files\n",
    "pages = dataset.items.list(filters=filters)\n",
    "\n",
    "# Copy annotations to all filtered items\n",
    "for page in pages:\n",
    "    for item in page:\n",
    "        item.annotations.upload(annotations=annotations)\n"
   ]
  },
  {
   "cell_type": "markdown",
   "metadata": {},
   "source": [
    "\n",
    "\n",
    "## Visualizing Images & Annotations\n",
    "Want to see your annotations? Here's how to visualize them:\n",
    "\n"
   ]
  },
  {
   "cell_type": "code",
   "execution_count": 0,
   "metadata": {},
   "outputs": [],
   "source": [
    "from PIL import Image\n",
    "\n",
    "# Get your item\n",
    "item = dataset.items.get(item_id='write-your-id-number')\n",
    "\n",
    "# Download and open the image\n",
    "buffer = item.download(save_locally=False)\n",
    "image = Image.open(buffer)\n",
    "\n",
    "# Get annotations as an image overlay\n",
    "annotations = item.annotations.show(\n",
    "    width=image.size[0],\n",
    "    height=image.size[1],\n",
    "    thickness=3\n",
    ")\n",
    "annotations = Image.fromarray(annotations.astype(np.uint8))\n",
    "\n",
    "# View annotations and image separately\n",
    "annotations.show()\n",
    "image.show()\n",
    "\n",
    "# Or view them combined!\n",
    "image.paste(annotations, (0, 0), annotations)\n",
    "image.show()\n"
   ]
  },
  {
   "cell_type": "markdown",
   "metadata": {},
   "source": [
    "\n",
    "\n",
    "## Working with JSON Annotations\n",
    "Need to load annotations from a JSON file? We've got you covered:\n",
    "\n"
   ]
  },
  {
   "cell_type": "code",
   "execution_count": 0,
   "metadata": {},
   "outputs": [],
   "source": [
    "from PIL import Image\n",
    "import json\n",
    "\n",
    "# Read annotations from JSON\n",
    "with open(r'C:/home/project/images/annotation.json', 'r') as f:\n",
    "    data = json.load(f)\n",
    "\n",
    "# Display each annotation\n",
    "for annotation in data['annotations']:\n",
    "    annotations = dl.Annotation.from_json(annotation)\n",
    "    mask = annotations.show(\n",
    "        width=640,\n",
    "        height=480,\n",
    "        thickness=3,\n",
    "        color=(255, 0, 0)\n",
    "    )\n",
    "    mask = Image.fromarray(mask.astype(np.uint8))\n",
    "    mask.show()\n"
   ]
  },
  {
   "cell_type": "markdown",
   "metadata": {},
   "source": [
    "\n",
    "\n",
    "## Counting Annotations\n",
    "Need to know how many annotations you have? Here's a quick way:\n",
    "\n"
   ]
  },
  {
   "cell_type": "code",
   "execution_count": 0,
   "metadata": {},
   "outputs": [],
   "source": [
    "# Create annotation filters\n",
    "filters = dl.Filters(resource=dl.FiltersResource.ANNOTATION)\n",
    "filters.page_size = 0\n",
    "\n",
    "# Get the total count\n",
    "annotations_count = dataset.annotations.list(filters=filters).items_count\n"
   ]
  },
  {
   "cell_type": "markdown",
   "metadata": {},
   "source": [
    "\n",
    "\n",
    "## Working with Parent-Child Relationships\n",
    "Create hierarchical relationships between annotations:\n",
    "\n",
    "### Creating Parent-Child While Uploading\n"
   ]
  },
  {
   "cell_type": "code",
   "execution_count": 0,
   "metadata": {},
   "outputs": [],
   "source": [
    "# Create parent box\n",
    "builder = item.annotations.builder()\n",
    "builder.add(annotation_definition=dl.Box(\n",
    "    top=10, left=10, bottom=100, right=100,\n",
    "    label='my-parent-label'\n",
    "))\n",
    "# Upload parent and get its ID\n",
    "annotations = item.annotations.upload(annotations=builder)\n",
    "\n",
    "# Create child box linked to parent\n",
    "builder = item.annotations.builder()\n",
    "builder.add(\n",
    "    annotation_definition=dl.Box(\n",
    "        top=10, left=10, bottom=100, right=100,\n",
    "        label='my-child-label'\n",
    "    ),\n",
    "    parent_id=annotations[0].id\n",
    ")\n",
    "# Upload the complete family\n",
    "item.annotations.upload(annotations=builder)\n"
   ]
  },
  {
   "cell_type": "markdown",
   "metadata": {},
   "source": [
    "\n",
    "\n",
    "### Linking Existing Annotations\n"
   ]
  },
  {
   "cell_type": "code",
   "execution_count": 0,
   "metadata": {},
   "outputs": [],
   "source": [
    "# Create and upload parent\n",
    "builder = item.annotations.builder()\n",
    "builder.add(annotation_definition=dl.Box(\n",
    "    top=10, left=10, bottom=100, right=100,\n",
    "    label='my-parent-label'\n",
    "))\n",
    "parent_annotation = item.annotations.upload(annotations=builder)[0]\n",
    "\n",
    "# Create and upload child\n",
    "builder = item.annotations.builder()\n",
    "builder.add(annotation_definition=dl.Box(\n",
    "    top=10, left=10, bottom=100, right=100,\n",
    "    label='my-child-label'\n",
    "))\n",
    "child_annotation = item.annotations.upload(annotations=builder)[0]\n",
    "\n",
    "# Link child to parent\n",
    "child_annotation.parent_id = parent_annotation.id\n",
    "child_annotation.update(system_metadata=True)\n"
   ]
  },
  {
   "cell_type": "markdown",
   "metadata": {},
   "source": [
    "\n",
    "\n",
    "## Bulk Label Updates\n",
    "Need to change labels across multiple annotations? Here's how:\n",
    "\n"
   ]
  },
  {
   "cell_type": "code",
   "execution_count": 0,
   "metadata": {},
   "outputs": [],
   "source": [
    "# Create a new label (optional)\n",
    "dataset.add_label(label_name='newLabel', color=(2, 43, 123))\n",
    "\n",
    "# Find all annotations with the old label\n",
    "filters = dl.Filters()\n",
    "filters.resource = dl.FiltersResource.ANNOTATION\n",
    "filters.add(field='label', values='oldLabel')\n",
    "pages = dataset.annotations.list(filters=filters)\n",
    "\n",
    "# Update each annotation's label\n",
    "for annotation in pages.all():\n",
    "    annotation.label = 'newLabel'\n",
    "    annotation.update()\n"
   ]
  },
  {
   "cell_type": "markdown",
   "metadata": {},
   "source": [
    "\n",
    "\n",
    "# \ud83d\udca1 Pro Tips & Best Practices\n",
    "\n",
    "## Annotation Quality\n",
    "- Double-check coordinates and dimensions\n",
    "- Use consistent labeling schemes\n",
    "- Verify segmentation masks match image dimensions\n",
    "- Keep attributes consistent across similar annotations\n",
    "\n",
    "## Performance Optimization\n",
    "- Use batch operations for multiple items\n",
    "- Convert between formats efficiently\n",
    "- Consider memory usage with large masks\n",
    "- Cache frequently used templates\n",
    "\n",
    "## Workflow Tips\n",
    "- Create templates for common annotation patterns\n",
    "- Use filters for batch operations\n",
    "- Implement quality control checks\n",
    "- Document your annotation guidelines\n",
    "\n",
    "# \ud83d\udd27 Troubleshooting Common Issues\n",
    "\n",
    "## Coordinate Systems\n",
    "- Remember: (0,0) is top-left corner\n",
    "- Verify coordinate ranges match image dimensions\n",
    "- Check angle calculations for rotated shapes\n",
    "- Validate polygon point sequences\n",
    "\n",
    "## Data Validation\n",
    "- Verify mask dimensions match image size\n",
    "- Check for closed polygons\n",
    "- Validate attribute formats\n",
    "- Test annotation visibility\n",
    "\n",
    "Need help? Check out our other tutorials or reach out to our support team. Happy annotating! \ud83c\udfa8\u2728\n",
    "\n"
   ]
  }
 ],
 "metadata": {
  "kernelspec": {
   "display_name": "Python 3",
   "language": "python",
   "name": "python3"
  },
  "language_info": {
   "codemirror_mode": {
    "name": "ipython",
    "version": 3
   },
   "file_extension": ".py",
   "mimetype": "text/x-python",
   "name": "python",
   "nbconvert_exporter": "python",
   "pygments_lexer": "ipython3",
   "version": "3.7.7"
  }
 },
 "nbformat": 4,
 "nbformat_minor": 4
}