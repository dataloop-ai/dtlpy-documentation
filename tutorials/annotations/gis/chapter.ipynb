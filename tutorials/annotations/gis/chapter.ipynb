{
 "cells": [
  {
   "cell_type": "markdown",
   "metadata": {},
   "source": [
    " GIS Annotations\n",
    "\n",
    "## Overview\n",
    "\n",
    "The **GIS Annotation SDK** enables users to efficiently annotate geospatial data within Dataloop's platform. With this SDK, you can create, manage, and share geospatial annotations such as bounding boxes, polygons, polylines, and points directly on maps. The SDK supports various GIS file formats and provides full control over annotation workflows. Read the [GIS user documentation](https://docs.dataloop.ai/docs/gis-studio) for information.\n",
    "\n",
    "\n",
    "## Supported GIS Annotation Types\n",
    "\n",
    "### **GIS Classification**\n",
    "\n",
    "Classification annotations follow the standard classification structure.\n",
    "\n"
   ]
  },
  {
   "cell_type": "code",
   "execution_count": 0,
   "metadata": {},
   "outputs": [],
   "source": [
    "class GisClassification(label, attributes=None, description=None)\n"
   ]
  },
  {
   "cell_type": "markdown",
   "metadata": {},
   "source": [
    "\n",
    "\n",
    "### **GIS Bounding Box**\n",
    "\n",
    "A bounding box is defined using latitude and longitude coordinates.\n",
    "\n"
   ]
  },
  {
   "cell_type": "code",
   "execution_count": 0,
   "metadata": {},
   "outputs": [],
   "source": [
    "class GisBox(geo, label=None, attributes=None, description=None, angle=None)\n"
   ]
  },
  {
   "cell_type": "markdown",
   "metadata": {},
   "source": [
    "\n",
    "- `geo`: List of lat-long coordinates defining the bounding box.\n",
    "- `angle`: Optional, used for rotated boxes.\n",
    "- **Box is created using two points (top-left and bottom-right).**\n",
    "\n",
    "### **GIS Polygon**\n",
    "\n",
    "A polygon is defined using a list of latitude and longitude coordinates. The first and last coordinates must be identical to close the shape.\n",
    "\n"
   ]
  },
  {
   "cell_type": "code",
   "execution_count": 0,
   "metadata": {},
   "outputs": [],
   "source": [
    "class GisPolygon(geo, label, attributes=None, description=None)\n"
   ]
  },
  {
   "cell_type": "markdown",
   "metadata": {},
   "source": [
    "\n",
    "\n",
    "### **GIS Polyline**\n",
    "\n",
    "A polyline consists of a list of latitude and longitude points.\n",
    "\n"
   ]
  },
  {
   "cell_type": "code",
   "execution_count": 0,
   "metadata": {},
   "outputs": [],
   "source": [
    "class GisPolyline(geo, label, attributes=None, description=None)\n"
   ]
  },
  {
   "cell_type": "markdown",
   "metadata": {},
   "source": [
    "\n",
    "\n",
    "### **GIS Point**\n",
    "\n",
    "A point annotation is defined by a single latitude and longitude coordinate.\n",
    "\n"
   ]
  },
  {
   "cell_type": "code",
   "execution_count": 0,
   "metadata": {},
   "outputs": [],
   "source": [
    "class GisPoint(lat, long, label, attributes=None, description=None)\n"
   ]
  },
  {
   "cell_type": "markdown",
   "metadata": {},
   "source": [
    "\n",
    "\n",
    "\n",
    "## Create GIS Box Annotation\n",
    "\n",
    "Defines a rectangular bounding box using latitude and longitude coordinates to annotate an object. The example below creates a bounding box labeled \"car.\"\n",
    "\n"
   ]
  },
  {
   "cell_type": "code",
   "execution_count": 0,
   "metadata": {},
   "outputs": [],
   "source": [
    "import dtlpy as dl\n",
    "\n",
    "box = dl.Gis(\n",
    "    annotation_type=dl.GisType.BOX,\n",
    "    geo=[\n",
    "        [\n",
    "            [-118.33545, 33.82643],\n",
    "            [-118.33544, 33.82643],\n",
    "            [-118.33544, 33.82642],\n",
    "            [-118.33545, 33.82642],\n",
    "            [-118.33545, 33.82643]\n",
    "        ]\n",
    "    ], label='car')\n"
   ]
  },
  {
   "cell_type": "markdown",
   "metadata": {},
   "source": [
    "\n",
    "\n",
    "## Create GIS Polyline Annotation\n",
    "\n",
    "A polyline annotation is used to define linear features such as roads, rivers, or paths. The example below creates a polyline labeled \"road.\"\n",
    "\n"
   ]
  },
  {
   "cell_type": "code",
   "execution_count": 0,
   "metadata": {},
   "outputs": [],
   "source": [
    "import dtlpy as dl\n",
    "\n",
    "polyline = dl.Gis(\n",
    "    annotation_type=dl.GisType.POLYLINE,\n",
    "    geo=[\n",
    "        [-118.33542, 33.82643],\n",
    "        [-118.33540, 33.82643],\n",
    "        [-118.33540, 33.82642]\n",
    "    ], label='road')\n"
   ]
  },
  {
   "cell_type": "markdown",
   "metadata": {},
   "source": [
    "\n",
    "\n",
    "## Create GIS Point Annotation\n",
    "\n",
    "A point annotation marks a single geographic location, ideal for identifying landmarks, points of interest, or specific objects. The example below places a point labeled \"landmark.\"\n",
    "\n"
   ]
  },
  {
   "cell_type": "code",
   "execution_count": 0,
   "metadata": {},
   "outputs": [],
   "source": [
    "import dtlpy as dl\n",
    "\n",
    "point = dl.Gis(\n",
    "    annotation_type=dl.GisType.POINT,\n",
    "    geo=[-118.33540, 33.82642],\n",
    "    label='landmark')\n"
   ]
  },
  {
   "cell_type": "markdown",
   "metadata": {},
   "source": [
    "\n",
    "\n",
    "\n",
    "## Create GIS Polygon Annotation\n",
    "\n",
    "A polygon annotation is used to define an area by connecting multiple points. The first and last points must be the same to form a closed shape. The example below creates a polygon labeled \"building.\"\n",
    "\n"
   ]
  },
  {
   "cell_type": "code",
   "execution_count": 0,
   "metadata": {},
   "outputs": [],
   "source": [
    "import dtlpy as dl\n",
    "\n",
    "polygon = dl.Gis(\n",
    "    annotation_type=dl.GisType.POLYGON,\n",
    "    geo=[\n",
    "        [\n",
    "            [-118.33543, 33.82641],\n",
    "            [-118.33541, 33.82641],\n",
    "            [-118.33541, 33.82639],\n",
    "            [-118.33543, 33.82639]\n",
    "        ]\n",
    "    ], label='building')\n"
   ]
  },
  {
   "cell_type": "markdown",
   "metadata": {},
   "source": [
    "\n",
    "\n",
    "\n",
    "## Attach Annotations to Item\n",
    "\n",
    "Once annotations are created, they must be attached to an item before being uploaded. The following example adds all previously created annotations to an item and uploads them.\n",
    "\n"
   ]
  },
  {
   "cell_type": "code",
   "execution_count": 0,
   "metadata": {},
   "outputs": [],
   "source": [
    "import dtlpy as dl\n",
    "\n",
    "builder = item.annotations.builder()\n",
    "builder.add(annotation_definition=box)\n",
    "builder.add(annotation_definition=polyline)\n",
    "builder.add(annotation_definition=point)\n",
    "builder.add(annotation_definition=polygon)\n",
    "item.annotations.upload(annotations=builder)\n"
   ]
  },
  {
   "cell_type": "markdown",
   "metadata": {},
   "source": [
    "\n",
    "\n",
    "## Export GIS Annotations\n",
    "\n",
    "You can export GIS annotations via the SDK:\n",
    "\n"
   ]
  },
  {
   "cell_type": "code",
   "execution_count": 0,
   "metadata": {},
   "outputs": [],
   "source": [
    "# Export annotations to JSON\n",
    "annotations = item.annotations.export()\n",
    "with open(\"annotations.json\", \"w\") as f:\n",
    "    f.write(annotations)\n"
   ]
  },
  {
   "cell_type": "markdown",
   "metadata": {},
   "source": [
    "\n",
    "\n",
    "## **Changing Annotation Labels**\n",
    "\n",
    "Modify annotation labels programmatically:\n"
   ]
  },
  {
   "cell_type": "code",
   "execution_count": 0,
   "metadata": {},
   "outputs": [],
   "source": [
    "annotation.label = \"new_label\"\n",
    "annotation.update()\n"
   ]
  },
  {
   "cell_type": "markdown",
   "metadata": {},
   "source": [
    "\n",
    "\n",
    "## **Set Attributes for an Annotation**\n",
    "\n",
    "You can set attributes for an annotation:\n"
   ]
  },
  {
   "cell_type": "code",
   "execution_count": 0,
   "metadata": {},
   "outputs": [],
   "source": [
    "annotation.attributes = {\"color\": \"red\", \"height\": \"5m\"}\n",
    "annotation.update()\n"
   ]
  },
  {
   "cell_type": "markdown",
   "metadata": {},
   "source": [
    "\n",
    "\n",
    "## **Delete Annotations**\n",
    "\n",
    "Remove annotations from an item:\n"
   ]
  },
  {
   "cell_type": "code",
   "execution_count": 0,
   "metadata": {},
   "outputs": [],
   "source": [
    "annotation.delete()\n"
   ]
  },
  {
   "cell_type": "markdown",
   "metadata": {},
   "source": [
    "\n",
    "\n",
    "## \ud83d\udca1 Pro Tips for GIS Annotations\n",
    "- **Use AOI Efficiently**: Always define an **Area of Interest (AOI)** to keep annotations within valid boundaries.\n",
    "- **Leverage Multi-Layers**: Enable multiple layers to compare different geospatial data sources for better accuracy.\n",
    "- **Shortcut Navigation**: Use **keyboard shortcuts** for faster annotation (e.g., `Ctrl + Z` for undo, `Shift + Drag` for zooming).\n",
    "- **Optimize Performance**: Large datasets? Use **COG format** for efficient access and streaming.\n",
    "\n",
    "## \ud83d\udd27 Troubleshooting Common Issues\n",
    "- **Annotations Not Visible?** Ensure the correct **layer** is selected and visible.\n",
    "- **Coordinate Mismatch?** Verify that annotations use the correct **EPSG projection** (default: **4326**).\n",
    "- **Performance Issues?** Reduce layer opacity or limit the number of active layers.\n",
    "- **Upload Failure?** Double-check **JSON format** and required metadata fields.\n"
   ]
  }
 ],
 "metadata": {
  "kernelspec": {
   "display_name": "Python 3",
   "language": "python",
   "name": "python3"
  },
  "language_info": {
   "codemirror_mode": {
    "name": "ipython",
    "version": 3
   },
   "file_extension": ".py",
   "mimetype": "text/x-python",
   "name": "python",
   "nbconvert_exporter": "python",
   "pygments_lexer": "ipython3",
   "version": "3.7.7"
  }
 },
 "nbformat": 4,
 "nbformat_minor": 4
}