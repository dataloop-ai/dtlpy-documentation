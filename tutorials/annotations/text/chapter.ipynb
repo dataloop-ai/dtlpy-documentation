{
 "cells": [
  {
   "cell_type": "markdown",
   "metadata": {},
   "source": [
    "# \ud83d\udcdd Text Annotations - Making Words Come Alive!\n",
    "\n",
    "Welcome to the world of text annotations! Just like highlighting important passages in a book, text annotations help us mark and categorize important pieces of text. Let's dive in! \n",
    "\n",
    "## \ud83c\udfaf Basic Text Annotation\n",
    "\n",
    "Think of text annotations like digital highlighters - they help you mark specific words, phrases, or characters in your text. Here's how to create one:\n",
    "\n"
   ]
  },
  {
   "cell_type": "code",
   "execution_count": 0,
   "metadata": {},
   "outputs": [],
   "source": [
    "# Get your document ready\n",
    "item = dataset.items.get(filepath='/your-text-file.txt')\n",
    "builder = item.annotations.builder()\n",
    "\n",
    "# Create your digital highlight\n",
    "builder.add(annotation_definition=dl.Text(text_type='block',\n",
    "                                          start=11,\n",
    "                                          end=19,\n",
    "                                          label='Person'))\n",
    "\n",
    "# Save your work\n",
    "item.annotations.upload(builder)\n"
   ]
  },
  {
   "cell_type": "markdown",
   "metadata": {},
   "source": [
    "\n",
    "\n",
    "\n",
    "# \ud83d\udca1 Pro Tips for Text Annotations\n",
    "\n",
    "- Always verify your character coordinates match the text exactly\n",
    "- Use meaningful labels that describe the type of text you're marking\n",
    "- Consider using attributes to add extra context to your annotations\n",
    "- Keep your annotation scheme consistent across all documents\n",
    "\n",
    "# \ud83c\udf93 Best Practices\n",
    "\n",
    "## Working with Large Documents\n",
    "When dealing with large text files:\n",
    "- Break down the annotation task into manageable sections\n",
    "- Use clear label hierarchies to organize different types of annotations\n",
    "- Consider using overlapping annotations when concepts intersect\n",
    "\n",
    "## Annotation Guidelines\n",
    "For consistent text annotations:\n",
    "- Define clear rules for what should be included in each span\n",
    "- Document edge cases and how to handle them\n",
    "- Use attributes to capture uncertainty or ambiguity\n",
    "\n",
    "Need help? Check out our other tutorials or reach out to our support team. Happy text annotating! \ud83d\udcda\u2728\n",
    "\n"
   ]
  }
 ],
 "metadata": {
  "kernelspec": {
   "display_name": "Python 3",
   "language": "python",
   "name": "python3"
  },
  "language_info": {
   "codemirror_mode": {
    "name": "ipython",
    "version": 3
   },
   "file_extension": ".py",
   "mimetype": "text/x-python",
   "name": "python",
   "nbconvert_exporter": "python",
   "pygments_lexer": "ipython3",
   "version": "3.7.7"
  }
 },
 "nbformat": 4,
 "nbformat_minor": 4
}