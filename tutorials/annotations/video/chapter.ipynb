{
 "cells": [
  {
   "cell_type": "markdown",
   "metadata": {},
   "source": [
    "# \ud83c\udfac Video Annotations - Bringing Motion to Life!\n",
    "\n",
    "Welcome to the exciting world of video annotations! While image annotations are like taking snapshots, video annotations are like directing a movie - we're working with objects that move and change over time. Let's learn how to capture this motion! \n",
    "\n",
    "# \ud83c\udfaf Getting Started with Video Annotations\n",
    "\n",
    "## Project Setup\n",
    "First, let's set up our environment:\n",
    "\n"
   ]
  },
  {
   "cell_type": "code",
   "execution_count": 0,
   "metadata": {},
   "outputs": [],
   "source": [
    "import dtlpy as dl\n",
    "\n",
    "# Login if needed\n",
    "if dl.token_expired():\n",
    "    dl.login()\n",
    "\n",
    "# Get your project and dataset\n",
    "project = dl.projects.get(project_name='project_name')\n",
    "dataset = project.datasets.get(dataset_name='dataset_name')\n",
    "\n",
    "# Get your video file\n",
    "item = dataset.items.get(filepath='/your-video.mp4')\n"
   ]
  },
  {
   "cell_type": "markdown",
   "metadata": {},
   "source": [
    "\n",
    "\n",
    "## Your First Video Annotation\n",
    "Think of video annotations as telling a story about objects across frames. Here's how to start:\n",
    "\n"
   ]
  },
  {
   "cell_type": "code",
   "execution_count": 0,
   "metadata": {},
   "outputs": [],
   "source": [
    "# Create your annotation builder\n",
    "builder = item.annotations.builder()\n",
    "\n",
    "# Add a simple box annotation that spans multiple frames\n",
    "builder.add(annotation_definition=dl.Box(top=10,\n",
    "                                       left=10,\n",
    "                                       bottom=100,\n",
    "                                       right=100,\n",
    "                                       label='moving-object'),\n",
    "           frame_num=1,              # Starting frame\n",
    "           end_frame_num=30)         # Ending frame\n",
    "\n",
    "# Save your work\n",
    "item.annotations.upload(builder)\n"
   ]
  },
  {
   "cell_type": "markdown",
   "metadata": {},
   "source": [
    "\n",
    "\n",
    "# \ud83c\udfad Advanced Video Annotations\n",
    "\n",
    "## Object Tracking\n",
    "Track objects as they move through your video. Think of it like following an actor through different scenes:\n",
    "\n"
   ]
  },
  {
   "cell_type": "code",
   "execution_count": 0,
   "metadata": {},
   "outputs": [],
   "source": [
    "# Create a tracked box that changes position\n",
    "builder.add(annotation_definition=dl.Box(top=10,\n",
    "                                       left=10,\n",
    "                                       bottom=100,\n",
    "                                       right=100,\n",
    "                                       label='tracked-object'),\n",
    "           frame_num=1,\n",
    "           end_frame_num=30,\n",
    "           object_id='unique_object_1')  # Link annotations of the same object\n",
    "\n",
    "# Add the same object in a different position in later frames\n",
    "builder.add(annotation_definition=dl.Box(top=20,\n",
    "                                       left=20,\n",
    "                                       bottom=110,\n",
    "                                       right=110,\n",
    "                                       label='tracked-object'),\n",
    "           frame_num=31,\n",
    "           end_frame_num=60,\n",
    "           object_id='unique_object_1')\n"
   ]
  },
  {
   "cell_type": "markdown",
   "metadata": {},
   "source": [
    "\n",
    "\n",
    "## Frame-by-Frame Annotations\n",
    "Create detailed annotations that change in every frame:\n",
    "\n"
   ]
  },
  {
   "cell_type": "code",
   "execution_count": 0,
   "metadata": {},
   "outputs": [],
   "source": [
    "# Create annotation that changes in each frame\n",
    "annotation = dl.Annotation.new(item=item)\n",
    "\n",
    "# Add annotations for 100 frames\n",
    "for i_frame in range(100):\n",
    "    annotation.add_frame(\n",
    "        annotation_definition=dl.Box(\n",
    "            top=2 * i_frame,                    # Box moves down\n",
    "            left=2 * (i_frame + 10),            # Box moves right\n",
    "            bottom=2 * (i_frame + 50),          # Maintain height\n",
    "            right=2 * (i_frame + 100),          # Maintain width\n",
    "            label=\"moving-box\"\n",
    "        ),\n",
    "        frame_num=i_frame\n",
    "    )\n",
    "\n",
    "# Upload to platform\n",
    "annotation.upload()\n"
   ]
  },
  {
   "cell_type": "markdown",
   "metadata": {},
   "source": [
    "\n",
    "\n",
    "## Multiple Objects Per Frame\n",
    "Handle multiple objects in each frame:\n",
    "\n"
   ]
  },
  {
   "cell_type": "code",
   "execution_count": 0,
   "metadata": {},
   "outputs": [],
   "source": [
    "# Create annotation builder\n",
    "builder = item.annotations.builder()\n",
    "\n",
    "# Add 10 different objects across 100 frames\n",
    "for i_frame in range(100):\n",
    "    for i_detection in range(10):\n",
    "        builder.add(\n",
    "            annotation_definition=dl.Box(\n",
    "                top=2 * i_frame,\n",
    "                left=2 * i_detection,\n",
    "                bottom=2 * i_frame + 10,\n",
    "                right=2 * i_detection + 100,\n",
    "                label=\"object-\" + str(i_detection)\n",
    "            ),\n",
    "            frame_num=i_frame,\n",
    "            object_id=i_detection + 1  # Unique ID for each object\n",
    "        )\n",
    "\n",
    "# Upload all annotations\n",
    "item.annotations.upload(builder)\n"
   ]
  },
  {
   "cell_type": "markdown",
   "metadata": {},
   "source": [
    "\n",
    "\n",
    "# \ud83c\udfa8 Working with Video Frames\n",
    "\n",
    "## Reading Frame Annotations\n",
    "Extract information about annotations in specific frames:\n",
    "\n"
   ]
  },
  {
   "cell_type": "code",
   "execution_count": 0,
   "metadata": {},
   "outputs": [],
   "source": [
    "# Get all annotations\n",
    "annotations = item.annotations.list()\n",
    "\n",
    "# Print information for each annotation\n",
    "for annotation in annotations:\n",
    "    print(f\"Object ID: {annotation.object_id}\")\n",
    "    # Get coordinates for each frame\n",
    "    for frame_num, frame in annotation.frames.items():\n",
    "        print(f\"Frame {frame_num}:\")\n",
    "        print(f\"  Position: ({frame.left}, {frame.top}) to ({frame.right}, {frame.bottom})\")\n"
   ]
  },
  {
   "cell_type": "markdown",
   "metadata": {},
   "source": [
    "\n",
    "\n",
    "## Creating Frame Snapshots\n",
    "Generate still images from your video for easier annotation:\n",
    "\n"
   ]
  },
  {
   "cell_type": "code",
   "execution_count": 0,
   "metadata": {},
   "outputs": [],
   "source": [
    "# Generate snapshots every 30 frames\n",
    "dl.utilities.Videos.video_snapshots_generator(\n",
    "    item=item,\n",
    "    frame_interval=30\n",
    ")\n"
   ]
  },
  {
   "cell_type": "markdown",
   "metadata": {},
   "source": [
    "\n",
    "\n",
    "# \ud83c\udfa5 Video Playback and Visualization\n",
    "\n",
    "## Video Player with Annotations\n",
    "View your video with annotations:\n",
    "\n"
   ]
  },
  {
   "cell_type": "code",
   "execution_count": 0,
   "metadata": {},
   "outputs": [],
   "source": [
    "from dtlpy.utilities.videos.video_player import VideoPlayer\n",
    "\n",
    "# Launch video player with annotations\n",
    "VideoPlayer(project_name='project_name',\n",
    "           dataset_name='dataset_name',\n",
    "           item_filepath='/path/to/video.mp4')\n"
   ]
  },
  {
   "cell_type": "markdown",
   "metadata": {},
   "source": [
    "\n",
    "\n",
    "## Visualizing Frame Annotations\n",
    "Check annotations in specific frames:\n",
    "\n"
   ]
  },
  {
   "cell_type": "code",
   "execution_count": 0,
   "metadata": {},
   "outputs": [],
   "source": [
    "import matplotlib.pyplot as plt\n",
    "\n",
    "# Get all annotations\n",
    "annotations = item.annotations.list()\n",
    "\n",
    "# Show annotations for frame 55\n",
    "frame_annotation = annotations.get_frame(frame_num=55)\n",
    "\n",
    "# Display the frame with annotations\n",
    "plt.figure(figsize=(10, 8))\n",
    "plt.imshow(frame_annotation.show())\n",
    "plt.title(f\"Frame 55 - {frame_annotation.label}\")\n",
    "plt.axis('off')\n",
    "plt.show()\n"
   ]
  },
  {
   "cell_type": "markdown",
   "metadata": {},
   "source": [
    "\n",
    "\n",
    "# \ud83d\udca1 Pro Tips for Video Annotations\n",
    "\n",
    "## Best Practices\n",
    "- Use consistent object IDs for tracking the same object\n",
    "- Consider frame rate when setting frame numbers\n",
    "- Break long videos into logical segments\n",
    "- Keep annotation styles consistent across frames\n",
    "\n",
    "## Performance Optimization\n",
    "- Work with video segments for long files\n",
    "- Use keyframes for efficiency\n",
    "- Consider frame sampling for initial passes\n",
    "- Verify tracking consistency\n",
    "- Use batch operations when possible\n",
    "\n",
    "## Quality Control\n",
    "- Review annotations across multiple frames\n",
    "- Check object persistence and tracking\n",
    "- Verify temporal consistency\n",
    "- Document frame rate and timing information\n",
    "- Test playback with annotations\n",
    "\n",
    "# \ud83d\udd27 Troubleshooting Common Issues\n",
    "\n",
    "## Frame Synchronization\n",
    "- Ensure frame numbers match video timing\n",
    "- Check for gaps in tracking\n",
    "- Verify object IDs are consistent\n",
    "- Monitor frame rate changes\n",
    "\n",
    "## Memory Management\n",
    "- Process long videos in segments\n",
    "- Use frame intervals for large files\n",
    "- Clean up resources after processing\n",
    "- Monitor memory usage during batch operations\n",
    "\n",
    "Need help? Check out our other tutorials or reach out to our support team. Happy video annotating! \ud83c\udfa5\u2728\n"
   ]
  }
 ],
 "metadata": {
  "kernelspec": {
   "display_name": "Python 3",
   "language": "python",
   "name": "python3"
  },
  "language_info": {
   "codemirror_mode": {
    "name": "ipython",
    "version": 3
   },
   "file_extension": ".py",
   "mimetype": "text/x-python",
   "name": "python",
   "nbconvert_exporter": "python",
   "pygments_lexer": "ipython3",
   "version": "3.7.7"
  }
 },
 "nbformat": 4,
 "nbformat_minor": 4
}