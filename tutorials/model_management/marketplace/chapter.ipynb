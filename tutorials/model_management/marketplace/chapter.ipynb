{
 "cells": [
  {
   "cell_type": "markdown",
   "metadata": {},
   "source": [
    "# Models from the Marketplace: Your AI Shopping Spree! \ud83d\udecd\ufe0f\n",
    "\n",
    "Welcome to Dataloop's Model Marketplace - think of it as your one-stop shop for ready-to-use AI models! Whether you need image classification, object detection, or other ML goodies, we've got you covered.\n",
    "\n",
    "## What's in Store? \ud83c\udfea\n",
    "\n",
    "Our Marketplace offers:\n",
    "- \ud83d\ude80 Pre-trained models ready for instant use\n",
    "- \ud83c\udfaf Models you can fine-tune on your data\n",
    "- \ud83d\udd27 Various algorithms for different tasks\n",
    "- \ud83d\udce6 Easy installation and deployment\n",
    "\n",
    "Let's dive in and see how to use these awesome models!\n",
    "\n",
    "## Quick Start: From Zero to Hero \ud83e\uddb8\u200d\u2642\ufe0f\n",
    "\n",
    "### 1. Set Up Your Workspace \ud83c\udfd7\ufe0f\n",
    "\n",
    "First, let's create your AI playground:\n",
    "\n"
   ]
  },
  {
   "cell_type": "code",
   "execution_count": 0,
   "metadata": {},
   "outputs": [],
   "source": [
    "# Create your project and dataset\n",
    "project = dl.projects.create(project_name=\"awesome-project\")\n",
    "dataset = project.datasets.create(dataset_name=\"my-dataset\")\n",
    "\n",
    "# Upload a test image\n",
    "item = dataset.items.upload(\n",
    "    'https://github.com/dataloop-ai/dtlpy-documentation/blob/main/assets/images/hamster.jpg?raw=true'\n",
    ")\n"
   ]
  },
  {
   "cell_type": "markdown",
   "metadata": {},
   "source": [
    "\n",
    "\n",
    "### 2. Get Your Model \ud83d\uded2\n",
    "\n",
    "Head to the Marketplace and pick your model:\n",
    "\n",
    "![Marketplace Model Selection](../../../assets/images/model_management/marketplace-models.png)\n",
    "\n",
    "> \ud83d\udca1 **Pro Tip**: Look for models that match your use case and data type!\n",
    "\n",
    "### 3. Deploy Your Model \ud83d\ude80\n",
    "\n"
   ]
  },
  {
   "cell_type": "code",
   "execution_count": 0,
   "metadata": {},
   "outputs": [],
   "source": [
    "# Get and deploy your model\n",
    "model = project.models.get(model_name=\"awesome-model\")\n",
    "service = model.deploy(\n",
    "    service_config={\n",
    "        'runtime': {\n",
    "            \"podType\": dl.INSTANCE_CATALOG_REGULAR_S\n",
    "        }\n",
    "    }\n",
    ")\n"
   ]
  },
  {
   "cell_type": "markdown",
   "metadata": {},
   "source": [
    "\n",
    "\n",
    "### 4. Make Predictions \ud83c\udfaf\n",
    "\n"
   ]
  },
  {
   "cell_type": "code",
   "execution_count": 0,
   "metadata": {},
   "outputs": [],
   "source": [
    "# Get the latest model state\n",
    "model = dl.models.get(model_id=model.id)\n",
    "\n",
    "# Run prediction\n",
    "prediction = model.predict(item_ids=[item.id])\n",
    "prediction.wait()\n",
    "\n",
    "# View results in the web UI\n",
    "item.open_in_web()\n"
   ]
  },
  {
   "cell_type": "markdown",
   "metadata": {},
   "source": [
    "\n",
    "\n",
    "## Level Up: Fine-tuning Models \ud83c\udfae\n",
    "\n",
    "Want to make these models even better? Let's customize them for your specific needs!\n",
    "\n",
    "### 1. Prepare Your Data \ud83d\udcca\n",
    "\n",
    "First, let's organize your dataset into train and validation sets:\n",
    "\n"
   ]
  },
  {
   "cell_type": "code",
   "execution_count": 0,
   "metadata": {},
   "outputs": [],
   "source": [
    "# Create filters for train/validation split\n",
    "train_filter = dl.Filters(field='dir', values='/train')\n",
    "validation_filter = dl.Filters(field='dir', values='/validation')\n",
    "\n",
    "# Clone the marketplace model for fine-tuning\n",
    "custom_model = project.models.clone(\n",
    "    from_model=public_model,\n",
    "    model_name='my-fine-tuned-model',\n",
    "    dataset=dataset,\n",
    "    project_id=project.id,\n",
    "    train_filter=train_filter,\n",
    "    validation_filter=validation_filter\n",
    ")\n"
   ]
  },
  {
   "cell_type": "markdown",
   "metadata": {},
   "source": [
    "\n",
    "\n",
    "> \ud83c\udfae **Quick Hack**: Need to split your data randomly? Check out our [random split script](https://github.com/dataloop-ai/dtlpy-documentation/blob/main/examples/items/random_split_to_folders.py)!\n",
    "\n",
    "### 2. Understanding the Model's Brain \ud83e\udde0\n",
    "\n",
    "Your model comes with some smart mappings:\n"
   ]
  },
  {
   "cell_type": "code",
   "execution_count": 0,
   "metadata": {},
   "outputs": [],
   "source": [
    "# See how your model thinks\n",
    "print(\"Label to ID mapping:\", custom_model.label_to_id_map)\n",
    "print(\"ID to Label mapping:\", custom_model.id_to_label_map)\n",
    "\n",
    "# Check the model's settings\n",
    "print(\"Model configuration:\", custom_model.configuration)\n"
   ]
  },
  {
   "cell_type": "markdown",
   "metadata": {},
   "source": [
    "\n",
    "\n",
    "### 3. Training Time \ud83c\udf93\n",
    "\n",
    "Let's teach your model some new tricks:\n",
    "\n"
   ]
  },
  {
   "cell_type": "code",
   "execution_count": 0,
   "metadata": {},
   "outputs": [],
   "source": [
    "# Basic training\n",
    "ex = custom_model.train(\n",
    "    service_config={\n",
    "        'runtime': {\n",
    "            \"podType\": dl.INSTANCE_CATALOG_REGULAR_S\n",
    "        }\n",
    "    }\n",
    ")\n",
    "\n",
    "# Or go pro with custom settings\n",
    "ex = custom_model.train(\n",
    "    service_config={\n",
    "        'runtime': dl.KubernetesRuntime(\n",
    "            pod_type=dl.INSTANCE_CATALOG_GPU_K80_S,\n",
    "            autoscaler=dl.KubernetesRabbitmqAutoscaler(\n",
    "                min_replicas=0,\n",
    "                max_replicas=1\n",
    "            ),\n",
    "            preemptible=False,\n",
    "            concurrency=1\n",
    "        ).to_json(),\n",
    "        'executionTimeout': 10000 * 3600\n",
    "    }\n",
    ")\n",
    "\n",
    "# Watch the training progress\n",
    "ex.logs(follow=True)\n",
    "\n",
    "# Check the results\n",
    "custom_model = dl.models.get(model_id=custom_model.id)\n",
    "print(\"Model status:\", custom_model.status)\n"
   ]
  },
  {
   "cell_type": "markdown",
   "metadata": {},
   "source": [
    "\n",
    "\n",
    "### 4. Deploy Your Super-Model \ud83e\uddb8\u200d\u2640\ufe0f\n",
    "\n"
   ]
  },
  {
   "cell_type": "code",
   "execution_count": 0,
   "metadata": {},
   "outputs": [],
   "source": [
    "# Deploy your fine-tuned model\n",
    "custom_model.deploy()\n",
    "\n",
    "# Get the latest model state\n",
    "custom_model = dl.models.get(model_id=custom_model.id)\n",
    "\n",
    "# Test it out!\n",
    "model.predict(item_ids=[item.id])\n"
   ]
  },
  {
   "cell_type": "markdown",
   "metadata": {},
   "source": [
    "\n",
    "\n",
    "## Pro Tips for Model Masters \ud83d\udc51\n",
    "\n",
    "1. **Before Training** \ud83d\udccb\n",
    "   - Clean your data\n",
    "   - Balance your datasets\n",
    "   - Check label compatibility\n",
    "\n",
    "2. **During Training** \u26a1\n",
    "   - Monitor the logs\n",
    "   - Track performance metrics\n",
    "   - Save checkpoints\n",
    "\n",
    "3. **After Training** \ud83c\udfaf\n",
    "   - Validate on new data\n",
    "   - Compare with baseline\n",
    "   - Document improvements\n",
    "\n",
    "## Need More Help? \ud83e\udd1d\n",
    "\n",
    "- \ud83d\udcda Check out our [Model Management docs](https://docs.dataloop.ai/docs/model-management-overview)\n",
    "- \ud83d\udecd\ufe0f Explore more in our [Marketplace](https://docs.dataloop.ai/docs/startline-models)\n",
    "\n",
    "Happy modeling! \ud83d\ude80\n"
   ]
  }
 ],
 "metadata": {
  "kernelspec": {
   "display_name": "Python 3",
   "language": "python",
   "name": "python3"
  },
  "language_info": {
   "codemirror_mode": {
    "name": "ipython",
    "version": 3
   },
   "file_extension": ".py",
   "mimetype": "text/x-python",
   "name": "python",
   "nbconvert_exporter": "python",
   "pygments_lexer": "ipython3",
   "version": "3.7.7"
  }
 },
 "nbformat": 4,
 "nbformat_minor": 4
}