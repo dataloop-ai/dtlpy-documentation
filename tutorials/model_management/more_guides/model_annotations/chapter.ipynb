{
 "cells": [
  {
   "cell_type": "markdown",
   "metadata": {},
   "source": [
    "# Managing Model Annotations: Your AI's Signature \ud83c\udfa8\n",
    "\n",
    "Ever wondered how to keep track of which annotations came from which model? Let's explore how to add, find, and manage your model's predictions like a pro!\n",
    "\n",
    "## Adding Your Model's Signature \u270d\ufe0f\n",
    "\n",
    "Think of model metadata as your AI's signature on its work. Here's how to make your model sign its predictions:\n",
    "\n"
   ]
  },
  {
   "cell_type": "code",
   "execution_count": 0,
   "metadata": {},
   "outputs": [],
   "source": [
    "# Get predictions from your model\n",
    "detections = model.predict(image)\n",
    "\n",
    "# Create a new annotation collection\n",
    "collection = item.annotations.builder()\n",
    "\n",
    "# Add each detection with the model's signature\n",
    "for detection in detections:\n",
    "    # Unpack detection results\n",
    "    x1, y1, x2, y2, label_ind, confidence = detection\n",
    "    \n",
    "    # Create the annotation with model's signature\n",
    "    collection.add(\n",
    "        # Define the bounding box\n",
    "        annotation_definition=dl.Box(\n",
    "            left=x1,\n",
    "            top=y1,\n",
    "            right=x2,\n",
    "            bottom=y2,\n",
    "            label=model_entity.id_to_label_map[label_ind]\n",
    "        ),\n",
    "        # Add model's signature\n",
    "        model_info={\n",
    "            'name': model_entity.name,\n",
    "            'model_id': model_entity.id,\n",
    "            'confidence': float(confidence)\n",
    "        }\n",
    "    )\n",
    "\n",
    "# Upload the signed annotations\n",
    "item.annotations.upload(collection)\n"
   ]
  },
  {
   "cell_type": "markdown",
   "metadata": {},
   "source": [
    "\n",
    "\n",
    "> \ud83d\udca1 **Pro Tip**: The model info gets stored in `annotation.metadata.user.model` - perfect for filtering later!\n",
    "\n",
    "## Finding Your Model's Work \ud83d\udd0d\n",
    "\n",
    "### Visual Studio Magic \u2728\n",
    "\n",
    "Want to see all predictions from a specific model? Group annotations by creator in the studio:\n",
    "\n",
    "![Model Filtering in Studio](../../../../assets/images/model_management/model_studio_filter.png)\n",
    "\n",
    "### Power Search with SDK \ud83d\ude80\n",
    "\n",
    "Find all annotations from your model programmatically:\n",
    "\n"
   ]
  },
  {
   "cell_type": "code",
   "execution_count": 0,
   "metadata": {},
   "outputs": [],
   "source": [
    "# Setup\n",
    "import dtlpy as dl\n",
    "dl.setenv('prod')\n",
    "\n",
    "# Get your dataset and model\n",
    "dataset = dl.datasets.get(dataset_id='your-dataset-id')\n",
    "model = dl.models.get(model_id='your-model-id')\n",
    "\n",
    "# Create a filter for your model's annotations\n",
    "filters = dl.Filters(resource=dl.FILTERS_RESOURCE_ANNOTATION)\n",
    "filters.add(field='metadata.user.model.name', values=model.name)\n",
    "\n",
    "# Count your model's annotations\n",
    "pages = dataset.annotations.list(filters=filters)\n",
    "print(f'\ud83c\udfaf Found {pages.items_count} annotations from {model.name}!')\n"
   ]
  },
  {
   "cell_type": "markdown",
   "metadata": {},
   "source": [
    "\n",
    "\n",
    "## Cleaning Up: Delete with Care \u26a0\ufe0f\n",
    "\n",
    "Need to remove your model's predictions? Here's how:\n",
    "\n"
   ]
  },
  {
   "cell_type": "code",
   "execution_count": 0,
   "metadata": {},
   "outputs": [],
   "source": [
    "# Setup your filter\n",
    "filters = dl.Filters(resource=dl.FILTERS_RESOURCE_ANNOTATION)\n",
    "filters.add(field='metadata.user.model.name', values=model.name)\n",
    "\n",
    "# Double check what you're about to delete\n",
    "pages = dataset.annotations.list(filters=filters)\n",
    "print(f'\u26a0\ufe0f About to delete {pages.items_count} annotations from {model.name}')\n",
    "\n",
    "# Get user confirmation\n",
    "user_input = input(\"Type 'DELETE' to confirm: \")\n",
    "if user_input == 'DELETE':\n",
    "    # Delete the annotations\n",
    "    dataset.annotations.delete(filters=filters)\n",
    "    print('\u2728 Cleanup complete!')\n",
    "else:\n",
    "    print('\ud83d\uded1 Operation cancelled')\n"
   ]
  },
  {
   "cell_type": "markdown",
   "metadata": {},
   "source": [
    "\n",
    "\n",
    "> \u26a0\ufe0f **Warning**: Deletion is permanent! Always double-check your filters before deleting annotations.\n",
    "\n",
    "## Best Practices \ud83d\udc51\n",
    "\n",
    "1. **Organization** \ud83d\udccb\n",
    "   - Always add model info to annotations\n",
    "   - Use consistent naming conventions\n",
    "   - Keep track of model versions\n",
    "\n",
    "2. **Filtering** \ud83c\udfaf\n",
    "   - Use specific filters to avoid mistakes\n",
    "   - Verify filter results before actions\n",
    "   - Combine filters for precise selection\n",
    "\n",
    "3. **Safety** \ud83d\udee1\ufe0f\n",
    "   - Backup important annotations\n",
    "   - Double-check deletion filters\n",
    "   - Use test runs on small subsets\n",
    "\n",
    "Happy annotating! \ud83c\udfa8\n"
   ]
  }
 ],
 "metadata": {
  "kernelspec": {
   "display_name": "Python 3",
   "language": "python",
   "name": "python3"
  },
  "language_info": {
   "codemirror_mode": {
    "name": "ipython",
    "version": 3
   },
   "file_extension": ".py",
   "mimetype": "text/x-python",
   "name": "python",
   "nbconvert_exporter": "python",
   "pygments_lexer": "ipython3",
   "version": "3.7.7"
  }
 },
 "nbformat": 4,
 "nbformat_minor": 4
}