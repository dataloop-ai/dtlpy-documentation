{
 "cells": [
  {
   "cell_type": "markdown",
   "metadata": {},
   "source": [
    "# Update Model Configurations\n",
    "\n",
    "You can update a deployed model\u2019s configuration either via the Dataloop UI or programmatically using the SDK.\n",
    "\n",
    "## \ud83d\udda5\ufe0f Update via the UI\n",
    "\n",
    "Refer to the [Dataloop Documentation](https://docs.dataloop.ai/docs/model-versions#update-model-configurations).\n",
    "\n",
    "## Update via the SDK\n",
    "\n",
    "You can also modify model configurations programmatically using the Dataloop SDK:\n",
    "\n"
   ]
  },
  {
   "cell_type": "code",
   "execution_count": 0,
   "metadata": {},
   "outputs": [],
   "source": [
    "import dtlpy as dl\n",
    "\n",
    "# Get the model by ID\n",
    "model = dl.models.get(model_id='<your-model-id>')\n",
    "\n",
    "# Update the configuration\n",
    "model.configuration['new'] = 'value'\n",
    "\n",
    "# Save and reload associated services\n",
    "model.update(reload_services=True)\n"
   ]
  },
  {
   "cell_type": "markdown",
   "metadata": {},
   "source": [
    "\n",
    "\n",
    "**Parameters**:\n",
    "\n",
    "- `model_id` \u2013 The unique identifier of your model.\n",
    "- `reload_services`:\n",
    "    \u2013 Set to `True` if you want all related services to be updated with the new configuration.\n",
    "    - When you use `model.update(reload_services=False)`, the model's configuration is updated, but the changes are not applied to any deployed services that use this model.\n"
   ]
  }
 ],
 "metadata": {
  "kernelspec": {
   "display_name": "Python 3",
   "language": "python",
   "name": "python3"
  },
  "language_info": {
   "codemirror_mode": {
    "name": "ipython",
    "version": 3
   },
   "file_extension": ".py",
   "mimetype": "text/x-python",
   "name": "python",
   "nbconvert_exporter": "python",
   "pygments_lexer": "ipython3",
   "version": "3.7.7"
  }
 },
 "nbformat": 4,
 "nbformat_minor": 4
}