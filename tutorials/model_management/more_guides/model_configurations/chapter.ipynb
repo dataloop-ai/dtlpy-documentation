{
 "cells": [
  {
   "cell_type": "markdown",
   "metadata": {},
   "source": [
    "# Update Model Configurations\n",
    "\n",
    "You can update a deployed model\u2019s configuration either via the Dataloop UI or programmatically using the SDK.\n",
    "\n",
    "## \ud83d\udda5\ufe0f Update via the UI\n",
    "\n",
    "Refer to the [Dataloop Documentation](https://docs.dataloop.ai/docs/model-versions#update-model-configurations).\n",
    "\n",
    "## Update via the SDK\n",
    "\n",
    "You can also modify model configurations programmatically using the Dataloop SDK:\n",
    "\n"
   ]
  },
  {
   "cell_type": "code",
   "execution_count": 0,
   "metadata": {},
   "outputs": [],
   "source": [
    "import dtlpy as dl\n",
    "\n",
    "# Get the model by ID\n",
    "model = dl.models.get(model_id='<your-model-id>')\n",
    "\n",
    "# Update the configuration\n",
    "model.configuration['new'] = 'value'\n",
    "\n",
    "# Save and reload associated services\n",
    "model.update(reload_services=True)\n"
   ]
  },
  {
   "cell_type": "markdown",
   "metadata": {},
   "source": [
    "\n",
    "\n",
    "**Note**: You need to call `model.update()` here since this is a model entity, not a model adapter. No auto-update will happen (see next section).\n",
    "\n",
    "**Parameters**:\n",
    "\n",
    "- `model_id` \u2013 The unique identifier of your model.\n",
    "- `reload_services`:\n",
    "    \u2013 Set to `True` if you want all related services to be updated with the new configuration.\n",
    "    - When you use `model.update(reload_services=False)`, the model's configuration is updated, but the changes are not applied to any deployed services that use this model.\n",
    "\n",
    "## \ud83d\udd04 Auto-Update Model Configurations and Adapter Defaults\n",
    "\n",
    "In the implementation of a model adapter (that inherits from the base model adapter), if any changes are done to the configuration or adapter defaults, these changes will automatically update the deployed model entity. This provides seamless configuration management without requiring manual updates.\n",
    "\n",
    "### How It Works\n",
    "\n",
    "The base model adapter automatically syncs configuration changes through its `ModelConfigurations` and `AdapterDefaults` classes. When you modify any configuration value or adapter default, the system automatically:\n",
    "\n",
    "1. Updates the backing configuration dictionary\n",
    "2. Triggers an automatic update to the model entity\n",
    "3. Propagates changes to deployed services\n",
    "\n",
    "**Important**: The `configuration.get()` method and `adapter_defaults.resolve()` method automatically add new configuration keys to the deployed model configuration, even when using default values. For example, if you call `configuration.get('non_existing_key', 'brand_new_value')` or `adapter_defaults.resolve('non_existing_key', 'brand_new_value')`, this will add the new key `'non_existing_key'` with the value `'brand_new_value'` to the deployed model's configuration. This ensures that users are always aware of all configuration keys being used, even if they're just default values.\n",
    "\n",
    "### Example Usage\n",
    "\n"
   ]
  },
  {
   "cell_type": "code",
   "execution_count": 0,
   "metadata": {},
   "outputs": [],
   "source": [
    "model_adapter = SimpleModelAdapter(model)\n",
    "\n",
    "# Update adapter defaults\n",
    "model_adapter.adapter_defaults.upload_annotations = False\n",
    "model_adapter.adapter_defaults.resolve('upload_features', False)\n",
    "\n",
    "# Update model configuration\n",
    "model_adapter.configuration['new_config_key'] = 'new_value'\n",
    "model_adapter.configuration.update({'key1': 'value1', 'key2': 'value2'})\n",
    "model_adapter.configuration.get('existing_key', 'default_value')\n",
    "\n",
    "# Add new configuration key with default value (auto-updates deployed model)\n",
    "model_adapter.configuration.get('non_existing_key', 'brand_new_value')\n"
   ]
  },
  {
   "cell_type": "markdown",
   "metadata": {},
   "source": [
    "\n",
    "\n",
    "**Note**: No manual update is needed here since this is a model adapter.\n",
    "\n",
    "### Benefits\n",
    "\n",
    "- **Automatic Synchronization**: Configuration changes are immediately reflected across the system\n",
    "- **Reduced Manual Steps**: No need to manually call update methods after configuration changes\n",
    "- **Consistent State**: Ensures model configuration and deployed services stay in sync\n",
    "- **Real-time Updates**: Changes take effect immediately without service restarts\n"
   ]
  }
 ],
 "metadata": {
  "kernelspec": {
   "display_name": "Python 3",
   "language": "python",
   "name": "python3"
  },
  "language_info": {
   "codemirror_mode": {
    "name": "ipython",
    "version": 3
   },
   "file_extension": ".py",
   "mimetype": "text/x-python",
   "name": "python",
   "nbconvert_exporter": "python",
   "pygments_lexer": "ipython3",
   "version": "3.7.7"
  }
 },
 "nbformat": 4,
 "nbformat_minor": 4
}