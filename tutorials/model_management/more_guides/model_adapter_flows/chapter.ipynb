{
 "cells": [
  {
   "cell_type": "markdown",
   "metadata": {},
   "source": [
    "# Understanding Model Adapters: The Magic Behind the Scenes \ud83c\udfad\n",
    "\n",
    "Ever wondered how Dataloop seamlessly integrates with your ML models? Let's peek behind the curtain and explore the Model Adapter's inner workings! \n",
    "\n",
    "## The Two Types of Functions \ud83c\udfad\n",
    "\n",
    "Think of the Model Adapter as a theater production with two types of actors:\n",
    "\n",
    "1. \ud83c\udfac **Wrapper Functions** - The stage managers who handle all the behind-the-scenes work\n",
    "   - Part of the `BaseModelAdapter` class\n",
    "   - Handle data movement, file management, and coordination\n",
    "   - Make your life easier by managing the complex stuff\n",
    "\n",
    "2. \ud83c\udfad **User Functions** - The star performers you get to direct\n",
    "   - Functions you implement in your `ModelAdapter`\n",
    "   - Contain your model's specific logic\n",
    "   - Turn your ML model into a Dataloop-ready superstar\n",
    "\n",
    "Let's meet our cast of characters!\n",
    "\n",
    "## The Stage Managers: Wrapper Functions \ud83c\udfac\n",
    "\n",
    "### `load_from_model`: The Setup Crew \ud83d\udce6\n",
    "\n",
    "![image](../../../../assets/images/model_management/flows/load_from_model.png)\n",
    "\n",
    "What happens:\n",
    "1. \ud83d\udce5 Downloads your model's artifacts\n",
    "2. \ud83d\udcc2 Creates a cozy home at `~/.dataloop/models/{model.name}`\n",
    "3. \ud83c\udfaf Calls your `load` function to bring the model to life\n",
    "\n",
    "Your files will be organized like this:\n"
   ]
  },
  {
   "cell_type": "markdown",
   "metadata": {},
   "source": [
    "```\nDATALOOP_PATH/\n\u2514\u2500\u2500 models/\n    \u2514\u2500\u2500 model.name/\n        \u2514\u2500\u2500 artifacts/\n```\n"
   ]
  },
  {
   "cell_type": "markdown",
   "metadata": {},
   "source": [
    "\n",
    "\n",
    "### `save_to_model`: The Preservation Expert \ud83d\udcbe\n",
    "\n",
    "![image](../../../../assets/images/model_management/flows/save_to_model.png)\n",
    "What happens:\n",
    "1. \ud83d\udcbe Calls your `save` function to package up the model\n",
    "2. \u2601\ufe0f Uploads everything to Dataloop's cloud\n",
    "3. \u2728 Keeps your model safe and sound\n",
    "\n",
    "### `predict_items`: The Performance Director \ud83c\udfaf\n",
    "\n",
    "![image](../../../../assets/images/model_management/flows/predict_items.png)\n",
    "\n",
    "The show must go on! Here's how:\n",
    "1. \ud83c\udfac Creates batches of items\n",
    "2. \ud83c\udfa8 Prepares each batch using your `prepare_item_func`\n",
    "3. \ud83c\udfaf Makes predictions using your `predict` function\n",
    "4. \ud83d\udcdd Saves the results as annotations\n",
    "5. \ud83d\udd04 Repeats until all items are processed\n",
    "\n",
    "### `train_model`: The Training Coach \ud83c\udfcb\ufe0f\u200d\u2642\ufe0f\n",
    "\n",
    "![image](../../../../assets/images/model_management/flows/train_from_model.png)\n",
    "\n",
    "\n",
    "Your model's training journey:\n",
    "1. \ud83d\udce5 Loads the current model state\n",
    "2. \ud83c\udfaf Prepares training data\n",
    "3. \ud83c\udfcb\ufe0f\u200d\u2642\ufe0f Trains using your `train` function\n",
    "4. \ud83d\udcbe Saves the improved model\n",
    "5. \ud83e\uddf9 Cleans up temporary files\n",
    "\n",
    "Your training data will be organized like this:\n"
   ]
  },
  {
   "cell_type": "markdown",
   "metadata": {},
   "source": [
    "```\nDATALOOP_PATH/\n\u2514\u2500\u2500 models/\n    \u2514\u2500\u2500 model.name/\n        \u2514\u2500\u2500 artifacts/\n\u2514\u2500\u2500 model_data/\n    \u2514\u2500\u2500 model.id_model.name/\n        \u2514\u2500\u2500 timestamp/\n            \u251c\u2500\u2500 output/\n            \u2514\u2500\u2500 datasets/\n                \u2514\u2500\u2500 dataset.id/\n                    \u251c\u2500\u2500 train/\n                    \u2502   \u251c\u2500\u2500 items/\n                    \u2502   \u2514\u2500\u2500 json/\n                    \u2514\u2500\u2500 validation/\n                        \u251c\u2500\u2500 items/\n                        \u2514\u2500\u2500 json/\n```\n"
   ]
  },
  {
   "cell_type": "markdown",
   "metadata": {},
   "source": [
    "\n",
    "\n",
    "### `evaluate_model`: The Performance Reviewer \ud83d\udcca\n",
    "\n",
    "![image](../../../../assets/images/model_management/flows/evaluate_model.png)\n",
    "\n",
    "How your model gets its report card:\n",
    "1. \ud83d\udce5 Loads the latest model version\n",
    "2. \ud83c\udfaf Makes predictions on test data\n",
    "3. \ud83d\udcca Compares with ground truth\n",
    "4. \ud83d\udcc8 Generates performance metrics\n",
    "\n",
    "### `embed_items`: The Feature Vector Transformer \ud83c\udf86\n",
    "\n",
    "![image](../../../../assets/images/model_management/flows/embed_items.png)\n",
    "\n",
    "The embedding process:\n",
    "1. \ud83c\udfac Creates batches of items\n",
    "2. \ud83c\udfa8 Prepares each batch using your `prepare_item_func`\n",
    "3. \ud83d\udd22 Generates embeddings using your `embed` function\n",
    "4. \ud83d\udcbe Stores the vectors in a feature set\n",
    "5. \ud83d\udd04 Repeats until all items are processed\n",
    "\n",
    "\n",
    "## Your Star Performers: User Functions \ud83c\udf1f\n",
    "\n",
    "### Required Functions for Different Use Cases:\n",
    "\n",
    "#### For Prediction Only:\n",
    "- `load` \ud83d\udce5 - Brings your model to life\n",
    "- `predict` \ud83c\udfaf - Makes predictions on data\n",
    "\n",
    "#### For Training:\n",
    "- Everything above, plus:\n",
    "- `train` \ud83c\udfcb\ufe0f\u200d\u2642\ufe0f - Teaches your model new tricks\n",
    "- `save` \ud83d\udcbe - Preserves your model's knowledge\n",
    "\n",
    "#### For Embedding:\n",
    "- `load` \ud83d\udce5 - Brings your model to life\n",
    "- `embed` \ud83d\udd22 - Converts items to feature vectors\n",
    "- `prepare_item_func` \ud83c\udfa8 - Prepares items for embedding\n",
    "\n",
    "### Function Details\n",
    "\n",
    "#### `load` \ud83d\udce5\n"
   ]
  },
  {
   "cell_type": "code",
   "execution_count": 0,
   "metadata": {},
   "outputs": [],
   "source": [
    "def load(self, local_path, **kwargs):\n",
    "    \"\"\"Load your model from files\"\"\"\n",
    "    self.model = YourModel.load(local_path)\n"
   ]
  },
  {
   "cell_type": "markdown",
   "metadata": {},
   "source": [
    "\n",
    "\n",
    "#### `save` \ud83d\udcbe\n"
   ]
  },
  {
   "cell_type": "code",
   "execution_count": 0,
   "metadata": {},
   "outputs": [],
   "source": [
    "def save(self, local_path, **kwargs):\n",
    "    \"\"\"Save your model's state\"\"\"\n",
    "    torch.save(self.model.state_dict(), f'{local_path}/weights.pth')\n"
   ]
  },
  {
   "cell_type": "markdown",
   "metadata": {},
   "source": [
    "\n",
    "\n",
    "#### `train` \ud83c\udfcb\ufe0f\u200d\u2642\ufe0f\n"
   ]
  },
  {
   "cell_type": "code",
   "execution_count": 0,
   "metadata": {},
   "outputs": [],
   "source": [
    "def train(self, data_path, **kwargs):\n",
    "    \"\"\"Train your model on new data\"\"\"\n",
    "    # Your training logic here\n",
    "    pass\n"
   ]
  },
  {
   "cell_type": "markdown",
   "metadata": {},
   "source": [
    "\n",
    "\n",
    "#### `predict` \ud83c\udfaf\n"
   ]
  },
  {
   "cell_type": "code",
   "execution_count": 0,
   "metadata": {},
   "outputs": [],
   "source": [
    "def predict(self, batch, **kwargs):\n",
    "    \"\"\"Make predictions and return Dataloop annotations\"\"\"\n",
    "    predictions = self.model(batch)\n",
    "    return convert_to_annotations(predictions)\n"
   ]
  },
  {
   "cell_type": "markdown",
   "metadata": {},
   "source": [
    "\n",
    "\n",
    "#### `prepare_item_func` \ud83c\udfa8\n"
   ]
  },
  {
   "cell_type": "code",
   "execution_count": 0,
   "metadata": {},
   "outputs": [],
   "source": [
    "def prepare_item_func(self, item):\n",
    "    \"\"\"Prepare items for prediction\"\"\"\n",
    "    return preprocess_for_model(item)\n"
   ]
  },
  {
   "cell_type": "markdown",
   "metadata": {},
   "source": [
    "\n",
    "\n",
    "#### `embed` \ud83d\udd22\n"
   ]
  },
  {
   "cell_type": "code",
   "execution_count": 0,
   "metadata": {},
   "outputs": [],
   "source": [
    "def embed(self, batch, **kwargs):\n",
    "    \"\"\"Convert a batch of items into embedding vectors\"\"\"\n",
    "    embeddings = self.model.encode(item)\n",
    "    return embeddings\n"
   ]
  },
  {
   "cell_type": "markdown",
   "metadata": {},
   "source": [
    "\n",
    "\n",
    "## Pro Tips for Model Adapter Success \ud83d\udca1\n",
    "\n",
    "1. **Error Handling** \ud83d\udee1\ufe0f\n",
    "   - Add proper logging in each function\n",
    "   - Handle edge cases gracefully\n",
    "   - Validate inputs and outputs\n",
    "\n",
    "2. **Performance** \u26a1\n",
    "   - Optimize batch processing\n",
    "   - Use efficient data loading\n",
    "   - Clean up temporary files\n",
    "\n",
    "3. **Best Practices** \ud83d\udccb\n",
    "   - Document your functions clearly\n",
    "   - Follow the function signatures\n",
    "   - Test each component thoroughly\n",
    "\n",
    "Need more help? Check out our [example implementations](https://github.com/dataloop-ai-apps/torch-models)\ud83d\ude80\n"
   ]
  }
 ],
 "metadata": {
  "kernelspec": {
   "display_name": "Python 3",
   "language": "python",
   "name": "python3"
  },
  "language_info": {
   "codemirror_mode": {
    "name": "ipython",
    "version": 3
   },
   "file_extension": ".py",
   "mimetype": "text/x-python",
   "name": "python",
   "nbconvert_exporter": "python",
   "pygments_lexer": "ipython3",
   "version": "3.7.7"
  }
 },
 "nbformat": 4,
 "nbformat_minor": 4
}