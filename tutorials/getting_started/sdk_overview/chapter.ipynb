{
 "cells": [
  {
   "cell_type": "markdown",
   "metadata": {},
   "source": [
    "# Welcome to Dataloop SDK: Your AI Development Companion \ud83d\ude80\n",
    "\n",
    "Ready to supercharge your AI development? The Dataloop SDK is your all-in-one toolkit for managing the complete AI lifecycle. Think of it as your command center for everything from data management to production deployment!\n",
    "\n",
    "## What Can You Do? \ud83c\udfaf\n",
    "\n",
    "With our powerful Python SDK, you'll have full control over:\n",
    "\n",
    "- \ud83d\udcc1 Projects - Your high-level workspaces\n",
    "- \ud83d\udcca Datasets - Your data collections\n",
    "- \ud83d\uddbc\ufe0f Items - Your individual files\n",
    "- \u270f\ufe0f Annotations - Your data labels\n",
    "- \ud83d\udcdd Metadata - Your custom data attributes\n",
    "\n",
    "## Getting Started: Your Journey Begins Here \ud83c\udf1f\n",
    "\n",
    "Let's get you up and running with everything you need:\n",
    "\n",
    "### 1. Setting Up Your Environment \ud83d\udee0\ufe0f\n",
    "\n",
    "First, let's get the essential tools installed:\n",
    "\n",
    "#### Python Installation \ud83d\udc0d\n",
    "1. Visit [Python Downloads](https://www.python.org/downloads/)\n",
    "2. Get Python 3.8 or later\n",
    "3. Follow the installation wizard\n",
    "\n",
    "> \ud83d\udca1 **Pro Tip**: Make sure to check \"Add Python to PATH\" during installation!\n",
    "\n",
    "#### Dataloop SDK Installation \ud83d\udce6\n",
    "\n"
   ]
  },
  {
   "cell_type": "markdown",
   "metadata": {},
   "source": [
    "```bash\n# Install using pip\npip install dtlpy\n\n# Verify installation\npip show dtlpy  # Should show version 1.64.9 or later\n```\n"
   ]
  },
  {
   "cell_type": "markdown",
   "metadata": {},
   "source": [
    "\n",
    "\n",
    "### 2. Logging In: Your Gateway to Dataloop \ud83d\udd11\n",
    "\n"
   ]
  },
  {
   "cell_type": "code",
   "execution_count": 0,
   "metadata": {},
   "outputs": [],
   "source": [
    "import dtlpy as dl\n",
    "\n",
    "# Smart login that handles token expiration\n",
    "if dl.token_expired():\n",
    "    dl.login()\n"
   ]
  },
  {
   "cell_type": "markdown",
   "metadata": {},
   "source": [
    "\n",
    "\n",
    "#### For Long-Running Jobs: M2M Authentication \ud83e\udd16\n",
    "\n"
   ]
  },
  {
   "cell_type": "code",
   "execution_count": 0,
   "metadata": {},
   "outputs": [],
   "source": [
    "# Using API key (recommended for automation)\n",
    "dl.login_api_key(api_key=os.environ['DTLPY_API_KEY'])\n"
   ]
  },
  {
   "cell_type": "markdown",
   "metadata": {},
   "source": [
    "\n",
    "\n",
    "> \u26a0\ufe0f **Security Tip**: Always store API keys as environment variables!\n",
    "\n",
    "#### Logging In with an API Key\n",
    "\n",
    "In addition to standard browser-based authentication, the Dataloop SDK supports API key authentication, which is ideal for automated workflows, pipelines, etc.\n",
    "To generate your API Key, refer to the [Dataloop Documentation](https://docs.dataloop.ai/docs/project-dashboard-1#manage-api-keys).\n",
    "\n"
   ]
  },
  {
   "cell_type": "code",
   "execution_count": 0,
   "metadata": {},
   "outputs": [],
   "source": [
    "import dtlpy as dl\n",
    "\n",
    "# Set environment (optional)\n",
    "dl.setenv('rc')  # or 'prod'\n",
    "\n",
    "# Authenticate\n",
    "dl.login_api_key('YOUR_API_KEY_HERE')\n"
   ]
  },
  {
   "cell_type": "markdown",
   "metadata": {},
   "source": [
    "\n",
    "\n",
    "### 3. Creating Your First Project \ud83c\udfa8\n",
    "\n"
   ]
  },
  {
   "cell_type": "code",
   "execution_count": 0,
   "metadata": {},
   "outputs": [],
   "source": [
    "# Create a new project\n",
    "project = dl.projects.create(project_name='My-Awesome-Project')\n",
    "\n",
    "# Or get an existing one\n",
    "project = dl.projects.get(project_name='My-Awesome-Project')\n"
   ]
  },
  {
   "cell_type": "markdown",
   "metadata": {},
   "source": [
    "\n",
    "\n",
    "### 4. Managing Team Access \ud83d\udc65\n",
    "\n"
   ]
  },
  {
   "cell_type": "code",
   "execution_count": 0,
   "metadata": {},
   "outputs": [],
   "source": [
    "# Add a team member\n",
    "project.add_member(\n",
    "    email='teammate@company.com',\n",
    "    role=dl.MemberRole.Developer\n",
    ")\n",
    "\n",
    "# Update roles\n",
    "project.update_member(\n",
    "    email='teammate@company.com',\n",
    "    role=dl.MemberRole.Annotator\n",
    ")\n"
   ]
  },
  {
   "cell_type": "markdown",
   "metadata": {},
   "source": [
    "\n",
    "\n",
    "### 5. Working with Datasets \ud83d\udcca\n",
    "\n"
   ]
  },
  {
   "cell_type": "code",
   "execution_count": 0,
   "metadata": {},
   "outputs": [],
   "source": [
    "# Create a new dataset\n",
    "dataset = project.datasets.create(dataset_name='My-First-Dataset')\n",
    "\n",
    "# Upload items\n",
    "item = dataset.items.upload(\n",
    "    local_path=r'C:\\path\\to\\your\\image.jpg'\n",
    ")\n"
   ]
  },
  {
   "cell_type": "markdown",
   "metadata": {},
   "source": [
    "\n",
    "\n",
    "> \ud83c\udfaf **Pro Tip**: Use `remote_path` to organize files in folders!\n",
    "\n",
    "### 6. Adding Annotations \u270f\ufe0f\n",
    "\n"
   ]
  },
  {
   "cell_type": "code",
   "execution_count": 0,
   "metadata": {},
   "outputs": [],
   "source": [
    "# Create an annotation builder\n",
    "builder = item.annotations.builder()\n",
    "\n",
    "# Add a classification\n",
    "builder.add(\n",
    "    annotation_definition=dl.Classification(\n",
    "        label='cat'\n",
    "    )\n",
    ")\n",
    "\n",
    "# Add a bounding box\n",
    "builder.add(\n",
    "    annotation_definition=dl.Box(\n",
    "        left=100,\n",
    "        top=100,\n",
    "        right=200,\n",
    "        bottom=200,\n",
    "        label='cat-face'\n",
    "    )\n",
    ")\n",
    "\n",
    "# Save annotations\n",
    "item.annotations.upload(builder)\n"
   ]
  },
  {
   "cell_type": "markdown",
   "metadata": {},
   "source": [
    "\n",
    "\n",
    "### 7. Smart Filtering \ud83d\udd0d\n",
    "\n"
   ]
  },
  {
   "cell_type": "code",
   "execution_count": 0,
   "metadata": {},
   "outputs": [],
   "source": [
    "# Create a filter\n",
    "filters = dl.Filters()\n",
    "\n",
    "# Find all items with 'cat' annotations\n",
    "filters.add_join(field='label', values='cat')\n",
    "\n",
    "# Get filtered items\n",
    "items = dataset.items.list(filters=filters)\n",
    "for item in items.all():\n",
    "    print(f\"Found cat in: {item.name}\")\n"
   ]
  },
  {
   "cell_type": "markdown",
   "metadata": {},
   "source": [
    "\n",
    "\n",
    "### 8. Working with Metadata \ud83d\udcdd\n",
    "\n"
   ]
  },
  {
   "cell_type": "code",
   "execution_count": 0,
   "metadata": {},
   "outputs": [],
   "source": [
    "# Add metadata to an item\n",
    "item.metadata['user'] = {\n",
    "    'photographer': 'John Doe',\n",
    "    'location': 'New York',\n",
    "    'date': '2024-03-20'\n",
    "}\n",
    "item = item.update()\n",
    "\n",
    "# Filter by metadata\n",
    "filters = dl.Filters()\n",
    "filters.add(field='metadata.user.location', values='New York')\n"
   ]
  },
  {
   "cell_type": "markdown",
   "metadata": {},
   "source": [
    "\n",
    "\n",
    "### 9. Creating Tasks \ud83d\udccb\n",
    "\n"
   ]
  },
  {
   "cell_type": "code",
   "execution_count": 0,
   "metadata": {},
   "outputs": [],
   "source": [
    "# Create an annotation task\n",
    "task = dataset.tasks.create(\n",
    "    task_name='Annotate Cats',\n",
    "    assignee_ids=['annotator@company.com'],\n",
    "    due_date=datetime.datetime(2024, 12, 31).timestamp()\n",
    ")\n"
   ]
  },
  {
   "cell_type": "markdown",
   "metadata": {},
   "source": [
    "\n",
    "\n",
    "## Best Practices \ud83d\udc51\n",
    "\n",
    "1. **Error Handling** \ud83d\udee1\ufe0f\n",
    "   \n"
   ]
  },
  {
   "cell_type": "code",
   "execution_count": 0,
   "metadata": {},
   "outputs": [],
   "source": [
    "try:\n",
    "       item = dataset.items.get(item_id='your-item-id')\n",
    "   except dl.exceptions.NotFound:\n",
    "       print(\"Item not found!\")\n"
   ]
  },
  {
   "cell_type": "markdown",
   "metadata": {},
   "source": [
    "\n",
    "\n",
    "2. **Batch Operations** \u26a1\n",
    "   \n"
   ]
  },
  {
   "cell_type": "code",
   "execution_count": 0,
   "metadata": {},
   "outputs": [],
   "source": [
    "# Upload multiple items\n",
    "   dataset.items.upload(\n",
    "       local_path=r'C:\\path\\to\\folder',\n",
    "       local_annotations_path=r'C:\\path\\to\\annotations'\n",
    "   )\n"
   ]
  },
  {
   "cell_type": "markdown",
   "metadata": {},
   "source": [
    "\n",
    "\n",
    "3. **Resource Cleanup** \ud83e\uddf9\n",
    "   \n"
   ]
  },
  {
   "cell_type": "code",
   "execution_count": 0,
   "metadata": {},
   "outputs": [],
   "source": [
    "# Always logout when done\n",
    "   dl.logout()\n"
   ]
  },
  {
   "cell_type": "markdown",
   "metadata": {},
   "source": [
    "\n",
    "\n",
    "## Ready to Build Something Amazing? \ud83d\ude80\n",
    "\n",
    "You now have all the tools to:\n",
    "- Manage your AI projects\n",
    "- Organize your datasets\n",
    "- Label your data\n",
    "- Create annotation tasks\n",
    "- Track everything with metadata\n",
    "\n",
    "Happy coding! \ud83c\udf89\n",
    "\n",
    "> \ud83d\udcda **Want to Learn More?** Check out our [full onboarding](onboarding.md)!\n"
   ]
  }
 ],
 "metadata": {
  "kernelspec": {
   "display_name": "Python 3",
   "language": "python",
   "name": "python3"
  },
  "language_info": {
   "codemirror_mode": {
    "name": "ipython",
    "version": 3
   },
   "file_extension": ".py",
   "mimetype": "text/x-python",
   "name": "python",
   "nbconvert_exporter": "python",
   "pygments_lexer": "ipython3",
   "version": "3.7.7"
  }
 },
 "nbformat": 4,
 "nbformat_minor": 4
}